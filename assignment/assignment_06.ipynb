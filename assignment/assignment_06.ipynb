{
 "cells": [
  {
   "cell_type": "markdown",
   "id": "fe61417c-53fb-4b90-9eb1-988acd0d3c83",
   "metadata": {
    "id": "fe61417c-53fb-4b90-9eb1-988acd0d3c83"
   },
   "source": [
    "### แบบฝึกหัดที่ 6"
   ]
  },
  {
   "cell_type": "markdown",
   "id": "vAtqLvLS7zqn",
   "metadata": {
    "id": "vAtqLvLS7zqn"
   },
   "source": [
    "---"
   ]
  },
  {
   "cell_type": "markdown",
   "id": "8c835541-6bfb-4853-b6db-32a6c1f8ecca",
   "metadata": {
    "id": "8c835541-6bfb-4853-b6db-32a6c1f8ecca"
   },
   "source": [
    "จากการวิเคราะห์ การสร้าง linear regression model ในกลุ่มตัวอย่างที่ 1 (nicotine_addict=yes, bmi >= 30) หากทำการวิเคราะห์แบบเดียวกันในกลุ่มตัวอย่างที่ 2 (nicotine_addict=yes, bmi < 30) จะให้ผลสรุปเช่นเดียวกันหรือไม่ (mean R2 model1 < model2,  mean R2 model2 = mean R2 model3) จงแสดงวิธีการวิเคราะห์ทางสถิติ  \n",
    "  \n",
    "*หมายเหตุ*  \n",
    "Model1 = Model using age only  \n",
    "Model2 = Model using age + bmi  \n",
    "Model3 = Model using age + bmi + sex + district  "
   ]
  },
  {
   "cell_type": "code",
   "id": "6e951776-39ef-4f60-85e3-0e43819c710d",
   "metadata": {
    "id": "6e951776-39ef-4f60-85e3-0e43819c710d",
    "ExecuteTime": {
     "end_time": "2025-02-21T02:34:55.735459Z",
     "start_time": "2025-02-21T02:34:55.731450Z"
    }
   },
   "source": [
    "import pandas as pd\n",
    "import numpy as np\n",
    "import matplotlib.pyplot as plt\n",
    "import seaborn as sns\n",
    "from scipy import stats\n",
    "from sklearn.linear_model import LinearRegression as lr\n",
    "from sklearn.model_selection import train_test_split\n",
    "from sklearn import metrics\n",
    "import scikit_posthocs as sp"
   ],
   "outputs": [],
   "execution_count": 82
  },
  {
   "cell_type": "markdown",
   "id": "e2235b17-fb0d-476e-8ea3-281b2589f11f",
   "metadata": {
    "id": "e2235b17-fb0d-476e-8ea3-281b2589f11f",
    "tags": []
   },
   "source": [
    "&nbsp;   \n",
    "#### <font color=\"blue\">**Read dataset**</span>"
   ]
  },
  {
   "cell_type": "code",
   "id": "9cbb3dd4-3bbf-4f32-a248-3438f7c81b18",
   "metadata": {
    "colab": {
     "base_uri": "https://localhost:8080/",
     "height": 206
    },
    "executionInfo": {
     "elapsed": 2926,
     "status": "ok",
     "timestamp": 1675858439888,
     "user": {
      "displayName": "Thammakorn SAETHANG",
      "userId": "08182570455347153646"
     },
     "user_tz": -420
    },
    "id": "9cbb3dd4-3bbf-4f32-a248-3438f7c81b18",
    "outputId": "50ccb6ae-bf39-4fe5-e792-178477a9967c",
    "ExecuteTime": {
     "end_time": "2025-02-21T02:34:55.815029Z",
     "start_time": "2025-02-21T02:34:55.771368Z"
    }
   },
   "source": [
    "df = pd.read_csv(\"https://raw.githubusercontent.com/ThammakornS/ProgStat/main/dataset/healthcare_cost.csv\")\n",
    "df.head()"
   ],
   "outputs": [
    {
     "data": {
      "text/plain": [
       "      sex  age     bmi nicotine_addict district  healthcare_cost\n",
       "0  female   21  27.900             yes      DT1      16884.92400\n",
       "1    male   20  33.770              no      DT2       1725.55230\n",
       "2    male   30  33.000              no      DT2       4449.46200\n",
       "3    male   35  22.705              no      DT3      21984.47061\n",
       "4    male   34  28.880              no      DT3       3866.85520"
      ],
      "text/html": [
       "<div>\n",
       "<style scoped>\n",
       "    .dataframe tbody tr th:only-of-type {\n",
       "        vertical-align: middle;\n",
       "    }\n",
       "\n",
       "    .dataframe tbody tr th {\n",
       "        vertical-align: top;\n",
       "    }\n",
       "\n",
       "    .dataframe thead th {\n",
       "        text-align: right;\n",
       "    }\n",
       "</style>\n",
       "<table border=\"1\" class=\"dataframe\">\n",
       "  <thead>\n",
       "    <tr style=\"text-align: right;\">\n",
       "      <th></th>\n",
       "      <th>sex</th>\n",
       "      <th>age</th>\n",
       "      <th>bmi</th>\n",
       "      <th>nicotine_addict</th>\n",
       "      <th>district</th>\n",
       "      <th>healthcare_cost</th>\n",
       "    </tr>\n",
       "  </thead>\n",
       "  <tbody>\n",
       "    <tr>\n",
       "      <th>0</th>\n",
       "      <td>female</td>\n",
       "      <td>21</td>\n",
       "      <td>27.900</td>\n",
       "      <td>yes</td>\n",
       "      <td>DT1</td>\n",
       "      <td>16884.92400</td>\n",
       "    </tr>\n",
       "    <tr>\n",
       "      <th>1</th>\n",
       "      <td>male</td>\n",
       "      <td>20</td>\n",
       "      <td>33.770</td>\n",
       "      <td>no</td>\n",
       "      <td>DT2</td>\n",
       "      <td>1725.55230</td>\n",
       "    </tr>\n",
       "    <tr>\n",
       "      <th>2</th>\n",
       "      <td>male</td>\n",
       "      <td>30</td>\n",
       "      <td>33.000</td>\n",
       "      <td>no</td>\n",
       "      <td>DT2</td>\n",
       "      <td>4449.46200</td>\n",
       "    </tr>\n",
       "    <tr>\n",
       "      <th>3</th>\n",
       "      <td>male</td>\n",
       "      <td>35</td>\n",
       "      <td>22.705</td>\n",
       "      <td>no</td>\n",
       "      <td>DT3</td>\n",
       "      <td>21984.47061</td>\n",
       "    </tr>\n",
       "    <tr>\n",
       "      <th>4</th>\n",
       "      <td>male</td>\n",
       "      <td>34</td>\n",
       "      <td>28.880</td>\n",
       "      <td>no</td>\n",
       "      <td>DT3</td>\n",
       "      <td>3866.85520</td>\n",
       "    </tr>\n",
       "  </tbody>\n",
       "</table>\n",
       "</div>"
      ]
     },
     "execution_count": 83,
     "metadata": {},
     "output_type": "execute_result"
    }
   ],
   "execution_count": 83
  },
  {
   "cell_type": "markdown",
   "id": "86dd4172-c091-4ef1-b939-145b4feaff26",
   "metadata": {
    "id": "86dd4172-c091-4ef1-b939-145b4feaff26",
    "tags": []
   },
   "source": [
    "&nbsp;  \n",
    "#### <font color=\"blue\">**Adjust data type**</span>"
   ]
  },
  {
   "cell_type": "code",
   "id": "9f022160-8ffb-414b-93ee-679a5fb6a303",
   "metadata": {
    "colab": {
     "base_uri": "https://localhost:8080/"
    },
    "executionInfo": {
     "elapsed": 825,
     "status": "ok",
     "timestamp": 1675858444335,
     "user": {
      "displayName": "Thammakorn SAETHANG",
      "userId": "08182570455347153646"
     },
     "user_tz": -420
    },
    "id": "9f022160-8ffb-414b-93ee-679a5fb6a303",
    "outputId": "b72e6a7d-761e-419c-9e08-29441056ce6a",
    "ExecuteTime": {
     "end_time": "2025-02-21T02:34:55.855539Z",
     "start_time": "2025-02-21T02:34:55.845524Z"
    }
   },
   "source": [
    "df = df.astype({\n",
    "    'sex': 'category',\n",
    "    'nicotine_addict': 'category',\n",
    "    'district': 'category'\n",
    "})\n",
    "df.info()"
   ],
   "outputs": [
    {
     "name": "stdout",
     "output_type": "stream",
     "text": [
      "<class 'pandas.core.frame.DataFrame'>\n",
      "RangeIndex: 1338 entries, 0 to 1337\n",
      "Data columns (total 6 columns):\n",
      " #   Column           Non-Null Count  Dtype   \n",
      "---  ------           --------------  -----   \n",
      " 0   sex              1338 non-null   category\n",
      " 1   age              1338 non-null   int64   \n",
      " 2   bmi              1338 non-null   float64 \n",
      " 3   nicotine_addict  1338 non-null   category\n",
      " 4   district         1338 non-null   category\n",
      " 5   healthcare_cost  1338 non-null   float64 \n",
      "dtypes: category(3), float64(2), int64(1)\n",
      "memory usage: 35.8 KB\n"
     ]
    }
   ],
   "execution_count": 84
  },
  {
   "cell_type": "markdown",
   "id": "5f7f27f0-7c28-4326-8659-de9b5ca63fec",
   "metadata": {
    "id": "5f7f27f0-7c28-4326-8659-de9b5ca63fec",
    "tags": []
   },
   "source": [
    "&nbsp;  \n",
    "#### <font color=\"blue\">**Data groups**</span>\n",
    "\n",
    "1.  nicotine_addict=yes, bmi \\>= 30\n",
    "2.  nicotine_addict=yes, bmi \\< 30\n",
    "3.  nicotine_addict=no\n",
    "\n",
    "&nbsp;  \n",
    "**Group 2**"
   ]
  },
  {
   "cell_type": "code",
   "id": "86459bc0-a24f-44ba-8e47-fe8fd05028a4",
   "metadata": {
    "colab": {
     "base_uri": "https://localhost:8080/",
     "height": 381
    },
    "executionInfo": {
     "elapsed": 733,
     "status": "ok",
     "timestamp": 1675858452580,
     "user": {
      "displayName": "Thammakorn SAETHANG",
      "userId": "08182570455347153646"
     },
     "user_tz": -420
    },
    "id": "86459bc0-a24f-44ba-8e47-fe8fd05028a4",
    "outputId": "27bb74f5-9087-4c06-ab91-1582a7169310",
    "ExecuteTime": {
     "end_time": "2025-02-21T02:34:55.935197Z",
     "start_time": "2025-02-21T02:34:55.920659Z"
    }
   },
   "source": [
    "df_g2 = df.query('nicotine_addict == \"yes\" & bmi < 30')\n",
    "print(df_g2.shape)\n",
    "df_g2.head(10)"
   ],
   "outputs": [
    {
     "name": "stdout",
     "output_type": "stream",
     "text": [
      "(129, 6)\n"
     ]
    },
    {
     "data": {
      "text/plain": [
       "       sex  age     bmi nicotine_addict district  healthcare_cost\n",
       "0   female   21  27.900             yes      DT1      16884.92400\n",
       "11  female   64  26.290             yes      DT2      27808.72510\n",
       "52    male   50  28.000             yes      DT1      23568.27200\n",
       "58  female   55  22.880             yes      DT2      23244.79020\n",
       "64  female   22  22.420             yes      DT3      14711.74380\n",
       "69    male   30  23.980             yes      DT2      17663.14420\n",
       "70  female   29  24.750             yes      DT2      16577.77950\n",
       "85    male   47  22.895             yes      DT3      21098.55405\n",
       "92    male   61  29.830             yes      DT4      30184.93670\n",
       "98    male   58  19.950             yes      DT4      22412.64850"
      ],
      "text/html": [
       "<div>\n",
       "<style scoped>\n",
       "    .dataframe tbody tr th:only-of-type {\n",
       "        vertical-align: middle;\n",
       "    }\n",
       "\n",
       "    .dataframe tbody tr th {\n",
       "        vertical-align: top;\n",
       "    }\n",
       "\n",
       "    .dataframe thead th {\n",
       "        text-align: right;\n",
       "    }\n",
       "</style>\n",
       "<table border=\"1\" class=\"dataframe\">\n",
       "  <thead>\n",
       "    <tr style=\"text-align: right;\">\n",
       "      <th></th>\n",
       "      <th>sex</th>\n",
       "      <th>age</th>\n",
       "      <th>bmi</th>\n",
       "      <th>nicotine_addict</th>\n",
       "      <th>district</th>\n",
       "      <th>healthcare_cost</th>\n",
       "    </tr>\n",
       "  </thead>\n",
       "  <tbody>\n",
       "    <tr>\n",
       "      <th>0</th>\n",
       "      <td>female</td>\n",
       "      <td>21</td>\n",
       "      <td>27.900</td>\n",
       "      <td>yes</td>\n",
       "      <td>DT1</td>\n",
       "      <td>16884.92400</td>\n",
       "    </tr>\n",
       "    <tr>\n",
       "      <th>11</th>\n",
       "      <td>female</td>\n",
       "      <td>64</td>\n",
       "      <td>26.290</td>\n",
       "      <td>yes</td>\n",
       "      <td>DT2</td>\n",
       "      <td>27808.72510</td>\n",
       "    </tr>\n",
       "    <tr>\n",
       "      <th>52</th>\n",
       "      <td>male</td>\n",
       "      <td>50</td>\n",
       "      <td>28.000</td>\n",
       "      <td>yes</td>\n",
       "      <td>DT1</td>\n",
       "      <td>23568.27200</td>\n",
       "    </tr>\n",
       "    <tr>\n",
       "      <th>58</th>\n",
       "      <td>female</td>\n",
       "      <td>55</td>\n",
       "      <td>22.880</td>\n",
       "      <td>yes</td>\n",
       "      <td>DT2</td>\n",
       "      <td>23244.79020</td>\n",
       "    </tr>\n",
       "    <tr>\n",
       "      <th>64</th>\n",
       "      <td>female</td>\n",
       "      <td>22</td>\n",
       "      <td>22.420</td>\n",
       "      <td>yes</td>\n",
       "      <td>DT3</td>\n",
       "      <td>14711.74380</td>\n",
       "    </tr>\n",
       "    <tr>\n",
       "      <th>69</th>\n",
       "      <td>male</td>\n",
       "      <td>30</td>\n",
       "      <td>23.980</td>\n",
       "      <td>yes</td>\n",
       "      <td>DT2</td>\n",
       "      <td>17663.14420</td>\n",
       "    </tr>\n",
       "    <tr>\n",
       "      <th>70</th>\n",
       "      <td>female</td>\n",
       "      <td>29</td>\n",
       "      <td>24.750</td>\n",
       "      <td>yes</td>\n",
       "      <td>DT2</td>\n",
       "      <td>16577.77950</td>\n",
       "    </tr>\n",
       "    <tr>\n",
       "      <th>85</th>\n",
       "      <td>male</td>\n",
       "      <td>47</td>\n",
       "      <td>22.895</td>\n",
       "      <td>yes</td>\n",
       "      <td>DT3</td>\n",
       "      <td>21098.55405</td>\n",
       "    </tr>\n",
       "    <tr>\n",
       "      <th>92</th>\n",
       "      <td>male</td>\n",
       "      <td>61</td>\n",
       "      <td>29.830</td>\n",
       "      <td>yes</td>\n",
       "      <td>DT4</td>\n",
       "      <td>30184.93670</td>\n",
       "    </tr>\n",
       "    <tr>\n",
       "      <th>98</th>\n",
       "      <td>male</td>\n",
       "      <td>58</td>\n",
       "      <td>19.950</td>\n",
       "      <td>yes</td>\n",
       "      <td>DT4</td>\n",
       "      <td>22412.64850</td>\n",
       "    </tr>\n",
       "  </tbody>\n",
       "</table>\n",
       "</div>"
      ]
     },
     "execution_count": 85,
     "metadata": {},
     "output_type": "execute_result"
    }
   ],
   "execution_count": 85
  },
  {
   "cell_type": "markdown",
   "id": "e00de7b1-4eba-488a-b0e3-b850f6844532",
   "metadata": {
    "id": "e00de7b1-4eba-488a-b0e3-b850f6844532"
   },
   "source": [
    "&nbsp;  \n",
    "#### <font color=\"blue\">**Removing outliers**</span>"
   ]
  },
  {
   "cell_type": "code",
   "id": "d299fa01-2196-4692-8ec2-ee5d2c8a5335",
   "metadata": {
    "colab": {
     "base_uri": "https://localhost:8080/",
     "height": 324
    },
    "executionInfo": {
     "elapsed": 1072,
     "status": "ok",
     "timestamp": 1675858460954,
     "user": {
      "displayName": "Thammakorn SAETHANG",
      "userId": "08182570455347153646"
     },
     "user_tz": -420
    },
    "id": "d299fa01-2196-4692-8ec2-ee5d2c8a5335",
    "outputId": "ade6556e-0f81-493a-94f4-91123bccfba4",
    "ExecuteTime": {
     "end_time": "2025-02-21T02:34:56.173260Z",
     "start_time": "2025-02-21T02:34:56.100092Z"
    }
   },
   "source": [
    "fig, ax = plt.subplots(figsize=(2, 5))  #set size of plot (width, height)\n",
    "sns.boxplot(data=df_g2,\n",
    "            y=\"healthcare_cost\",\n",
    "            whis=1.5,\n",
    "            ax=ax)"
   ],
   "outputs": [
    {
     "data": {
      "text/plain": [
       "<Axes: ylabel='healthcare_cost'>"
      ]
     },
     "execution_count": 86,
     "metadata": {},
     "output_type": "execute_result"
    },
    {
     "data": {
      "text/plain": [
       "<Figure size 200x500 with 1 Axes>"
      ],
      "image/png": "[encoded data removed]"
     },
     "metadata": {},
     "output_type": "display_data"
    }
   ],
   "execution_count": 86
  },
  {
   "cell_type": "code",
   "id": "0d12a8c3-fdee-4445-a813-bc0d78433202",
   "metadata": {
    "colab": {
     "base_uri": "https://localhost:8080/"
    },
    "executionInfo": {
     "elapsed": 551,
     "status": "ok",
     "timestamp": 1675858464714,
     "user": {
      "displayName": "Thammakorn SAETHANG",
      "userId": "08182570455347153646"
     },
     "user_tz": -420
    },
    "id": "0d12a8c3-fdee-4445-a813-bc0d78433202",
    "outputId": "48cba5a9-0dc4-4af6-cc52-8e86f6cf5784",
    "ExecuteTime": {
     "end_time": "2025-02-21T02:34:56.212783Z",
     "start_time": "2025-02-21T02:34:56.205044Z"
    }
   },
   "source": [
    "q1, q3 = np.percentile(df_g2.healthcare_cost, [25, 75])\n",
    "print(\"q1:\", q1)\n",
    "print(\"q3:\", q3)\n",
    "IQR = q3 - q1\n",
    "print(\"IQR: \", IQR)\n",
    "upper = df_g2.healthcare_cost[df_g2.healthcare_cost <= (q3 + 1.5*IQR)].max()\n",
    "lower = df_g2.healthcare_cost[df_g2.healthcare_cost >= (q1 - 1.5*IQR)].min()\n",
    "print(\"lower:\",lower)\n",
    "print(\"upper:\",upper)\n",
    "\n",
    "df_g2_remOut = df_g2[(df_g2.healthcare_cost < upper) &\n",
    "                     (df_g2.healthcare_cost > lower)]\n",
    "df_g2_remOut.shape"
   ],
   "outputs": [
    {
     "name": "stdout",
     "output_type": "stream",
     "text": [
      "q1: 17663.1442\n",
      "q3: 24106.91255\n",
      "IQR:  6443.768350000002\n",
      "lower: 12829.4551\n",
      "upper: 32787.45859\n"
     ]
    },
    {
     "data": {
      "text/plain": [
       "(123, 6)"
      ]
     },
     "execution_count": 87,
     "metadata": {},
     "output_type": "execute_result"
    }
   ],
   "execution_count": 87
  },
  {
   "cell_type": "code",
   "id": "8c002b15-bbad-47b8-a162-167d74b72b96",
   "metadata": {
    "colab": {
     "base_uri": "https://localhost:8080/",
     "height": 324
    },
    "executionInfo": {
     "elapsed": 491,
     "status": "ok",
     "timestamp": 1675858468909,
     "user": {
      "displayName": "Thammakorn SAETHANG",
      "userId": "08182570455347153646"
     },
     "user_tz": -420
    },
    "id": "8c002b15-bbad-47b8-a162-167d74b72b96",
    "outputId": "0e1a957a-72d7-40b2-ee7e-ccabca50f20f",
    "ExecuteTime": {
     "end_time": "2025-02-21T02:34:56.341663Z",
     "start_time": "2025-02-21T02:34:56.257402Z"
    }
   },
   "source": [
    "fig, ax = plt.subplots(figsize=(2, 5))  #set size of plot (width, height)\n",
    "sns.boxplot(data=df_g2_remOut,\n",
    "            y=\"healthcare_cost\",\n",
    "            whis=1.5,\n",
    "            ax=ax)"
   ],
   "outputs": [
    {
     "data": {
      "text/plain": [
       "<Axes: ylabel='healthcare_cost'>"
      ]
     },
     "execution_count": 88,
     "metadata": {},
     "output_type": "execute_result"
    },
    {
     "data": {
      "text/plain": [
       "<Figure size 200x500 with 1 Axes>"
      ],
      "image/png": "[encoded data removed]"
     },
     "metadata": {},
     "output_type": "display_data"
    }
   ],
   "execution_count": 88
  },
  {
   "cell_type": "markdown",
   "id": "46e77533-f266-44a0-889d-69a786652e3d",
   "metadata": {
    "id": "46e77533-f266-44a0-889d-69a786652e3d",
    "tags": []
   },
   "source": [
    "&nbsp;  \n",
    "#### <font color=\"#1f7d02\">*Comparison of Linear Regression Models*</span>"
   ]
  },
  {
   "cell_type": "markdown",
   "id": "9cbb1aae-362a-4c56-8240-36d99fd5da4e",
   "metadata": {
    "id": "9cbb1aae-362a-4c56-8240-36d99fd5da4e",
    "tags": []
   },
   "source": [
    "1. Model using age only\n",
    "2. Model using age + bmi\n",
    "3. Model using age + bmi + sex + district"
   ]
  },
  {
   "cell_type": "code",
   "id": "tmEW3Y7Y-FVG",
   "metadata": {
    "id": "tmEW3Y7Y-FVG",
    "ExecuteTime": {
     "end_time": "2025-02-21T02:34:56.376360Z",
     "start_time": "2025-02-21T02:34:56.364654Z"
    }
   },
   "source": [
    "# แสดงวิธีทำ\n",
    "X = pd.concat([df_g2_remOut[['age','bmi']],\n",
    "               pd.get_dummies(df_g2_remOut[['sex']], drop_first=True),\n",
    "               pd.get_dummies(df_g2_remOut[['district']], drop_first=True)],\n",
    "              axis=1)\n",
    "X"
   ],
   "outputs": [
    {
     "data": {
      "text/plain": [
       "      age     bmi  sex_male  district_DT2  district_DT3  district_DT4\n",
       "0      21  27.900     False         False         False         False\n",
       "11     64  26.290     False          True         False         False\n",
       "52     50  28.000      True         False         False         False\n",
       "58     55  22.880     False          True         False         False\n",
       "64     22  22.420     False         False          True         False\n",
       "...   ...     ...       ...           ...           ...           ...\n",
       "1306   31  21.850     False         False         False          True\n",
       "1307   34  28.120      True         False          True         False\n",
       "1314   32  23.655     False         False          True         False\n",
       "1321   64  26.695      True         False         False          True\n",
       "1337   63  29.070     False         False          True         False\n",
       "\n",
       "[123 rows x 6 columns]"
      ],
      "text/html": [
       "<div>\n",
       "<style scoped>\n",
       "    .dataframe tbody tr th:only-of-type {\n",
       "        vertical-align: middle;\n",
       "    }\n",
       "\n",
       "    .dataframe tbody tr th {\n",
       "        vertical-align: top;\n",
       "    }\n",
       "\n",
       "    .dataframe thead th {\n",
       "        text-align: right;\n",
       "    }\n",
       "</style>\n",
       "<table border=\"1\" class=\"dataframe\">\n",
       "  <thead>\n",
       "    <tr style=\"text-align: right;\">\n",
       "      <th></th>\n",
       "      <th>age</th>\n",
       "      <th>bmi</th>\n",
       "      <th>sex_male</th>\n",
       "      <th>district_DT2</th>\n",
       "      <th>district_DT3</th>\n",
       "      <th>district_DT4</th>\n",
       "    </tr>\n",
       "  </thead>\n",
       "  <tbody>\n",
       "    <tr>\n",
       "      <th>0</th>\n",
       "      <td>21</td>\n",
       "      <td>27.900</td>\n",
       "      <td>False</td>\n",
       "      <td>False</td>\n",
       "      <td>False</td>\n",
       "      <td>False</td>\n",
       "    </tr>\n",
       "    <tr>\n",
       "      <th>11</th>\n",
       "      <td>64</td>\n",
       "      <td>26.290</td>\n",
       "      <td>False</td>\n",
       "      <td>True</td>\n",
       "      <td>False</td>\n",
       "      <td>False</td>\n",
       "    </tr>\n",
       "    <tr>\n",
       "      <th>52</th>\n",
       "      <td>50</td>\n",
       "      <td>28.000</td>\n",
       "      <td>True</td>\n",
       "      <td>False</td>\n",
       "      <td>False</td>\n",
       "      <td>False</td>\n",
       "    </tr>\n",
       "    <tr>\n",
       "      <th>58</th>\n",
       "      <td>55</td>\n",
       "      <td>22.880</td>\n",
       "      <td>False</td>\n",
       "      <td>True</td>\n",
       "      <td>False</td>\n",
       "      <td>False</td>\n",
       "    </tr>\n",
       "    <tr>\n",
       "      <th>64</th>\n",
       "      <td>22</td>\n",
       "      <td>22.420</td>\n",
       "      <td>False</td>\n",
       "      <td>False</td>\n",
       "      <td>True</td>\n",
       "      <td>False</td>\n",
       "    </tr>\n",
       "    <tr>\n",
       "      <th>...</th>\n",
       "      <td>...</td>\n",
       "      <td>...</td>\n",
       "      <td>...</td>\n",
       "      <td>...</td>\n",
       "      <td>...</td>\n",
       "      <td>...</td>\n",
       "    </tr>\n",
       "    <tr>\n",
       "      <th>1306</th>\n",
       "      <td>31</td>\n",
       "      <td>21.850</td>\n",
       "      <td>False</td>\n",
       "      <td>False</td>\n",
       "      <td>False</td>\n",
       "      <td>True</td>\n",
       "    </tr>\n",
       "    <tr>\n",
       "      <th>1307</th>\n",
       "      <td>34</td>\n",
       "      <td>28.120</td>\n",
       "      <td>True</td>\n",
       "      <td>False</td>\n",
       "      <td>True</td>\n",
       "      <td>False</td>\n",
       "    </tr>\n",
       "    <tr>\n",
       "      <th>1314</th>\n",
       "      <td>32</td>\n",
       "      <td>23.655</td>\n",
       "      <td>False</td>\n",
       "      <td>False</td>\n",
       "      <td>True</td>\n",
       "      <td>False</td>\n",
       "    </tr>\n",
       "    <tr>\n",
       "      <th>1321</th>\n",
       "      <td>64</td>\n",
       "      <td>26.695</td>\n",
       "      <td>True</td>\n",
       "      <td>False</td>\n",
       "      <td>False</td>\n",
       "      <td>True</td>\n",
       "    </tr>\n",
       "    <tr>\n",
       "      <th>1337</th>\n",
       "      <td>63</td>\n",
       "      <td>29.070</td>\n",
       "      <td>False</td>\n",
       "      <td>False</td>\n",
       "      <td>True</td>\n",
       "      <td>False</td>\n",
       "    </tr>\n",
       "  </tbody>\n",
       "</table>\n",
       "<p>123 rows × 6 columns</p>\n",
       "</div>"
      ]
     },
     "execution_count": 89,
     "metadata": {},
     "output_type": "execute_result"
    }
   ],
   "execution_count": 89
  },
  {
   "metadata": {
    "ExecuteTime": {
     "end_time": "2025-02-21T02:34:56.430558Z",
     "start_time": "2025-02-21T02:34:56.423400Z"
    }
   },
   "cell_type": "code",
   "source": [
    "y = df_g2_remOut.filter(['healthcare_cost'])\n",
    "y"
   ],
   "id": "4c684bc6340f75d2",
   "outputs": [
    {
     "data": {
      "text/plain": [
       "      healthcare_cost\n",
       "0         16884.92400\n",
       "11        27808.72510\n",
       "52        23568.27200\n",
       "58        23244.79020\n",
       "64        14711.74380\n",
       "...               ...\n",
       "1306      16115.30450\n",
       "1307      21472.47880\n",
       "1314      18765.87545\n",
       "1321      28101.33305\n",
       "1337      29141.36030\n",
       "\n",
       "[123 rows x 1 columns]"
      ],
      "text/html": [
       "<div>\n",
       "<style scoped>\n",
       "    .dataframe tbody tr th:only-of-type {\n",
       "        vertical-align: middle;\n",
       "    }\n",
       "\n",
       "    .dataframe tbody tr th {\n",
       "        vertical-align: top;\n",
       "    }\n",
       "\n",
       "    .dataframe thead th {\n",
       "        text-align: right;\n",
       "    }\n",
       "</style>\n",
       "<table border=\"1\" class=\"dataframe\">\n",
       "  <thead>\n",
       "    <tr style=\"text-align: right;\">\n",
       "      <th></th>\n",
       "      <th>healthcare_cost</th>\n",
       "    </tr>\n",
       "  </thead>\n",
       "  <tbody>\n",
       "    <tr>\n",
       "      <th>0</th>\n",
       "      <td>16884.92400</td>\n",
       "    </tr>\n",
       "    <tr>\n",
       "      <th>11</th>\n",
       "      <td>27808.72510</td>\n",
       "    </tr>\n",
       "    <tr>\n",
       "      <th>52</th>\n",
       "      <td>23568.27200</td>\n",
       "    </tr>\n",
       "    <tr>\n",
       "      <th>58</th>\n",
       "      <td>23244.79020</td>\n",
       "    </tr>\n",
       "    <tr>\n",
       "      <th>64</th>\n",
       "      <td>14711.74380</td>\n",
       "    </tr>\n",
       "    <tr>\n",
       "      <th>...</th>\n",
       "      <td>...</td>\n",
       "    </tr>\n",
       "    <tr>\n",
       "      <th>1306</th>\n",
       "      <td>16115.30450</td>\n",
       "    </tr>\n",
       "    <tr>\n",
       "      <th>1307</th>\n",
       "      <td>21472.47880</td>\n",
       "    </tr>\n",
       "    <tr>\n",
       "      <th>1314</th>\n",
       "      <td>18765.87545</td>\n",
       "    </tr>\n",
       "    <tr>\n",
       "      <th>1321</th>\n",
       "      <td>28101.33305</td>\n",
       "    </tr>\n",
       "    <tr>\n",
       "      <th>1337</th>\n",
       "      <td>29141.36030</td>\n",
       "    </tr>\n",
       "  </tbody>\n",
       "</table>\n",
       "<p>123 rows × 1 columns</p>\n",
       "</div>"
      ]
     },
     "execution_count": 90,
     "metadata": {},
     "output_type": "execute_result"
    }
   ],
   "execution_count": 90
  },
  {
   "metadata": {
    "ExecuteTime": {
     "end_time": "2025-02-21T02:34:56.497778Z",
     "start_time": "2025-02-21T02:34:56.491962Z"
    }
   },
   "cell_type": "code",
   "source": [
    "# Define Function\n",
    "def test_model(Xi, y):\n",
    "    X_train, X_test, y_train, y_test = train_test_split(Xi,\n",
    "                                                        y,\n",
    "                                                        test_size=0.3,\n",
    "                                                        random_state=1)\n",
    "    model = lr(fit_intercept=True)\n",
    "    model.fit(X_train, y_train)\n",
    "    y_pred_test = model.predict(X_test)\n",
    "\n",
    "    print('MAE:', metrics.mean_absolute_error(y_test, y_pred_test))\n",
    "    print('MSE:', metrics.mean_squared_error(y_test, y_pred_test))\n",
    "    print('RMSE:', np.sqrt(metrics.mean_squared_error(y_test, y_pred_test)))\n",
    "    print('R2:', metrics.r2_score(y_test, y_pred_test))\n",
    "\n",
    "def perform_test(Xi, y):\n",
    "    perf_res = {}\n",
    "    perf_res['MAE']=[]\n",
    "    perf_res['MSE']=[]\n",
    "    perf_res['RMSE']=[]\n",
    "    perf_res['R2']=[]\n",
    "\n",
    "    for rs in range(100):\n",
    "        X_train, X_test, y_train, y_test = train_test_split(Xi,\n",
    "                                                            y,\n",
    "                                                            test_size=0.3,\n",
    "                                                            random_state=rs)\n",
    "        model = lr(fit_intercept=True)\n",
    "        model.fit(X_train, y_train)\n",
    "\n",
    "        y_pred_test = model.predict(X_test)\n",
    "\n",
    "        perf_res['MAE'].append(metrics.mean_absolute_error(y_test, y_pred_test))\n",
    "        perf_res['MSE'].append(metrics.mean_squared_error(y_test, y_pred_test))\n",
    "        perf_res['RMSE'].append(np.sqrt(metrics.mean_squared_error(y_test, y_pred_test)))\n",
    "        perf_res['R2'].append(metrics.r2_score(y_test, y_pred_test))\n",
    "    return pd.DataFrame(perf_res)\n",
    "\n",
    "def plot_r2(perf, title):\n",
    "    sns.displot(perf1.R2, kind='kde')\n",
    "    plt.title(f\"Lr using {title} R2\\n mean R2={perf.R2.mean():.2f}\")\n",
    "    plt.axvline(perf.R2.mean(), c='r', ls='--')"
   ],
   "id": "e81c719ef6468b96",
   "outputs": [],
   "execution_count": 91
  },
  {
   "metadata": {
    "ExecuteTime": {
     "end_time": "2025-02-21T02:34:56.598200Z",
     "start_time": "2025-02-21T02:34:56.586787Z"
    }
   },
   "cell_type": "code",
   "source": [
    "X1 = X.filter(['age'])\n",
    "test_model(X1, y)"
   ],
   "id": "4debf6ff699747b8",
   "outputs": [
    {
     "name": "stdout",
     "output_type": "stream",
     "text": [
      "MAE: 1377.8410673287954\n",
      "MSE: 4654431.726711532\n",
      "RMSE: 2157.4132025904382\n",
      "R2: 0.709205237857174\n"
     ]
    }
   ],
   "execution_count": 92
  },
  {
   "metadata": {
    "ExecuteTime": {
     "end_time": "2025-02-21T02:34:57.352289Z",
     "start_time": "2025-02-21T02:34:56.663861Z"
    }
   },
   "cell_type": "code",
   "source": [
    "perf1 = perform_test(X1, y)\n",
    "perf1.describe()"
   ],
   "id": "ac998aea1081ba7d",
   "outputs": [
    {
     "data": {
      "text/plain": [
       "               MAE           MSE         RMSE          R2\n",
       "count   100.000000  1.000000e+02   100.000000  100.000000\n",
       "mean   1553.158191  5.349919e+06  2238.770475    0.688631\n",
       "std     268.800563  2.807818e+06   584.155674    0.135047\n",
       "min     990.205066  1.747675e+06  1321.996574    0.260959\n",
       "25%    1369.576242  3.074506e+06  1753.395439    0.609284\n",
       "50%    1523.696041  4.864207e+06  2205.479078    0.707255\n",
       "75%    1685.570785  7.172227e+06  2678.072251    0.810474\n",
       "max    2250.473287  1.205346e+07  3471.808925    0.901894"
      ],
      "text/html": [
       "<div>\n",
       "<style scoped>\n",
       "    .dataframe tbody tr th:only-of-type {\n",
       "        vertical-align: middle;\n",
       "    }\n",
       "\n",
       "    .dataframe tbody tr th {\n",
       "        vertical-align: top;\n",
       "    }\n",
       "\n",
       "    .dataframe thead th {\n",
       "        text-align: right;\n",
       "    }\n",
       "</style>\n",
       "<table border=\"1\" class=\"dataframe\">\n",
       "  <thead>\n",
       "    <tr style=\"text-align: right;\">\n",
       "      <th></th>\n",
       "      <th>MAE</th>\n",
       "      <th>MSE</th>\n",
       "      <th>RMSE</th>\n",
       "      <th>R2</th>\n",
       "    </tr>\n",
       "  </thead>\n",
       "  <tbody>\n",
       "    <tr>\n",
       "      <th>count</th>\n",
       "      <td>100.000000</td>\n",
       "      <td>1.000000e+02</td>\n",
       "      <td>100.000000</td>\n",
       "      <td>100.000000</td>\n",
       "    </tr>\n",
       "    <tr>\n",
       "      <th>mean</th>\n",
       "      <td>1553.158191</td>\n",
       "      <td>5.349919e+06</td>\n",
       "      <td>2238.770475</td>\n",
       "      <td>0.688631</td>\n",
       "    </tr>\n",
       "    <tr>\n",
       "      <th>std</th>\n",
       "      <td>268.800563</td>\n",
       "      <td>2.807818e+06</td>\n",
       "      <td>584.155674</td>\n",
       "      <td>0.135047</td>\n",
       "    </tr>\n",
       "    <tr>\n",
       "      <th>min</th>\n",
       "      <td>990.205066</td>\n",
       "      <td>1.747675e+06</td>\n",
       "      <td>1321.996574</td>\n",
       "      <td>0.260959</td>\n",
       "    </tr>\n",
       "    <tr>\n",
       "      <th>25%</th>\n",
       "      <td>1369.576242</td>\n",
       "      <td>3.074506e+06</td>\n",
       "      <td>1753.395439</td>\n",
       "      <td>0.609284</td>\n",
       "    </tr>\n",
       "    <tr>\n",
       "      <th>50%</th>\n",
       "      <td>1523.696041</td>\n",
       "      <td>4.864207e+06</td>\n",
       "      <td>2205.479078</td>\n",
       "      <td>0.707255</td>\n",
       "    </tr>\n",
       "    <tr>\n",
       "      <th>75%</th>\n",
       "      <td>1685.570785</td>\n",
       "      <td>7.172227e+06</td>\n",
       "      <td>2678.072251</td>\n",
       "      <td>0.810474</td>\n",
       "    </tr>\n",
       "    <tr>\n",
       "      <th>max</th>\n",
       "      <td>2250.473287</td>\n",
       "      <td>1.205346e+07</td>\n",
       "      <td>3471.808925</td>\n",
       "      <td>0.901894</td>\n",
       "    </tr>\n",
       "  </tbody>\n",
       "</table>\n",
       "</div>"
      ]
     },
     "execution_count": 93,
     "metadata": {},
     "output_type": "execute_result"
    }
   ],
   "execution_count": 93
  },
  {
   "metadata": {
    "ExecuteTime": {
     "end_time": "2025-02-21T02:34:57.560388Z",
     "start_time": "2025-02-21T02:34:57.399125Z"
    }
   },
   "cell_type": "code",
   "source": "plot_r2(perf1, 'age')",
   "id": "c1188628f2865db1",
   "outputs": [
    {
     "data": {
      "text/plain": [
       "<Figure size 500x500 with 1 Axes>"
      ],
      "image/png": "[encoded data removed]"
     },
     "metadata": {},
     "output_type": "display_data"
    }
   ],
   "execution_count": 94
  },
  {
   "metadata": {
    "ExecuteTime": {
     "end_time": "2025-02-21T02:34:57.594698Z",
     "start_time": "2025-02-21T02:34:57.590190Z"
    }
   },
   "cell_type": "code",
   "source": "stats.shapiro(perf1.R2)",
   "id": "f598360f0c9fb5d0",
   "outputs": [
    {
     "data": {
      "text/plain": [
       "ShapiroResult(statistic=0.9326124986198653, pvalue=7.023326314953567e-05)"
      ]
     },
     "execution_count": 95,
     "metadata": {},
     "output_type": "execute_result"
    }
   ],
   "execution_count": 95
  },
  {
   "metadata": {
    "ExecuteTime": {
     "end_time": "2025-02-21T02:34:57.625327Z",
     "start_time": "2025-02-21T02:34:57.613794Z"
    }
   },
   "cell_type": "code",
   "source": [
    "X2 = X.filter(['age', 'bmi'])\n",
    "test_model(X2, y)"
   ],
   "id": "52e052270bec540f",
   "outputs": [
    {
     "name": "stdout",
     "output_type": "stream",
     "text": [
      "MAE: 954.9112341507185\n",
      "MSE: 3528185.4775826274\n",
      "RMSE: 1878.346474317938\n",
      "R2: 0.7795696839076226\n"
     ]
    }
   ],
   "execution_count": 96
  },
  {
   "metadata": {
    "ExecuteTime": {
     "end_time": "2025-02-21T02:34:58.280475Z",
     "start_time": "2025-02-21T02:34:57.666299Z"
    }
   },
   "cell_type": "code",
   "source": [
    "perf2 = perform_test(X2, y)\n",
    "perf2.describe()"
   ],
   "id": "984f98a86adb4353",
   "outputs": [
    {
     "data": {
      "text/plain": [
       "               MAE           MSE         RMSE          R2\n",
       "count   100.000000  1.000000e+02   100.000000  100.000000\n",
       "mean   1073.390726  4.432670e+06  1930.093675    0.751363\n",
       "std     212.230010  3.745166e+06   845.312932    0.186638\n",
       "min     730.709726  8.696261e+05   932.537448    0.195453\n",
       "25%     909.715686  1.462778e+06  1209.452408    0.622109\n",
       "50%    1051.775674  3.599090e+06  1897.070750    0.796972\n",
       "75%    1169.729593  8.172206e+06  2858.705703    0.908730\n",
       "max    1729.780446  1.365645e+07  3695.463404    0.951184"
      ],
      "text/html": [
       "<div>\n",
       "<style scoped>\n",
       "    .dataframe tbody tr th:only-of-type {\n",
       "        vertical-align: middle;\n",
       "    }\n",
       "\n",
       "    .dataframe tbody tr th {\n",
       "        vertical-align: top;\n",
       "    }\n",
       "\n",
       "    .dataframe thead th {\n",
       "        text-align: right;\n",
       "    }\n",
       "</style>\n",
       "<table border=\"1\" class=\"dataframe\">\n",
       "  <thead>\n",
       "    <tr style=\"text-align: right;\">\n",
       "      <th></th>\n",
       "      <th>MAE</th>\n",
       "      <th>MSE</th>\n",
       "      <th>RMSE</th>\n",
       "      <th>R2</th>\n",
       "    </tr>\n",
       "  </thead>\n",
       "  <tbody>\n",
       "    <tr>\n",
       "      <th>count</th>\n",
       "      <td>100.000000</td>\n",
       "      <td>1.000000e+02</td>\n",
       "      <td>100.000000</td>\n",
       "      <td>100.000000</td>\n",
       "    </tr>\n",
       "    <tr>\n",
       "      <th>mean</th>\n",
       "      <td>1073.390726</td>\n",
       "      <td>4.432670e+06</td>\n",
       "      <td>1930.093675</td>\n",
       "      <td>0.751363</td>\n",
       "    </tr>\n",
       "    <tr>\n",
       "      <th>std</th>\n",
       "      <td>212.230010</td>\n",
       "      <td>3.745166e+06</td>\n",
       "      <td>845.312932</td>\n",
       "      <td>0.186638</td>\n",
       "    </tr>\n",
       "    <tr>\n",
       "      <th>min</th>\n",
       "      <td>730.709726</td>\n",
       "      <td>8.696261e+05</td>\n",
       "      <td>932.537448</td>\n",
       "      <td>0.195453</td>\n",
       "    </tr>\n",
       "    <tr>\n",
       "      <th>25%</th>\n",
       "      <td>909.715686</td>\n",
       "      <td>1.462778e+06</td>\n",
       "      <td>1209.452408</td>\n",
       "      <td>0.622109</td>\n",
       "    </tr>\n",
       "    <tr>\n",
       "      <th>50%</th>\n",
       "      <td>1051.775674</td>\n",
       "      <td>3.599090e+06</td>\n",
       "      <td>1897.070750</td>\n",
       "      <td>0.796972</td>\n",
       "    </tr>\n",
       "    <tr>\n",
       "      <th>75%</th>\n",
       "      <td>1169.729593</td>\n",
       "      <td>8.172206e+06</td>\n",
       "      <td>2858.705703</td>\n",
       "      <td>0.908730</td>\n",
       "    </tr>\n",
       "    <tr>\n",
       "      <th>max</th>\n",
       "      <td>1729.780446</td>\n",
       "      <td>1.365645e+07</td>\n",
       "      <td>3695.463404</td>\n",
       "      <td>0.951184</td>\n",
       "    </tr>\n",
       "  </tbody>\n",
       "</table>\n",
       "</div>"
      ]
     },
     "execution_count": 97,
     "metadata": {},
     "output_type": "execute_result"
    }
   ],
   "execution_count": 97
  },
  {
   "metadata": {
    "ExecuteTime": {
     "end_time": "2025-02-21T02:34:58.502707Z",
     "start_time": "2025-02-21T02:34:58.327926Z"
    }
   },
   "cell_type": "code",
   "source": "plot_r2(perf2, 'age and bmi')",
   "id": "370875026a790b69",
   "outputs": [
    {
     "data": {
      "text/plain": [
       "<Figure size 500x500 with 1 Axes>"
      ],
      "image/png": "[encoded data removed]"
     },
     "metadata": {},
     "output_type": "display_data"
    }
   ],
   "execution_count": 98
  },
  {
   "metadata": {
    "ExecuteTime": {
     "end_time": "2025-02-21T02:34:58.541242Z",
     "start_time": "2025-02-21T02:34:58.532828Z"
    }
   },
   "cell_type": "code",
   "source": "stats.shapiro(perf2.R2)",
   "id": "836562c2dcf8795",
   "outputs": [
    {
     "data": {
      "text/plain": [
       "ShapiroResult(statistic=0.8670676362580976, pvalue=5.3485505966685216e-08)"
      ]
     },
     "execution_count": 99,
     "metadata": {},
     "output_type": "execute_result"
    }
   ],
   "execution_count": 99
  },
  {
   "metadata": {
    "ExecuteTime": {
     "end_time": "2025-02-21T02:34:58.633344Z",
     "start_time": "2025-02-21T02:34:58.617Z"
    }
   },
   "cell_type": "code",
   "source": [
    "X3 = X\n",
    "test_model(X3, y)"
   ],
   "id": "c119f9c0bc7a5c99",
   "outputs": [
    {
     "name": "stdout",
     "output_type": "stream",
     "text": [
      "MAE: 879.0548854001848\n",
      "MSE: 3472566.9593665847\n",
      "RMSE: 1863.4824816366224\n",
      "R2: 0.783044560052556\n"
     ]
    }
   ],
   "execution_count": 100
  },
  {
   "metadata": {
    "ExecuteTime": {
     "end_time": "2025-02-21T02:35:43.187866Z",
     "start_time": "2025-02-21T02:35:42.532787Z"
    }
   },
   "cell_type": "code",
   "source": [
    "perf3 = perform_test(X3, y)\n",
    "perf3.describe()"
   ],
   "id": "a457203e199f85d2",
   "outputs": [
    {
     "data": {
      "text/plain": [
       "               MAE           MSE         RMSE          R2\n",
       "count   100.000000  1.000000e+02   100.000000  100.000000\n",
       "mean   1121.123688  4.522024e+06  1967.745858    0.744831\n",
       "std     199.819292  3.607821e+06   810.287258    0.179624\n",
       "min     715.432714  7.528238e+05   867.654211    0.190186\n",
       "25%     976.817953  1.663188e+06  1289.643814    0.634736\n",
       "50%    1107.939117  3.627518e+06  1904.544639    0.789379\n",
       "75%    1270.443150  7.943012e+06  2818.334386    0.893700\n",
       "max    1685.347647  1.361026e+07  3689.208267    0.952529"
      ],
      "text/html": [
       "<div>\n",
       "<style scoped>\n",
       "    .dataframe tbody tr th:only-of-type {\n",
       "        vertical-align: middle;\n",
       "    }\n",
       "\n",
       "    .dataframe tbody tr th {\n",
       "        vertical-align: top;\n",
       "    }\n",
       "\n",
       "    .dataframe thead th {\n",
       "        text-align: right;\n",
       "    }\n",
       "</style>\n",
       "<table border=\"1\" class=\"dataframe\">\n",
       "  <thead>\n",
       "    <tr style=\"text-align: right;\">\n",
       "      <th></th>\n",
       "      <th>MAE</th>\n",
       "      <th>MSE</th>\n",
       "      <th>RMSE</th>\n",
       "      <th>R2</th>\n",
       "    </tr>\n",
       "  </thead>\n",
       "  <tbody>\n",
       "    <tr>\n",
       "      <th>count</th>\n",
       "      <td>100.000000</td>\n",
       "      <td>1.000000e+02</td>\n",
       "      <td>100.000000</td>\n",
       "      <td>100.000000</td>\n",
       "    </tr>\n",
       "    <tr>\n",
       "      <th>mean</th>\n",
       "      <td>1121.123688</td>\n",
       "      <td>4.522024e+06</td>\n",
       "      <td>1967.745858</td>\n",
       "      <td>0.744831</td>\n",
       "    </tr>\n",
       "    <tr>\n",
       "      <th>std</th>\n",
       "      <td>199.819292</td>\n",
       "      <td>3.607821e+06</td>\n",
       "      <td>810.287258</td>\n",
       "      <td>0.179624</td>\n",
       "    </tr>\n",
       "    <tr>\n",
       "      <th>min</th>\n",
       "      <td>715.432714</td>\n",
       "      <td>7.528238e+05</td>\n",
       "      <td>867.654211</td>\n",
       "      <td>0.190186</td>\n",
       "    </tr>\n",
       "    <tr>\n",
       "      <th>25%</th>\n",
       "      <td>976.817953</td>\n",
       "      <td>1.663188e+06</td>\n",
       "      <td>1289.643814</td>\n",
       "      <td>0.634736</td>\n",
       "    </tr>\n",
       "    <tr>\n",
       "      <th>50%</th>\n",
       "      <td>1107.939117</td>\n",
       "      <td>3.627518e+06</td>\n",
       "      <td>1904.544639</td>\n",
       "      <td>0.789379</td>\n",
       "    </tr>\n",
       "    <tr>\n",
       "      <th>75%</th>\n",
       "      <td>1270.443150</td>\n",
       "      <td>7.943012e+06</td>\n",
       "      <td>2818.334386</td>\n",
       "      <td>0.893700</td>\n",
       "    </tr>\n",
       "    <tr>\n",
       "      <th>max</th>\n",
       "      <td>1685.347647</td>\n",
       "      <td>1.361026e+07</td>\n",
       "      <td>3689.208267</td>\n",
       "      <td>0.952529</td>\n",
       "    </tr>\n",
       "  </tbody>\n",
       "</table>\n",
       "</div>"
      ]
     },
     "execution_count": 101,
     "metadata": {},
     "output_type": "execute_result"
    }
   ],
   "execution_count": 101
  },
  {
   "metadata": {
    "ExecuteTime": {
     "end_time": "2025-02-21T02:36:15.884895Z",
     "start_time": "2025-02-21T02:36:15.720939Z"
    }
   },
   "cell_type": "code",
   "source": "plot_r2(perf3, 'age, bmi, sex and district')",
   "id": "3eaf0090387193c",
   "outputs": [
    {
     "data": {
      "text/plain": [
       "<Figure size 500x500 with 1 Axes>"
      ],
      "image/png": "[encoded data removed]"
     },
     "metadata": {},
     "output_type": "display_data"
    }
   ],
   "execution_count": 102
  },
  {
   "metadata": {
    "ExecuteTime": {
     "end_time": "2025-02-21T02:36:40.185500Z",
     "start_time": "2025-02-21T02:36:40.175976Z"
    }
   },
   "cell_type": "code",
   "source": [
    "# Compare\n",
    "df_R2s = pd.DataFrame({'Model1':perf1.R2,\n",
    "                       'Model2':perf2.R2,\n",
    "                       'Model3':perf3.R2\n",
    "                      })\n",
    "df_R2s_long = df_R2s.melt(value_vars=['Model1', 'Model2', 'Model3'],\n",
    "                          value_name='R2',\n",
    "                          var_name='Model')\n",
    "df_R2s_long"
   ],
   "id": "b1e5e5f8be32ee58",
   "outputs": [
    {
     "data": {
      "text/plain": [
       "      Model        R2\n",
       "0    Model1  0.794611\n",
       "1    Model1  0.709205\n",
       "2    Model1  0.653600\n",
       "3    Model1  0.646957\n",
       "4    Model1  0.771652\n",
       "..      ...       ...\n",
       "295  Model3  0.451202\n",
       "296  Model3  0.546402\n",
       "297  Model3  0.893130\n",
       "298  Model3  0.619960\n",
       "299  Model3  0.255465\n",
       "\n",
       "[300 rows x 2 columns]"
      ],
      "text/html": [
       "<div>\n",
       "<style scoped>\n",
       "    .dataframe tbody tr th:only-of-type {\n",
       "        vertical-align: middle;\n",
       "    }\n",
       "\n",
       "    .dataframe tbody tr th {\n",
       "        vertical-align: top;\n",
       "    }\n",
       "\n",
       "    .dataframe thead th {\n",
       "        text-align: right;\n",
       "    }\n",
       "</style>\n",
       "<table border=\"1\" class=\"dataframe\">\n",
       "  <thead>\n",
       "    <tr style=\"text-align: right;\">\n",
       "      <th></th>\n",
       "      <th>Model</th>\n",
       "      <th>R2</th>\n",
       "    </tr>\n",
       "  </thead>\n",
       "  <tbody>\n",
       "    <tr>\n",
       "      <th>0</th>\n",
       "      <td>Model1</td>\n",
       "      <td>0.794611</td>\n",
       "    </tr>\n",
       "    <tr>\n",
       "      <th>1</th>\n",
       "      <td>Model1</td>\n",
       "      <td>0.709205</td>\n",
       "    </tr>\n",
       "    <tr>\n",
       "      <th>2</th>\n",
       "      <td>Model1</td>\n",
       "      <td>0.653600</td>\n",
       "    </tr>\n",
       "    <tr>\n",
       "      <th>3</th>\n",
       "      <td>Model1</td>\n",
       "      <td>0.646957</td>\n",
       "    </tr>\n",
       "    <tr>\n",
       "      <th>4</th>\n",
       "      <td>Model1</td>\n",
       "      <td>0.771652</td>\n",
       "    </tr>\n",
       "    <tr>\n",
       "      <th>...</th>\n",
       "      <td>...</td>\n",
       "      <td>...</td>\n",
       "    </tr>\n",
       "    <tr>\n",
       "      <th>295</th>\n",
       "      <td>Model3</td>\n",
       "      <td>0.451202</td>\n",
       "    </tr>\n",
       "    <tr>\n",
       "      <th>296</th>\n",
       "      <td>Model3</td>\n",
       "      <td>0.546402</td>\n",
       "    </tr>\n",
       "    <tr>\n",
       "      <th>297</th>\n",
       "      <td>Model3</td>\n",
       "      <td>0.893130</td>\n",
       "    </tr>\n",
       "    <tr>\n",
       "      <th>298</th>\n",
       "      <td>Model3</td>\n",
       "      <td>0.619960</td>\n",
       "    </tr>\n",
       "    <tr>\n",
       "      <th>299</th>\n",
       "      <td>Model3</td>\n",
       "      <td>0.255465</td>\n",
       "    </tr>\n",
       "  </tbody>\n",
       "</table>\n",
       "<p>300 rows × 2 columns</p>\n",
       "</div>"
      ]
     },
     "execution_count": 103,
     "metadata": {},
     "output_type": "execute_result"
    }
   ],
   "execution_count": 103
  },
  {
   "metadata": {
    "ExecuteTime": {
     "end_time": "2025-02-21T02:36:52.402023Z",
     "start_time": "2025-02-21T02:36:52.112057Z"
    }
   },
   "cell_type": "code",
   "source": [
    "sns.displot(data=df_R2s_long,\n",
    "            x='R2',\n",
    "            kind='kde',\n",
    "            hue='Model')\n",
    "plt.axvline(df_R2s.Model1.mean(), c='b', ls='--')\n",
    "plt.axvline(df_R2s.Model2.mean(), c='orange', ls='--')\n",
    "plt.axvline(df_R2s.Model3.mean(), c='g', ls='--')\n",
    "plt.title(f\"R2 Model1={df_R2s.Model1.mean():.2f}, Model2={df_R2s.Model2.mean():.2f}, Model3={df_R2s.Model3.mean():.2f}\")"
   ],
   "id": "8a33e5797d9eeddc",
   "outputs": [
    {
     "data": {
      "text/plain": [
       "Text(0.5, 1.0, 'R2 Model1=0.69, Model2=0.75, Model3=0.74')"
      ]
     },
     "execution_count": 104,
     "metadata": {},
     "output_type": "execute_result"
    },
    {
     "data": {
      "text/plain": [
       "<Figure size 595.625x500 with 1 Axes>"
      ],
      "image/png": "[encoded data removed]"
     },
     "metadata": {},
     "output_type": "display_data"
    }
   ],
   "execution_count": 104
  },
  {
   "metadata": {
    "ExecuteTime": {
     "end_time": "2025-02-21T02:37:01.644253Z",
     "start_time": "2025-02-21T02:37:01.529355Z"
    }
   },
   "cell_type": "code",
   "source": [
    "sns.boxplot(data=df_R2s_long,\n",
    "              x='Model',\n",
    "              y='R2',\n",
    "              hue='Model')"
   ],
   "id": "92977368081d8ff7",
   "outputs": [
    {
     "data": {
      "text/plain": [
       "<Axes: xlabel='Model', ylabel='R2'>"
      ]
     },
     "execution_count": 105,
     "metadata": {},
     "output_type": "execute_result"
    },
    {
     "data": {
      "text/plain": [
       "<Figure size 640x480 with 1 Axes>"
      ],
      "image/png": "[encoded data removed]"
     },
     "metadata": {},
     "output_type": "display_data"
    }
   ],
   "execution_count": 105
  },
  {
   "metadata": {
    "ExecuteTime": {
     "end_time": "2025-02-21T02:37:21.284701Z",
     "start_time": "2025-02-21T02:37:21.279192Z"
    }
   },
   "cell_type": "code",
   "source": [
    "f_score, p_value = stats.kruskal(df_R2s.Model1, df_R2s.Model2, df_R2s.Model3)\n",
    "print(\"p-value:\", p_value)"
   ],
   "id": "c8b4cce29eba49f3",
   "outputs": [
    {
     "name": "stdout",
     "output_type": "stream",
     "text": [
      "p-value: 0.00014326441134800065\n"
     ]
    }
   ],
   "execution_count": 106
  },
  {
   "metadata": {
    "ExecuteTime": {
     "end_time": "2025-02-21T02:37:38.766516Z",
     "start_time": "2025-02-21T02:37:38.753481Z"
    }
   },
   "cell_type": "code",
   "source": "sp.posthoc_conover(df_R2s_long, val_col='R2', group_col='Model')",
   "id": "6437f3254e4d54e4",
   "outputs": [
    {
     "data": {
      "text/plain": [
       "          Model1    Model2    Model3\n",
       "Model1  1.000000  0.000083  0.000681\n",
       "Model2  0.000083  1.000000  0.576811\n",
       "Model3  0.000681  0.576811  1.000000"
      ],
      "text/html": [
       "<div>\n",
       "<style scoped>\n",
       "    .dataframe tbody tr th:only-of-type {\n",
       "        vertical-align: middle;\n",
       "    }\n",
       "\n",
       "    .dataframe tbody tr th {\n",
       "        vertical-align: top;\n",
       "    }\n",
       "\n",
       "    .dataframe thead th {\n",
       "        text-align: right;\n",
       "    }\n",
       "</style>\n",
       "<table border=\"1\" class=\"dataframe\">\n",
       "  <thead>\n",
       "    <tr style=\"text-align: right;\">\n",
       "      <th></th>\n",
       "      <th>Model1</th>\n",
       "      <th>Model2</th>\n",
       "      <th>Model3</th>\n",
       "    </tr>\n",
       "  </thead>\n",
       "  <tbody>\n",
       "    <tr>\n",
       "      <th>Model1</th>\n",
       "      <td>1.000000</td>\n",
       "      <td>0.000083</td>\n",
       "      <td>0.000681</td>\n",
       "    </tr>\n",
       "    <tr>\n",
       "      <th>Model2</th>\n",
       "      <td>0.000083</td>\n",
       "      <td>1.000000</td>\n",
       "      <td>0.576811</td>\n",
       "    </tr>\n",
       "    <tr>\n",
       "      <th>Model3</th>\n",
       "      <td>0.000681</td>\n",
       "      <td>0.576811</td>\n",
       "      <td>1.000000</td>\n",
       "    </tr>\n",
       "  </tbody>\n",
       "</table>\n",
       "</div>"
      ]
     },
     "execution_count": 107,
     "metadata": {},
     "output_type": "execute_result"
    }
   ],
   "execution_count": 107
  }
 ],
 "metadata": {
  "colab": {
   "provenance": []
  },
  "kernelspec": {
   "display_name": "Python 3 (ipykernel)",
   "language": "python",
   "name": "python3"
  },
  "language_info": {
   "codemirror_mode": {
    "name": "ipython",
    "version": 3
   },
   "file_extension": ".py",
   "mimetype": "text/x-python",
   "name": "python",
   "nbconvert_exporter": "python",
   "pygments_lexer": "ipython3",
   "version": "3.9.6"
  }
 },
 "nbformat": 4,
 "nbformat_minor": 5
}
