{
 "cells": [
  {
   "cell_type": "markdown",
   "id": "dfd547f9-3a0a-47dd-9617-6b80e6cdaeb0",
   "metadata": {
    "id": "dfd547f9-3a0a-47dd-9617-6b80e6cdaeb0"
   },
   "source": [
    "## แบบฝึกหัดที่ 8"
   ]
  },
  {
   "cell_type": "markdown",
   "id": "25fb8a7b-0159-4b39-9c6d-adeebd0cccf9",
   "metadata": {
    "id": "25fb8a7b-0159-4b39-9c6d-adeebd0cccf9"
   },
   "source": [
    "จากแบบฝึกหัดที่ 7 ให้นิสิตแสดงการ optimize 'n_neighbors' โดยมีรายละเอียดดังนี้  \n",
    "1. ทำการแบ่ง train และ test set โดยใช้ train_test_split() ซึ่งมี argument test_size=0.3 และ random_state=1234\n",
    "2. ทำการ optimize 'n_neighbors' โดยใช้ train set ทดสอบค่า 'n_neighbors' ในช่วง 1-30 และประสิทธิภาพที่ใช้วัดมาจาก Stratified 5-fold cross-validation (random_state=1234 ไม่มีการ repeat) โดยพิจารณาจาก auc score\n",
    "3. สร้างโมเดล KNN จาก train set โดยใช้ 'n_neighbors' ที่ได้จากการ optimize นำโมเดลนี้มาทำนาย test set ในข้อ 1 และวัดประสิทธิภาพของโมเดลโดยแสดง confusion matrix แบบ heatmap และแสดงค่า accuracy, precision, recall, f1, auc\n",
    "\n",
    "ข้อมูล \"Wholesale_customers_data.csv\" มีรายละเอียดดังนี้:"
   ]
  },
  {
   "cell_type": "markdown",
   "id": "2057793d-2baf-4427-90fc-bb14c4c321b6",
   "metadata": {
    "id": "2057793d-2baf-4427-90fc-bb14c4c321b6"
   },
   "source": [
    "**Attribute Information:**  \n",
    "  \n",
    "1) Fresh: annual spending (m.u.) on fresh products (Continuous);  \n",
    "2) Milk: annual spending (m.u.) on milk products (Continuous);  \n",
    "3) Grocery: annual spending (m.u.)on grocery products (Continuous);  \n",
    "4) Frozen: annual spending (m.u.)on frozen products (Continuous)  \n",
    "5) Detergents_paper: annual spending (m.u.) on detergents and paper products (Continuous)  \n",
    "6) Delicassen: annual spending (m.u.)on and delicatessen products (Continuous);  \n",
    "7) Channel<sup>*</sup>: customers channel - 1:Horeca (Hotel/Restaurant/Cafe) or 2:Retail channel (Nominal)  \n",
    "8) Region: customers region - Lisnon, Oporto or Other (Nominal)\n",
    "\n",
    "<sup>*</sup>Outcome/label variable  \n",
    "monetary units = m.u."
   ]
  },
  {
   "cell_type": "markdown",
   "id": "4f50f2e0-40c1-432f-8b3c-3237efb95b50",
   "metadata": {
    "id": "4f50f2e0-40c1-432f-8b3c-3237efb95b50"
   },
   "source": [
    "โมเดลที่สร้างมีเป้าหมายเพื่อการทำนายตัวแปร Channel เช่นเดียวกับแบบฝึกหัดที่ 7"
   ]
  },
  {
   "cell_type": "markdown",
   "id": "cc6b4321-9a2a-408f-855f-b0082a95062c",
   "metadata": {
    "tags": [],
    "id": "cc6b4321-9a2a-408f-855f-b0082a95062c"
   },
   "source": [
    "&nbsp;   \n",
    "#### <font color=\"#1f7d02\">*Read Dataset*</span>"
   ]
  },
  {
   "cell_type": "code",
   "id": "8ef70815-e284-49f0-9486-e58ab6d59926",
   "metadata": {
    "id": "8ef70815-e284-49f0-9486-e58ab6d59926",
    "ExecuteTime": {
     "end_time": "2025-03-01T10:19:54.202185Z",
     "start_time": "2025-03-01T10:19:54.197074Z"
    }
   },
   "source": [
    "import pandas as pd\n",
    "import numpy as np\n",
    "import matplotlib.pyplot as plt\n",
    "import seaborn as sns\n",
    "\n",
    "from sklearn.model_selection import train_test_split\n",
    "from sklearn.neighbors import KNeighborsClassifier as knn\n",
    "from sklearn import metrics\n",
    "from sklearn.model_selection import StratifiedKFold\n",
    "from sklearn.model_selection import cross_val_predict"
   ],
   "outputs": [],
   "execution_count": 19
  },
  {
   "cell_type": "code",
   "id": "31575aae-5438-4cd1-a961-abd079d7fff6",
   "metadata": {
    "colab": {
     "base_uri": "https://localhost:8080/",
     "height": 206
    },
    "id": "31575aae-5438-4cd1-a961-abd079d7fff6",
    "executionInfo": {
     "status": "ok",
     "timestamp": 1740744228331,
     "user_tz": -420,
     "elapsed": 709,
     "user": {
      "displayName": "Thammakorn SAETHANG",
      "userId": "08182570455347153646"
     }
    },
    "outputId": "8ff98e54-3c11-4284-edc2-60331934153c",
    "ExecuteTime": {
     "end_time": "2025-03-01T10:19:54.276451Z",
     "start_time": "2025-03-01T10:19:54.238761Z"
    }
   },
   "source": [
    "df = pd.read_csv(\"https://raw.githubusercontent.com/ThammakornS/ProgStat/main/dataset/Wholesale_customers_data.csv\")\n",
    "df.head()"
   ],
   "outputs": [
    {
     "data": {
      "text/plain": [
       "   Channel  Region  Fresh  Milk  Grocery  Frozen  Detergents_Paper  Delicassen\n",
       "0        2       3  12669  9656     7561     214              2674        1338\n",
       "1        2       3   7057  9810     9568    1762              3293        1776\n",
       "2        2       3   6353  8808     7684    2405              3516        7844\n",
       "3        1       3  13265  1196     4221    6404               507        1788\n",
       "4        2       3  22615  5410     7198    3915              1777        5185"
      ],
      "text/html": [
       "<div>\n",
       "<style scoped>\n",
       "    .dataframe tbody tr th:only-of-type {\n",
       "        vertical-align: middle;\n",
       "    }\n",
       "\n",
       "    .dataframe tbody tr th {\n",
       "        vertical-align: top;\n",
       "    }\n",
       "\n",
       "    .dataframe thead th {\n",
       "        text-align: right;\n",
       "    }\n",
       "</style>\n",
       "<table border=\"1\" class=\"dataframe\">\n",
       "  <thead>\n",
       "    <tr style=\"text-align: right;\">\n",
       "      <th></th>\n",
       "      <th>Channel</th>\n",
       "      <th>Region</th>\n",
       "      <th>Fresh</th>\n",
       "      <th>Milk</th>\n",
       "      <th>Grocery</th>\n",
       "      <th>Frozen</th>\n",
       "      <th>Detergents_Paper</th>\n",
       "      <th>Delicassen</th>\n",
       "    </tr>\n",
       "  </thead>\n",
       "  <tbody>\n",
       "    <tr>\n",
       "      <th>0</th>\n",
       "      <td>2</td>\n",
       "      <td>3</td>\n",
       "      <td>12669</td>\n",
       "      <td>9656</td>\n",
       "      <td>7561</td>\n",
       "      <td>214</td>\n",
       "      <td>2674</td>\n",
       "      <td>1338</td>\n",
       "    </tr>\n",
       "    <tr>\n",
       "      <th>1</th>\n",
       "      <td>2</td>\n",
       "      <td>3</td>\n",
       "      <td>7057</td>\n",
       "      <td>9810</td>\n",
       "      <td>9568</td>\n",
       "      <td>1762</td>\n",
       "      <td>3293</td>\n",
       "      <td>1776</td>\n",
       "    </tr>\n",
       "    <tr>\n",
       "      <th>2</th>\n",
       "      <td>2</td>\n",
       "      <td>3</td>\n",
       "      <td>6353</td>\n",
       "      <td>8808</td>\n",
       "      <td>7684</td>\n",
       "      <td>2405</td>\n",
       "      <td>3516</td>\n",
       "      <td>7844</td>\n",
       "    </tr>\n",
       "    <tr>\n",
       "      <th>3</th>\n",
       "      <td>1</td>\n",
       "      <td>3</td>\n",
       "      <td>13265</td>\n",
       "      <td>1196</td>\n",
       "      <td>4221</td>\n",
       "      <td>6404</td>\n",
       "      <td>507</td>\n",
       "      <td>1788</td>\n",
       "    </tr>\n",
       "    <tr>\n",
       "      <th>4</th>\n",
       "      <td>2</td>\n",
       "      <td>3</td>\n",
       "      <td>22615</td>\n",
       "      <td>5410</td>\n",
       "      <td>7198</td>\n",
       "      <td>3915</td>\n",
       "      <td>1777</td>\n",
       "      <td>5185</td>\n",
       "    </tr>\n",
       "  </tbody>\n",
       "</table>\n",
       "</div>"
      ]
     },
     "execution_count": 20,
     "metadata": {},
     "output_type": "execute_result"
    }
   ],
   "execution_count": 20
  },
  {
   "cell_type": "code",
   "id": "62b19a4d-86b2-4871-8d24-3bebfdd6dcb1",
   "metadata": {
    "colab": {
     "base_uri": "https://localhost:8080/",
     "height": 178
    },
    "id": "62b19a4d-86b2-4871-8d24-3bebfdd6dcb1",
    "executionInfo": {
     "status": "ok",
     "timestamp": 1740744234126,
     "user_tz": -420,
     "elapsed": 41,
     "user": {
      "displayName": "Thammakorn SAETHANG",
      "userId": "08182570455347153646"
     }
    },
    "outputId": "e3141483-3460-450c-e0ac-46f057b89860",
    "ExecuteTime": {
     "end_time": "2025-03-01T10:19:54.319244Z",
     "start_time": "2025-03-01T10:19:54.313228Z"
    }
   },
   "source": [
    "df.Channel.value_counts()"
   ],
   "outputs": [
    {
     "data": {
      "text/plain": [
       "Channel\n",
       "1    298\n",
       "2    142\n",
       "Name: count, dtype: int64"
      ]
     },
     "execution_count": 21,
     "metadata": {},
     "output_type": "execute_result"
    }
   ],
   "execution_count": 21
  },
  {
   "cell_type": "code",
   "id": "94746bf9",
   "metadata": {
    "id": "94746bf9",
    "ExecuteTime": {
     "end_time": "2025-03-01T10:19:54.402084Z",
     "start_time": "2025-03-01T10:19:54.393899Z"
    }
   },
   "source": [
    "df = df.astype({\n",
    "    'Region': 'category',\n",
    "})\n",
    "categorical_cols = df.select_dtypes(include=['category']).columns\n",
    "df = pd.get_dummies(df, columns=categorical_cols, drop_first=True, dtype=int)"
   ],
   "outputs": [],
   "execution_count": 22
  },
  {
   "cell_type": "markdown",
   "id": "79df4479-2e80-4696-9efc-6e7115aef439",
   "metadata": {
    "id": "79df4479-2e80-4696-9efc-6e7115aef439"
   },
   "source": [
    "&nbsp;  \n",
    "#### <font color=\"#1f7d02\">*Create feature and label data*</span>"
   ]
  },
  {
   "cell_type": "code",
   "id": "1b874710-c4c6-47f8-8b9e-8bdb66bdc7ee",
   "metadata": {
    "colab": {
     "base_uri": "https://localhost:8080/",
     "height": 424
    },
    "id": "1b874710-c4c6-47f8-8b9e-8bdb66bdc7ee",
    "executionInfo": {
     "status": "ok",
     "timestamp": 1740744240898,
     "user_tz": -420,
     "elapsed": 95,
     "user": {
      "displayName": "Thammakorn SAETHANG",
      "userId": "08182570455347153646"
     }
    },
    "outputId": "86f6204a-2c74-464e-b6b3-baf7f8ad18bb",
    "ExecuteTime": {
     "end_time": "2025-03-01T10:19:54.530042Z",
     "start_time": "2025-03-01T10:19:54.518903Z"
    }
   },
   "source": [
    "X = df.loc[:,~(df.columns=='Channel')]\n",
    "X"
   ],
   "outputs": [
    {
     "data": {
      "text/plain": [
       "     Fresh   Milk  Grocery  Frozen  Detergents_Paper  Delicassen  Region_2  \\\n",
       "0    12669   9656     7561     214              2674        1338         0   \n",
       "1     7057   9810     9568    1762              3293        1776         0   \n",
       "2     6353   8808     7684    2405              3516        7844         0   \n",
       "3    13265   1196     4221    6404               507        1788         0   \n",
       "4    22615   5410     7198    3915              1777        5185         0   \n",
       "..     ...    ...      ...     ...               ...         ...       ...   \n",
       "435  29703  12051    16027   13135               182        2204         0   \n",
       "436  39228   1431      764    4510                93        2346         0   \n",
       "437  14531  15488    30243     437             14841        1867         0   \n",
       "438  10290   1981     2232    1038               168        2125         0   \n",
       "439   2787   1698     2510      65               477          52         0   \n",
       "\n",
       "     Region_3  \n",
       "0           1  \n",
       "1           1  \n",
       "2           1  \n",
       "3           1  \n",
       "4           1  \n",
       "..        ...  \n",
       "435         1  \n",
       "436         1  \n",
       "437         1  \n",
       "438         1  \n",
       "439         1  \n",
       "\n",
       "[440 rows x 8 columns]"
      ],
      "text/html": [
       "<div>\n",
       "<style scoped>\n",
       "    .dataframe tbody tr th:only-of-type {\n",
       "        vertical-align: middle;\n",
       "    }\n",
       "\n",
       "    .dataframe tbody tr th {\n",
       "        vertical-align: top;\n",
       "    }\n",
       "\n",
       "    .dataframe thead th {\n",
       "        text-align: right;\n",
       "    }\n",
       "</style>\n",
       "<table border=\"1\" class=\"dataframe\">\n",
       "  <thead>\n",
       "    <tr style=\"text-align: right;\">\n",
       "      <th></th>\n",
       "      <th>Fresh</th>\n",
       "      <th>Milk</th>\n",
       "      <th>Grocery</th>\n",
       "      <th>Frozen</th>\n",
       "      <th>Detergents_Paper</th>\n",
       "      <th>Delicassen</th>\n",
       "      <th>Region_2</th>\n",
       "      <th>Region_3</th>\n",
       "    </tr>\n",
       "  </thead>\n",
       "  <tbody>\n",
       "    <tr>\n",
       "      <th>0</th>\n",
       "      <td>12669</td>\n",
       "      <td>9656</td>\n",
       "      <td>7561</td>\n",
       "      <td>214</td>\n",
       "      <td>2674</td>\n",
       "      <td>1338</td>\n",
       "      <td>0</td>\n",
       "      <td>1</td>\n",
       "    </tr>\n",
       "    <tr>\n",
       "      <th>1</th>\n",
       "      <td>7057</td>\n",
       "      <td>9810</td>\n",
       "      <td>9568</td>\n",
       "      <td>1762</td>\n",
       "      <td>3293</td>\n",
       "      <td>1776</td>\n",
       "      <td>0</td>\n",
       "      <td>1</td>\n",
       "    </tr>\n",
       "    <tr>\n",
       "      <th>2</th>\n",
       "      <td>6353</td>\n",
       "      <td>8808</td>\n",
       "      <td>7684</td>\n",
       "      <td>2405</td>\n",
       "      <td>3516</td>\n",
       "      <td>7844</td>\n",
       "      <td>0</td>\n",
       "      <td>1</td>\n",
       "    </tr>\n",
       "    <tr>\n",
       "      <th>3</th>\n",
       "      <td>13265</td>\n",
       "      <td>1196</td>\n",
       "      <td>4221</td>\n",
       "      <td>6404</td>\n",
       "      <td>507</td>\n",
       "      <td>1788</td>\n",
       "      <td>0</td>\n",
       "      <td>1</td>\n",
       "    </tr>\n",
       "    <tr>\n",
       "      <th>4</th>\n",
       "      <td>22615</td>\n",
       "      <td>5410</td>\n",
       "      <td>7198</td>\n",
       "      <td>3915</td>\n",
       "      <td>1777</td>\n",
       "      <td>5185</td>\n",
       "      <td>0</td>\n",
       "      <td>1</td>\n",
       "    </tr>\n",
       "    <tr>\n",
       "      <th>...</th>\n",
       "      <td>...</td>\n",
       "      <td>...</td>\n",
       "      <td>...</td>\n",
       "      <td>...</td>\n",
       "      <td>...</td>\n",
       "      <td>...</td>\n",
       "      <td>...</td>\n",
       "      <td>...</td>\n",
       "    </tr>\n",
       "    <tr>\n",
       "      <th>435</th>\n",
       "      <td>29703</td>\n",
       "      <td>12051</td>\n",
       "      <td>16027</td>\n",
       "      <td>13135</td>\n",
       "      <td>182</td>\n",
       "      <td>2204</td>\n",
       "      <td>0</td>\n",
       "      <td>1</td>\n",
       "    </tr>\n",
       "    <tr>\n",
       "      <th>436</th>\n",
       "      <td>39228</td>\n",
       "      <td>1431</td>\n",
       "      <td>764</td>\n",
       "      <td>4510</td>\n",
       "      <td>93</td>\n",
       "      <td>2346</td>\n",
       "      <td>0</td>\n",
       "      <td>1</td>\n",
       "    </tr>\n",
       "    <tr>\n",
       "      <th>437</th>\n",
       "      <td>14531</td>\n",
       "      <td>15488</td>\n",
       "      <td>30243</td>\n",
       "      <td>437</td>\n",
       "      <td>14841</td>\n",
       "      <td>1867</td>\n",
       "      <td>0</td>\n",
       "      <td>1</td>\n",
       "    </tr>\n",
       "    <tr>\n",
       "      <th>438</th>\n",
       "      <td>10290</td>\n",
       "      <td>1981</td>\n",
       "      <td>2232</td>\n",
       "      <td>1038</td>\n",
       "      <td>168</td>\n",
       "      <td>2125</td>\n",
       "      <td>0</td>\n",
       "      <td>1</td>\n",
       "    </tr>\n",
       "    <tr>\n",
       "      <th>439</th>\n",
       "      <td>2787</td>\n",
       "      <td>1698</td>\n",
       "      <td>2510</td>\n",
       "      <td>65</td>\n",
       "      <td>477</td>\n",
       "      <td>52</td>\n",
       "      <td>0</td>\n",
       "      <td>1</td>\n",
       "    </tr>\n",
       "  </tbody>\n",
       "</table>\n",
       "<p>440 rows × 8 columns</p>\n",
       "</div>"
      ]
     },
     "execution_count": 23,
     "metadata": {},
     "output_type": "execute_result"
    }
   ],
   "execution_count": 23
  },
  {
   "cell_type": "code",
   "id": "86a3ff06-8837-41b8-ba0c-40a31aa2e45d",
   "metadata": {
    "colab": {
     "base_uri": "https://localhost:8080/",
     "height": 458
    },
    "id": "86a3ff06-8837-41b8-ba0c-40a31aa2e45d",
    "executionInfo": {
     "status": "ok",
     "timestamp": 1740744245056,
     "user_tz": -420,
     "elapsed": 23,
     "user": {
      "displayName": "Thammakorn SAETHANG",
      "userId": "08182570455347153646"
     }
    },
    "outputId": "b5c68e96-fe5f-4dc6-c496-781c2151f6d8",
    "ExecuteTime": {
     "end_time": "2025-03-01T10:19:54.628166Z",
     "start_time": "2025-03-01T10:19:54.621367Z"
    }
   },
   "source": [
    "y = df['Channel']\n",
    "y"
   ],
   "outputs": [
    {
     "data": {
      "text/plain": [
       "0      2\n",
       "1      2\n",
       "2      2\n",
       "3      1\n",
       "4      2\n",
       "      ..\n",
       "435    1\n",
       "436    1\n",
       "437    2\n",
       "438    1\n",
       "439    1\n",
       "Name: Channel, Length: 440, dtype: int64"
      ]
     },
     "execution_count": 24,
     "metadata": {},
     "output_type": "execute_result"
    }
   ],
   "execution_count": 24
  },
  {
   "cell_type": "code",
   "id": "4c5a3724-107f-4019-9e03-bfbd3c9e50bf",
   "metadata": {
    "id": "4c5a3724-107f-4019-9e03-bfbd3c9e50bf",
    "outputId": "72cb70f9-65d8-403c-8a03-14a3edc99324",
    "ExecuteTime": {
     "end_time": "2025-03-01T10:19:54.740756Z",
     "start_time": "2025-03-01T10:19:54.733424Z"
    }
   },
   "source": [
    "y.value_counts()"
   ],
   "outputs": [
    {
     "data": {
      "text/plain": [
       "Channel\n",
       "1    298\n",
       "2    142\n",
       "Name: count, dtype: int64"
      ]
     },
     "execution_count": 25,
     "metadata": {},
     "output_type": "execute_result"
    }
   ],
   "execution_count": 25
  },
  {
   "cell_type": "markdown",
   "id": "8fb4e4a7-73d4-4025-9a5c-28f19be0a1fb",
   "metadata": {
    "tags": [],
    "id": "8fb4e4a7-73d4-4025-9a5c-28f19be0a1fb"
   },
   "source": [
    "&nbsp;  \n",
    "#### <font color=\"#1f7d02\">*Train Test Split*</span>"
   ]
  },
  {
   "cell_type": "code",
   "id": "ed0362f1-27c6-42a6-b226-ecac65fb79fe",
   "metadata": {
    "id": "ed0362f1-27c6-42a6-b226-ecac65fb79fe",
    "ExecuteTime": {
     "end_time": "2025-03-01T10:19:54.912930Z",
     "start_time": "2025-03-01T10:19:54.907422Z"
    }
   },
   "source": [
    "# Your code (use random_state=1234)\n",
    "# Your code (use random_state=1234)\n",
    "X_train, X_test, y_train, y_test = train_test_split(X,\n",
    "                                                    y,\n",
    "                                                    test_size=0.3,\n",
    "                                                    random_state=1234)"
   ],
   "outputs": [],
   "execution_count": 26
  },
  {
   "metadata": {
    "ExecuteTime": {
     "end_time": "2025-03-01T10:19:55.012959Z",
     "start_time": "2025-03-01T10:19:55.007144Z"
    }
   },
   "cell_type": "code",
   "source": "X_train.shape",
   "id": "bf5c59ab48ab4319",
   "outputs": [
    {
     "data": {
      "text/plain": [
       "(308, 8)"
      ]
     },
     "execution_count": 27,
     "metadata": {},
     "output_type": "execute_result"
    }
   ],
   "execution_count": 27
  },
  {
   "metadata": {
    "ExecuteTime": {
     "end_time": "2025-03-01T10:19:55.103286Z",
     "start_time": "2025-03-01T10:19:55.097541Z"
    }
   },
   "cell_type": "code",
   "source": "X_test.shape",
   "id": "8a8fb5d021097ffe",
   "outputs": [
    {
     "data": {
      "text/plain": [
       "(132, 8)"
      ]
     },
     "execution_count": 28,
     "metadata": {},
     "output_type": "execute_result"
    }
   ],
   "execution_count": 28
  },
  {
   "metadata": {
    "ExecuteTime": {
     "end_time": "2025-03-01T10:19:55.210801Z",
     "start_time": "2025-03-01T10:19:55.203360Z"
    }
   },
   "cell_type": "code",
   "source": "y_train.value_counts()",
   "id": "7e3a9ed722ce0de9",
   "outputs": [
    {
     "data": {
      "text/plain": [
       "Channel\n",
       "1    211\n",
       "2     97\n",
       "Name: count, dtype: int64"
      ]
     },
     "execution_count": 29,
     "metadata": {},
     "output_type": "execute_result"
    }
   ],
   "execution_count": 29
  },
  {
   "metadata": {
    "ExecuteTime": {
     "end_time": "2025-03-01T10:19:55.336381Z",
     "start_time": "2025-03-01T10:19:55.326817Z"
    }
   },
   "cell_type": "code",
   "source": "y_test.value_counts()",
   "id": "1f953a99e8b4b470",
   "outputs": [
    {
     "data": {
      "text/plain": [
       "Channel\n",
       "1    87\n",
       "2    45\n",
       "Name: count, dtype: int64"
      ]
     },
     "execution_count": 30,
     "metadata": {},
     "output_type": "execute_result"
    }
   ],
   "execution_count": 30
  },
  {
   "cell_type": "markdown",
   "id": "a04c9a4b-0579-4b19-ae51-15bc5ba0e18f",
   "metadata": {
    "tags": [],
    "id": "a04c9a4b-0579-4b19-ae51-15bc5ba0e18f"
   },
   "source": [
    "&nbsp;  \n",
    "#### <font color=\"#1f7d02\">*Feature Data Scaling*</span>"
   ]
  },
  {
   "cell_type": "code",
   "id": "2e07bff7-0235-4e03-a689-ad303f7741dd",
   "metadata": {
    "id": "2e07bff7-0235-4e03-a689-ad303f7741dd",
    "ExecuteTime": {
     "end_time": "2025-03-01T10:19:55.544384Z",
     "start_time": "2025-03-01T10:19:55.534987Z"
    }
   },
   "source": [
    "# Your code\n",
    "df.std(numeric_only=True)"
   ],
   "outputs": [
    {
     "data": {
      "text/plain": [
       "Channel                 0.468052\n",
       "Fresh               12647.328865\n",
       "Milk                 7380.377175\n",
       "Grocery              9503.162829\n",
       "Frozen               4854.673333\n",
       "Detergents_Paper     4767.854448\n",
       "Delicassen           2820.105937\n",
       "Region_2                0.309234\n",
       "Region_3                0.450397\n",
       "dtype: float64"
      ]
     },
     "execution_count": 31,
     "metadata": {},
     "output_type": "execute_result"
    }
   ],
   "execution_count": 31
  },
  {
   "metadata": {
    "ExecuteTime": {
     "end_time": "2025-03-01T10:20:16.181809Z",
     "start_time": "2025-03-01T10:20:16.170293Z"
    }
   },
   "cell_type": "code",
   "source": [
    "from sklearn.preprocessing import MinMaxScaler\n",
    "scaler = MinMaxScaler()\n",
    "scaler.fit(X_train)\n",
    "scaler.fit(X_train) #Scaling parameters must based on training data.\n",
    "\n",
    "X_train_sc = scaler.transform(X_train)\n",
    "X_test_sc = scaler.transform(X_test)\n",
    "X_train_sc"
   ],
   "id": "dee9b93086a8f071",
   "outputs": [
    {
     "data": {
      "text/plain": [
       "array([[0.389931  , 0.0644173 , 0.0789312 , ..., 0.02252816, 0.        ,\n",
       "        1.        ],\n",
       "       [0.04012645, 0.08304399, 0.14996174, ..., 0.05801001, 0.        ,\n",
       "        0.        ],\n",
       "       [0.35844899, 0.01898071, 0.02095347, ..., 0.02774301, 0.        ,\n",
       "        1.        ],\n",
       "       ...,\n",
       "       [0.27900937, 0.02666013, 0.07056706, ..., 0.03861076, 1.        ,\n",
       "        0.        ],\n",
       "       [0.15893171, 0.38493798, 0.42781077, ..., 0.05980392, 0.        ,\n",
       "        0.        ],\n",
       "       [0.03405305, 0.04946693, 0.149024  , ..., 0.00116813, 1.        ,\n",
       "        0.        ]])"
      ]
     },
     "execution_count": 35,
     "metadata": {},
     "output_type": "execute_result"
    }
   ],
   "execution_count": 35
  },
  {
   "cell_type": "markdown",
   "id": "e2bc090f-4dc1-4066-b538-9527b8c86dee",
   "metadata": {
    "tags": [],
    "id": "e2bc090f-4dc1-4066-b538-9527b8c86dee"
   },
   "source": [
    "&nbsp;  \n",
    "#### <font color=\"#1f7d02\">*Evaluated KNN model on train set when n_neighbors = 1-30 by using stratified 5-fold cv*</span>"
   ]
  },
  {
   "cell_type": "code",
   "id": "a8aa54c0-9163-4b40-b6f3-957e9319e7e0",
   "metadata": {
    "id": "a8aa54c0-9163-4b40-b6f3-957e9319e7e0",
    "ExecuteTime": {
     "end_time": "2025-03-01T10:19:56.361757400Z",
     "start_time": "2025-03-01T10:18:13.526175Z"
    }
   },
   "source": [
    "# Your code\n",
    "kf = KFold(n_splits=5,\n",
    "           shuffle=True,\n",
    "           random_state=1234)"
   ],
   "outputs": [],
   "execution_count": 15
  },
  {
   "cell_type": "markdown",
   "id": "cac410e9-ea2c-4ab7-8bda-4441fe0a0506",
   "metadata": {
    "tags": [],
    "id": "cac410e9-ea2c-4ab7-8bda-4441fe0a0506"
   },
   "source": [
    "&nbsp;  \n",
    "#### <font color=\"#1f7d02\">*Plot performance scores for each 'n_neighbors'*</span>"
   ]
  },
  {
   "cell_type": "code",
   "id": "404714cb-8a29-4a98-b339-04188d3fb102",
   "metadata": {
    "id": "404714cb-8a29-4a98-b339-04188d3fb102",
    "ExecuteTime": {
     "end_time": "2025-03-01T10:19:56.362752Z",
     "start_time": "2025-03-01T10:18:13.672622Z"
    }
   },
   "source": [
    "# Your code"
   ],
   "outputs": [],
   "execution_count": 16
  },
  {
   "cell_type": "markdown",
   "id": "b0e3a681-6995-4cdf-ae34-909a559f9ff7",
   "metadata": {
    "tags": [],
    "id": "b0e3a681-6995-4cdf-ae34-909a559f9ff7"
   },
   "source": [
    "&nbsp;  \n",
    "#### <font color=\"#1f7d02\">*Use KNN model with optimized 'n_neighbors' to predict test set*</span>"
   ]
  },
  {
   "cell_type": "code",
   "id": "193d1d17-7a44-4272-b1ac-a4e44ebc0067",
   "metadata": {
    "id": "193d1d17-7a44-4272-b1ac-a4e44ebc0067",
    "ExecuteTime": {
     "end_time": "2025-03-01T10:19:56.396586100Z",
     "start_time": "2025-03-01T10:18:13.782603Z"
    }
   },
   "source": [
    "# Your code"
   ],
   "outputs": [],
   "execution_count": 17
  }
 ],
 "metadata": {
  "kernelspec": {
   "display_name": "Python 3 (ipykernel)",
   "language": "python",
   "name": "python3"
  },
  "language_info": {
   "codemirror_mode": {
    "name": "ipython",
    "version": 3
   },
   "file_extension": ".py",
   "mimetype": "text/x-python",
   "name": "python",
   "nbconvert_exporter": "python",
   "pygments_lexer": "ipython3",
   "version": "3.12.3"
  },
  "colab": {
   "provenance": []
  }
 },
 "nbformat": 4,
 "nbformat_minor": 5
}
