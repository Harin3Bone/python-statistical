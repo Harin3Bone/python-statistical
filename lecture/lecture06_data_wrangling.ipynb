{
 "cells": [
  {
   "cell_type": "markdown",
   "id": "a7da62c2-942a-4153-96fb-b191486c5c07",
   "metadata": {
    "id": "a7da62c2-942a-4153-96fb-b191486c5c07"
   },
   "source": [
    "# <font color=\"#DE1509\">Data Wrangling</font>\n",
    "Data wrangling, sometimes referred to as data munging, is the process of cleaning, managing, transforming, and formatting \"raw\" data into the form that is appropriate for downstream analyses."
   ]
  },
  {
   "cell_type": "markdown",
   "id": "d2ed5081-3c37-401f-accf-6af8f796708a",
   "metadata": {
    "id": "d2ed5081-3c37-401f-accf-6af8f796708a"
   },
   "source": [
    "\\\n",
    "Let's start with heart failure clinical records data.  \n",
    "  \n",
    "There are 13 columns in this data:\n",
    "- age: age of the patient (years)\n",
    "- anaemia: decrease of red blood cells or hemoglobin (Y/N)\n",
    "- high blood pressure: if the patient has hypertension (Y/N)\n",
    "- creatinine phosphokinase (CPK): level of the CPK enzyme in the blood (mcg/L)\n",
    "- diabetes: if the patient has diabetes (Y/N)\n",
    "- ejection fraction: percentage of blood leaving the heart at each contraction (percentage)\n",
    "- platelets: platelets in the blood (kiloplatelets/mL)\n",
    "- sex: female or male (F/M)\n",
    "- serum creatinine: level of serum creatinine in the blood (mg/dL)\n",
    "- serum sodium: level of serum sodium in the blood (mEq/L)\n",
    "- smoking: if the patient smokes or not (Y/N)\n",
    "- time: follow-up period (days)\n",
    "- death event: if the patient deceased during the follow-up period (Y/N)"
   ]
  },
  {
   "cell_type": "code",
   "id": "670623cb-0794-4a0a-89dc-2c81241f1459",
   "metadata": {
    "id": "670623cb-0794-4a0a-89dc-2c81241f1459",
    "ExecuteTime": {
     "end_time": "2024-12-21T10:17:00.249700Z",
     "start_time": "2024-12-21T10:17:00.246298Z"
    }
   },
   "source": [
    "import numpy as np\n",
    "import pandas as pd\n",
    "import matplotlib.pyplot as plt\n",
    "import seaborn as sns"
   ],
   "outputs": [],
   "execution_count": 1
  },
  {
   "cell_type": "code",
   "id": "0c1f64e3-28cd-4d98-836b-19fac078c14d",
   "metadata": {
    "colab": {
     "base_uri": "https://localhost:8080/",
     "height": 206
    },
    "id": "0c1f64e3-28cd-4d98-836b-19fac078c14d",
    "executionInfo": {
     "status": "ok",
     "timestamp": 1734637586191,
     "user_tz": -420,
     "elapsed": 325,
     "user": {
      "displayName": "Thammakorn SAETHANG",
      "userId": "08182570455347153646"
     }
    },
    "outputId": "e4c1942f-8506-44bb-fb61-130820f56190",
    "ExecuteTime": {
     "end_time": "2024-12-21T10:17:00.322903Z",
     "start_time": "2024-12-21T10:17:00.256855Z"
    }
   },
   "source": [
    "df = pd.read_csv(\"https://raw.githubusercontent.com/ThammakornS/ProgStat/main/dataset/heart_failure_wNA.csv\")\n",
    "df.head()"
   ],
   "outputs": [
    {
     "data": {
      "text/plain": [
       "    age anaemia  creatinine_phosphokinase diabetes  ejection_fraction  \\\n",
       "0  75.0       N                     582.0        N               20.0   \n",
       "1  55.0       N                       NaN        N               38.0   \n",
       "2  65.0       N                     146.0      NaN               20.0   \n",
       "3  50.0       Y                     111.0        N               20.0   \n",
       "4  65.0       Y                       NaN      NaN               20.0   \n",
       "\n",
       "  high_blood_pressure  platelets  serum_creatinine  serum_sodium sex smoking  \\\n",
       "0                   Y  265000.00               1.9           130   M       N   \n",
       "1                   N  263358.03               1.1           136   M       N   \n",
       "2                   N  162000.00               1.3           129   M       Y   \n",
       "3                   N  210000.00               1.9           137   M       N   \n",
       "4                   N  327000.00               2.7           116   F       N   \n",
       "\n",
       "   time DEATH_EVENT  \n",
       "0   4.0           Y  \n",
       "1   6.0           Y  \n",
       "2   7.0           Y  \n",
       "3   7.0           Y  \n",
       "4   8.0           Y  "
      ],
      "text/html": [
       "<div>\n",
       "<style scoped>\n",
       "    .dataframe tbody tr th:only-of-type {\n",
       "        vertical-align: middle;\n",
       "    }\n",
       "\n",
       "    .dataframe tbody tr th {\n",
       "        vertical-align: top;\n",
       "    }\n",
       "\n",
       "    .dataframe thead th {\n",
       "        text-align: right;\n",
       "    }\n",
       "</style>\n",
       "<table border=\"1\" class=\"dataframe\">\n",
       "  <thead>\n",
       "    <tr style=\"text-align: right;\">\n",
       "      <th></th>\n",
       "      <th>age</th>\n",
       "      <th>anaemia</th>\n",
       "      <th>creatinine_phosphokinase</th>\n",
       "      <th>diabetes</th>\n",
       "      <th>ejection_fraction</th>\n",
       "      <th>high_blood_pressure</th>\n",
       "      <th>platelets</th>\n",
       "      <th>serum_creatinine</th>\n",
       "      <th>serum_sodium</th>\n",
       "      <th>sex</th>\n",
       "      <th>smoking</th>\n",
       "      <th>time</th>\n",
       "      <th>DEATH_EVENT</th>\n",
       "    </tr>\n",
       "  </thead>\n",
       "  <tbody>\n",
       "    <tr>\n",
       "      <th>0</th>\n",
       "      <td>75.0</td>\n",
       "      <td>N</td>\n",
       "      <td>582.0</td>\n",
       "      <td>N</td>\n",
       "      <td>20.0</td>\n",
       "      <td>Y</td>\n",
       "      <td>265000.00</td>\n",
       "      <td>1.9</td>\n",
       "      <td>130</td>\n",
       "      <td>M</td>\n",
       "      <td>N</td>\n",
       "      <td>4.0</td>\n",
       "      <td>Y</td>\n",
       "    </tr>\n",
       "    <tr>\n",
       "      <th>1</th>\n",
       "      <td>55.0</td>\n",
       "      <td>N</td>\n",
       "      <td>NaN</td>\n",
       "      <td>N</td>\n",
       "      <td>38.0</td>\n",
       "      <td>N</td>\n",
       "      <td>263358.03</td>\n",
       "      <td>1.1</td>\n",
       "      <td>136</td>\n",
       "      <td>M</td>\n",
       "      <td>N</td>\n",
       "      <td>6.0</td>\n",
       "      <td>Y</td>\n",
       "    </tr>\n",
       "    <tr>\n",
       "      <th>2</th>\n",
       "      <td>65.0</td>\n",
       "      <td>N</td>\n",
       "      <td>146.0</td>\n",
       "      <td>NaN</td>\n",
       "      <td>20.0</td>\n",
       "      <td>N</td>\n",
       "      <td>162000.00</td>\n",
       "      <td>1.3</td>\n",
       "      <td>129</td>\n",
       "      <td>M</td>\n",
       "      <td>Y</td>\n",
       "      <td>7.0</td>\n",
       "      <td>Y</td>\n",
       "    </tr>\n",
       "    <tr>\n",
       "      <th>3</th>\n",
       "      <td>50.0</td>\n",
       "      <td>Y</td>\n",
       "      <td>111.0</td>\n",
       "      <td>N</td>\n",
       "      <td>20.0</td>\n",
       "      <td>N</td>\n",
       "      <td>210000.00</td>\n",
       "      <td>1.9</td>\n",
       "      <td>137</td>\n",
       "      <td>M</td>\n",
       "      <td>N</td>\n",
       "      <td>7.0</td>\n",
       "      <td>Y</td>\n",
       "    </tr>\n",
       "    <tr>\n",
       "      <th>4</th>\n",
       "      <td>65.0</td>\n",
       "      <td>Y</td>\n",
       "      <td>NaN</td>\n",
       "      <td>NaN</td>\n",
       "      <td>20.0</td>\n",
       "      <td>N</td>\n",
       "      <td>327000.00</td>\n",
       "      <td>2.7</td>\n",
       "      <td>116</td>\n",
       "      <td>F</td>\n",
       "      <td>N</td>\n",
       "      <td>8.0</td>\n",
       "      <td>Y</td>\n",
       "    </tr>\n",
       "  </tbody>\n",
       "</table>\n",
       "</div>"
      ]
     },
     "execution_count": 2,
     "metadata": {},
     "output_type": "execute_result"
    }
   ],
   "execution_count": 2
  },
  {
   "cell_type": "code",
   "id": "4cab40bd-873d-4977-89f5-d25f99c9153d",
   "metadata": {
    "id": "4cab40bd-873d-4977-89f5-d25f99c9153d",
    "outputId": "ca0748a9-b402-497a-b1f5-46a9a6bb9df7",
    "ExecuteTime": {
     "end_time": "2024-12-21T10:17:00.455975Z",
     "start_time": "2024-12-21T10:17:00.451714Z"
    }
   },
   "source": [
    "df.shape"
   ],
   "outputs": [
    {
     "data": {
      "text/plain": [
       "(299, 13)"
      ]
     },
     "execution_count": 3,
     "metadata": {},
     "output_type": "execute_result"
    }
   ],
   "execution_count": 3
  },
  {
   "cell_type": "markdown",
   "id": "cb7738b7-9908-414c-8eb0-92aec4fb2493",
   "metadata": {
    "id": "cb7738b7-9908-414c-8eb0-92aec4fb2493"
   },
   "source": [
    "\\\n",
    "We can see from the result of .info() that there are missing data in several columns.  \n",
    "Also, dtype of some columns should be assigned as \"category\" instead of \"object\"."
   ]
  },
  {
   "cell_type": "code",
   "id": "6a039a15-ad9d-4877-a50a-450289bfc6c4",
   "metadata": {
    "id": "6a039a15-ad9d-4877-a50a-450289bfc6c4",
    "outputId": "70bcb32d-a8a0-4d49-b043-fd7cdeb21d22",
    "ExecuteTime": {
     "end_time": "2024-12-21T10:17:00.514968Z",
     "start_time": "2024-12-21T10:17:00.506897Z"
    }
   },
   "source": [
    "df.info()"
   ],
   "outputs": [
    {
     "name": "stdout",
     "output_type": "stream",
     "text": [
      "<class 'pandas.core.frame.DataFrame'>\n",
      "RangeIndex: 299 entries, 0 to 298\n",
      "Data columns (total 13 columns):\n",
      " #   Column                    Non-Null Count  Dtype  \n",
      "---  ------                    --------------  -----  \n",
      " 0   age                       279 non-null    float64\n",
      " 1   anaemia                   284 non-null    object \n",
      " 2   creatinine_phosphokinase  204 non-null    float64\n",
      " 3   diabetes                  202 non-null    object \n",
      " 4   ejection_fraction         294 non-null    float64\n",
      " 5   high_blood_pressure       291 non-null    object \n",
      " 6   platelets                 287 non-null    float64\n",
      " 7   serum_creatinine          296 non-null    float64\n",
      " 8   serum_sodium              299 non-null    int64  \n",
      " 9   sex                       293 non-null    object \n",
      " 10  smoking                   295 non-null    object \n",
      " 11  time                      297 non-null    float64\n",
      " 12  DEATH_EVENT               299 non-null    object \n",
      "dtypes: float64(6), int64(1), object(6)\n",
      "memory usage: 30.5+ KB\n"
     ]
    }
   ],
   "execution_count": 4
  },
  {
   "cell_type": "markdown",
   "id": "5733429d-0f6d-434b-af2d-e512a7fe2408",
   "metadata": {
    "id": "5733429d-0f6d-434b-af2d-e512a7fe2408"
   },
   "source": [
    "\\\n",
    "Change dtype of some columns to category:"
   ]
  },
  {
   "cell_type": "code",
   "id": "054c330b-7460-4614-9a1c-d3f09065c553",
   "metadata": {
    "id": "054c330b-7460-4614-9a1c-d3f09065c553",
    "outputId": "0eb96c8c-66bd-492d-8091-7b3a71974c2a",
    "ExecuteTime": {
     "end_time": "2024-12-21T10:17:00.631061Z",
     "start_time": "2024-12-21T10:17:00.616533Z"
    }
   },
   "source": [
    "df = df.astype({\n",
    "    'anaemia': 'category',\n",
    "    'diabetes': 'category',\n",
    "    'high_blood_pressure': 'category',\n",
    "    'sex': 'category',\n",
    "    'smoking': 'category',\n",
    "    'DEATH_EVENT': 'category'\n",
    "})\n",
    "df.info()"
   ],
   "outputs": [
    {
     "name": "stdout",
     "output_type": "stream",
     "text": [
      "<class 'pandas.core.frame.DataFrame'>\n",
      "RangeIndex: 299 entries, 0 to 298\n",
      "Data columns (total 13 columns):\n",
      " #   Column                    Non-Null Count  Dtype   \n",
      "---  ------                    --------------  -----   \n",
      " 0   age                       279 non-null    float64 \n",
      " 1   anaemia                   284 non-null    category\n",
      " 2   creatinine_phosphokinase  204 non-null    float64 \n",
      " 3   diabetes                  202 non-null    category\n",
      " 4   ejection_fraction         294 non-null    float64 \n",
      " 5   high_blood_pressure       291 non-null    category\n",
      " 6   platelets                 287 non-null    float64 \n",
      " 7   serum_creatinine          296 non-null    float64 \n",
      " 8   serum_sodium              299 non-null    int64   \n",
      " 9   sex                       293 non-null    category\n",
      " 10  smoking                   295 non-null    category\n",
      " 11  time                      297 non-null    float64 \n",
      " 12  DEATH_EVENT               299 non-null    category\n",
      "dtypes: category(6), float64(6), int64(1)\n",
      "memory usage: 19.0 KB\n"
     ]
    }
   ],
   "execution_count": 5
  },
  {
   "cell_type": "markdown",
   "id": "7c6b9117-2283-4a7e-b6df-9acea2914d82",
   "metadata": {
    "id": "7c6b9117-2283-4a7e-b6df-9acea2914d82"
   },
   "source": [
    "\\\n",
    "Use describe() to show overview of numeric columns:"
   ]
  },
  {
   "cell_type": "code",
   "id": "3157b5a7-95e9-4080-9b36-51f79ea22b57",
   "metadata": {
    "id": "3157b5a7-95e9-4080-9b36-51f79ea22b57",
    "outputId": "8be5c8cd-b1bd-4925-8fb7-7311b2c88c09",
    "ExecuteTime": {
     "end_time": "2024-12-21T10:17:00.733200Z",
     "start_time": "2024-12-21T10:17:00.717222Z"
    }
   },
   "source": [
    "df.describe()"
   ],
   "outputs": [
    {
     "data": {
      "text/plain": [
       "              age  creatinine_phosphokinase  ejection_fraction      platelets  \\\n",
       "count  279.000000                204.000000         294.000000     287.000000   \n",
       "mean    60.900839                530.362745          38.081633  263072.100070   \n",
       "std     11.959235                918.805310          11.904346   99246.954728   \n",
       "min     40.000000                 23.000000          14.000000   25100.000000   \n",
       "25%     51.000000                110.750000          30.000000  211500.000000   \n",
       "50%     60.000000                227.500000          38.000000  260000.000000   \n",
       "75%     70.000000                582.000000          45.000000  304000.000000   \n",
       "max     95.000000               7702.000000          80.000000  850000.000000   \n",
       "\n",
       "       serum_creatinine  serum_sodium        time  \n",
       "count        296.000000    299.000000  297.000000  \n",
       "mean           1.389088    136.625418  130.501684  \n",
       "std            1.032093      4.412477   77.704878  \n",
       "min            0.500000    113.000000    4.000000  \n",
       "25%            0.900000    134.000000   73.000000  \n",
       "50%            1.100000    137.000000  115.000000  \n",
       "75%            1.400000    140.000000  205.000000  \n",
       "max            9.400000    148.000000  285.000000  "
      ],
      "text/html": [
       "<div>\n",
       "<style scoped>\n",
       "    .dataframe tbody tr th:only-of-type {\n",
       "        vertical-align: middle;\n",
       "    }\n",
       "\n",
       "    .dataframe tbody tr th {\n",
       "        vertical-align: top;\n",
       "    }\n",
       "\n",
       "    .dataframe thead th {\n",
       "        text-align: right;\n",
       "    }\n",
       "</style>\n",
       "<table border=\"1\" class=\"dataframe\">\n",
       "  <thead>\n",
       "    <tr style=\"text-align: right;\">\n",
       "      <th></th>\n",
       "      <th>age</th>\n",
       "      <th>creatinine_phosphokinase</th>\n",
       "      <th>ejection_fraction</th>\n",
       "      <th>platelets</th>\n",
       "      <th>serum_creatinine</th>\n",
       "      <th>serum_sodium</th>\n",
       "      <th>time</th>\n",
       "    </tr>\n",
       "  </thead>\n",
       "  <tbody>\n",
       "    <tr>\n",
       "      <th>count</th>\n",
       "      <td>279.000000</td>\n",
       "      <td>204.000000</td>\n",
       "      <td>294.000000</td>\n",
       "      <td>287.000000</td>\n",
       "      <td>296.000000</td>\n",
       "      <td>299.000000</td>\n",
       "      <td>297.000000</td>\n",
       "    </tr>\n",
       "    <tr>\n",
       "      <th>mean</th>\n",
       "      <td>60.900839</td>\n",
       "      <td>530.362745</td>\n",
       "      <td>38.081633</td>\n",
       "      <td>263072.100070</td>\n",
       "      <td>1.389088</td>\n",
       "      <td>136.625418</td>\n",
       "      <td>130.501684</td>\n",
       "    </tr>\n",
       "    <tr>\n",
       "      <th>std</th>\n",
       "      <td>11.959235</td>\n",
       "      <td>918.805310</td>\n",
       "      <td>11.904346</td>\n",
       "      <td>99246.954728</td>\n",
       "      <td>1.032093</td>\n",
       "      <td>4.412477</td>\n",
       "      <td>77.704878</td>\n",
       "    </tr>\n",
       "    <tr>\n",
       "      <th>min</th>\n",
       "      <td>40.000000</td>\n",
       "      <td>23.000000</td>\n",
       "      <td>14.000000</td>\n",
       "      <td>25100.000000</td>\n",
       "      <td>0.500000</td>\n",
       "      <td>113.000000</td>\n",
       "      <td>4.000000</td>\n",
       "    </tr>\n",
       "    <tr>\n",
       "      <th>25%</th>\n",
       "      <td>51.000000</td>\n",
       "      <td>110.750000</td>\n",
       "      <td>30.000000</td>\n",
       "      <td>211500.000000</td>\n",
       "      <td>0.900000</td>\n",
       "      <td>134.000000</td>\n",
       "      <td>73.000000</td>\n",
       "    </tr>\n",
       "    <tr>\n",
       "      <th>50%</th>\n",
       "      <td>60.000000</td>\n",
       "      <td>227.500000</td>\n",
       "      <td>38.000000</td>\n",
       "      <td>260000.000000</td>\n",
       "      <td>1.100000</td>\n",
       "      <td>137.000000</td>\n",
       "      <td>115.000000</td>\n",
       "    </tr>\n",
       "    <tr>\n",
       "      <th>75%</th>\n",
       "      <td>70.000000</td>\n",
       "      <td>582.000000</td>\n",
       "      <td>45.000000</td>\n",
       "      <td>304000.000000</td>\n",
       "      <td>1.400000</td>\n",
       "      <td>140.000000</td>\n",
       "      <td>205.000000</td>\n",
       "    </tr>\n",
       "    <tr>\n",
       "      <th>max</th>\n",
       "      <td>95.000000</td>\n",
       "      <td>7702.000000</td>\n",
       "      <td>80.000000</td>\n",
       "      <td>850000.000000</td>\n",
       "      <td>9.400000</td>\n",
       "      <td>148.000000</td>\n",
       "      <td>285.000000</td>\n",
       "    </tr>\n",
       "  </tbody>\n",
       "</table>\n",
       "</div>"
      ]
     },
     "execution_count": 6,
     "metadata": {},
     "output_type": "execute_result"
    }
   ],
   "execution_count": 6
  },
  {
   "cell_type": "markdown",
   "id": "cf35eca6-af62-4ce8-8bf0-8eb1738fa9cd",
   "metadata": {
    "id": "cf35eca6-af62-4ce8-8bf0-8eb1738fa9cd"
   },
   "source": [
    "\\\n",
    "You can also change dtype of some numeric columns if high precision of decimal numbers is not required.  \n",
    "For example, the age column."
   ]
  },
  {
   "cell_type": "code",
   "id": "7f8333f6-4272-4635-843f-7241f36151cf",
   "metadata": {
    "id": "7f8333f6-4272-4635-843f-7241f36151cf",
    "outputId": "747a09f2-05ba-4f69-a8fe-0dcae5f428ea",
    "ExecuteTime": {
     "end_time": "2024-12-21T10:17:00.807596Z",
     "start_time": "2024-12-21T10:17:00.791958Z"
    }
   },
   "source": [
    "# default float / int is float64 / int64 (64bit)\n",
    "# for this scenario we can use float16 / int16 (16bit) to save memory\n",
    "df = df.astype({\n",
    "    'age': 'float16',\n",
    "    'ejection_fraction': 'float16',\n",
    "    'serum_creatinine': 'float16',\n",
    "    'serum_sodium': 'int16'\n",
    "})\n",
    "df.head()"
   ],
   "outputs": [
    {
     "data": {
      "text/plain": [
       "    age anaemia  creatinine_phosphokinase diabetes  ejection_fraction  \\\n",
       "0  75.0       N                     582.0        N               20.0   \n",
       "1  55.0       N                       NaN        N               38.0   \n",
       "2  65.0       N                     146.0      NaN               20.0   \n",
       "3  50.0       Y                     111.0        N               20.0   \n",
       "4  65.0       Y                       NaN      NaN               20.0   \n",
       "\n",
       "  high_blood_pressure  platelets  serum_creatinine  serum_sodium sex smoking  \\\n",
       "0                   Y  265000.00          1.900391           130   M       N   \n",
       "1                   N  263358.03          1.099609           136   M       N   \n",
       "2                   N  162000.00          1.299805           129   M       Y   \n",
       "3                   N  210000.00          1.900391           137   M       N   \n",
       "4                   N  327000.00          2.699219           116   F       N   \n",
       "\n",
       "   time DEATH_EVENT  \n",
       "0   4.0           Y  \n",
       "1   6.0           Y  \n",
       "2   7.0           Y  \n",
       "3   7.0           Y  \n",
       "4   8.0           Y  "
      ],
      "text/html": [
       "<div>\n",
       "<style scoped>\n",
       "    .dataframe tbody tr th:only-of-type {\n",
       "        vertical-align: middle;\n",
       "    }\n",
       "\n",
       "    .dataframe tbody tr th {\n",
       "        vertical-align: top;\n",
       "    }\n",
       "\n",
       "    .dataframe thead th {\n",
       "        text-align: right;\n",
       "    }\n",
       "</style>\n",
       "<table border=\"1\" class=\"dataframe\">\n",
       "  <thead>\n",
       "    <tr style=\"text-align: right;\">\n",
       "      <th></th>\n",
       "      <th>age</th>\n",
       "      <th>anaemia</th>\n",
       "      <th>creatinine_phosphokinase</th>\n",
       "      <th>diabetes</th>\n",
       "      <th>ejection_fraction</th>\n",
       "      <th>high_blood_pressure</th>\n",
       "      <th>platelets</th>\n",
       "      <th>serum_creatinine</th>\n",
       "      <th>serum_sodium</th>\n",
       "      <th>sex</th>\n",
       "      <th>smoking</th>\n",
       "      <th>time</th>\n",
       "      <th>DEATH_EVENT</th>\n",
       "    </tr>\n",
       "  </thead>\n",
       "  <tbody>\n",
       "    <tr>\n",
       "      <th>0</th>\n",
       "      <td>75.0</td>\n",
       "      <td>N</td>\n",
       "      <td>582.0</td>\n",
       "      <td>N</td>\n",
       "      <td>20.0</td>\n",
       "      <td>Y</td>\n",
       "      <td>265000.00</td>\n",
       "      <td>1.900391</td>\n",
       "      <td>130</td>\n",
       "      <td>M</td>\n",
       "      <td>N</td>\n",
       "      <td>4.0</td>\n",
       "      <td>Y</td>\n",
       "    </tr>\n",
       "    <tr>\n",
       "      <th>1</th>\n",
       "      <td>55.0</td>\n",
       "      <td>N</td>\n",
       "      <td>NaN</td>\n",
       "      <td>N</td>\n",
       "      <td>38.0</td>\n",
       "      <td>N</td>\n",
       "      <td>263358.03</td>\n",
       "      <td>1.099609</td>\n",
       "      <td>136</td>\n",
       "      <td>M</td>\n",
       "      <td>N</td>\n",
       "      <td>6.0</td>\n",
       "      <td>Y</td>\n",
       "    </tr>\n",
       "    <tr>\n",
       "      <th>2</th>\n",
       "      <td>65.0</td>\n",
       "      <td>N</td>\n",
       "      <td>146.0</td>\n",
       "      <td>NaN</td>\n",
       "      <td>20.0</td>\n",
       "      <td>N</td>\n",
       "      <td>162000.00</td>\n",
       "      <td>1.299805</td>\n",
       "      <td>129</td>\n",
       "      <td>M</td>\n",
       "      <td>Y</td>\n",
       "      <td>7.0</td>\n",
       "      <td>Y</td>\n",
       "    </tr>\n",
       "    <tr>\n",
       "      <th>3</th>\n",
       "      <td>50.0</td>\n",
       "      <td>Y</td>\n",
       "      <td>111.0</td>\n",
       "      <td>N</td>\n",
       "      <td>20.0</td>\n",
       "      <td>N</td>\n",
       "      <td>210000.00</td>\n",
       "      <td>1.900391</td>\n",
       "      <td>137</td>\n",
       "      <td>M</td>\n",
       "      <td>N</td>\n",
       "      <td>7.0</td>\n",
       "      <td>Y</td>\n",
       "    </tr>\n",
       "    <tr>\n",
       "      <th>4</th>\n",
       "      <td>65.0</td>\n",
       "      <td>Y</td>\n",
       "      <td>NaN</td>\n",
       "      <td>NaN</td>\n",
       "      <td>20.0</td>\n",
       "      <td>N</td>\n",
       "      <td>327000.00</td>\n",
       "      <td>2.699219</td>\n",
       "      <td>116</td>\n",
       "      <td>F</td>\n",
       "      <td>N</td>\n",
       "      <td>8.0</td>\n",
       "      <td>Y</td>\n",
       "    </tr>\n",
       "  </tbody>\n",
       "</table>\n",
       "</div>"
      ]
     },
     "execution_count": 7,
     "metadata": {},
     "output_type": "execute_result"
    }
   ],
   "execution_count": 7
  },
  {
   "cell_type": "markdown",
   "id": "57710367-b0a9-46da-8612-d0bc51584275",
   "metadata": {
    "id": "57710367-b0a9-46da-8612-d0bc51584275"
   },
   "source": [
    "What the number '16' after float means?  \n",
    "Let's see precision & float dtypes:"
   ]
  },
  {
   "cell_type": "code",
   "id": "e0e0dc04-5154-4d0a-a968-07e7cd7f4939",
   "metadata": {
    "id": "e0e0dc04-5154-4d0a-a968-07e7cd7f4939",
    "outputId": "1a0bce09-403a-40ba-ea8a-88cb23c4c9dc",
    "ExecuteTime": {
     "end_time": "2024-12-21T10:17:00.914204Z",
     "start_time": "2024-12-21T10:17:00.906883Z"
    }
   },
   "source": [
    "print(np.array([12.1234567891023], dtype=np.float16))\n",
    "print(np.array([12.1234567891023], dtype=np.float32))\n",
    "print(np.array([12.1234567891023], dtype=np.float64))"
   ],
   "outputs": [
    {
     "name": "stdout",
     "output_type": "stream",
     "text": [
      "[12.125]\n",
      "[12.123457]\n",
      "[12.12345679]\n"
     ]
    }
   ],
   "execution_count": 8
  },
  {
   "cell_type": "markdown",
   "id": "ce05f4b2-3f8c-40c1-b2c0-0e2f272d9fe2",
   "metadata": {
    "id": "ce05f4b2-3f8c-40c1-b2c0-0e2f272d9fe2"
   },
   "source": [
    "\\\n",
    "We can use the argument include='all' in .describe() to show frequencies in categorical columns."
   ]
  },
  {
   "cell_type": "code",
   "id": "333208d8-c659-4628-9878-6a1d70167911",
   "metadata": {
    "id": "333208d8-c659-4628-9878-6a1d70167911",
    "outputId": "5554441c-954c-4fa9-f0b9-9d7d4fe60e9f",
    "ExecuteTime": {
     "end_time": "2024-12-21T10:17:01.068709Z",
     "start_time": "2024-12-21T10:17:01.036272Z"
    }
   },
   "source": [
    "df.describe(include='all')"
   ],
   "outputs": [
    {
     "data": {
      "text/plain": [
       "               age anaemia  creatinine_phosphokinase diabetes  \\\n",
       "count   279.000000     284                204.000000      202   \n",
       "unique         NaN       2                       NaN        2   \n",
       "top            NaN       N                       NaN        N   \n",
       "freq           NaN     161                       NaN      120   \n",
       "mean     60.906250     NaN                530.362745      NaN   \n",
       "std      11.960938     NaN                918.805310      NaN   \n",
       "min      40.000000     NaN                 23.000000      NaN   \n",
       "25%      51.000000     NaN                110.750000      NaN   \n",
       "50%      60.000000     NaN                227.500000      NaN   \n",
       "75%      70.000000     NaN                582.000000      NaN   \n",
       "max      95.000000     NaN               7702.000000      NaN   \n",
       "\n",
       "        ejection_fraction high_blood_pressure      platelets  \\\n",
       "count           294.00000                 291     287.000000   \n",
       "unique                NaN                   2            NaN   \n",
       "top                   NaN                   N            NaN   \n",
       "freq                  NaN                 189            NaN   \n",
       "mean             38.09375                 NaN  263072.100070   \n",
       "std              11.90625                 NaN   99246.954728   \n",
       "min              14.00000                 NaN   25100.000000   \n",
       "25%              30.00000                 NaN  211500.000000   \n",
       "50%              38.00000                 NaN  260000.000000   \n",
       "75%              45.00000                 NaN  304000.000000   \n",
       "max              80.00000                 NaN  850000.000000   \n",
       "\n",
       "        serum_creatinine  serum_sodium  sex smoking        time DEATH_EVENT  \n",
       "count         296.000000    299.000000  293     295  297.000000         299  \n",
       "unique               NaN           NaN    2       2         NaN           2  \n",
       "top                  NaN           NaN    M       N         NaN           N  \n",
       "freq                 NaN           NaN  190     201         NaN         203  \n",
       "mean            1.389648    136.625418  NaN     NaN  130.501684         NaN  \n",
       "std             1.032227      4.412477  NaN     NaN   77.704878         NaN  \n",
       "min             0.500000    113.000000  NaN     NaN    4.000000         NaN  \n",
       "25%             0.899902    134.000000  NaN     NaN   73.000000         NaN  \n",
       "50%             1.099609    137.000000  NaN     NaN  115.000000         NaN  \n",
       "75%             1.400391    140.000000  NaN     NaN  205.000000         NaN  \n",
       "max             9.398438    148.000000  NaN     NaN  285.000000         NaN  "
      ],
      "text/html": [
       "<div>\n",
       "<style scoped>\n",
       "    .dataframe tbody tr th:only-of-type {\n",
       "        vertical-align: middle;\n",
       "    }\n",
       "\n",
       "    .dataframe tbody tr th {\n",
       "        vertical-align: top;\n",
       "    }\n",
       "\n",
       "    .dataframe thead th {\n",
       "        text-align: right;\n",
       "    }\n",
       "</style>\n",
       "<table border=\"1\" class=\"dataframe\">\n",
       "  <thead>\n",
       "    <tr style=\"text-align: right;\">\n",
       "      <th></th>\n",
       "      <th>age</th>\n",
       "      <th>anaemia</th>\n",
       "      <th>creatinine_phosphokinase</th>\n",
       "      <th>diabetes</th>\n",
       "      <th>ejection_fraction</th>\n",
       "      <th>high_blood_pressure</th>\n",
       "      <th>platelets</th>\n",
       "      <th>serum_creatinine</th>\n",
       "      <th>serum_sodium</th>\n",
       "      <th>sex</th>\n",
       "      <th>smoking</th>\n",
       "      <th>time</th>\n",
       "      <th>DEATH_EVENT</th>\n",
       "    </tr>\n",
       "  </thead>\n",
       "  <tbody>\n",
       "    <tr>\n",
       "      <th>count</th>\n",
       "      <td>279.000000</td>\n",
       "      <td>284</td>\n",
       "      <td>204.000000</td>\n",
       "      <td>202</td>\n",
       "      <td>294.00000</td>\n",
       "      <td>291</td>\n",
       "      <td>287.000000</td>\n",
       "      <td>296.000000</td>\n",
       "      <td>299.000000</td>\n",
       "      <td>293</td>\n",
       "      <td>295</td>\n",
       "      <td>297.000000</td>\n",
       "      <td>299</td>\n",
       "    </tr>\n",
       "    <tr>\n",
       "      <th>unique</th>\n",
       "      <td>NaN</td>\n",
       "      <td>2</td>\n",
       "      <td>NaN</td>\n",
       "      <td>2</td>\n",
       "      <td>NaN</td>\n",
       "      <td>2</td>\n",
       "      <td>NaN</td>\n",
       "      <td>NaN</td>\n",
       "      <td>NaN</td>\n",
       "      <td>2</td>\n",
       "      <td>2</td>\n",
       "      <td>NaN</td>\n",
       "      <td>2</td>\n",
       "    </tr>\n",
       "    <tr>\n",
       "      <th>top</th>\n",
       "      <td>NaN</td>\n",
       "      <td>N</td>\n",
       "      <td>NaN</td>\n",
       "      <td>N</td>\n",
       "      <td>NaN</td>\n",
       "      <td>N</td>\n",
       "      <td>NaN</td>\n",
       "      <td>NaN</td>\n",
       "      <td>NaN</td>\n",
       "      <td>M</td>\n",
       "      <td>N</td>\n",
       "      <td>NaN</td>\n",
       "      <td>N</td>\n",
       "    </tr>\n",
       "    <tr>\n",
       "      <th>freq</th>\n",
       "      <td>NaN</td>\n",
       "      <td>161</td>\n",
       "      <td>NaN</td>\n",
       "      <td>120</td>\n",
       "      <td>NaN</td>\n",
       "      <td>189</td>\n",
       "      <td>NaN</td>\n",
       "      <td>NaN</td>\n",
       "      <td>NaN</td>\n",
       "      <td>190</td>\n",
       "      <td>201</td>\n",
       "      <td>NaN</td>\n",
       "      <td>203</td>\n",
       "    </tr>\n",
       "    <tr>\n",
       "      <th>mean</th>\n",
       "      <td>60.906250</td>\n",
       "      <td>NaN</td>\n",
       "      <td>530.362745</td>\n",
       "      <td>NaN</td>\n",
       "      <td>38.09375</td>\n",
       "      <td>NaN</td>\n",
       "      <td>263072.100070</td>\n",
       "      <td>1.389648</td>\n",
       "      <td>136.625418</td>\n",
       "      <td>NaN</td>\n",
       "      <td>NaN</td>\n",
       "      <td>130.501684</td>\n",
       "      <td>NaN</td>\n",
       "    </tr>\n",
       "    <tr>\n",
       "      <th>std</th>\n",
       "      <td>11.960938</td>\n",
       "      <td>NaN</td>\n",
       "      <td>918.805310</td>\n",
       "      <td>NaN</td>\n",
       "      <td>11.90625</td>\n",
       "      <td>NaN</td>\n",
       "      <td>99246.954728</td>\n",
       "      <td>1.032227</td>\n",
       "      <td>4.412477</td>\n",
       "      <td>NaN</td>\n",
       "      <td>NaN</td>\n",
       "      <td>77.704878</td>\n",
       "      <td>NaN</td>\n",
       "    </tr>\n",
       "    <tr>\n",
       "      <th>min</th>\n",
       "      <td>40.000000</td>\n",
       "      <td>NaN</td>\n",
       "      <td>23.000000</td>\n",
       "      <td>NaN</td>\n",
       "      <td>14.00000</td>\n",
       "      <td>NaN</td>\n",
       "      <td>25100.000000</td>\n",
       "      <td>0.500000</td>\n",
       "      <td>113.000000</td>\n",
       "      <td>NaN</td>\n",
       "      <td>NaN</td>\n",
       "      <td>4.000000</td>\n",
       "      <td>NaN</td>\n",
       "    </tr>\n",
       "    <tr>\n",
       "      <th>25%</th>\n",
       "      <td>51.000000</td>\n",
       "      <td>NaN</td>\n",
       "      <td>110.750000</td>\n",
       "      <td>NaN</td>\n",
       "      <td>30.00000</td>\n",
       "      <td>NaN</td>\n",
       "      <td>211500.000000</td>\n",
       "      <td>0.899902</td>\n",
       "      <td>134.000000</td>\n",
       "      <td>NaN</td>\n",
       "      <td>NaN</td>\n",
       "      <td>73.000000</td>\n",
       "      <td>NaN</td>\n",
       "    </tr>\n",
       "    <tr>\n",
       "      <th>50%</th>\n",
       "      <td>60.000000</td>\n",
       "      <td>NaN</td>\n",
       "      <td>227.500000</td>\n",
       "      <td>NaN</td>\n",
       "      <td>38.00000</td>\n",
       "      <td>NaN</td>\n",
       "      <td>260000.000000</td>\n",
       "      <td>1.099609</td>\n",
       "      <td>137.000000</td>\n",
       "      <td>NaN</td>\n",
       "      <td>NaN</td>\n",
       "      <td>115.000000</td>\n",
       "      <td>NaN</td>\n",
       "    </tr>\n",
       "    <tr>\n",
       "      <th>75%</th>\n",
       "      <td>70.000000</td>\n",
       "      <td>NaN</td>\n",
       "      <td>582.000000</td>\n",
       "      <td>NaN</td>\n",
       "      <td>45.00000</td>\n",
       "      <td>NaN</td>\n",
       "      <td>304000.000000</td>\n",
       "      <td>1.400391</td>\n",
       "      <td>140.000000</td>\n",
       "      <td>NaN</td>\n",
       "      <td>NaN</td>\n",
       "      <td>205.000000</td>\n",
       "      <td>NaN</td>\n",
       "    </tr>\n",
       "    <tr>\n",
       "      <th>max</th>\n",
       "      <td>95.000000</td>\n",
       "      <td>NaN</td>\n",
       "      <td>7702.000000</td>\n",
       "      <td>NaN</td>\n",
       "      <td>80.00000</td>\n",
       "      <td>NaN</td>\n",
       "      <td>850000.000000</td>\n",
       "      <td>9.398438</td>\n",
       "      <td>148.000000</td>\n",
       "      <td>NaN</td>\n",
       "      <td>NaN</td>\n",
       "      <td>285.000000</td>\n",
       "      <td>NaN</td>\n",
       "    </tr>\n",
       "  </tbody>\n",
       "</table>\n",
       "</div>"
      ]
     },
     "execution_count": 9,
     "metadata": {},
     "output_type": "execute_result"
    }
   ],
   "execution_count": 9
  },
  {
   "cell_type": "markdown",
   "id": "4e54d62e-259b-48df-a59b-682e785f12e4",
   "metadata": {
    "id": "4e54d62e-259b-48df-a59b-682e785f12e4"
   },
   "source": [
    "&nbsp;  \n",
    "#### <font color=\"#127C02\">*Dealing with missing data*</font>"
   ]
  },
  {
   "cell_type": "markdown",
   "id": "d1c05bcc-5139-4641-8e75-b42933512e4d",
   "metadata": {
    "id": "d1c05bcc-5139-4641-8e75-b42933512e4d"
   },
   "source": [
    "\\\n",
    "<font color=\"#029DA3\">**Check for missing values**</font>"
   ]
  },
  {
   "cell_type": "markdown",
   "id": "e69f4397-dc0d-4d29-a8a7-763477ae920c",
   "metadata": {
    "id": "e69f4397-dc0d-4d29-a8a7-763477ae920c"
   },
   "source": [
    "The .isnull() return True if a value is missing.  "
   ]
  },
  {
   "cell_type": "code",
   "id": "9b4d0a42-268a-4b30-bc47-5ceb110dead4",
   "metadata": {
    "tags": [],
    "id": "9b4d0a42-268a-4b30-bc47-5ceb110dead4",
    "outputId": "dddb0fdc-e9d5-42b2-86cf-362e03f722a6",
    "ExecuteTime": {
     "end_time": "2024-12-21T10:17:01.190071Z",
     "start_time": "2024-12-21T10:17:01.174969Z"
    }
   },
   "source": [
    "df.isnull()"
   ],
   "outputs": [
    {
     "data": {
      "text/plain": [
       "       age  anaemia  creatinine_phosphokinase  diabetes  ejection_fraction  \\\n",
       "0    False    False                     False     False              False   \n",
       "1    False    False                      True     False              False   \n",
       "2    False    False                     False      True              False   \n",
       "3    False    False                     False     False              False   \n",
       "4    False    False                      True      True              False   \n",
       "..     ...      ...                       ...       ...                ...   \n",
       "294  False    False                     False     False              False   \n",
       "295  False    False                     False      True               True   \n",
       "296  False    False                      True      True              False   \n",
       "297  False    False                     False     False              False   \n",
       "298   True    False                     False     False              False   \n",
       "\n",
       "     high_blood_pressure  platelets  serum_creatinine  serum_sodium    sex  \\\n",
       "0                  False      False             False         False  False   \n",
       "1                  False      False             False         False  False   \n",
       "2                  False      False             False         False  False   \n",
       "3                  False      False             False         False  False   \n",
       "4                  False      False             False         False  False   \n",
       "..                   ...        ...               ...           ...    ...   \n",
       "294                False      False             False         False  False   \n",
       "295                False      False             False         False  False   \n",
       "296                False      False             False         False  False   \n",
       "297                False      False             False         False  False   \n",
       "298                False      False             False         False  False   \n",
       "\n",
       "     smoking   time  DEATH_EVENT  \n",
       "0      False  False        False  \n",
       "1      False  False        False  \n",
       "2      False  False        False  \n",
       "3      False  False        False  \n",
       "4      False  False        False  \n",
       "..       ...    ...          ...  \n",
       "294    False  False        False  \n",
       "295    False  False        False  \n",
       "296    False  False        False  \n",
       "297    False  False        False  \n",
       "298    False  False        False  \n",
       "\n",
       "[299 rows x 13 columns]"
      ],
      "text/html": [
       "<div>\n",
       "<style scoped>\n",
       "    .dataframe tbody tr th:only-of-type {\n",
       "        vertical-align: middle;\n",
       "    }\n",
       "\n",
       "    .dataframe tbody tr th {\n",
       "        vertical-align: top;\n",
       "    }\n",
       "\n",
       "    .dataframe thead th {\n",
       "        text-align: right;\n",
       "    }\n",
       "</style>\n",
       "<table border=\"1\" class=\"dataframe\">\n",
       "  <thead>\n",
       "    <tr style=\"text-align: right;\">\n",
       "      <th></th>\n",
       "      <th>age</th>\n",
       "      <th>anaemia</th>\n",
       "      <th>creatinine_phosphokinase</th>\n",
       "      <th>diabetes</th>\n",
       "      <th>ejection_fraction</th>\n",
       "      <th>high_blood_pressure</th>\n",
       "      <th>platelets</th>\n",
       "      <th>serum_creatinine</th>\n",
       "      <th>serum_sodium</th>\n",
       "      <th>sex</th>\n",
       "      <th>smoking</th>\n",
       "      <th>time</th>\n",
       "      <th>DEATH_EVENT</th>\n",
       "    </tr>\n",
       "  </thead>\n",
       "  <tbody>\n",
       "    <tr>\n",
       "      <th>0</th>\n",
       "      <td>False</td>\n",
       "      <td>False</td>\n",
       "      <td>False</td>\n",
       "      <td>False</td>\n",
       "      <td>False</td>\n",
       "      <td>False</td>\n",
       "      <td>False</td>\n",
       "      <td>False</td>\n",
       "      <td>False</td>\n",
       "      <td>False</td>\n",
       "      <td>False</td>\n",
       "      <td>False</td>\n",
       "      <td>False</td>\n",
       "    </tr>\n",
       "    <tr>\n",
       "      <th>1</th>\n",
       "      <td>False</td>\n",
       "      <td>False</td>\n",
       "      <td>True</td>\n",
       "      <td>False</td>\n",
       "      <td>False</td>\n",
       "      <td>False</td>\n",
       "      <td>False</td>\n",
       "      <td>False</td>\n",
       "      <td>False</td>\n",
       "      <td>False</td>\n",
       "      <td>False</td>\n",
       "      <td>False</td>\n",
       "      <td>False</td>\n",
       "    </tr>\n",
       "    <tr>\n",
       "      <th>2</th>\n",
       "      <td>False</td>\n",
       "      <td>False</td>\n",
       "      <td>False</td>\n",
       "      <td>True</td>\n",
       "      <td>False</td>\n",
       "      <td>False</td>\n",
       "      <td>False</td>\n",
       "      <td>False</td>\n",
       "      <td>False</td>\n",
       "      <td>False</td>\n",
       "      <td>False</td>\n",
       "      <td>False</td>\n",
       "      <td>False</td>\n",
       "    </tr>\n",
       "    <tr>\n",
       "      <th>3</th>\n",
       "      <td>False</td>\n",
       "      <td>False</td>\n",
       "      <td>False</td>\n",
       "      <td>False</td>\n",
       "      <td>False</td>\n",
       "      <td>False</td>\n",
       "      <td>False</td>\n",
       "      <td>False</td>\n",
       "      <td>False</td>\n",
       "      <td>False</td>\n",
       "      <td>False</td>\n",
       "      <td>False</td>\n",
       "      <td>False</td>\n",
       "    </tr>\n",
       "    <tr>\n",
       "      <th>4</th>\n",
       "      <td>False</td>\n",
       "      <td>False</td>\n",
       "      <td>True</td>\n",
       "      <td>True</td>\n",
       "      <td>False</td>\n",
       "      <td>False</td>\n",
       "      <td>False</td>\n",
       "      <td>False</td>\n",
       "      <td>False</td>\n",
       "      <td>False</td>\n",
       "      <td>False</td>\n",
       "      <td>False</td>\n",
       "      <td>False</td>\n",
       "    </tr>\n",
       "    <tr>\n",
       "      <th>...</th>\n",
       "      <td>...</td>\n",
       "      <td>...</td>\n",
       "      <td>...</td>\n",
       "      <td>...</td>\n",
       "      <td>...</td>\n",
       "      <td>...</td>\n",
       "      <td>...</td>\n",
       "      <td>...</td>\n",
       "      <td>...</td>\n",
       "      <td>...</td>\n",
       "      <td>...</td>\n",
       "      <td>...</td>\n",
       "      <td>...</td>\n",
       "    </tr>\n",
       "    <tr>\n",
       "      <th>294</th>\n",
       "      <td>False</td>\n",
       "      <td>False</td>\n",
       "      <td>False</td>\n",
       "      <td>False</td>\n",
       "      <td>False</td>\n",
       "      <td>False</td>\n",
       "      <td>False</td>\n",
       "      <td>False</td>\n",
       "      <td>False</td>\n",
       "      <td>False</td>\n",
       "      <td>False</td>\n",
       "      <td>False</td>\n",
       "      <td>False</td>\n",
       "    </tr>\n",
       "    <tr>\n",
       "      <th>295</th>\n",
       "      <td>False</td>\n",
       "      <td>False</td>\n",
       "      <td>False</td>\n",
       "      <td>True</td>\n",
       "      <td>True</td>\n",
       "      <td>False</td>\n",
       "      <td>False</td>\n",
       "      <td>False</td>\n",
       "      <td>False</td>\n",
       "      <td>False</td>\n",
       "      <td>False</td>\n",
       "      <td>False</td>\n",
       "      <td>False</td>\n",
       "    </tr>\n",
       "    <tr>\n",
       "      <th>296</th>\n",
       "      <td>False</td>\n",
       "      <td>False</td>\n",
       "      <td>True</td>\n",
       "      <td>True</td>\n",
       "      <td>False</td>\n",
       "      <td>False</td>\n",
       "      <td>False</td>\n",
       "      <td>False</td>\n",
       "      <td>False</td>\n",
       "      <td>False</td>\n",
       "      <td>False</td>\n",
       "      <td>False</td>\n",
       "      <td>False</td>\n",
       "    </tr>\n",
       "    <tr>\n",
       "      <th>297</th>\n",
       "      <td>False</td>\n",
       "      <td>False</td>\n",
       "      <td>False</td>\n",
       "      <td>False</td>\n",
       "      <td>False</td>\n",
       "      <td>False</td>\n",
       "      <td>False</td>\n",
       "      <td>False</td>\n",
       "      <td>False</td>\n",
       "      <td>False</td>\n",
       "      <td>False</td>\n",
       "      <td>False</td>\n",
       "      <td>False</td>\n",
       "    </tr>\n",
       "    <tr>\n",
       "      <th>298</th>\n",
       "      <td>True</td>\n",
       "      <td>False</td>\n",
       "      <td>False</td>\n",
       "      <td>False</td>\n",
       "      <td>False</td>\n",
       "      <td>False</td>\n",
       "      <td>False</td>\n",
       "      <td>False</td>\n",
       "      <td>False</td>\n",
       "      <td>False</td>\n",
       "      <td>False</td>\n",
       "      <td>False</td>\n",
       "      <td>False</td>\n",
       "    </tr>\n",
       "  </tbody>\n",
       "</table>\n",
       "<p>299 rows × 13 columns</p>\n",
       "</div>"
      ]
     },
     "execution_count": 10,
     "metadata": {},
     "output_type": "execute_result"
    }
   ],
   "execution_count": 10
  },
  {
   "cell_type": "markdown",
   "id": "0033a6ee-86f2-47a5-b4ad-0ec4cb6c4649",
   "metadata": {
    "id": "0033a6ee-86f2-47a5-b4ad-0ec4cb6c4649"
   },
   "source": [
    "\\\n",
    "To check which column contains ANY missing value:"
   ]
  },
  {
   "cell_type": "code",
   "id": "ea09b719-1323-446e-940d-a10cf577a14c",
   "metadata": {
    "id": "ea09b719-1323-446e-940d-a10cf577a14c",
    "outputId": "ad7fdcf4-2ce4-44cd-bcff-251c7b94d041",
    "ExecuteTime": {
     "end_time": "2024-12-21T10:17:01.363777Z",
     "start_time": "2024-12-21T10:17:01.357551Z"
    }
   },
   "source": [
    "df.isnull().any()"
   ],
   "outputs": [
    {
     "data": {
      "text/plain": [
       "age                          True\n",
       "anaemia                      True\n",
       "creatinine_phosphokinase     True\n",
       "diabetes                     True\n",
       "ejection_fraction            True\n",
       "high_blood_pressure          True\n",
       "platelets                    True\n",
       "serum_creatinine             True\n",
       "serum_sodium                False\n",
       "sex                          True\n",
       "smoking                      True\n",
       "time                         True\n",
       "DEATH_EVENT                 False\n",
       "dtype: bool"
      ]
     },
     "execution_count": 11,
     "metadata": {},
     "output_type": "execute_result"
    }
   ],
   "execution_count": 11
  },
  {
   "cell_type": "markdown",
   "id": "ea7866c3-1537-4da5-a8f5-109e6d0dcf44",
   "metadata": {
    "id": "ea7866c3-1537-4da5-a8f5-109e6d0dcf44"
   },
   "source": [
    "\\\n",
    "We can use .sum() to get a number of missing values in each column."
   ]
  },
  {
   "cell_type": "code",
   "id": "a14f71a2-9a57-4de3-a654-d8064413e19c",
   "metadata": {
    "id": "a14f71a2-9a57-4de3-a654-d8064413e19c",
    "outputId": "ac335ba3-d24d-4104-cd38-471e26cf7b72",
    "ExecuteTime": {
     "end_time": "2024-12-21T10:17:01.534025Z",
     "start_time": "2024-12-21T10:17:01.528266Z"
    }
   },
   "source": [
    "df.isnull().sum()"
   ],
   "outputs": [
    {
     "data": {
      "text/plain": [
       "age                         20\n",
       "anaemia                     15\n",
       "creatinine_phosphokinase    95\n",
       "diabetes                    97\n",
       "ejection_fraction            5\n",
       "high_blood_pressure          8\n",
       "platelets                   12\n",
       "serum_creatinine             3\n",
       "serum_sodium                 0\n",
       "sex                          6\n",
       "smoking                      4\n",
       "time                         2\n",
       "DEATH_EVENT                  0\n",
       "dtype: int64"
      ]
     },
     "execution_count": 12,
     "metadata": {},
     "output_type": "execute_result"
    }
   ],
   "execution_count": 12
  },
  {
   "cell_type": "markdown",
   "id": "821870b5-9d8e-4739-9ee1-9e032da97713",
   "metadata": {
    "id": "821870b5-9d8e-4739-9ee1-9e032da97713"
   },
   "source": [
    "\\\n",
    "Calculate a percentage of missing values for each column."
   ]
  },
  {
   "cell_type": "code",
   "id": "1b7c66e0-b3cc-4d09-9669-6a355be213e3",
   "metadata": {
    "id": "1b7c66e0-b3cc-4d09-9669-6a355be213e3",
    "outputId": "269102ea-e09f-4fd3-c2bd-f151f3baeb41",
    "ExecuteTime": {
     "end_time": "2024-12-21T10:17:01.761851Z",
     "start_time": "2024-12-21T10:17:01.756522Z"
    }
   },
   "source": [
    "per_missing = df.isnull().sum() / len(df) * 100\n",
    "per_missing"
   ],
   "outputs": [
    {
     "data": {
      "text/plain": [
       "age                          6.688963\n",
       "anaemia                      5.016722\n",
       "creatinine_phosphokinase    31.772575\n",
       "diabetes                    32.441472\n",
       "ejection_fraction            1.672241\n",
       "high_blood_pressure          2.675585\n",
       "platelets                    4.013378\n",
       "serum_creatinine             1.003344\n",
       "serum_sodium                 0.000000\n",
       "sex                          2.006689\n",
       "smoking                      1.337793\n",
       "time                         0.668896\n",
       "DEATH_EVENT                  0.000000\n",
       "dtype: float64"
      ]
     },
     "execution_count": 13,
     "metadata": {},
     "output_type": "execute_result"
    }
   ],
   "execution_count": 13
  },
  {
   "cell_type": "markdown",
   "id": "9f1a7fbe-9660-4917-8659-7f23158bb480",
   "metadata": {
    "id": "9f1a7fbe-9660-4917-8659-7f23158bb480"
   },
   "source": []
  },
  {
   "cell_type": "markdown",
   "id": "b2804d65-06e7-4f66-9522-a8cdefbb9bcd",
   "metadata": {
    "id": "b2804d65-06e7-4f66-9522-a8cdefbb9bcd"
   },
   "source": [
    "\\\n",
    "<font color=\"#029DA3\">**Removing missing values**</font>"
   ]
  },
  {
   "cell_type": "markdown",
   "id": "ca342caf-aeba-4ed3-89fd-36e30a1b5479",
   "metadata": {
    "id": "ca342caf-aeba-4ed3-89fd-36e30a1b5479"
   },
   "source": [
    "\\*Note that the procedure/method used to deal with missing values is case by case according to the nature of data, the goal of study, etc.  \n",
    "  \n",
    "In general, we can just remove rows with missing data if missing data are only a few.  \n",
    "However, if there are many missing values, we will remove columns that contain missing data >= 30% (e.g., creatinine_phosphokinase and diabetes).  \n",
    "  \n",
    "  \n",
    "Removing columns with %missing data >= 30%\n",
    "- creatinine_phosphokinase\n",
    "- diabetes"
   ]
  },
  {
   "cell_type": "code",
   "id": "6986facf-e2ea-410c-88f6-6efd41d02609",
   "metadata": {
    "id": "6986facf-e2ea-410c-88f6-6efd41d02609",
    "outputId": "ee0fbe73-8cc0-4e70-baf5-88aede353793",
    "ExecuteTime": {
     "end_time": "2024-12-21T10:17:01.976984Z",
     "start_time": "2024-12-21T10:17:01.966410Z"
    }
   },
   "source": [
    "df = df.loc[:, per_missing < 30]\n",
    "df.isnull().sum() / len(df) * 100"
   ],
   "outputs": [
    {
     "data": {
      "text/plain": [
       "age                    6.688963\n",
       "anaemia                5.016722\n",
       "ejection_fraction      1.672241\n",
       "high_blood_pressure    2.675585\n",
       "platelets              4.013378\n",
       "serum_creatinine       1.003344\n",
       "serum_sodium           0.000000\n",
       "sex                    2.006689\n",
       "smoking                1.337793\n",
       "time                   0.668896\n",
       "DEATH_EVENT            0.000000\n",
       "dtype: float64"
      ]
     },
     "execution_count": 14,
     "metadata": {},
     "output_type": "execute_result"
    }
   ],
   "execution_count": 14
  },
  {
   "cell_type": "markdown",
   "id": "73c98f78-1db5-4cda-93db-3c8b04ac76ef",
   "metadata": {
    "id": "73c98f78-1db5-4cda-93db-3c8b04ac76ef"
   },
   "source": [
    "\\\n",
    "<font color=\"#029DA3\">**Remove all rows with missing data (not recommended for this data)**</font>  \n",
    "\\\n",
    "If we decide to remove rows, first, check the number of rows with missing data."
   ]
  },
  {
   "cell_type": "code",
   "id": "00e448c9-f66e-4540-b9d6-47897783357e",
   "metadata": {
    "id": "00e448c9-f66e-4540-b9d6-47897783357e",
    "outputId": "0483a29e-1c6c-4efe-df4e-0352cb332294",
    "ExecuteTime": {
     "end_time": "2024-12-21T10:17:02.170006Z",
     "start_time": "2024-12-21T10:17:02.164826Z"
    }
   },
   "source": [
    "df.isnull().any(axis=1).sum()\n",
    "# Axis 1 = Row\n",
    "# Axis 0 = Column"
   ],
   "outputs": [
    {
     "data": {
      "text/plain": [
       "68"
      ]
     },
     "execution_count": 15,
     "metadata": {},
     "output_type": "execute_result"
    }
   ],
   "execution_count": 15
  },
  {
   "cell_type": "code",
   "id": "1180a10d-1e6e-45fd-873b-6d1d0e7c0908",
   "metadata": {
    "id": "1180a10d-1e6e-45fd-873b-6d1d0e7c0908",
    "outputId": "98c94d76-355d-48f3-d9e2-0b308556dcdc",
    "ExecuteTime": {
     "end_time": "2024-12-21T10:17:02.347911Z",
     "start_time": "2024-12-21T10:17:02.342889Z"
    }
   },
   "source": [
    "df.isnull().any(axis=1).sum() / len(df) * 100"
   ],
   "outputs": [
    {
     "data": {
      "text/plain": [
       "22.74247491638796"
      ]
     },
     "execution_count": 16,
     "metadata": {},
     "output_type": "execute_result"
    }
   ],
   "execution_count": 16
  },
  {
   "cell_type": "markdown",
   "id": "250f34bc-849a-489f-b456-25cfcbf34b7e",
   "metadata": {
    "id": "250f34bc-849a-489f-b456-25cfcbf34b7e"
   },
   "source": [
    "<font color=\"red\">If we remove these rows, we lost ~23% of data!</font>"
   ]
  },
  {
   "cell_type": "code",
   "id": "9f65cdb0-5e82-4c3a-b78f-fb2a445730aa",
   "metadata": {
    "id": "9f65cdb0-5e82-4c3a-b78f-fb2a445730aa",
    "ExecuteTime": {
     "end_time": "2024-12-21T10:17:02.495046Z",
     "start_time": "2024-12-21T10:17:02.492473Z"
    }
   },
   "source": [
    "#To remove all rows with missing data\n",
    "#df = df.dropna(axis=0).head() #axis 0:rows, 1:columns"
   ],
   "outputs": [],
   "execution_count": 17
  },
  {
   "cell_type": "markdown",
   "id": "3c9ffce6-e745-4248-adeb-7a99a6deb67c",
   "metadata": {
    "id": "3c9ffce6-e745-4248-adeb-7a99a6deb67c"
   },
   "source": [
    "\\\n",
    "<font color=\"#029DA3\">**Replace missing values**</font>  \n",
    "\\\n",
    "After removing columns with missing values >= 30%, remaining missing values can be replaced by:\n",
    "- mean/median for numeric data\n",
    "- mode for category data\n",
    "*Please note that there is no 'generic' way for 'what to replace' missing data, it is 'CASE-BY-CASE', you need to consider the nature of your data before replacing missing values*."
   ]
  },
  {
   "cell_type": "markdown",
   "id": "5b6bf1f3-a2f8-4d4f-9aa7-f71563d024a6",
   "metadata": {
    "id": "5b6bf1f3-a2f8-4d4f-9aa7-f71563d024a6"
   },
   "source": [
    "\\\n",
    "*Replace missing data with mean/median in numeric columns*:"
   ]
  },
  {
   "cell_type": "code",
   "id": "23f45fa5-7c21-4c87-8cef-39b366fe8f3b",
   "metadata": {
    "id": "23f45fa5-7c21-4c87-8cef-39b366fe8f3b",
    "ExecuteTime": {
     "end_time": "2024-12-21T10:17:02.584665Z",
     "start_time": "2024-12-21T10:17:02.579350Z"
    }
   },
   "source": [
    "df2 = df.copy() #backup data\n",
    "df2.age = df.age.fillna(df.age.mean()) #replace missing values with an average value"
   ],
   "outputs": [],
   "execution_count": 18
  },
  {
   "cell_type": "markdown",
   "id": "5a956385-bf98-4a17-bafb-aa6481db72b3",
   "metadata": {
    "id": "5a956385-bf98-4a17-bafb-aa6481db72b3"
   },
   "source": [
    "Now, there is no missing values in column age."
   ]
  },
  {
   "cell_type": "code",
   "id": "4a5729c4-0787-4230-bf6c-65be8b146587",
   "metadata": {
    "tags": [],
    "id": "4a5729c4-0787-4230-bf6c-65be8b146587",
    "outputId": "b51cc318-f6d5-4d2c-acfb-f26323f8d83e",
    "ExecuteTime": {
     "end_time": "2024-12-21T10:17:02.647026Z",
     "start_time": "2024-12-21T10:17:02.641785Z"
    }
   },
   "source": [
    "df2.isnull().sum()"
   ],
   "outputs": [
    {
     "data": {
      "text/plain": [
       "age                     0\n",
       "anaemia                15\n",
       "ejection_fraction       5\n",
       "high_blood_pressure     8\n",
       "platelets              12\n",
       "serum_creatinine        3\n",
       "serum_sodium            0\n",
       "sex                     6\n",
       "smoking                 4\n",
       "time                    2\n",
       "DEATH_EVENT             0\n",
       "dtype: int64"
      ]
     },
     "execution_count": 19,
     "metadata": {},
     "output_type": "execute_result"
    }
   ],
   "execution_count": 19
  },
  {
   "cell_type": "markdown",
   "id": "0a2a26b8-ac3c-4f57-97a9-429209674268",
   "metadata": {
    "id": "0a2a26b8-ac3c-4f57-97a9-429209674268"
   },
   "source": [
    "\\\n",
    "However, is the mean suitable to be used as a replaced value?"
   ]
  },
  {
   "cell_type": "code",
   "id": "ca37ad26-3485-4f24-80fc-fd50a74bc4fd",
   "metadata": {
    "id": "ca37ad26-3485-4f24-80fc-fd50a74bc4fd",
    "outputId": "e2449914-b6c4-4868-a28b-139abff5c551",
    "ExecuteTime": {
     "end_time": "2024-12-21T10:17:03.062394Z",
     "start_time": "2024-12-21T10:17:02.707769Z"
    }
   },
   "source": [
    "sns.displot(df2.age, kde=True)\n",
    "plt.axvline(df2.age.mean(), color='red')\n",
    "plt.axvline(df2.age.median(), color='green')\n",
    "print('age mean: ', df2.age.mean())\n",
    "print('age median: ', df2.age.median())"
   ],
   "outputs": [
    {
     "name": "stdout",
     "output_type": "stream",
     "text": [
      "age mean:  60.9\n",
      "age median:  60.0\n"
     ]
    },
    {
     "data": {
      "text/plain": [
       "<Figure size 500x500 with 1 Axes>"
      ],
      "image/png": "[encoded data removed]"
     },
     "metadata": {},
     "output_type": "display_data"
    }
   ],
   "execution_count": 20
  },
  {
   "cell_type": "markdown",
   "id": "9086e5e9-0f53-4764-b5cd-81b40b7f2ae5",
   "metadata": {
    "id": "9086e5e9-0f53-4764-b5cd-81b40b7f2ae5"
   },
   "source": [
    "In this case, mean and median is quite the same."
   ]
  },
  {
   "cell_type": "markdown",
   "id": "9e4f962f-09f0-4ee4-a19c-cfcc62ba03e7",
   "metadata": {
    "id": "9e4f962f-09f0-4ee4-a19c-cfcc62ba03e7"
   },
   "source": [
    "\\\n",
    "How about the time column?  \n",
    "Is it suitable to replace missing values with the mean?"
   ]
  },
  {
   "cell_type": "code",
   "id": "6e0906ec-5309-4713-a905-765fe496e75d",
   "metadata": {
    "id": "6e0906ec-5309-4713-a905-765fe496e75d",
    "outputId": "5149e926-e698-408e-83d9-c9c5518a7859",
    "ExecuteTime": {
     "end_time": "2024-12-21T10:17:03.349945Z",
     "start_time": "2024-12-21T10:17:03.092373Z"
    }
   },
   "source": [
    "sns.displot(df2.time, kde=True)\n",
    "plt.axvline(df2.time.mean(), color='red')\n",
    "plt.axvline(df2.time.median(), color='green')\n",
    "print('time mean: ', df2.time.mean())\n",
    "print('time median: ', df2.time.median())"
   ],
   "outputs": [
    {
     "name": "stdout",
     "output_type": "stream",
     "text": [
      "time mean:  130.5016835016835\n",
      "time median:  115.0\n"
     ]
    },
    {
     "data": {
      "text/plain": [
       "<Figure size 500x500 with 1 Axes>"
      ],
      "image/png": "[encoded data removed]"
     },
     "metadata": {},
     "output_type": "display_data"
    }
   ],
   "execution_count": 21
  },
  {
   "cell_type": "markdown",
   "id": "c2a8ab0d-8188-4d17-9d5f-c1ec95b39caf",
   "metadata": {
    "id": "c2a8ab0d-8188-4d17-9d5f-c1ec95b39caf"
   },
   "source": [
    "For the time column, mean and median are quite different.  \n",
    "To avoid the effect of outliers, we should replace missing values with median."
   ]
  },
  {
   "cell_type": "markdown",
   "id": "329d2649-cda7-45ef-845c-1b4f89a4b48d",
   "metadata": {
    "id": "329d2649-cda7-45ef-845c-1b4f89a4b48d"
   },
   "source": [
    "\\\n",
    "*Replace missing values with median in numeric columns*:"
   ]
  },
  {
   "cell_type": "code",
   "id": "9054a3f5-1786-4801-95fa-e624a6125e0b",
   "metadata": {
    "id": "9054a3f5-1786-4801-95fa-e624a6125e0b",
    "outputId": "bed2d6bc-bdd3-49d6-8dd7-d98cbcce4c10",
    "ExecuteTime": {
     "end_time": "2024-12-21T10:17:03.407874Z",
     "start_time": "2024-12-21T10:17:03.399631Z"
    }
   },
   "source": [
    "df2.age = df.age.fillna(df.age.median())\n",
    "df2.isnull().sum()"
   ],
   "outputs": [
    {
     "data": {
      "text/plain": [
       "age                     0\n",
       "anaemia                15\n",
       "ejection_fraction       5\n",
       "high_blood_pressure     8\n",
       "platelets              12\n",
       "serum_creatinine        3\n",
       "serum_sodium            0\n",
       "sex                     6\n",
       "smoking                 4\n",
       "time                    2\n",
       "DEATH_EVENT             0\n",
       "dtype: int64"
      ]
     },
     "execution_count": 22,
     "metadata": {},
     "output_type": "execute_result"
    }
   ],
   "execution_count": 22
  },
  {
   "cell_type": "markdown",
   "id": "cacd8a2d-5140-4a5d-b265-23673c446164",
   "metadata": {
    "id": "cacd8a2d-5140-4a5d-b265-23673c446164"
   },
   "source": [
    "\\\n",
    "We can use a for loop to replace missing values in all numeric columns."
   ]
  },
  {
   "cell_type": "code",
   "id": "4c50b2b9-8a1d-4b26-854b-d0307fbeb1a2",
   "metadata": {
    "id": "4c50b2b9-8a1d-4b26-854b-d0307fbeb1a2",
    "outputId": "c3ea2498-ae35-492d-ddd0-b517433e6e36",
    "ExecuteTime": {
     "end_time": "2024-12-21T10:17:03.500827Z",
     "start_time": "2024-12-21T10:17:03.487350Z"
    }
   },
   "source": [
    "for col in df2.columns:\n",
    "    if (df2[col].dtype != 'category'):\n",
    "        df2[col] = df[col].fillna(df[col].median())\n",
    "df2.isnull().sum()"
   ],
   "outputs": [
    {
     "data": {
      "text/plain": [
       "age                     0\n",
       "anaemia                15\n",
       "ejection_fraction       0\n",
       "high_blood_pressure     8\n",
       "platelets               0\n",
       "serum_creatinine        0\n",
       "serum_sodium            0\n",
       "sex                     6\n",
       "smoking                 4\n",
       "time                    0\n",
       "DEATH_EVENT             0\n",
       "dtype: int64"
      ]
     },
     "execution_count": 23,
     "metadata": {},
     "output_type": "execute_result"
    }
   ],
   "execution_count": 23
  },
  {
   "cell_type": "markdown",
   "id": "1b0b4575-3aa5-4514-930a-a4e52a85f497",
   "metadata": {
    "id": "1b0b4575-3aa5-4514-930a-a4e52a85f497"
   },
   "source": [
    "Next, we will dealing with missing values in categorical columns."
   ]
  },
  {
   "cell_type": "markdown",
   "id": "f58e9238-0467-437a-ac39-0d9857702547",
   "metadata": {
    "id": "f58e9238-0467-437a-ac39-0d9857702547"
   },
   "source": [
    "\\\n",
    "*Replace missing values in categorical columns*:"
   ]
  },
  {
   "cell_type": "markdown",
   "id": "9ab95698-38e4-48eb-a493-04ca2902526c",
   "metadata": {
    "id": "9ab95698-38e4-48eb-a493-04ca2902526c"
   },
   "source": [
    "Let's consider the anaemia column."
   ]
  },
  {
   "cell_type": "code",
   "id": "d6578e20-0830-4036-b9e3-bea7fbe535d3",
   "metadata": {
    "id": "d6578e20-0830-4036-b9e3-bea7fbe535d3",
    "outputId": "b44c56d7-a6ac-4d09-d8d1-51003dbc1b5c",
    "ExecuteTime": {
     "end_time": "2024-12-21T10:17:03.622409Z",
     "start_time": "2024-12-21T10:17:03.614660Z"
    }
   },
   "source": [
    "df2.anaemia.value_counts()"
   ],
   "outputs": [
    {
     "data": {
      "text/plain": [
       "anaemia\n",
       "N    161\n",
       "Y    123\n",
       "Name: count, dtype: int64"
      ]
     },
     "execution_count": 24,
     "metadata": {},
     "output_type": "execute_result"
    }
   ],
   "execution_count": 24
  },
  {
   "cell_type": "markdown",
   "id": "8f9cb83a-af29-45f4-bb37-c1652950a73d",
   "metadata": {
    "id": "8f9cb83a-af29-45f4-bb37-c1652950a73d"
   },
   "source": [
    "We can see that 'N' has higher frequency, so 'N' is the mode."
   ]
  },
  {
   "cell_type": "markdown",
   "id": "0dedf360-28fb-4f87-82f3-2a60bc2e78ee",
   "metadata": {
    "id": "0dedf360-28fb-4f87-82f3-2a60bc2e78ee"
   },
   "source": [
    "\\\n",
    "Alternatively, we can use .mode() to get a mode category."
   ]
  },
  {
   "cell_type": "code",
   "id": "fdf50b19-addd-48aa-8380-3b8551493338",
   "metadata": {
    "id": "fdf50b19-addd-48aa-8380-3b8551493338",
    "outputId": "7fefbd6f-0ff7-4fa1-e530-ecce724b6ec1",
    "ExecuteTime": {
     "end_time": "2024-12-21T10:17:03.777557Z",
     "start_time": "2024-12-21T10:17:03.767086Z"
    }
   },
   "source": [
    "df2.anaemia.mode()"
   ],
   "outputs": [
    {
     "data": {
      "text/plain": [
       "0    N\n",
       "Name: anaemia, dtype: category\n",
       "Categories (2, object): ['N', 'Y']"
      ]
     },
     "execution_count": 25,
     "metadata": {},
     "output_type": "execute_result"
    }
   ],
   "execution_count": 25
  },
  {
   "cell_type": "code",
   "id": "c67df1bb-0d7e-4a7c-aa95-21f7e833e704",
   "metadata": {
    "id": "c67df1bb-0d7e-4a7c-aa95-21f7e833e704",
    "outputId": "1c1ea515-fb53-4e03-f307-a805f46f309f",
    "ExecuteTime": {
     "end_time": "2024-12-21T10:17:03.965702Z",
     "start_time": "2024-12-21T10:17:03.960765Z"
    }
   },
   "source": [
    "df2.anaemia.mode()[0]"
   ],
   "outputs": [
    {
     "data": {
      "text/plain": [
       "'N'"
      ]
     },
     "execution_count": 26,
     "metadata": {},
     "output_type": "execute_result"
    }
   ],
   "execution_count": 26
  },
  {
   "cell_type": "markdown",
   "id": "ec3039c4-3440-42fd-b149-c5b64491c23c",
   "metadata": {
    "id": "ec3039c4-3440-42fd-b149-c5b64491c23c"
   },
   "source": [
    "Replace missing values with a mode category."
   ]
  },
  {
   "cell_type": "code",
   "id": "e5ae2578-9087-4662-833b-5518f9736b6f",
   "metadata": {
    "id": "e5ae2578-9087-4662-833b-5518f9736b6f",
    "outputId": "a0c4a3c5-5f5d-48f0-b5c5-f366d10844ab",
    "ExecuteTime": {
     "end_time": "2024-12-21T10:17:04.176847Z",
     "start_time": "2024-12-21T10:17:04.170533Z"
    }
   },
   "source": [
    "df2.anaemia = df2.anaemia.fillna(df2.anaemia.mode()[0])\n",
    "df2.isnull().sum()"
   ],
   "outputs": [
    {
     "data": {
      "text/plain": [
       "age                    0\n",
       "anaemia                0\n",
       "ejection_fraction      0\n",
       "high_blood_pressure    8\n",
       "platelets              0\n",
       "serum_creatinine       0\n",
       "serum_sodium           0\n",
       "sex                    6\n",
       "smoking                4\n",
       "time                   0\n",
       "DEATH_EVENT            0\n",
       "dtype: int64"
      ]
     },
     "execution_count": 27,
     "metadata": {},
     "output_type": "execute_result"
    }
   ],
   "execution_count": 27
  },
  {
   "cell_type": "markdown",
   "id": "28e07f15-4920-4aca-9200-39831b139267",
   "metadata": {
    "id": "28e07f15-4920-4aca-9200-39831b139267"
   },
   "source": [
    "Now, the column anaemia has no missing value."
   ]
  },
  {
   "cell_type": "markdown",
   "id": "f7105030-7c57-4092-a20c-6aa9ac74bdb0",
   "metadata": {
    "id": "f7105030-7c57-4092-a20c-6aa9ac74bdb0"
   },
   "source": [
    "\\\n",
    "We can use for loop to replace missing values in all categorical columns."
   ]
  },
  {
   "cell_type": "code",
   "id": "667b6ce3-80ae-4b2e-a438-fdfd3fec9625",
   "metadata": {
    "id": "667b6ce3-80ae-4b2e-a438-fdfd3fec9625",
    "outputId": "be181fd8-4ba6-4aa1-f344-2faff9969b55",
    "ExecuteTime": {
     "end_time": "2024-12-21T10:17:04.280743Z",
     "start_time": "2024-12-21T10:17:04.271233Z"
    }
   },
   "source": [
    "for col in df2.columns:\n",
    "    if (df2[col].dtype == 'category'):\n",
    "        df2[col] = df[col].fillna(df[col].mode()[0])\n",
    "df2.isnull().sum()"
   ],
   "outputs": [
    {
     "data": {
      "text/plain": [
       "age                    0\n",
       "anaemia                0\n",
       "ejection_fraction      0\n",
       "high_blood_pressure    0\n",
       "platelets              0\n",
       "serum_creatinine       0\n",
       "serum_sodium           0\n",
       "sex                    0\n",
       "smoking                0\n",
       "time                   0\n",
       "DEATH_EVENT            0\n",
       "dtype: int64"
      ]
     },
     "execution_count": 28,
     "metadata": {},
     "output_type": "execute_result"
    }
   ],
   "execution_count": 28
  },
  {
   "cell_type": "code",
   "id": "03668393-65f3-4b02-9890-728cbfdd97b8",
   "metadata": {
    "id": "03668393-65f3-4b02-9890-728cbfdd97b8",
    "outputId": "677b5b10-5506-49cd-b99a-b16fd85d4d6e",
    "ExecuteTime": {
     "end_time": "2024-12-21T10:17:04.439032Z",
     "start_time": "2024-12-21T10:17:04.413956Z"
    }
   },
   "source": [
    "df2.describe(include='all')"
   ],
   "outputs": [
    {
     "data": {
      "text/plain": [
       "               age anaemia  ejection_fraction high_blood_pressure  \\\n",
       "count   299.000000     299         299.000000                 299   \n",
       "unique         NaN       2                NaN                   2   \n",
       "top            NaN       N                NaN                   N   \n",
       "freq           NaN     176                NaN                 197   \n",
       "mean     60.843750     NaN          38.062500                 NaN   \n",
       "std      11.554688     NaN          11.804688                 NaN   \n",
       "min      40.000000     NaN          14.000000                 NaN   \n",
       "25%      52.000000     NaN          30.000000                 NaN   \n",
       "50%      60.000000     NaN          38.000000                 NaN   \n",
       "75%      68.500000     NaN          45.000000                 NaN   \n",
       "max      95.000000     NaN          80.000000                 NaN   \n",
       "\n",
       "            platelets  serum_creatinine  serum_sodium  sex smoking  \\\n",
       "count      299.000000        299.000000    299.000000  299     299   \n",
       "unique            NaN               NaN           NaN    2       2   \n",
       "top               NaN               NaN           NaN    M       N   \n",
       "freq              NaN               NaN           NaN  196     205   \n",
       "mean    262948.805084          1.386719    136.625418  NaN     NaN   \n",
       "std      97230.037595          1.027344      4.412477  NaN     NaN   \n",
       "min      25100.000000          0.500000    113.000000  NaN     NaN   \n",
       "25%     215000.000000          0.899902    134.000000  NaN     NaN   \n",
       "50%     260000.000000          1.099609    137.000000  NaN     NaN   \n",
       "75%     302000.000000          1.400391    140.000000  NaN     NaN   \n",
       "max     850000.000000          9.398438    148.000000  NaN     NaN   \n",
       "\n",
       "              time DEATH_EVENT  \n",
       "count   299.000000         299  \n",
       "unique         NaN           2  \n",
       "top            NaN           N  \n",
       "freq           NaN         203  \n",
       "mean    130.397993         NaN  \n",
       "std      77.454027         NaN  \n",
       "min       4.000000         NaN  \n",
       "25%      73.500000         NaN  \n",
       "50%     115.000000         NaN  \n",
       "75%     203.000000         NaN  \n",
       "max     285.000000         NaN  "
      ],
      "text/html": [
       "<div>\n",
       "<style scoped>\n",
       "    .dataframe tbody tr th:only-of-type {\n",
       "        vertical-align: middle;\n",
       "    }\n",
       "\n",
       "    .dataframe tbody tr th {\n",
       "        vertical-align: top;\n",
       "    }\n",
       "\n",
       "    .dataframe thead th {\n",
       "        text-align: right;\n",
       "    }\n",
       "</style>\n",
       "<table border=\"1\" class=\"dataframe\">\n",
       "  <thead>\n",
       "    <tr style=\"text-align: right;\">\n",
       "      <th></th>\n",
       "      <th>age</th>\n",
       "      <th>anaemia</th>\n",
       "      <th>ejection_fraction</th>\n",
       "      <th>high_blood_pressure</th>\n",
       "      <th>platelets</th>\n",
       "      <th>serum_creatinine</th>\n",
       "      <th>serum_sodium</th>\n",
       "      <th>sex</th>\n",
       "      <th>smoking</th>\n",
       "      <th>time</th>\n",
       "      <th>DEATH_EVENT</th>\n",
       "    </tr>\n",
       "  </thead>\n",
       "  <tbody>\n",
       "    <tr>\n",
       "      <th>count</th>\n",
       "      <td>299.000000</td>\n",
       "      <td>299</td>\n",
       "      <td>299.000000</td>\n",
       "      <td>299</td>\n",
       "      <td>299.000000</td>\n",
       "      <td>299.000000</td>\n",
       "      <td>299.000000</td>\n",
       "      <td>299</td>\n",
       "      <td>299</td>\n",
       "      <td>299.000000</td>\n",
       "      <td>299</td>\n",
       "    </tr>\n",
       "    <tr>\n",
       "      <th>unique</th>\n",
       "      <td>NaN</td>\n",
       "      <td>2</td>\n",
       "      <td>NaN</td>\n",
       "      <td>2</td>\n",
       "      <td>NaN</td>\n",
       "      <td>NaN</td>\n",
       "      <td>NaN</td>\n",
       "      <td>2</td>\n",
       "      <td>2</td>\n",
       "      <td>NaN</td>\n",
       "      <td>2</td>\n",
       "    </tr>\n",
       "    <tr>\n",
       "      <th>top</th>\n",
       "      <td>NaN</td>\n",
       "      <td>N</td>\n",
       "      <td>NaN</td>\n",
       "      <td>N</td>\n",
       "      <td>NaN</td>\n",
       "      <td>NaN</td>\n",
       "      <td>NaN</td>\n",
       "      <td>M</td>\n",
       "      <td>N</td>\n",
       "      <td>NaN</td>\n",
       "      <td>N</td>\n",
       "    </tr>\n",
       "    <tr>\n",
       "      <th>freq</th>\n",
       "      <td>NaN</td>\n",
       "      <td>176</td>\n",
       "      <td>NaN</td>\n",
       "      <td>197</td>\n",
       "      <td>NaN</td>\n",
       "      <td>NaN</td>\n",
       "      <td>NaN</td>\n",
       "      <td>196</td>\n",
       "      <td>205</td>\n",
       "      <td>NaN</td>\n",
       "      <td>203</td>\n",
       "    </tr>\n",
       "    <tr>\n",
       "      <th>mean</th>\n",
       "      <td>60.843750</td>\n",
       "      <td>NaN</td>\n",
       "      <td>38.062500</td>\n",
       "      <td>NaN</td>\n",
       "      <td>262948.805084</td>\n",
       "      <td>1.386719</td>\n",
       "      <td>136.625418</td>\n",
       "      <td>NaN</td>\n",
       "      <td>NaN</td>\n",
       "      <td>130.397993</td>\n",
       "      <td>NaN</td>\n",
       "    </tr>\n",
       "    <tr>\n",
       "      <th>std</th>\n",
       "      <td>11.554688</td>\n",
       "      <td>NaN</td>\n",
       "      <td>11.804688</td>\n",
       "      <td>NaN</td>\n",
       "      <td>97230.037595</td>\n",
       "      <td>1.027344</td>\n",
       "      <td>4.412477</td>\n",
       "      <td>NaN</td>\n",
       "      <td>NaN</td>\n",
       "      <td>77.454027</td>\n",
       "      <td>NaN</td>\n",
       "    </tr>\n",
       "    <tr>\n",
       "      <th>min</th>\n",
       "      <td>40.000000</td>\n",
       "      <td>NaN</td>\n",
       "      <td>14.000000</td>\n",
       "      <td>NaN</td>\n",
       "      <td>25100.000000</td>\n",
       "      <td>0.500000</td>\n",
       "      <td>113.000000</td>\n",
       "      <td>NaN</td>\n",
       "      <td>NaN</td>\n",
       "      <td>4.000000</td>\n",
       "      <td>NaN</td>\n",
       "    </tr>\n",
       "    <tr>\n",
       "      <th>25%</th>\n",
       "      <td>52.000000</td>\n",
       "      <td>NaN</td>\n",
       "      <td>30.000000</td>\n",
       "      <td>NaN</td>\n",
       "      <td>215000.000000</td>\n",
       "      <td>0.899902</td>\n",
       "      <td>134.000000</td>\n",
       "      <td>NaN</td>\n",
       "      <td>NaN</td>\n",
       "      <td>73.500000</td>\n",
       "      <td>NaN</td>\n",
       "    </tr>\n",
       "    <tr>\n",
       "      <th>50%</th>\n",
       "      <td>60.000000</td>\n",
       "      <td>NaN</td>\n",
       "      <td>38.000000</td>\n",
       "      <td>NaN</td>\n",
       "      <td>260000.000000</td>\n",
       "      <td>1.099609</td>\n",
       "      <td>137.000000</td>\n",
       "      <td>NaN</td>\n",
       "      <td>NaN</td>\n",
       "      <td>115.000000</td>\n",
       "      <td>NaN</td>\n",
       "    </tr>\n",
       "    <tr>\n",
       "      <th>75%</th>\n",
       "      <td>68.500000</td>\n",
       "      <td>NaN</td>\n",
       "      <td>45.000000</td>\n",
       "      <td>NaN</td>\n",
       "      <td>302000.000000</td>\n",
       "      <td>1.400391</td>\n",
       "      <td>140.000000</td>\n",
       "      <td>NaN</td>\n",
       "      <td>NaN</td>\n",
       "      <td>203.000000</td>\n",
       "      <td>NaN</td>\n",
       "    </tr>\n",
       "    <tr>\n",
       "      <th>max</th>\n",
       "      <td>95.000000</td>\n",
       "      <td>NaN</td>\n",
       "      <td>80.000000</td>\n",
       "      <td>NaN</td>\n",
       "      <td>850000.000000</td>\n",
       "      <td>9.398438</td>\n",
       "      <td>148.000000</td>\n",
       "      <td>NaN</td>\n",
       "      <td>NaN</td>\n",
       "      <td>285.000000</td>\n",
       "      <td>NaN</td>\n",
       "    </tr>\n",
       "  </tbody>\n",
       "</table>\n",
       "</div>"
      ]
     },
     "execution_count": 29,
     "metadata": {},
     "output_type": "execute_result"
    }
   ],
   "execution_count": 29
  },
  {
   "cell_type": "markdown",
   "id": "7f02d694-ce6b-4a13-93e7-0c699049adb0",
   "metadata": {
    "id": "7f02d694-ce6b-4a13-93e7-0c699049adb0"
   },
   "source": [
    "\\\n",
    "<font color=\"#029DA3\">**Making new category for missing values**</font>  \n",
    "\\\n",
    "Alternatively, we can just make new category for missing values.  \n",
    "However, this procedure should be done before converting column to category dtype.  \n",
    "\\\n",
    "For example, in the sex column:"
   ]
  },
  {
   "cell_type": "code",
   "id": "611e2ed9-68eb-4a73-a826-e8f30c1bf962",
   "metadata": {
    "id": "611e2ed9-68eb-4a73-a826-e8f30c1bf962",
    "ExecuteTime": {
     "end_time": "2024-12-21T10:17:04.641146Z",
     "start_time": "2024-12-21T10:17:04.616017Z"
    }
   },
   "source": [
    "#from the start\n",
    "df3 = pd.read_csv(\"https://raw.githubusercontent.com/ThammakornS/ProgStat/main/dataset/heart_failure_wNA.csv\")"
   ],
   "outputs": [],
   "execution_count": 30
  },
  {
   "cell_type": "code",
   "id": "46a5d050-b61d-4421-b38e-3119853f5100",
   "metadata": {
    "id": "46a5d050-b61d-4421-b38e-3119853f5100",
    "ExecuteTime": {
     "end_time": "2024-12-21T10:17:04.810054Z",
     "start_time": "2024-12-21T10:17:04.805779Z"
    }
   },
   "source": [
    "df3.sex = df3.sex.fillna('A')"
   ],
   "outputs": [],
   "execution_count": 31
  },
  {
   "cell_type": "markdown",
   "id": "202a523b-aa76-4cf7-b0de-68a1e22fb4ee",
   "metadata": {
    "id": "202a523b-aa76-4cf7-b0de-68a1e22fb4ee"
   },
   "source": [
    "A means 'Agender' people (without a gender identity)"
   ]
  },
  {
   "cell_type": "code",
   "id": "0c8b3f48-9ae9-4a3a-aafd-1a5c5a376dc1",
   "metadata": {
    "id": "0c8b3f48-9ae9-4a3a-aafd-1a5c5a376dc1",
    "outputId": "ba04b2e9-d3f4-4966-f1fd-63b4a332c0a3",
    "ExecuteTime": {
     "end_time": "2024-12-21T10:17:04.969597Z",
     "start_time": "2024-12-21T10:17:04.962782Z"
    }
   },
   "source": [
    "df3.sex.value_counts()"
   ],
   "outputs": [
    {
     "data": {
      "text/plain": [
       "sex\n",
       "M    190\n",
       "F    103\n",
       "A      6\n",
       "Name: count, dtype: int64"
      ]
     },
     "execution_count": 32,
     "metadata": {},
     "output_type": "execute_result"
    }
   ],
   "execution_count": 32
  },
  {
   "cell_type": "markdown",
   "id": "b750a0d5-d8fb-487e-8cef-f21cd82d1e80",
   "metadata": {
    "tags": [],
    "id": "b750a0d5-d8fb-487e-8cef-f21cd82d1e80"
   },
   "source": [
    "&nbsp;  \n",
    "#### <font color=\"#127C02\">*Categorical data & predictive model creation*</font>"
   ]
  },
  {
   "cell_type": "markdown",
   "id": "713c0f64-5cb8-4dd8-8bcc-dceaf28b9b4a",
   "metadata": {
    "id": "713c0f64-5cb8-4dd8-8bcc-dceaf28b9b4a"
   },
   "source": [
    "In many cases, categorical data cannot be directly used to create a predictive model.  \n",
    "Data in categorical columns need to be converted into numbers first before using them in the model training process."
   ]
  },
  {
   "cell_type": "markdown",
   "id": "147b11fc-309a-41fc-a22c-c245b5b626a4",
   "metadata": {
    "id": "147b11fc-309a-41fc-a22c-c245b5b626a4"
   },
   "source": [
    "\\\n",
    "<font color=\"#029DA3\">**One hot encoding**</font>"
   ]
  },
  {
   "cell_type": "markdown",
   "id": "5c691dcd-0007-42d5-9d1d-7bd412b042b5",
   "metadata": {
    "tags": [],
    "id": "5c691dcd-0007-42d5-9d1d-7bd412b042b5"
   },
   "source": [
    "The easiest way is to separate numeric and category data into 2 dataframes before the encoding process."
   ]
  },
  {
   "cell_type": "markdown",
   "id": "7a060de6-bd16-4456-bc5c-98313de93880",
   "metadata": {
    "id": "7a060de6-bd16-4456-bc5c-98313de93880"
   },
   "source": [
    "\\\n",
    "Numerical dataframes:"
   ]
  },
  {
   "cell_type": "code",
   "id": "84ede5d0-22f0-4403-8919-4729b2c01c6e",
   "metadata": {
    "id": "84ede5d0-22f0-4403-8919-4729b2c01c6e",
    "outputId": "998d4e94-ef63-4f43-da3c-7c32cf39ca7a",
    "ExecuteTime": {
     "end_time": "2024-12-21T10:17:05.093971Z",
     "start_time": "2024-12-21T10:17:05.085149Z"
    }
   },
   "source": [
    "df_numeric = df.loc[:, df.dtypes != 'category']\n",
    "df_numeric.head()"
   ],
   "outputs": [
    {
     "data": {
      "text/plain": [
       "    age  ejection_fraction  platelets  serum_creatinine  serum_sodium  time\n",
       "0  75.0               20.0  265000.00          1.900391           130   4.0\n",
       "1  55.0               38.0  263358.03          1.099609           136   6.0\n",
       "2  65.0               20.0  162000.00          1.299805           129   7.0\n",
       "3  50.0               20.0  210000.00          1.900391           137   7.0\n",
       "4  65.0               20.0  327000.00          2.699219           116   8.0"
      ],
      "text/html": [
       "<div>\n",
       "<style scoped>\n",
       "    .dataframe tbody tr th:only-of-type {\n",
       "        vertical-align: middle;\n",
       "    }\n",
       "\n",
       "    .dataframe tbody tr th {\n",
       "        vertical-align: top;\n",
       "    }\n",
       "\n",
       "    .dataframe thead th {\n",
       "        text-align: right;\n",
       "    }\n",
       "</style>\n",
       "<table border=\"1\" class=\"dataframe\">\n",
       "  <thead>\n",
       "    <tr style=\"text-align: right;\">\n",
       "      <th></th>\n",
       "      <th>age</th>\n",
       "      <th>ejection_fraction</th>\n",
       "      <th>platelets</th>\n",
       "      <th>serum_creatinine</th>\n",
       "      <th>serum_sodium</th>\n",
       "      <th>time</th>\n",
       "    </tr>\n",
       "  </thead>\n",
       "  <tbody>\n",
       "    <tr>\n",
       "      <th>0</th>\n",
       "      <td>75.0</td>\n",
       "      <td>20.0</td>\n",
       "      <td>265000.00</td>\n",
       "      <td>1.900391</td>\n",
       "      <td>130</td>\n",
       "      <td>4.0</td>\n",
       "    </tr>\n",
       "    <tr>\n",
       "      <th>1</th>\n",
       "      <td>55.0</td>\n",
       "      <td>38.0</td>\n",
       "      <td>263358.03</td>\n",
       "      <td>1.099609</td>\n",
       "      <td>136</td>\n",
       "      <td>6.0</td>\n",
       "    </tr>\n",
       "    <tr>\n",
       "      <th>2</th>\n",
       "      <td>65.0</td>\n",
       "      <td>20.0</td>\n",
       "      <td>162000.00</td>\n",
       "      <td>1.299805</td>\n",
       "      <td>129</td>\n",
       "      <td>7.0</td>\n",
       "    </tr>\n",
       "    <tr>\n",
       "      <th>3</th>\n",
       "      <td>50.0</td>\n",
       "      <td>20.0</td>\n",
       "      <td>210000.00</td>\n",
       "      <td>1.900391</td>\n",
       "      <td>137</td>\n",
       "      <td>7.0</td>\n",
       "    </tr>\n",
       "    <tr>\n",
       "      <th>4</th>\n",
       "      <td>65.0</td>\n",
       "      <td>20.0</td>\n",
       "      <td>327000.00</td>\n",
       "      <td>2.699219</td>\n",
       "      <td>116</td>\n",
       "      <td>8.0</td>\n",
       "    </tr>\n",
       "  </tbody>\n",
       "</table>\n",
       "</div>"
      ]
     },
     "execution_count": 33,
     "metadata": {},
     "output_type": "execute_result"
    }
   ],
   "execution_count": 33
  },
  {
   "cell_type": "markdown",
   "id": "ff8290ac-850e-415f-90ac-de22a228c772",
   "metadata": {
    "id": "ff8290ac-850e-415f-90ac-de22a228c772"
   },
   "source": [
    "\\\n",
    "Categorical dataframes:"
   ]
  },
  {
   "cell_type": "code",
   "id": "ee6c933e-8d12-481b-9613-72b061bb9d10",
   "metadata": {
    "id": "ee6c933e-8d12-481b-9613-72b061bb9d10",
    "outputId": "5d7983e8-3548-497d-c9c2-539a3517f0b2",
    "ExecuteTime": {
     "end_time": "2024-12-21T10:17:05.258284Z",
     "start_time": "2024-12-21T10:17:05.250738Z"
    }
   },
   "source": [
    "df_category = df.loc[:, df.dtypes == 'category']\n",
    "df_category.head()"
   ],
   "outputs": [
    {
     "data": {
      "text/plain": [
       "  anaemia high_blood_pressure sex smoking DEATH_EVENT\n",
       "0       N                   Y   M       N           Y\n",
       "1       N                   N   M       N           Y\n",
       "2       N                   N   M       Y           Y\n",
       "3       Y                   N   M       N           Y\n",
       "4       Y                   N   F       N           Y"
      ],
      "text/html": [
       "<div>\n",
       "<style scoped>\n",
       "    .dataframe tbody tr th:only-of-type {\n",
       "        vertical-align: middle;\n",
       "    }\n",
       "\n",
       "    .dataframe tbody tr th {\n",
       "        vertical-align: top;\n",
       "    }\n",
       "\n",
       "    .dataframe thead th {\n",
       "        text-align: right;\n",
       "    }\n",
       "</style>\n",
       "<table border=\"1\" class=\"dataframe\">\n",
       "  <thead>\n",
       "    <tr style=\"text-align: right;\">\n",
       "      <th></th>\n",
       "      <th>anaemia</th>\n",
       "      <th>high_blood_pressure</th>\n",
       "      <th>sex</th>\n",
       "      <th>smoking</th>\n",
       "      <th>DEATH_EVENT</th>\n",
       "    </tr>\n",
       "  </thead>\n",
       "  <tbody>\n",
       "    <tr>\n",
       "      <th>0</th>\n",
       "      <td>N</td>\n",
       "      <td>Y</td>\n",
       "      <td>M</td>\n",
       "      <td>N</td>\n",
       "      <td>Y</td>\n",
       "    </tr>\n",
       "    <tr>\n",
       "      <th>1</th>\n",
       "      <td>N</td>\n",
       "      <td>N</td>\n",
       "      <td>M</td>\n",
       "      <td>N</td>\n",
       "      <td>Y</td>\n",
       "    </tr>\n",
       "    <tr>\n",
       "      <th>2</th>\n",
       "      <td>N</td>\n",
       "      <td>N</td>\n",
       "      <td>M</td>\n",
       "      <td>Y</td>\n",
       "      <td>Y</td>\n",
       "    </tr>\n",
       "    <tr>\n",
       "      <th>3</th>\n",
       "      <td>Y</td>\n",
       "      <td>N</td>\n",
       "      <td>M</td>\n",
       "      <td>N</td>\n",
       "      <td>Y</td>\n",
       "    </tr>\n",
       "    <tr>\n",
       "      <th>4</th>\n",
       "      <td>Y</td>\n",
       "      <td>N</td>\n",
       "      <td>F</td>\n",
       "      <td>N</td>\n",
       "      <td>Y</td>\n",
       "    </tr>\n",
       "  </tbody>\n",
       "</table>\n",
       "</div>"
      ]
     },
     "execution_count": 34,
     "metadata": {},
     "output_type": "execute_result"
    }
   ],
   "execution_count": 34
  },
  {
   "cell_type": "markdown",
   "id": "112e975a-b869-4335-a0f9-70f1bcf818d5",
   "metadata": {
    "id": "112e975a-b869-4335-a0f9-70f1bcf818d5"
   },
   "source": [
    "\\\n",
    "Convert the categorical dataframe using 'one hot encoding'.  \n",
    "This encoding can be done using get_dummies()."
   ]
  },
  {
   "cell_type": "code",
   "id": "34d8b872-0593-498c-827c-276fbe18a267",
   "metadata": {
    "id": "34d8b872-0593-498c-827c-276fbe18a267",
    "outputId": "63990c94-eea5-4b84-abb6-742d59eec62d",
    "ExecuteTime": {
     "end_time": "2024-12-21T10:17:05.410295Z",
     "start_time": "2024-12-21T10:17:05.400005Z"
    }
   },
   "source": [
    "df_category_1hot = pd.get_dummies(df_category, dtype=int)\n",
    "df_category_1hot.head()"
   ],
   "outputs": [
    {
     "data": {
      "text/plain": [
       "   anaemia_N  anaemia_Y  high_blood_pressure_N  high_blood_pressure_Y  sex_F  \\\n",
       "0          1          0                      0                      1      0   \n",
       "1          1          0                      1                      0      0   \n",
       "2          1          0                      1                      0      0   \n",
       "3          0          1                      1                      0      0   \n",
       "4          0          1                      1                      0      1   \n",
       "\n",
       "   sex_M  smoking_N  smoking_Y  DEATH_EVENT_N  DEATH_EVENT_Y  \n",
       "0      1          1          0              0              1  \n",
       "1      1          1          0              0              1  \n",
       "2      1          0          1              0              1  \n",
       "3      1          1          0              0              1  \n",
       "4      0          1          0              0              1  "
      ],
      "text/html": [
       "<div>\n",
       "<style scoped>\n",
       "    .dataframe tbody tr th:only-of-type {\n",
       "        vertical-align: middle;\n",
       "    }\n",
       "\n",
       "    .dataframe tbody tr th {\n",
       "        vertical-align: top;\n",
       "    }\n",
       "\n",
       "    .dataframe thead th {\n",
       "        text-align: right;\n",
       "    }\n",
       "</style>\n",
       "<table border=\"1\" class=\"dataframe\">\n",
       "  <thead>\n",
       "    <tr style=\"text-align: right;\">\n",
       "      <th></th>\n",
       "      <th>anaemia_N</th>\n",
       "      <th>anaemia_Y</th>\n",
       "      <th>high_blood_pressure_N</th>\n",
       "      <th>high_blood_pressure_Y</th>\n",
       "      <th>sex_F</th>\n",
       "      <th>sex_M</th>\n",
       "      <th>smoking_N</th>\n",
       "      <th>smoking_Y</th>\n",
       "      <th>DEATH_EVENT_N</th>\n",
       "      <th>DEATH_EVENT_Y</th>\n",
       "    </tr>\n",
       "  </thead>\n",
       "  <tbody>\n",
       "    <tr>\n",
       "      <th>0</th>\n",
       "      <td>1</td>\n",
       "      <td>0</td>\n",
       "      <td>0</td>\n",
       "      <td>1</td>\n",
       "      <td>0</td>\n",
       "      <td>1</td>\n",
       "      <td>1</td>\n",
       "      <td>0</td>\n",
       "      <td>0</td>\n",
       "      <td>1</td>\n",
       "    </tr>\n",
       "    <tr>\n",
       "      <th>1</th>\n",
       "      <td>1</td>\n",
       "      <td>0</td>\n",
       "      <td>1</td>\n",
       "      <td>0</td>\n",
       "      <td>0</td>\n",
       "      <td>1</td>\n",
       "      <td>1</td>\n",
       "      <td>0</td>\n",
       "      <td>0</td>\n",
       "      <td>1</td>\n",
       "    </tr>\n",
       "    <tr>\n",
       "      <th>2</th>\n",
       "      <td>1</td>\n",
       "      <td>0</td>\n",
       "      <td>1</td>\n",
       "      <td>0</td>\n",
       "      <td>0</td>\n",
       "      <td>1</td>\n",
       "      <td>0</td>\n",
       "      <td>1</td>\n",
       "      <td>0</td>\n",
       "      <td>1</td>\n",
       "    </tr>\n",
       "    <tr>\n",
       "      <th>3</th>\n",
       "      <td>0</td>\n",
       "      <td>1</td>\n",
       "      <td>1</td>\n",
       "      <td>0</td>\n",
       "      <td>0</td>\n",
       "      <td>1</td>\n",
       "      <td>1</td>\n",
       "      <td>0</td>\n",
       "      <td>0</td>\n",
       "      <td>1</td>\n",
       "    </tr>\n",
       "    <tr>\n",
       "      <th>4</th>\n",
       "      <td>0</td>\n",
       "      <td>1</td>\n",
       "      <td>1</td>\n",
       "      <td>0</td>\n",
       "      <td>1</td>\n",
       "      <td>0</td>\n",
       "      <td>1</td>\n",
       "      <td>0</td>\n",
       "      <td>0</td>\n",
       "      <td>1</td>\n",
       "    </tr>\n",
       "  </tbody>\n",
       "</table>\n",
       "</div>"
      ]
     },
     "execution_count": 35,
     "metadata": {},
     "output_type": "execute_result"
    }
   ],
   "execution_count": 35
  },
  {
   "cell_type": "markdown",
   "id": "715d2556-50cd-4933-80f8-42973219bd9f",
   "metadata": {
    "id": "715d2556-50cd-4933-80f8-42973219bd9f"
   },
   "source": [
    "However, we don't need all the converted columns.  \n",
    "For example, sex_F and sex_M, we just need only one of them. So, we specify drop_first=True in get_dummies()."
   ]
  },
  {
   "cell_type": "code",
   "id": "7c5b045a-d16b-4032-ac6d-29ce9d37e762",
   "metadata": {
    "id": "7c5b045a-d16b-4032-ac6d-29ce9d37e762",
    "outputId": "93758357-2a38-4c4e-978b-162d969d5f16",
    "ExecuteTime": {
     "end_time": "2024-12-21T10:50:45.454541Z",
     "start_time": "2024-12-21T10:50:45.443699Z"
    }
   },
   "source": [
    "df_category_1hot = pd.get_dummies(df_category, dtype=int, drop_first=True)\n",
    "df_category_1hot.head()"
   ],
   "outputs": [
    {
     "data": {
      "text/plain": [
       "   anaemia_Y  high_blood_pressure_Y  sex_M  smoking_Y  DEATH_EVENT_Y\n",
       "0          0                      1      1          0              1\n",
       "1          0                      0      1          0              1\n",
       "2          0                      0      1          1              1\n",
       "3          1                      0      1          0              1\n",
       "4          1                      0      0          0              1"
      ],
      "text/html": [
       "<div>\n",
       "<style scoped>\n",
       "    .dataframe tbody tr th:only-of-type {\n",
       "        vertical-align: middle;\n",
       "    }\n",
       "\n",
       "    .dataframe tbody tr th {\n",
       "        vertical-align: top;\n",
       "    }\n",
       "\n",
       "    .dataframe thead th {\n",
       "        text-align: right;\n",
       "    }\n",
       "</style>\n",
       "<table border=\"1\" class=\"dataframe\">\n",
       "  <thead>\n",
       "    <tr style=\"text-align: right;\">\n",
       "      <th></th>\n",
       "      <th>anaemia_Y</th>\n",
       "      <th>high_blood_pressure_Y</th>\n",
       "      <th>sex_M</th>\n",
       "      <th>smoking_Y</th>\n",
       "      <th>DEATH_EVENT_Y</th>\n",
       "    </tr>\n",
       "  </thead>\n",
       "  <tbody>\n",
       "    <tr>\n",
       "      <th>0</th>\n",
       "      <td>0</td>\n",
       "      <td>1</td>\n",
       "      <td>1</td>\n",
       "      <td>0</td>\n",
       "      <td>1</td>\n",
       "    </tr>\n",
       "    <tr>\n",
       "      <th>1</th>\n",
       "      <td>0</td>\n",
       "      <td>0</td>\n",
       "      <td>1</td>\n",
       "      <td>0</td>\n",
       "      <td>1</td>\n",
       "    </tr>\n",
       "    <tr>\n",
       "      <th>2</th>\n",
       "      <td>0</td>\n",
       "      <td>0</td>\n",
       "      <td>1</td>\n",
       "      <td>1</td>\n",
       "      <td>1</td>\n",
       "    </tr>\n",
       "    <tr>\n",
       "      <th>3</th>\n",
       "      <td>1</td>\n",
       "      <td>0</td>\n",
       "      <td>1</td>\n",
       "      <td>0</td>\n",
       "      <td>1</td>\n",
       "    </tr>\n",
       "    <tr>\n",
       "      <th>4</th>\n",
       "      <td>1</td>\n",
       "      <td>0</td>\n",
       "      <td>0</td>\n",
       "      <td>0</td>\n",
       "      <td>1</td>\n",
       "    </tr>\n",
       "  </tbody>\n",
       "</table>\n",
       "</div>"
      ]
     },
     "execution_count": 37,
     "metadata": {},
     "output_type": "execute_result"
    }
   ],
   "execution_count": 37
  },
  {
   "cell_type": "markdown",
   "id": "e8af7f29-7644-415a-81be-f4da1b3d2af5",
   "metadata": {
    "id": "e8af7f29-7644-415a-81be-f4da1b3d2af5"
   },
   "source": [
    "\\\n",
    "Merge 2 dataframes:   \n",
    "numerical dataframe + encoded dataframe"
   ]
  },
  {
   "cell_type": "code",
   "execution_count": null,
   "id": "a285bc5b-d5eb-493f-b925-7db099098aa1",
   "metadata": {
    "id": "a285bc5b-d5eb-493f-b925-7db099098aa1",
    "outputId": "8f54d50c-7184-4d40-9b32-828bbb5d3cdf"
   },
   "outputs": [
    {
     "data": {
      "text/html": [
       "<div>\n",
       "<style scoped>\n",
       "    .dataframe tbody tr th:only-of-type {\n",
       "        vertical-align: middle;\n",
       "    }\n",
       "\n",
       "    .dataframe tbody tr th {\n",
       "        vertical-align: top;\n",
       "    }\n",
       "\n",
       "    .dataframe thead th {\n",
       "        text-align: right;\n",
       "    }\n",
       "</style>\n",
       "<table border=\"1\" class=\"dataframe\">\n",
       "  <thead>\n",
       "    <tr style=\"text-align: right;\">\n",
       "      <th></th>\n",
       "      <th>age</th>\n",
       "      <th>ejection_fraction</th>\n",
       "      <th>platelets</th>\n",
       "      <th>serum_creatinine</th>\n",
       "      <th>serum_sodium</th>\n",
       "      <th>time</th>\n",
       "      <th>anaemia_Y</th>\n",
       "      <th>high_blood_pressure_Y</th>\n",
       "      <th>sex_M</th>\n",
       "      <th>smoking_Y</th>\n",
       "      <th>DEATH_EVENT_Y</th>\n",
       "    </tr>\n",
       "  </thead>\n",
       "  <tbody>\n",
       "    <tr>\n",
       "      <th>0</th>\n",
       "      <td>75.0</td>\n",
       "      <td>20.0</td>\n",
       "      <td>265000.00</td>\n",
       "      <td>1.9</td>\n",
       "      <td>130</td>\n",
       "      <td>4.0</td>\n",
       "      <td>False</td>\n",
       "      <td>True</td>\n",
       "      <td>True</td>\n",
       "      <td>False</td>\n",
       "      <td>True</td>\n",
       "    </tr>\n",
       "    <tr>\n",
       "      <th>1</th>\n",
       "      <td>55.0</td>\n",
       "      <td>38.0</td>\n",
       "      <td>263358.03</td>\n",
       "      <td>1.1</td>\n",
       "      <td>136</td>\n",
       "      <td>6.0</td>\n",
       "      <td>False</td>\n",
       "      <td>False</td>\n",
       "      <td>True</td>\n",
       "      <td>False</td>\n",
       "      <td>True</td>\n",
       "    </tr>\n",
       "    <tr>\n",
       "      <th>2</th>\n",
       "      <td>65.0</td>\n",
       "      <td>20.0</td>\n",
       "      <td>162000.00</td>\n",
       "      <td>1.3</td>\n",
       "      <td>129</td>\n",
       "      <td>7.0</td>\n",
       "      <td>False</td>\n",
       "      <td>False</td>\n",
       "      <td>True</td>\n",
       "      <td>True</td>\n",
       "      <td>True</td>\n",
       "    </tr>\n",
       "    <tr>\n",
       "      <th>3</th>\n",
       "      <td>50.0</td>\n",
       "      <td>20.0</td>\n",
       "      <td>210000.00</td>\n",
       "      <td>1.9</td>\n",
       "      <td>137</td>\n",
       "      <td>7.0</td>\n",
       "      <td>True</td>\n",
       "      <td>False</td>\n",
       "      <td>True</td>\n",
       "      <td>False</td>\n",
       "      <td>True</td>\n",
       "    </tr>\n",
       "    <tr>\n",
       "      <th>4</th>\n",
       "      <td>65.0</td>\n",
       "      <td>20.0</td>\n",
       "      <td>327000.00</td>\n",
       "      <td>2.7</td>\n",
       "      <td>116</td>\n",
       "      <td>8.0</td>\n",
       "      <td>True</td>\n",
       "      <td>False</td>\n",
       "      <td>False</td>\n",
       "      <td>False</td>\n",
       "      <td>True</td>\n",
       "    </tr>\n",
       "    <tr>\n",
       "      <th>...</th>\n",
       "      <td>...</td>\n",
       "      <td>...</td>\n",
       "      <td>...</td>\n",
       "      <td>...</td>\n",
       "      <td>...</td>\n",
       "      <td>...</td>\n",
       "      <td>...</td>\n",
       "      <td>...</td>\n",
       "      <td>...</td>\n",
       "      <td>...</td>\n",
       "      <td>...</td>\n",
       "    </tr>\n",
       "    <tr>\n",
       "      <th>294</th>\n",
       "      <td>62.0</td>\n",
       "      <td>38.0</td>\n",
       "      <td>155000.00</td>\n",
       "      <td>1.1</td>\n",
       "      <td>143</td>\n",
       "      <td>270.0</td>\n",
       "      <td>False</td>\n",
       "      <td>True</td>\n",
       "      <td>True</td>\n",
       "      <td>True</td>\n",
       "      <td>False</td>\n",
       "    </tr>\n",
       "    <tr>\n",
       "      <th>295</th>\n",
       "      <td>55.0</td>\n",
       "      <td>NaN</td>\n",
       "      <td>270000.00</td>\n",
       "      <td>1.2</td>\n",
       "      <td>139</td>\n",
       "      <td>271.0</td>\n",
       "      <td>False</td>\n",
       "      <td>False</td>\n",
       "      <td>False</td>\n",
       "      <td>False</td>\n",
       "      <td>False</td>\n",
       "    </tr>\n",
       "    <tr>\n",
       "      <th>296</th>\n",
       "      <td>45.0</td>\n",
       "      <td>60.0</td>\n",
       "      <td>742000.00</td>\n",
       "      <td>0.8</td>\n",
       "      <td>138</td>\n",
       "      <td>278.0</td>\n",
       "      <td>False</td>\n",
       "      <td>False</td>\n",
       "      <td>False</td>\n",
       "      <td>False</td>\n",
       "      <td>False</td>\n",
       "    </tr>\n",
       "    <tr>\n",
       "      <th>297</th>\n",
       "      <td>45.0</td>\n",
       "      <td>38.0</td>\n",
       "      <td>140000.00</td>\n",
       "      <td>1.4</td>\n",
       "      <td>140</td>\n",
       "      <td>280.0</td>\n",
       "      <td>False</td>\n",
       "      <td>False</td>\n",
       "      <td>True</td>\n",
       "      <td>True</td>\n",
       "      <td>False</td>\n",
       "    </tr>\n",
       "    <tr>\n",
       "      <th>298</th>\n",
       "      <td>NaN</td>\n",
       "      <td>45.0</td>\n",
       "      <td>395000.00</td>\n",
       "      <td>1.6</td>\n",
       "      <td>136</td>\n",
       "      <td>285.0</td>\n",
       "      <td>False</td>\n",
       "      <td>False</td>\n",
       "      <td>True</td>\n",
       "      <td>True</td>\n",
       "      <td>False</td>\n",
       "    </tr>\n",
       "  </tbody>\n",
       "</table>\n",
       "<p>299 rows × 11 columns</p>\n",
       "</div>"
      ],
      "text/plain": [
       "      age  ejection_fraction  platelets  serum_creatinine  serum_sodium  \\\n",
       "0    75.0               20.0  265000.00               1.9           130   \n",
       "1    55.0               38.0  263358.03               1.1           136   \n",
       "2    65.0               20.0  162000.00               1.3           129   \n",
       "3    50.0               20.0  210000.00               1.9           137   \n",
       "4    65.0               20.0  327000.00               2.7           116   \n",
       "..    ...                ...        ...               ...           ...   \n",
       "294  62.0               38.0  155000.00               1.1           143   \n",
       "295  55.0                NaN  270000.00               1.2           139   \n",
       "296  45.0               60.0  742000.00               0.8           138   \n",
       "297  45.0               38.0  140000.00               1.4           140   \n",
       "298   NaN               45.0  395000.00               1.6           136   \n",
       "\n",
       "      time  anaemia_Y  high_blood_pressure_Y  sex_M  smoking_Y  DEATH_EVENT_Y  \n",
       "0      4.0      False                   True   True      False           True  \n",
       "1      6.0      False                  False   True      False           True  \n",
       "2      7.0      False                  False   True       True           True  \n",
       "3      7.0       True                  False   True      False           True  \n",
       "4      8.0       True                  False  False      False           True  \n",
       "..     ...        ...                    ...    ...        ...            ...  \n",
       "294  270.0      False                   True   True       True          False  \n",
       "295  271.0      False                  False  False      False          False  \n",
       "296  278.0      False                  False  False      False          False  \n",
       "297  280.0      False                  False   True       True          False  \n",
       "298  285.0      False                  False   True       True          False  \n",
       "\n",
       "[299 rows x 11 columns]"
      ]
     },
     "execution_count": 35,
     "metadata": {},
     "output_type": "execute_result"
    }
   ],
   "source": [
    "pd.concat([df_numeric, df_category_1hot], axis=1)"
   ]
  },
  {
   "cell_type": "markdown",
   "id": "4d6eb7d3-dbec-411c-a031-9e571845ca02",
   "metadata": {
    "id": "4d6eb7d3-dbec-411c-a031-9e571845ca02"
   },
   "source": [
    "---"
   ]
  },
  {
   "cell_type": "markdown",
   "id": "aa4a6dbb-de75-4b2f-8011-fe9965365904",
   "metadata": {
    "tags": [],
    "id": "aa4a6dbb-de75-4b2f-8011-fe9965365904"
   },
   "source": [
    "&nbsp;  \n",
    "#### <font color=\"#127C02\">*Date / Time*</font>\n",
    "In many cases, we need to perform analysis about date and time.  \n",
    "When the data is imported by read_csv(), columns that contain information about date/time are still not ready for further analysis.  \n",
    "We need to convert these columns to the type that suitable for them."
   ]
  },
  {
   "cell_type": "markdown",
   "id": "cfe48cdd-cafc-49a1-8468-460679f53690",
   "metadata": {
    "id": "cfe48cdd-cafc-49a1-8468-460679f53690"
   },
   "source": [
    "\\\n",
    "In this example, we will use the \"person_info.csv\" data.\n",
    "- Name: volunteer's name  \n",
    "- DateOfBirth: volunteer's date of birth  \n",
    "- Height, weight: height and weight\n",
    "- Email: email address\n",
    "- TestA/B/C: scores of test A/B/C, all tests must be taken in the same day\n",
    "- TestDate: date of tests (ddmmyy)\n",
    "- TestStart: test start time\n",
    "- TestEnd: test end time"
   ]
  },
  {
   "cell_type": "code",
   "execution_count": null,
   "id": "e9327563-9e1b-4d5f-a854-e15ca55701c2",
   "metadata": {
    "colab": {
     "base_uri": "https://localhost:8080/",
     "height": 206
    },
    "id": "e9327563-9e1b-4d5f-a854-e15ca55701c2",
    "executionInfo": {
     "status": "ok",
     "timestamp": 1734637615676,
     "user_tz": -420,
     "elapsed": 344,
     "user": {
      "displayName": "Thammakorn SAETHANG",
      "userId": "08182570455347153646"
     }
    },
    "outputId": "b943a34b-f94c-43ba-8b28-b5e0ee698763"
   },
   "outputs": [
    {
     "output_type": "execute_result",
     "data": {
      "text/plain": [
       "              Name  DateOfBirth  Height  Weight               Email  TestA  \\\n",
       "0     Beauden Bree  11 Jan 1985     175      65   BeaudenB@mail.com     70   \n",
       "1   Brendon Wilkie  14 Jun 1979     184      74   BrendonW@mail.com     55   \n",
       "2      Eden Eugene   2 Nov 1990     167      79      EdenE@mail.com     68   \n",
       "3   Lynton Wilburn  24 Aug 1983     155      58    LyntonW@mail.com     25   \n",
       "4  Clemence Gladys   4 Dec 2018     176      80  ClemenceG@mail.com     40   \n",
       "\n",
       "   TestB  TestC  TestDate TestStart TestEnd  \n",
       "0     36     87    250721     14:00   15:10  \n",
       "1     74     42    140921      9:30   11:14  \n",
       "2     11     69    201021     11:00   13:20  \n",
       "3     29     38    100122     10:30   12:00  \n",
       "4     35     78    121221     16:00   18:15  "
      ],
      "text/html": [
       "\n",
       "  <div id=\"df-be927d2d-ad31-411b-afe4-6667ed9596de\" class=\"colab-df-container\">\n",
       "    <div>\n",
       "<style scoped>\n",
       "    .dataframe tbody tr th:only-of-type {\n",
       "        vertical-align: middle;\n",
       "    }\n",
       "\n",
       "    .dataframe tbody tr th {\n",
       "        vertical-align: top;\n",
       "    }\n",
       "\n",
       "    .dataframe thead th {\n",
       "        text-align: right;\n",
       "    }\n",
       "</style>\n",
       "<table border=\"1\" class=\"dataframe\">\n",
       "  <thead>\n",
       "    <tr style=\"text-align: right;\">\n",
       "      <th></th>\n",
       "      <th>Name</th>\n",
       "      <th>DateOfBirth</th>\n",
       "      <th>Height</th>\n",
       "      <th>Weight</th>\n",
       "      <th>Email</th>\n",
       "      <th>TestA</th>\n",
       "      <th>TestB</th>\n",
       "      <th>TestC</th>\n",
       "      <th>TestDate</th>\n",
       "      <th>TestStart</th>\n",
       "      <th>TestEnd</th>\n",
       "    </tr>\n",
       "  </thead>\n",
       "  <tbody>\n",
       "    <tr>\n",
       "      <th>0</th>\n",
       "      <td>Beauden Bree</td>\n",
       "      <td>11 Jan 1985</td>\n",
       "      <td>175</td>\n",
       "      <td>65</td>\n",
       "      <td>BeaudenB@mail.com</td>\n",
       "      <td>70</td>\n",
       "      <td>36</td>\n",
       "      <td>87</td>\n",
       "      <td>250721</td>\n",
       "      <td>14:00</td>\n",
       "      <td>15:10</td>\n",
       "    </tr>\n",
       "    <tr>\n",
       "      <th>1</th>\n",
       "      <td>Brendon Wilkie</td>\n",
       "      <td>14 Jun 1979</td>\n",
       "      <td>184</td>\n",
       "      <td>74</td>\n",
       "      <td>BrendonW@mail.com</td>\n",
       "      <td>55</td>\n",
       "      <td>74</td>\n",
       "      <td>42</td>\n",
       "      <td>140921</td>\n",
       "      <td>9:30</td>\n",
       "      <td>11:14</td>\n",
       "    </tr>\n",
       "    <tr>\n",
       "      <th>2</th>\n",
       "      <td>Eden Eugene</td>\n",
       "      <td>2 Nov 1990</td>\n",
       "      <td>167</td>\n",
       "      <td>79</td>\n",
       "      <td>EdenE@mail.com</td>\n",
       "      <td>68</td>\n",
       "      <td>11</td>\n",
       "      <td>69</td>\n",
       "      <td>201021</td>\n",
       "      <td>11:00</td>\n",
       "      <td>13:20</td>\n",
       "    </tr>\n",
       "    <tr>\n",
       "      <th>3</th>\n",
       "      <td>Lynton Wilburn</td>\n",
       "      <td>24 Aug 1983</td>\n",
       "      <td>155</td>\n",
       "      <td>58</td>\n",
       "      <td>LyntonW@mail.com</td>\n",
       "      <td>25</td>\n",
       "      <td>29</td>\n",
       "      <td>38</td>\n",
       "      <td>100122</td>\n",
       "      <td>10:30</td>\n",
       "      <td>12:00</td>\n",
       "    </tr>\n",
       "    <tr>\n",
       "      <th>4</th>\n",
       "      <td>Clemence Gladys</td>\n",
       "      <td>4 Dec 2018</td>\n",
       "      <td>176</td>\n",
       "      <td>80</td>\n",
       "      <td>ClemenceG@mail.com</td>\n",
       "      <td>40</td>\n",
       "      <td>35</td>\n",
       "      <td>78</td>\n",
       "      <td>121221</td>\n",
       "      <td>16:00</td>\n",
       "      <td>18:15</td>\n",
       "    </tr>\n",
       "  </tbody>\n",
       "</table>\n",
       "</div>\n",
       "    <div class=\"colab-df-buttons\">\n",
       "\n",
       "  <div class=\"colab-df-container\">\n",
       "    <button class=\"colab-df-convert\" onclick=\"convertToInteractive('df-be927d2d-ad31-411b-afe4-6667ed9596de')\"\n",
       "            title=\"Convert this dataframe to an interactive table.\"\n",
       "            style=\"display:none;\">\n",
       "\n",
       "  <svg xmlns=\"http://www.w3.org/2000/svg\" height=\"24px\" viewBox=\"0 -960 960 960\">\n",
       "    <path d=\"M120-120v-720h720v720H120Zm60-500h600v-160H180v160Zm220 220h160v-160H400v160Zm0 220h160v-160H400v160ZM180-400h160v-160H180v160Zm440 0h160v-160H620v160ZM180-180h160v-160H180v160Zm440 0h160v-160H620v160Z\"/>\n",
       "  </svg>\n",
       "    </button>\n",
       "\n",
       "  <style>\n",
       "    .colab-df-container {\n",
       "      display:flex;\n",
       "      gap: 12px;\n",
       "    }\n",
       "\n",
       "    .colab-df-convert {\n",
       "      background-color: #E8F0FE;\n",
       "      border: none;\n",
       "      border-radius: 50%;\n",
       "      cursor: pointer;\n",
       "      display: none;\n",
       "      fill: #1967D2;\n",
       "      height: 32px;\n",
       "      padding: 0 0 0 0;\n",
       "      width: 32px;\n",
       "    }\n",
       "\n",
       "    .colab-df-convert:hover {\n",
       "      background-color: #E2EBFA;\n",
       "      box-shadow: 0px 1px 2px rgba(60, 64, 67, 0.3), 0px 1px 3px 1px rgba(60, 64, 67, 0.15);\n",
       "      fill: #174EA6;\n",
       "    }\n",
       "\n",
       "    .colab-df-buttons div {\n",
       "      margin-bottom: 4px;\n",
       "    }\n",
       "\n",
       "    [theme=dark] .colab-df-convert {\n",
       "      background-color: #3B4455;\n",
       "      fill: #D2E3FC;\n",
       "    }\n",
       "\n",
       "    [theme=dark] .colab-df-convert:hover {\n",
       "      background-color: #434B5C;\n",
       "      box-shadow: 0px 1px 3px 1px rgba(0, 0, 0, 0.15);\n",
       "      filter: drop-shadow(0px 1px 2px rgba(0, 0, 0, 0.3));\n",
       "      fill: #FFFFFF;\n",
       "    }\n",
       "  </style>\n",
       "\n",
       "    <script>\n",
       "      const buttonEl =\n",
       "        document.querySelector('#df-be927d2d-ad31-411b-afe4-6667ed9596de button.colab-df-convert');\n",
       "      buttonEl.style.display =\n",
       "        google.colab.kernel.accessAllowed ? 'block' : 'none';\n",
       "\n",
       "      async function convertToInteractive(key) {\n",
       "        const element = document.querySelector('#df-be927d2d-ad31-411b-afe4-6667ed9596de');\n",
       "        const dataTable =\n",
       "          await google.colab.kernel.invokeFunction('convertToInteractive',\n",
       "                                                    [key], {});\n",
       "        if (!dataTable) return;\n",
       "\n",
       "        const docLinkHtml = 'Like what you see? Visit the ' +\n",
       "          '<a target=\"_blank\" href=https://colab.research.google.com/notebooks/data_table.ipynb>data table notebook</a>'\n",
       "          + ' to learn more about interactive tables.';\n",
       "        element.innerHTML = '';\n",
       "        dataTable['output_type'] = 'display_data';\n",
       "        await google.colab.output.renderOutput(dataTable, element);\n",
       "        const docLink = document.createElement('div');\n",
       "        docLink.innerHTML = docLinkHtml;\n",
       "        element.appendChild(docLink);\n",
       "      }\n",
       "    </script>\n",
       "  </div>\n",
       "\n",
       "\n",
       "<div id=\"df-9ddfea27-062a-47b2-b117-c3afc7a2fa9f\">\n",
       "  <button class=\"colab-df-quickchart\" onclick=\"quickchart('df-9ddfea27-062a-47b2-b117-c3afc7a2fa9f')\"\n",
       "            title=\"Suggest charts\"\n",
       "            style=\"display:none;\">\n",
       "\n",
       "<svg xmlns=\"http://www.w3.org/2000/svg\" height=\"24px\"viewBox=\"0 0 24 24\"\n",
       "     width=\"24px\">\n",
       "    <g>\n",
       "        <path d=\"M19 3H5c-1.1 0-2 .9-2 2v14c0 1.1.9 2 2 2h14c1.1 0 2-.9 2-2V5c0-1.1-.9-2-2-2zM9 17H7v-7h2v7zm4 0h-2V7h2v10zm4 0h-2v-4h2v4z\"/>\n",
       "    </g>\n",
       "</svg>\n",
       "  </button>\n",
       "\n",
       "<style>\n",
       "  .colab-df-quickchart {\n",
       "      --bg-color: #E8F0FE;\n",
       "      --fill-color: #1967D2;\n",
       "      --hover-bg-color: #E2EBFA;\n",
       "      --hover-fill-color: #174EA6;\n",
       "      --disabled-fill-color: #AAA;\n",
       "      --disabled-bg-color: #DDD;\n",
       "  }\n",
       "\n",
       "  [theme=dark] .colab-df-quickchart {\n",
       "      --bg-color: #3B4455;\n",
       "      --fill-color: #D2E3FC;\n",
       "      --hover-bg-color: #434B5C;\n",
       "      --hover-fill-color: #FFFFFF;\n",
       "      --disabled-bg-color: #3B4455;\n",
       "      --disabled-fill-color: #666;\n",
       "  }\n",
       "\n",
       "  .colab-df-quickchart {\n",
       "    background-color: var(--bg-color);\n",
       "    border: none;\n",
       "    border-radius: 50%;\n",
       "    cursor: pointer;\n",
       "    display: none;\n",
       "    fill: var(--fill-color);\n",
       "    height: 32px;\n",
       "    padding: 0;\n",
       "    width: 32px;\n",
       "  }\n",
       "\n",
       "  .colab-df-quickchart:hover {\n",
       "    background-color: var(--hover-bg-color);\n",
       "    box-shadow: 0 1px 2px rgba(60, 64, 67, 0.3), 0 1px 3px 1px rgba(60, 64, 67, 0.15);\n",
       "    fill: var(--button-hover-fill-color);\n",
       "  }\n",
       "\n",
       "  .colab-df-quickchart-complete:disabled,\n",
       "  .colab-df-quickchart-complete:disabled:hover {\n",
       "    background-color: var(--disabled-bg-color);\n",
       "    fill: var(--disabled-fill-color);\n",
       "    box-shadow: none;\n",
       "  }\n",
       "\n",
       "  .colab-df-spinner {\n",
       "    border: 2px solid var(--fill-color);\n",
       "    border-color: transparent;\n",
       "    border-bottom-color: var(--fill-color);\n",
       "    animation:\n",
       "      spin 1s steps(1) infinite;\n",
       "  }\n",
       "\n",
       "  @keyframes spin {\n",
       "    0% {\n",
       "      border-color: transparent;\n",
       "      border-bottom-color: var(--fill-color);\n",
       "      border-left-color: var(--fill-color);\n",
       "    }\n",
       "    20% {\n",
       "      border-color: transparent;\n",
       "      border-left-color: var(--fill-color);\n",
       "      border-top-color: var(--fill-color);\n",
       "    }\n",
       "    30% {\n",
       "      border-color: transparent;\n",
       "      border-left-color: var(--fill-color);\n",
       "      border-top-color: var(--fill-color);\n",
       "      border-right-color: var(--fill-color);\n",
       "    }\n",
       "    40% {\n",
       "      border-color: transparent;\n",
       "      border-right-color: var(--fill-color);\n",
       "      border-top-color: var(--fill-color);\n",
       "    }\n",
       "    60% {\n",
       "      border-color: transparent;\n",
       "      border-right-color: var(--fill-color);\n",
       "    }\n",
       "    80% {\n",
       "      border-color: transparent;\n",
       "      border-right-color: var(--fill-color);\n",
       "      border-bottom-color: var(--fill-color);\n",
       "    }\n",
       "    90% {\n",
       "      border-color: transparent;\n",
       "      border-bottom-color: var(--fill-color);\n",
       "    }\n",
       "  }\n",
       "</style>\n",
       "\n",
       "  <script>\n",
       "    async function quickchart(key) {\n",
       "      const quickchartButtonEl =\n",
       "        document.querySelector('#' + key + ' button');\n",
       "      quickchartButtonEl.disabled = true;  // To prevent multiple clicks.\n",
       "      quickchartButtonEl.classList.add('colab-df-spinner');\n",
       "      try {\n",
       "        const charts = await google.colab.kernel.invokeFunction(\n",
       "            'suggestCharts', [key], {});\n",
       "      } catch (error) {\n",
       "        console.error('Error during call to suggestCharts:', error);\n",
       "      }\n",
       "      quickchartButtonEl.classList.remove('colab-df-spinner');\n",
       "      quickchartButtonEl.classList.add('colab-df-quickchart-complete');\n",
       "    }\n",
       "    (() => {\n",
       "      let quickchartButtonEl =\n",
       "        document.querySelector('#df-9ddfea27-062a-47b2-b117-c3afc7a2fa9f button');\n",
       "      quickchartButtonEl.style.display =\n",
       "        google.colab.kernel.accessAllowed ? 'block' : 'none';\n",
       "    })();\n",
       "  </script>\n",
       "</div>\n",
       "\n",
       "    </div>\n",
       "  </div>\n"
      ],
      "application/vnd.google.colaboratory.intrinsic+json": {
       "type": "dataframe",
       "variable_name": "df_personInfo",
       "summary": "{\n  \"name\": \"df_personInfo\",\n  \"rows\": 5,\n  \"fields\": [\n    {\n      \"column\": \"Name\",\n      \"properties\": {\n        \"dtype\": \"string\",\n        \"num_unique_values\": 5,\n        \"samples\": [\n          \"Brendon Wilkie\",\n          \"Clemence Gladys\",\n          \"Eden Eugene\"\n        ],\n        \"semantic_type\": \"\",\n        \"description\": \"\"\n      }\n    },\n    {\n      \"column\": \"DateOfBirth\",\n      \"properties\": {\n        \"dtype\": \"object\",\n        \"num_unique_values\": 5,\n        \"samples\": [\n          \"14 Jun 1979\",\n          \"4 Dec 2018\",\n          \"2 Nov 1990\"\n        ],\n        \"semantic_type\": \"\",\n        \"description\": \"\"\n      }\n    },\n    {\n      \"column\": \"Height\",\n      \"properties\": {\n        \"dtype\": \"number\",\n        \"std\": 10,\n        \"min\": 155,\n        \"max\": 184,\n        \"num_unique_values\": 5,\n        \"samples\": [\n          184,\n          176,\n          167\n        ],\n        \"semantic_type\": \"\",\n        \"description\": \"\"\n      }\n    },\n    {\n      \"column\": \"Weight\",\n      \"properties\": {\n        \"dtype\": \"number\",\n        \"std\": 9,\n        \"min\": 58,\n        \"max\": 80,\n        \"num_unique_values\": 5,\n        \"samples\": [\n          74,\n          80,\n          79\n        ],\n        \"semantic_type\": \"\",\n        \"description\": \"\"\n      }\n    },\n    {\n      \"column\": \"Email\",\n      \"properties\": {\n        \"dtype\": \"string\",\n        \"num_unique_values\": 5,\n        \"samples\": [\n          \"BrendonW@mail.com\",\n          \"ClemenceG@mail.com\",\n          \"EdenE@mail.com\"\n        ],\n        \"semantic_type\": \"\",\n        \"description\": \"\"\n      }\n    },\n    {\n      \"column\": \"TestA\",\n      \"properties\": {\n        \"dtype\": \"number\",\n        \"std\": 19,\n        \"min\": 25,\n        \"max\": 70,\n        \"num_unique_values\": 5,\n        \"samples\": [\n          55,\n          40,\n          68\n        ],\n        \"semantic_type\": \"\",\n        \"description\": \"\"\n      }\n    },\n    {\n      \"column\": \"TestB\",\n      \"properties\": {\n        \"dtype\": \"number\",\n        \"std\": 22,\n        \"min\": 11,\n        \"max\": 74,\n        \"num_unique_values\": 5,\n        \"samples\": [\n          74,\n          35,\n          11\n        ],\n        \"semantic_type\": \"\",\n        \"description\": \"\"\n      }\n    },\n    {\n      \"column\": \"TestC\",\n      \"properties\": {\n        \"dtype\": \"number\",\n        \"std\": 21,\n        \"min\": 38,\n        \"max\": 87,\n        \"num_unique_values\": 5,\n        \"samples\": [\n          42,\n          78,\n          69\n        ],\n        \"semantic_type\": \"\",\n        \"description\": \"\"\n      }\n    },\n    {\n      \"column\": \"TestDate\",\n      \"properties\": {\n        \"dtype\": \"number\",\n        \"std\": 61901,\n        \"min\": 100122,\n        \"max\": 250721,\n        \"num_unique_values\": 5,\n        \"samples\": [\n          140921,\n          121221,\n          201021\n        ],\n        \"semantic_type\": \"\",\n        \"description\": \"\"\n      }\n    },\n    {\n      \"column\": \"TestStart\",\n      \"properties\": {\n        \"dtype\": \"object\",\n        \"num_unique_values\": 5,\n        \"samples\": [\n          \"9:30\",\n          \"16:00\",\n          \"11:00\"\n        ],\n        \"semantic_type\": \"\",\n        \"description\": \"\"\n      }\n    },\n    {\n      \"column\": \"TestEnd\",\n      \"properties\": {\n        \"dtype\": \"object\",\n        \"num_unique_values\": 5,\n        \"samples\": [\n          \"11:14\",\n          \"18:15\",\n          \"13:20\"\n        ],\n        \"semantic_type\": \"\",\n        \"description\": \"\"\n      }\n    }\n  ]\n}"
      }
     },
     "metadata": {},
     "execution_count": 3
    }
   ],
   "source": [
    "df_personInfo = pd.read_csv(\"https://raw.githubusercontent.com/ThammakornS/ProgStat/main/dataset/person_info.csv\")\n",
    "df_personInfo.head()"
   ]
  },
  {
   "cell_type": "markdown",
   "id": "bdd6d894-f54e-4d6d-b94a-0a9c3a7ce731",
   "metadata": {
    "id": "bdd6d894-f54e-4d6d-b94a-0a9c3a7ce731"
   },
   "source": [
    "\\\n",
    "Dtypes of columns DateOfBirth, TestDate, TestStart and TestEnd are initially not date/time-related."
   ]
  },
  {
   "cell_type": "code",
   "execution_count": null,
   "id": "3c55d3cc-fd16-4328-89b4-992f3bb4dcb8",
   "metadata": {
    "tags": [],
    "id": "3c55d3cc-fd16-4328-89b4-992f3bb4dcb8",
    "outputId": "5c2422bc-613a-43fb-998a-9fb5403d24dc"
   },
   "outputs": [
    {
     "name": "stdout",
     "output_type": "stream",
     "text": [
      "<class 'pandas.core.frame.DataFrame'>\n",
      "RangeIndex: 5 entries, 0 to 4\n",
      "Data columns (total 11 columns):\n",
      " #   Column       Non-Null Count  Dtype \n",
      "---  ------       --------------  ----- \n",
      " 0   Name         5 non-null      object\n",
      " 1   DateOfBirth  5 non-null      object\n",
      " 2   Height       5 non-null      int64 \n",
      " 3   Weight       5 non-null      int64 \n",
      " 4   Email        5 non-null      object\n",
      " 5   TestA        5 non-null      int64 \n",
      " 6   TestB        5 non-null      int64 \n",
      " 7   TestC        5 non-null      int64 \n",
      " 8   TestDate     5 non-null      int64 \n",
      " 9   TestStart    5 non-null      object\n",
      " 10  TestEnd      5 non-null      object\n",
      "dtypes: int64(6), object(5)\n",
      "memory usage: 572.0+ bytes\n"
     ]
    }
   ],
   "source": [
    "df_personInfo.info()"
   ]
  },
  {
   "cell_type": "markdown",
   "id": "5a27ce9e-23a4-4d76-ba49-9518469a2ac9",
   "metadata": {
    "id": "5a27ce9e-23a4-4d76-ba49-9518469a2ac9"
   },
   "source": [
    "\\\n",
    "<font color=\"#029DA3\">**Dtype of date/time**</font>  \n",
    "Change dtype of the column DateOfBirth to 'datetime' using pd.to_datetime():"
   ]
  },
  {
   "cell_type": "code",
   "execution_count": null,
   "id": "06a3afe1-2914-4505-b98e-ccf4d5ffddc1",
   "metadata": {
    "id": "06a3afe1-2914-4505-b98e-ccf4d5ffddc1",
    "outputId": "83ce3905-87aa-4acd-e081-9cbadf0b4a67"
   },
   "outputs": [
    {
     "name": "stdout",
     "output_type": "stream",
     "text": [
      "<class 'pandas.core.frame.DataFrame'>\n",
      "RangeIndex: 5 entries, 0 to 4\n",
      "Data columns (total 11 columns):\n",
      " #   Column       Non-Null Count  Dtype         \n",
      "---  ------       --------------  -----         \n",
      " 0   Name         5 non-null      object        \n",
      " 1   DateOfBirth  5 non-null      datetime64[ns]\n",
      " 2   Height       5 non-null      int64         \n",
      " 3   Weight       5 non-null      int64         \n",
      " 4   Email        5 non-null      object        \n",
      " 5   TestA        5 non-null      int64         \n",
      " 6   TestB        5 non-null      int64         \n",
      " 7   TestC        5 non-null      int64         \n",
      " 8   TestDate     5 non-null      int64         \n",
      " 9   TestStart    5 non-null      object        \n",
      " 10  TestEnd      5 non-null      object        \n",
      "dtypes: datetime64[ns](1), int64(6), object(4)\n",
      "memory usage: 572.0+ bytes\n"
     ]
    }
   ],
   "source": [
    "df_personInfo.DateOfBirth = pd.to_datetime(df_personInfo.DateOfBirth)\n",
    "df_personInfo.info()"
   ]
  },
  {
   "cell_type": "code",
   "execution_count": null,
   "id": "9522294f-eef3-4aac-88e0-391e80fbbc44",
   "metadata": {
    "id": "9522294f-eef3-4aac-88e0-391e80fbbc44",
    "outputId": "f016e101-7357-4881-80a1-9897841c8dd7"
   },
   "outputs": [
    {
     "data": {
      "text/plain": [
       "0   1985-01-11\n",
       "1   1979-06-14\n",
       "2   1990-11-02\n",
       "3   1983-08-24\n",
       "4   2018-12-04\n",
       "Name: DateOfBirth, dtype: datetime64[ns]"
      ]
     },
     "execution_count": 39,
     "metadata": {},
     "output_type": "execute_result"
    }
   ],
   "source": [
    "df_personInfo.DateOfBirth"
   ]
  },
  {
   "cell_type": "markdown",
   "id": "b66c70ea-5c61-4ece-ad34-c776b72e0511",
   "metadata": {
    "id": "b66c70ea-5c61-4ece-ad34-c776b72e0511"
   },
   "source": [
    "\\\n",
    "But, if we use pd.to_datetime() with TestDate, we will get weird results."
   ]
  },
  {
   "cell_type": "code",
   "execution_count": null,
   "id": "ab161a34-933a-4355-9e58-dd4e57fe457f",
   "metadata": {
    "id": "ab161a34-933a-4355-9e58-dd4e57fe457f",
    "outputId": "2ba3ba30-576f-4036-9464-3434e5fd6dcb"
   },
   "outputs": [
    {
     "data": {
      "text/plain": [
       "0    250721\n",
       "1    140921\n",
       "2    201021\n",
       "3    100122\n",
       "4    121221\n",
       "Name: TestDate, dtype: int64"
      ]
     },
     "execution_count": 40,
     "metadata": {},
     "output_type": "execute_result"
    }
   ],
   "source": [
    "df_personInfo.TestDate"
   ]
  },
  {
   "cell_type": "code",
   "execution_count": null,
   "id": "a6ae1735-2a4b-419e-be5b-a8682ced3f7d",
   "metadata": {
    "id": "a6ae1735-2a4b-419e-be5b-a8682ced3f7d",
    "outputId": "7c4d85d0-5cd1-4e79-a667-2d0303281ad1"
   },
   "outputs": [
    {
     "data": {
      "text/plain": [
       "0   1970-01-01 00:00:00.000250721\n",
       "1   1970-01-01 00:00:00.000140921\n",
       "2   1970-01-01 00:00:00.000201021\n",
       "3   1970-01-01 00:00:00.000100122\n",
       "4   1970-01-01 00:00:00.000121221\n",
       "Name: TestDate, dtype: datetime64[ns]"
      ]
     },
     "execution_count": 41,
     "metadata": {},
     "output_type": "execute_result"
    }
   ],
   "source": [
    "pd.to_datetime(df_personInfo.TestDate)"
   ]
  },
  {
   "cell_type": "markdown",
   "id": "c34d647f-9537-46df-b11c-4b2d4a00694e",
   "metadata": {
    "id": "c34d647f-9537-46df-b11c-4b2d4a00694e"
   },
   "source": [
    "\\\n",
    "Since the format of column TestDate is 'ddmmyy', we need to specify this format in pd.to_datetime()."
   ]
  },
  {
   "cell_type": "code",
   "execution_count": null,
   "id": "61c18ead-5952-46c2-87f9-e21494037042",
   "metadata": {
    "id": "61c18ead-5952-46c2-87f9-e21494037042",
    "outputId": "4802eb53-9ba6-4ff5-8844-50dd7b8162f8"
   },
   "outputs": [
    {
     "data": {
      "text/plain": [
       "0   2021-07-25\n",
       "1   2021-09-14\n",
       "2   2021-10-20\n",
       "3   2022-01-10\n",
       "4   2021-12-12\n",
       "Name: TestDate, dtype: datetime64[ns]"
      ]
     },
     "execution_count": 42,
     "metadata": {},
     "output_type": "execute_result"
    }
   ],
   "source": [
    "df_personInfo.TestDate = pd.to_datetime(df_personInfo.TestDate, format=\"%d%m%y\")\n",
    "df_personInfo.TestDate\n",
    "#see https://pandas.pydata.org/docs/reference/api/pandas.to_datetime.html"
   ]
  },
  {
   "cell_type": "markdown",
   "id": "ec19c9dd-183c-41ca-8002-404e2d21b627",
   "metadata": {
    "id": "ec19c9dd-183c-41ca-8002-404e2d21b627"
   },
   "source": [
    "\\\n",
    "<font color=\"#029DA3\">**Calculate age from DateOfBirth**</font>  \n",
    "Suppose we want to know current volunteer age.   \n",
    "To calculate current age, we need to know the current date. To get the current date, we need to import the library datetime."
   ]
  },
  {
   "cell_type": "code",
   "execution_count": null,
   "id": "05a2079b-38a9-44b0-93b6-d20ed7f25813",
   "metadata": {
    "id": "05a2079b-38a9-44b0-93b6-d20ed7f25813"
   },
   "outputs": [],
   "source": [
    "import datetime as dt"
   ]
  },
  {
   "cell_type": "markdown",
   "id": "92734ca7-4c4c-4036-a05f-746a0722f3fa",
   "metadata": {
    "id": "92734ca7-4c4c-4036-a05f-746a0722f3fa"
   },
   "source": [
    "\\\n",
    "Using for loop to calculate current age.  \n",
    "If we consider only difference in years between current year and year of the date of birth (dob)."
   ]
  },
  {
   "cell_type": "code",
   "execution_count": null,
   "id": "193d7c94-93cf-48ee-9afc-09279e6b3af2",
   "metadata": {
    "id": "193d7c94-93cf-48ee-9afc-09279e6b3af2",
    "outputId": "8ef5fd25-607d-452c-b336-1095d3b0a872"
   },
   "outputs": [
    {
     "data": {
      "text/html": [
       "<div>\n",
       "<style scoped>\n",
       "    .dataframe tbody tr th:only-of-type {\n",
       "        vertical-align: middle;\n",
       "    }\n",
       "\n",
       "    .dataframe tbody tr th {\n",
       "        vertical-align: top;\n",
       "    }\n",
       "\n",
       "    .dataframe thead th {\n",
       "        text-align: right;\n",
       "    }\n",
       "</style>\n",
       "<table border=\"1\" class=\"dataframe\">\n",
       "  <thead>\n",
       "    <tr style=\"text-align: right;\">\n",
       "      <th></th>\n",
       "      <th>Name</th>\n",
       "      <th>DateOfBirth</th>\n",
       "      <th>Height</th>\n",
       "      <th>Weight</th>\n",
       "      <th>Email</th>\n",
       "      <th>TestA</th>\n",
       "      <th>TestB</th>\n",
       "      <th>TestC</th>\n",
       "      <th>TestDate</th>\n",
       "      <th>TestStart</th>\n",
       "      <th>TestEnd</th>\n",
       "      <th>age</th>\n",
       "    </tr>\n",
       "  </thead>\n",
       "  <tbody>\n",
       "    <tr>\n",
       "      <th>0</th>\n",
       "      <td>Beauden Bree</td>\n",
       "      <td>1985-01-11</td>\n",
       "      <td>175</td>\n",
       "      <td>65</td>\n",
       "      <td>BeaudenB@mail.com</td>\n",
       "      <td>70</td>\n",
       "      <td>36</td>\n",
       "      <td>87</td>\n",
       "      <td>2021-07-25</td>\n",
       "      <td>14:00</td>\n",
       "      <td>15:10</td>\n",
       "      <td>39</td>\n",
       "    </tr>\n",
       "    <tr>\n",
       "      <th>1</th>\n",
       "      <td>Brendon Wilkie</td>\n",
       "      <td>1979-06-14</td>\n",
       "      <td>184</td>\n",
       "      <td>74</td>\n",
       "      <td>BrendonW@mail.com</td>\n",
       "      <td>55</td>\n",
       "      <td>74</td>\n",
       "      <td>42</td>\n",
       "      <td>2021-09-14</td>\n",
       "      <td>9:30</td>\n",
       "      <td>11:14</td>\n",
       "      <td>45</td>\n",
       "    </tr>\n",
       "    <tr>\n",
       "      <th>2</th>\n",
       "      <td>Eden Eugene</td>\n",
       "      <td>1990-11-02</td>\n",
       "      <td>167</td>\n",
       "      <td>79</td>\n",
       "      <td>EdenE@mail.com</td>\n",
       "      <td>68</td>\n",
       "      <td>11</td>\n",
       "      <td>69</td>\n",
       "      <td>2021-10-20</td>\n",
       "      <td>11:00</td>\n",
       "      <td>13:20</td>\n",
       "      <td>34</td>\n",
       "    </tr>\n",
       "    <tr>\n",
       "      <th>3</th>\n",
       "      <td>Lynton Wilburn</td>\n",
       "      <td>1983-08-24</td>\n",
       "      <td>155</td>\n",
       "      <td>58</td>\n",
       "      <td>LyntonW@mail.com</td>\n",
       "      <td>25</td>\n",
       "      <td>29</td>\n",
       "      <td>38</td>\n",
       "      <td>2022-01-10</td>\n",
       "      <td>10:30</td>\n",
       "      <td>12:00</td>\n",
       "      <td>41</td>\n",
       "    </tr>\n",
       "    <tr>\n",
       "      <th>4</th>\n",
       "      <td>Clemence Gladys</td>\n",
       "      <td>2018-12-04</td>\n",
       "      <td>176</td>\n",
       "      <td>80</td>\n",
       "      <td>ClemenceG@mail.com</td>\n",
       "      <td>40</td>\n",
       "      <td>35</td>\n",
       "      <td>78</td>\n",
       "      <td>2021-12-12</td>\n",
       "      <td>16:00</td>\n",
       "      <td>18:15</td>\n",
       "      <td>6</td>\n",
       "    </tr>\n",
       "  </tbody>\n",
       "</table>\n",
       "</div>"
      ],
      "text/plain": [
       "              Name DateOfBirth  Height  Weight               Email  TestA  \\\n",
       "0     Beauden Bree  1985-01-11     175      65   BeaudenB@mail.com     70   \n",
       "1   Brendon Wilkie  1979-06-14     184      74   BrendonW@mail.com     55   \n",
       "2      Eden Eugene  1990-11-02     167      79      EdenE@mail.com     68   \n",
       "3   Lynton Wilburn  1983-08-24     155      58    LyntonW@mail.com     25   \n",
       "4  Clemence Gladys  2018-12-04     176      80  ClemenceG@mail.com     40   \n",
       "\n",
       "   TestB  TestC   TestDate TestStart TestEnd  age  \n",
       "0     36     87 2021-07-25     14:00   15:10   39  \n",
       "1     74     42 2021-09-14      9:30   11:14   45  \n",
       "2     11     69 2021-10-20     11:00   13:20   34  \n",
       "3     29     38 2022-01-10     10:30   12:00   41  \n",
       "4     35     78 2021-12-12     16:00   18:15    6  "
      ]
     },
     "execution_count": 44,
     "metadata": {},
     "output_type": "execute_result"
    }
   ],
   "source": [
    "ages = []\n",
    "for dob in df_personInfo.DateOfBirth:\n",
    "    ages.append(dt.datetime.now().year - dob.year)\n",
    "ages\n",
    "\n",
    "df_personInfo['age'] = ages\n",
    "df_personInfo.head()"
   ]
  },
  {
   "cell_type": "markdown",
   "id": "158b47f0-dda4-49b9-9119-84b7dc5f3a4d",
   "metadata": {
    "id": "158b47f0-dda4-49b9-9119-84b7dc5f3a4d"
   },
   "source": [
    "However, as you can see \"Clemence Gladys\" born at \"2018-12-04\", she should be 5 years old and 7 month not 6 years old."
   ]
  },
  {
   "cell_type": "markdown",
   "id": "c3892189-9e19-44f1-a73b-b3f272b2aad7",
   "metadata": {
    "id": "c3892189-9e19-44f1-a73b-b3f272b2aad7"
   },
   "source": [
    "\\\n",
    "Now we consider the difference in months between today and dob to calculate age."
   ]
  },
  {
   "cell_type": "markdown",
   "id": "aa123a14-2ab8-465c-856b-df7ad689ac2c",
   "metadata": {
    "id": "aa123a14-2ab8-465c-856b-df7ad689ac2c"
   },
   "source": [
    "In case of Clemence Gladys:"
   ]
  },
  {
   "cell_type": "code",
   "execution_count": null,
   "id": "02000f16-d5bc-4c4d-a647-68129d2e69ba",
   "metadata": {
    "id": "02000f16-d5bc-4c4d-a647-68129d2e69ba",
    "outputId": "7e45ca5a-0904-49ca-d4b5-ae21f9fbf781"
   },
   "outputs": [
    {
     "name": "stdout",
     "output_type": "stream",
     "text": [
      "age year:  5\n",
      "age month: 7\n"
     ]
    }
   ],
   "source": [
    "#in case of Clemence Gladys\n",
    "today = dt.datetime.now()\n",
    "diff_m = 12 * (today.year - df_personInfo.DateOfBirth[4].year) + (\n",
    "    today.month - df_personInfo.DateOfBirth[4].month)\n",
    "print(\"age year: \", diff_m // 12)  # operator // means floor division\n",
    "print(\"age month:\", diff_m % 12)"
   ]
  },
  {
   "cell_type": "markdown",
   "id": "cc2dce24-3ff0-4db9-a5f9-aec4b73edafe",
   "metadata": {
    "id": "cc2dce24-3ff0-4db9-a5f9-aec4b73edafe"
   },
   "source": [
    "Using for loop:"
   ]
  },
  {
   "cell_type": "code",
   "execution_count": null,
   "id": "d9469572-fada-474a-85b1-0895f270b902",
   "metadata": {
    "id": "d9469572-fada-474a-85b1-0895f270b902",
    "outputId": "2fcf6e47-297f-4442-eead-00bdca64f194"
   },
   "outputs": [
    {
     "data": {
      "text/html": [
       "<div>\n",
       "<style scoped>\n",
       "    .dataframe tbody tr th:only-of-type {\n",
       "        vertical-align: middle;\n",
       "    }\n",
       "\n",
       "    .dataframe tbody tr th {\n",
       "        vertical-align: top;\n",
       "    }\n",
       "\n",
       "    .dataframe thead th {\n",
       "        text-align: right;\n",
       "    }\n",
       "</style>\n",
       "<table border=\"1\" class=\"dataframe\">\n",
       "  <thead>\n",
       "    <tr style=\"text-align: right;\">\n",
       "      <th></th>\n",
       "      <th>Name</th>\n",
       "      <th>DateOfBirth</th>\n",
       "      <th>Height</th>\n",
       "      <th>Weight</th>\n",
       "      <th>Email</th>\n",
       "      <th>TestA</th>\n",
       "      <th>TestB</th>\n",
       "      <th>TestC</th>\n",
       "      <th>TestDate</th>\n",
       "      <th>TestStart</th>\n",
       "      <th>TestEnd</th>\n",
       "      <th>age</th>\n",
       "    </tr>\n",
       "  </thead>\n",
       "  <tbody>\n",
       "    <tr>\n",
       "      <th>0</th>\n",
       "      <td>Beauden Bree</td>\n",
       "      <td>1985-01-11</td>\n",
       "      <td>175</td>\n",
       "      <td>65</td>\n",
       "      <td>BeaudenB@mail.com</td>\n",
       "      <td>70</td>\n",
       "      <td>36</td>\n",
       "      <td>87</td>\n",
       "      <td>2021-07-25</td>\n",
       "      <td>14:00</td>\n",
       "      <td>15:10</td>\n",
       "      <td>39</td>\n",
       "    </tr>\n",
       "    <tr>\n",
       "      <th>1</th>\n",
       "      <td>Brendon Wilkie</td>\n",
       "      <td>1979-06-14</td>\n",
       "      <td>184</td>\n",
       "      <td>74</td>\n",
       "      <td>BrendonW@mail.com</td>\n",
       "      <td>55</td>\n",
       "      <td>74</td>\n",
       "      <td>42</td>\n",
       "      <td>2021-09-14</td>\n",
       "      <td>9:30</td>\n",
       "      <td>11:14</td>\n",
       "      <td>45</td>\n",
       "    </tr>\n",
       "    <tr>\n",
       "      <th>2</th>\n",
       "      <td>Eden Eugene</td>\n",
       "      <td>1990-11-02</td>\n",
       "      <td>167</td>\n",
       "      <td>79</td>\n",
       "      <td>EdenE@mail.com</td>\n",
       "      <td>68</td>\n",
       "      <td>11</td>\n",
       "      <td>69</td>\n",
       "      <td>2021-10-20</td>\n",
       "      <td>11:00</td>\n",
       "      <td>13:20</td>\n",
       "      <td>33</td>\n",
       "    </tr>\n",
       "    <tr>\n",
       "      <th>3</th>\n",
       "      <td>Lynton Wilburn</td>\n",
       "      <td>1983-08-24</td>\n",
       "      <td>155</td>\n",
       "      <td>58</td>\n",
       "      <td>LyntonW@mail.com</td>\n",
       "      <td>25</td>\n",
       "      <td>29</td>\n",
       "      <td>38</td>\n",
       "      <td>2022-01-10</td>\n",
       "      <td>10:30</td>\n",
       "      <td>12:00</td>\n",
       "      <td>40</td>\n",
       "    </tr>\n",
       "    <tr>\n",
       "      <th>4</th>\n",
       "      <td>Clemence Gladys</td>\n",
       "      <td>2018-12-04</td>\n",
       "      <td>176</td>\n",
       "      <td>80</td>\n",
       "      <td>ClemenceG@mail.com</td>\n",
       "      <td>40</td>\n",
       "      <td>35</td>\n",
       "      <td>78</td>\n",
       "      <td>2021-12-12</td>\n",
       "      <td>16:00</td>\n",
       "      <td>18:15</td>\n",
       "      <td>5</td>\n",
       "    </tr>\n",
       "  </tbody>\n",
       "</table>\n",
       "</div>"
      ],
      "text/plain": [
       "              Name DateOfBirth  Height  Weight               Email  TestA  \\\n",
       "0     Beauden Bree  1985-01-11     175      65   BeaudenB@mail.com     70   \n",
       "1   Brendon Wilkie  1979-06-14     184      74   BrendonW@mail.com     55   \n",
       "2      Eden Eugene  1990-11-02     167      79      EdenE@mail.com     68   \n",
       "3   Lynton Wilburn  1983-08-24     155      58    LyntonW@mail.com     25   \n",
       "4  Clemence Gladys  2018-12-04     176      80  ClemenceG@mail.com     40   \n",
       "\n",
       "   TestB  TestC   TestDate TestStart TestEnd  age  \n",
       "0     36     87 2021-07-25     14:00   15:10   39  \n",
       "1     74     42 2021-09-14      9:30   11:14   45  \n",
       "2     11     69 2021-10-20     11:00   13:20   33  \n",
       "3     29     38 2022-01-10     10:30   12:00   40  \n",
       "4     35     78 2021-12-12     16:00   18:15    5  "
      ]
     },
     "execution_count": 47,
     "metadata": {},
     "output_type": "execute_result"
    }
   ],
   "source": [
    "today = dt.datetime.now()\n",
    "ages_m = []\n",
    "for dob in df_personInfo.DateOfBirth:\n",
    "    diff_m = 12 * (today.year - dob.year) + (today.month - dob.month)\n",
    "    ages_m.append(diff_m)\n",
    "type(ages_m)\n",
    "\n",
    "df_personInfo['age'] = [m // 12 for m in ages_m]\n",
    "df_personInfo.head()"
   ]
  },
  {
   "cell_type": "markdown",
   "id": "b54ad090-cf9a-46fa-9cbb-621cd01b32ed",
   "metadata": {
    "id": "b54ad090-cf9a-46fa-9cbb-621cd01b32ed"
   },
   "source": [
    "\\\n",
    "Alternatively, we can use list comprehension:"
   ]
  },
  {
   "cell_type": "code",
   "execution_count": null,
   "id": "3a3cfbfa-5e0c-4153-a1d3-581f3f367677",
   "metadata": {
    "id": "3a3cfbfa-5e0c-4153-a1d3-581f3f367677",
    "outputId": "aad21d75-1304-491d-d1b5-4ea03e32805e"
   },
   "outputs": [
    {
     "data": {
      "text/plain": [
       "[39, 45, 33, 40, 5]"
      ]
     },
     "execution_count": 48,
     "metadata": {},
     "output_type": "execute_result"
    }
   ],
   "source": [
    "ages_m = [(12 * (today.year - dob.year) + (today.month - dob.month)) // 12\n",
    "          for dob in df_personInfo.DateOfBirth]\n",
    "ages_m"
   ]
  },
  {
   "cell_type": "markdown",
   "id": "51b1d899-d1ee-4da5-9c5a-2d6149498416",
   "metadata": {
    "tags": [],
    "id": "51b1d899-d1ee-4da5-9c5a-2d6149498416"
   },
   "source": [
    "\\\n",
    "Or using the apply function:"
   ]
  },
  {
   "cell_type": "code",
   "execution_count": null,
   "id": "e77e74a1-2894-4565-bb46-a852079c4094",
   "metadata": {
    "id": "e77e74a1-2894-4565-bb46-a852079c4094",
    "outputId": "bb312a3f-bad7-445d-e0f0-9fddc9fd7dde"
   },
   "outputs": [
    {
     "data": {
      "text/html": [
       "<div>\n",
       "<style scoped>\n",
       "    .dataframe tbody tr th:only-of-type {\n",
       "        vertical-align: middle;\n",
       "    }\n",
       "\n",
       "    .dataframe tbody tr th {\n",
       "        vertical-align: top;\n",
       "    }\n",
       "\n",
       "    .dataframe thead th {\n",
       "        text-align: right;\n",
       "    }\n",
       "</style>\n",
       "<table border=\"1\" class=\"dataframe\">\n",
       "  <thead>\n",
       "    <tr style=\"text-align: right;\">\n",
       "      <th></th>\n",
       "      <th>Name</th>\n",
       "      <th>DateOfBirth</th>\n",
       "      <th>Height</th>\n",
       "      <th>Weight</th>\n",
       "      <th>Email</th>\n",
       "      <th>TestA</th>\n",
       "      <th>TestB</th>\n",
       "      <th>TestC</th>\n",
       "      <th>TestDate</th>\n",
       "      <th>TestStart</th>\n",
       "      <th>TestEnd</th>\n",
       "    </tr>\n",
       "  </thead>\n",
       "  <tbody>\n",
       "    <tr>\n",
       "      <th>0</th>\n",
       "      <td>Beauden Bree</td>\n",
       "      <td>1985-01-11</td>\n",
       "      <td>175</td>\n",
       "      <td>65</td>\n",
       "      <td>BeaudenB@mail.com</td>\n",
       "      <td>70</td>\n",
       "      <td>36</td>\n",
       "      <td>87</td>\n",
       "      <td>2021-07-25</td>\n",
       "      <td>14:00</td>\n",
       "      <td>15:10</td>\n",
       "    </tr>\n",
       "    <tr>\n",
       "      <th>1</th>\n",
       "      <td>Brendon Wilkie</td>\n",
       "      <td>1979-06-14</td>\n",
       "      <td>184</td>\n",
       "      <td>74</td>\n",
       "      <td>BrendonW@mail.com</td>\n",
       "      <td>55</td>\n",
       "      <td>74</td>\n",
       "      <td>42</td>\n",
       "      <td>2021-09-14</td>\n",
       "      <td>9:30</td>\n",
       "      <td>11:14</td>\n",
       "    </tr>\n",
       "    <tr>\n",
       "      <th>2</th>\n",
       "      <td>Eden Eugene</td>\n",
       "      <td>1990-11-02</td>\n",
       "      <td>167</td>\n",
       "      <td>79</td>\n",
       "      <td>EdenE@mail.com</td>\n",
       "      <td>68</td>\n",
       "      <td>11</td>\n",
       "      <td>69</td>\n",
       "      <td>2021-10-20</td>\n",
       "      <td>11:00</td>\n",
       "      <td>13:20</td>\n",
       "    </tr>\n",
       "    <tr>\n",
       "      <th>3</th>\n",
       "      <td>Lynton Wilburn</td>\n",
       "      <td>1983-08-24</td>\n",
       "      <td>155</td>\n",
       "      <td>58</td>\n",
       "      <td>LyntonW@mail.com</td>\n",
       "      <td>25</td>\n",
       "      <td>29</td>\n",
       "      <td>38</td>\n",
       "      <td>2022-01-10</td>\n",
       "      <td>10:30</td>\n",
       "      <td>12:00</td>\n",
       "    </tr>\n",
       "    <tr>\n",
       "      <th>4</th>\n",
       "      <td>Clemence Gladys</td>\n",
       "      <td>2018-12-04</td>\n",
       "      <td>176</td>\n",
       "      <td>80</td>\n",
       "      <td>ClemenceG@mail.com</td>\n",
       "      <td>40</td>\n",
       "      <td>35</td>\n",
       "      <td>78</td>\n",
       "      <td>2021-12-12</td>\n",
       "      <td>16:00</td>\n",
       "      <td>18:15</td>\n",
       "    </tr>\n",
       "  </tbody>\n",
       "</table>\n",
       "</div>"
      ],
      "text/plain": [
       "              Name DateOfBirth  Height  Weight               Email  TestA  \\\n",
       "0     Beauden Bree  1985-01-11     175      65   BeaudenB@mail.com     70   \n",
       "1   Brendon Wilkie  1979-06-14     184      74   BrendonW@mail.com     55   \n",
       "2      Eden Eugene  1990-11-02     167      79      EdenE@mail.com     68   \n",
       "3   Lynton Wilburn  1983-08-24     155      58    LyntonW@mail.com     25   \n",
       "4  Clemence Gladys  2018-12-04     176      80  ClemenceG@mail.com     40   \n",
       "\n",
       "   TestB  TestC   TestDate TestStart TestEnd  \n",
       "0     36     87 2021-07-25     14:00   15:10  \n",
       "1     74     42 2021-09-14      9:30   11:14  \n",
       "2     11     69 2021-10-20     11:00   13:20  \n",
       "3     29     38 2022-01-10     10:30   12:00  \n",
       "4     35     78 2021-12-12     16:00   18:15  "
      ]
     },
     "execution_count": 49,
     "metadata": {},
     "output_type": "execute_result"
    }
   ],
   "source": [
    "#remove column age first\n",
    "del df_personInfo['age']\n",
    "#<or> df_personInfo = df_personIanfo.drop(['age'], axis = 1)\n",
    "df_personInfo.head()"
   ]
  },
  {
   "cell_type": "markdown",
   "id": "b9bc6056-f042-4fe6-8da6-af06bb76e0e6",
   "metadata": {
    "id": "b9bc6056-f042-4fe6-8da6-af06bb76e0e6"
   },
   "source": [
    "Create function for using in apply():"
   ]
  },
  {
   "cell_type": "code",
   "execution_count": null,
   "id": "71f73ac4-64fc-453a-b87c-a61e674a11bd",
   "metadata": {
    "id": "71f73ac4-64fc-453a-b87c-a61e674a11bd",
    "outputId": "0384bf9a-c7ca-4252-f370-b2552f70a04c"
   },
   "outputs": [
    {
     "data": {
      "text/html": [
       "<div>\n",
       "<style scoped>\n",
       "    .dataframe tbody tr th:only-of-type {\n",
       "        vertical-align: middle;\n",
       "    }\n",
       "\n",
       "    .dataframe tbody tr th {\n",
       "        vertical-align: top;\n",
       "    }\n",
       "\n",
       "    .dataframe thead th {\n",
       "        text-align: right;\n",
       "    }\n",
       "</style>\n",
       "<table border=\"1\" class=\"dataframe\">\n",
       "  <thead>\n",
       "    <tr style=\"text-align: right;\">\n",
       "      <th></th>\n",
       "      <th>Name</th>\n",
       "      <th>DateOfBirth</th>\n",
       "      <th>Height</th>\n",
       "      <th>Weight</th>\n",
       "      <th>Email</th>\n",
       "      <th>TestA</th>\n",
       "      <th>TestB</th>\n",
       "      <th>TestC</th>\n",
       "      <th>TestDate</th>\n",
       "      <th>TestStart</th>\n",
       "      <th>TestEnd</th>\n",
       "      <th>age</th>\n",
       "    </tr>\n",
       "  </thead>\n",
       "  <tbody>\n",
       "    <tr>\n",
       "      <th>0</th>\n",
       "      <td>Beauden Bree</td>\n",
       "      <td>1985-01-11</td>\n",
       "      <td>175</td>\n",
       "      <td>65</td>\n",
       "      <td>BeaudenB@mail.com</td>\n",
       "      <td>70</td>\n",
       "      <td>36</td>\n",
       "      <td>87</td>\n",
       "      <td>2021-07-25</td>\n",
       "      <td>14:00</td>\n",
       "      <td>15:10</td>\n",
       "      <td>39</td>\n",
       "    </tr>\n",
       "    <tr>\n",
       "      <th>1</th>\n",
       "      <td>Brendon Wilkie</td>\n",
       "      <td>1979-06-14</td>\n",
       "      <td>184</td>\n",
       "      <td>74</td>\n",
       "      <td>BrendonW@mail.com</td>\n",
       "      <td>55</td>\n",
       "      <td>74</td>\n",
       "      <td>42</td>\n",
       "      <td>2021-09-14</td>\n",
       "      <td>9:30</td>\n",
       "      <td>11:14</td>\n",
       "      <td>45</td>\n",
       "    </tr>\n",
       "    <tr>\n",
       "      <th>2</th>\n",
       "      <td>Eden Eugene</td>\n",
       "      <td>1990-11-02</td>\n",
       "      <td>167</td>\n",
       "      <td>79</td>\n",
       "      <td>EdenE@mail.com</td>\n",
       "      <td>68</td>\n",
       "      <td>11</td>\n",
       "      <td>69</td>\n",
       "      <td>2021-10-20</td>\n",
       "      <td>11:00</td>\n",
       "      <td>13:20</td>\n",
       "      <td>33</td>\n",
       "    </tr>\n",
       "    <tr>\n",
       "      <th>3</th>\n",
       "      <td>Lynton Wilburn</td>\n",
       "      <td>1983-08-24</td>\n",
       "      <td>155</td>\n",
       "      <td>58</td>\n",
       "      <td>LyntonW@mail.com</td>\n",
       "      <td>25</td>\n",
       "      <td>29</td>\n",
       "      <td>38</td>\n",
       "      <td>2022-01-10</td>\n",
       "      <td>10:30</td>\n",
       "      <td>12:00</td>\n",
       "      <td>40</td>\n",
       "    </tr>\n",
       "    <tr>\n",
       "      <th>4</th>\n",
       "      <td>Clemence Gladys</td>\n",
       "      <td>2018-12-04</td>\n",
       "      <td>176</td>\n",
       "      <td>80</td>\n",
       "      <td>ClemenceG@mail.com</td>\n",
       "      <td>40</td>\n",
       "      <td>35</td>\n",
       "      <td>78</td>\n",
       "      <td>2021-12-12</td>\n",
       "      <td>16:00</td>\n",
       "      <td>18:15</td>\n",
       "      <td>5</td>\n",
       "    </tr>\n",
       "  </tbody>\n",
       "</table>\n",
       "</div>"
      ],
      "text/plain": [
       "              Name DateOfBirth  Height  Weight               Email  TestA  \\\n",
       "0     Beauden Bree  1985-01-11     175      65   BeaudenB@mail.com     70   \n",
       "1   Brendon Wilkie  1979-06-14     184      74   BrendonW@mail.com     55   \n",
       "2      Eden Eugene  1990-11-02     167      79      EdenE@mail.com     68   \n",
       "3   Lynton Wilburn  1983-08-24     155      58    LyntonW@mail.com     25   \n",
       "4  Clemence Gladys  2018-12-04     176      80  ClemenceG@mail.com     40   \n",
       "\n",
       "   TestB  TestC   TestDate TestStart TestEnd  age  \n",
       "0     36     87 2021-07-25     14:00   15:10   39  \n",
       "1     74     42 2021-09-14      9:30   11:14   45  \n",
       "2     11     69 2021-10-20     11:00   13:20   33  \n",
       "3     29     38 2022-01-10     10:30   12:00   40  \n",
       "4     35     78 2021-12-12     16:00   18:15    5  "
      ]
     },
     "execution_count": 50,
     "metadata": {},
     "output_type": "execute_result"
    }
   ],
   "source": [
    "def cal_age(dob):\n",
    "    today = dt.datetime.now()\n",
    "    diff_m = 12 * (today.year - dob.year) + (today.month - dob.month)\n",
    "    return diff_m // 12\n",
    "\n",
    "\n",
    "df_personInfo['age'] = df_personInfo.DateOfBirth.apply(cal_age)\n",
    "df_personInfo.head()"
   ]
  },
  {
   "cell_type": "markdown",
   "id": "d08b258a-4c0a-4a5b-b233-4375cf5ef4f7",
   "metadata": {
    "id": "d08b258a-4c0a-4a5b-b233-4375cf5ef4f7"
   },
   "source": [
    "\\\n",
    "Or using lambda:"
   ]
  },
  {
   "cell_type": "code",
   "execution_count": null,
   "id": "d9a85c2b-3723-4539-935e-0c7de1f6e000",
   "metadata": {
    "id": "d9a85c2b-3723-4539-935e-0c7de1f6e000",
    "outputId": "0c86ed2d-c4cf-4100-e55d-1f01e10933bd"
   },
   "outputs": [
    {
     "data": {
      "text/html": [
       "<div>\n",
       "<style scoped>\n",
       "    .dataframe tbody tr th:only-of-type {\n",
       "        vertical-align: middle;\n",
       "    }\n",
       "\n",
       "    .dataframe tbody tr th {\n",
       "        vertical-align: top;\n",
       "    }\n",
       "\n",
       "    .dataframe thead th {\n",
       "        text-align: right;\n",
       "    }\n",
       "</style>\n",
       "<table border=\"1\" class=\"dataframe\">\n",
       "  <thead>\n",
       "    <tr style=\"text-align: right;\">\n",
       "      <th></th>\n",
       "      <th>Name</th>\n",
       "      <th>DateOfBirth</th>\n",
       "      <th>Height</th>\n",
       "      <th>Weight</th>\n",
       "      <th>Email</th>\n",
       "      <th>TestA</th>\n",
       "      <th>TestB</th>\n",
       "      <th>TestC</th>\n",
       "      <th>TestDate</th>\n",
       "      <th>TestStart</th>\n",
       "      <th>TestEnd</th>\n",
       "      <th>age</th>\n",
       "    </tr>\n",
       "  </thead>\n",
       "  <tbody>\n",
       "    <tr>\n",
       "      <th>0</th>\n",
       "      <td>Beauden Bree</td>\n",
       "      <td>1985-01-11</td>\n",
       "      <td>175</td>\n",
       "      <td>65</td>\n",
       "      <td>BeaudenB@mail.com</td>\n",
       "      <td>70</td>\n",
       "      <td>36</td>\n",
       "      <td>87</td>\n",
       "      <td>2021-07-25</td>\n",
       "      <td>14:00</td>\n",
       "      <td>15:10</td>\n",
       "      <td>39</td>\n",
       "    </tr>\n",
       "    <tr>\n",
       "      <th>1</th>\n",
       "      <td>Brendon Wilkie</td>\n",
       "      <td>1979-06-14</td>\n",
       "      <td>184</td>\n",
       "      <td>74</td>\n",
       "      <td>BrendonW@mail.com</td>\n",
       "      <td>55</td>\n",
       "      <td>74</td>\n",
       "      <td>42</td>\n",
       "      <td>2021-09-14</td>\n",
       "      <td>9:30</td>\n",
       "      <td>11:14</td>\n",
       "      <td>45</td>\n",
       "    </tr>\n",
       "    <tr>\n",
       "      <th>2</th>\n",
       "      <td>Eden Eugene</td>\n",
       "      <td>1990-11-02</td>\n",
       "      <td>167</td>\n",
       "      <td>79</td>\n",
       "      <td>EdenE@mail.com</td>\n",
       "      <td>68</td>\n",
       "      <td>11</td>\n",
       "      <td>69</td>\n",
       "      <td>2021-10-20</td>\n",
       "      <td>11:00</td>\n",
       "      <td>13:20</td>\n",
       "      <td>33</td>\n",
       "    </tr>\n",
       "    <tr>\n",
       "      <th>3</th>\n",
       "      <td>Lynton Wilburn</td>\n",
       "      <td>1983-08-24</td>\n",
       "      <td>155</td>\n",
       "      <td>58</td>\n",
       "      <td>LyntonW@mail.com</td>\n",
       "      <td>25</td>\n",
       "      <td>29</td>\n",
       "      <td>38</td>\n",
       "      <td>2022-01-10</td>\n",
       "      <td>10:30</td>\n",
       "      <td>12:00</td>\n",
       "      <td>40</td>\n",
       "    </tr>\n",
       "    <tr>\n",
       "      <th>4</th>\n",
       "      <td>Clemence Gladys</td>\n",
       "      <td>2018-12-04</td>\n",
       "      <td>176</td>\n",
       "      <td>80</td>\n",
       "      <td>ClemenceG@mail.com</td>\n",
       "      <td>40</td>\n",
       "      <td>35</td>\n",
       "      <td>78</td>\n",
       "      <td>2021-12-12</td>\n",
       "      <td>16:00</td>\n",
       "      <td>18:15</td>\n",
       "      <td>5</td>\n",
       "    </tr>\n",
       "  </tbody>\n",
       "</table>\n",
       "</div>"
      ],
      "text/plain": [
       "              Name DateOfBirth  Height  Weight               Email  TestA  \\\n",
       "0     Beauden Bree  1985-01-11     175      65   BeaudenB@mail.com     70   \n",
       "1   Brendon Wilkie  1979-06-14     184      74   BrendonW@mail.com     55   \n",
       "2      Eden Eugene  1990-11-02     167      79      EdenE@mail.com     68   \n",
       "3   Lynton Wilburn  1983-08-24     155      58    LyntonW@mail.com     25   \n",
       "4  Clemence Gladys  2018-12-04     176      80  ClemenceG@mail.com     40   \n",
       "\n",
       "   TestB  TestC   TestDate TestStart TestEnd  age  \n",
       "0     36     87 2021-07-25     14:00   15:10   39  \n",
       "1     74     42 2021-09-14      9:30   11:14   45  \n",
       "2     11     69 2021-10-20     11:00   13:20   33  \n",
       "3     29     38 2022-01-10     10:30   12:00   40  \n",
       "4     35     78 2021-12-12     16:00   18:15    5  "
      ]
     },
     "execution_count": 51,
     "metadata": {},
     "output_type": "execute_result"
    }
   ],
   "source": [
    "#using apply and lambda\n",
    "del df_personInfo['age']\n",
    "today = dt.datetime.now()\n",
    "df_personInfo['age'] = df_personInfo.DateOfBirth.apply(lambda dob: (12 * (\n",
    "    today.year - dob.year) + (today.month - dob.month)) // 12)\n",
    "df_personInfo.head()"
   ]
  },
  {
   "cell_type": "markdown",
   "id": "3c4a0aae-a532-4ef3-8bd0-8417ba6dc89a",
   "metadata": {
    "id": "3c4a0aae-a532-4ef3-8bd0-8417ba6dc89a"
   },
   "source": [
    "\\\n",
    "<font color=\"#029DA3\">**Calculate age at a specific date**</font>  \n",
    "Suppose we want to know volunteer age at the test date.  \n",
    "We need to calculate the difference between the test date and dob."
   ]
  },
  {
   "cell_type": "markdown",
   "id": "04d5d4a5-c552-4540-9ca2-4cd32b5373fb",
   "metadata": {
    "id": "04d5d4a5-c552-4540-9ca2-4cd32b5373fb"
   },
   "source": [
    "\\\n",
    "Using apply():"
   ]
  },
  {
   "cell_type": "code",
   "execution_count": null,
   "id": "5798ce8f-e5cf-415a-ad3f-047b3f3e1a38",
   "metadata": {
    "id": "5798ce8f-e5cf-415a-ad3f-047b3f3e1a38",
    "outputId": "c6e9cb82-6ca5-4257-e3b2-ef10634fea84"
   },
   "outputs": [
    {
     "data": {
      "text/html": [
       "<div>\n",
       "<style scoped>\n",
       "    .dataframe tbody tr th:only-of-type {\n",
       "        vertical-align: middle;\n",
       "    }\n",
       "\n",
       "    .dataframe tbody tr th {\n",
       "        vertical-align: top;\n",
       "    }\n",
       "\n",
       "    .dataframe thead th {\n",
       "        text-align: right;\n",
       "    }\n",
       "</style>\n",
       "<table border=\"1\" class=\"dataframe\">\n",
       "  <thead>\n",
       "    <tr style=\"text-align: right;\">\n",
       "      <th></th>\n",
       "      <th>Name</th>\n",
       "      <th>DateOfBirth</th>\n",
       "      <th>Height</th>\n",
       "      <th>Weight</th>\n",
       "      <th>Email</th>\n",
       "      <th>TestA</th>\n",
       "      <th>TestB</th>\n",
       "      <th>TestC</th>\n",
       "      <th>TestDate</th>\n",
       "      <th>TestStart</th>\n",
       "      <th>TestEnd</th>\n",
       "      <th>age</th>\n",
       "      <th>age_testDate</th>\n",
       "    </tr>\n",
       "  </thead>\n",
       "  <tbody>\n",
       "    <tr>\n",
       "      <th>0</th>\n",
       "      <td>Beauden Bree</td>\n",
       "      <td>1985-01-11</td>\n",
       "      <td>175</td>\n",
       "      <td>65</td>\n",
       "      <td>BeaudenB@mail.com</td>\n",
       "      <td>70</td>\n",
       "      <td>36</td>\n",
       "      <td>87</td>\n",
       "      <td>2021-07-25</td>\n",
       "      <td>14:00</td>\n",
       "      <td>15:10</td>\n",
       "      <td>39</td>\n",
       "      <td>36</td>\n",
       "    </tr>\n",
       "    <tr>\n",
       "      <th>1</th>\n",
       "      <td>Brendon Wilkie</td>\n",
       "      <td>1979-06-14</td>\n",
       "      <td>184</td>\n",
       "      <td>74</td>\n",
       "      <td>BrendonW@mail.com</td>\n",
       "      <td>55</td>\n",
       "      <td>74</td>\n",
       "      <td>42</td>\n",
       "      <td>2021-09-14</td>\n",
       "      <td>9:30</td>\n",
       "      <td>11:14</td>\n",
       "      <td>45</td>\n",
       "      <td>42</td>\n",
       "    </tr>\n",
       "    <tr>\n",
       "      <th>2</th>\n",
       "      <td>Eden Eugene</td>\n",
       "      <td>1990-11-02</td>\n",
       "      <td>167</td>\n",
       "      <td>79</td>\n",
       "      <td>EdenE@mail.com</td>\n",
       "      <td>68</td>\n",
       "      <td>11</td>\n",
       "      <td>69</td>\n",
       "      <td>2021-10-20</td>\n",
       "      <td>11:00</td>\n",
       "      <td>13:20</td>\n",
       "      <td>33</td>\n",
       "      <td>30</td>\n",
       "    </tr>\n",
       "    <tr>\n",
       "      <th>3</th>\n",
       "      <td>Lynton Wilburn</td>\n",
       "      <td>1983-08-24</td>\n",
       "      <td>155</td>\n",
       "      <td>58</td>\n",
       "      <td>LyntonW@mail.com</td>\n",
       "      <td>25</td>\n",
       "      <td>29</td>\n",
       "      <td>38</td>\n",
       "      <td>2022-01-10</td>\n",
       "      <td>10:30</td>\n",
       "      <td>12:00</td>\n",
       "      <td>40</td>\n",
       "      <td>38</td>\n",
       "    </tr>\n",
       "    <tr>\n",
       "      <th>4</th>\n",
       "      <td>Clemence Gladys</td>\n",
       "      <td>2018-12-04</td>\n",
       "      <td>176</td>\n",
       "      <td>80</td>\n",
       "      <td>ClemenceG@mail.com</td>\n",
       "      <td>40</td>\n",
       "      <td>35</td>\n",
       "      <td>78</td>\n",
       "      <td>2021-12-12</td>\n",
       "      <td>16:00</td>\n",
       "      <td>18:15</td>\n",
       "      <td>5</td>\n",
       "      <td>3</td>\n",
       "    </tr>\n",
       "  </tbody>\n",
       "</table>\n",
       "</div>"
      ],
      "text/plain": [
       "              Name DateOfBirth  Height  Weight               Email  TestA  \\\n",
       "0     Beauden Bree  1985-01-11     175      65   BeaudenB@mail.com     70   \n",
       "1   Brendon Wilkie  1979-06-14     184      74   BrendonW@mail.com     55   \n",
       "2      Eden Eugene  1990-11-02     167      79      EdenE@mail.com     68   \n",
       "3   Lynton Wilburn  1983-08-24     155      58    LyntonW@mail.com     25   \n",
       "4  Clemence Gladys  2018-12-04     176      80  ClemenceG@mail.com     40   \n",
       "\n",
       "   TestB  TestC   TestDate TestStart TestEnd  age  age_testDate  \n",
       "0     36     87 2021-07-25     14:00   15:10   39            36  \n",
       "1     74     42 2021-09-14      9:30   11:14   45            42  \n",
       "2     11     69 2021-10-20     11:00   13:20   33            30  \n",
       "3     29     38 2022-01-10     10:30   12:00   40            38  \n",
       "4     35     78 2021-12-12     16:00   18:15    5             3  "
      ]
     },
     "execution_count": 52,
     "metadata": {},
     "output_type": "execute_result"
    }
   ],
   "source": [
    "#using apply and function\n",
    "def cal_age_testDate(row):\n",
    "    diff_m = 12 * (row['TestDate'].year - row['DateOfBirth'].year) + (\n",
    "        row['TestDate'].month - row['DateOfBirth'].month)\n",
    "    return diff_m // 12\n",
    "\n",
    "\n",
    "df_personInfo['age_testDate'] = df_personInfo.apply(cal_age_testDate, axis=1)\n",
    "df_personInfo.head()"
   ]
  },
  {
   "cell_type": "markdown",
   "id": "c916833c-6705-4ba9-a2f4-692fcd16e0dc",
   "metadata": {
    "id": "c916833c-6705-4ba9-a2f4-692fcd16e0dc"
   },
   "source": [
    "\\\n",
    "Using apply & lambda:"
   ]
  },
  {
   "cell_type": "code",
   "execution_count": null,
   "id": "6a842a30-6e76-41ba-b430-f3b557fee89c",
   "metadata": {
    "id": "6a842a30-6e76-41ba-b430-f3b557fee89c",
    "outputId": "3d25b6e2-ce27-4409-a3c8-44eeebe8af62"
   },
   "outputs": [
    {
     "data": {
      "text/html": [
       "<div>\n",
       "<style scoped>\n",
       "    .dataframe tbody tr th:only-of-type {\n",
       "        vertical-align: middle;\n",
       "    }\n",
       "\n",
       "    .dataframe tbody tr th {\n",
       "        vertical-align: top;\n",
       "    }\n",
       "\n",
       "    .dataframe thead th {\n",
       "        text-align: right;\n",
       "    }\n",
       "</style>\n",
       "<table border=\"1\" class=\"dataframe\">\n",
       "  <thead>\n",
       "    <tr style=\"text-align: right;\">\n",
       "      <th></th>\n",
       "      <th>Name</th>\n",
       "      <th>DateOfBirth</th>\n",
       "      <th>Height</th>\n",
       "      <th>Weight</th>\n",
       "      <th>Email</th>\n",
       "      <th>TestA</th>\n",
       "      <th>TestB</th>\n",
       "      <th>TestC</th>\n",
       "      <th>TestDate</th>\n",
       "      <th>TestStart</th>\n",
       "      <th>TestEnd</th>\n",
       "      <th>age</th>\n",
       "      <th>age_testDate</th>\n",
       "    </tr>\n",
       "  </thead>\n",
       "  <tbody>\n",
       "    <tr>\n",
       "      <th>0</th>\n",
       "      <td>Beauden Bree</td>\n",
       "      <td>1985-01-11</td>\n",
       "      <td>175</td>\n",
       "      <td>65</td>\n",
       "      <td>BeaudenB@mail.com</td>\n",
       "      <td>70</td>\n",
       "      <td>36</td>\n",
       "      <td>87</td>\n",
       "      <td>2021-07-25</td>\n",
       "      <td>14:00</td>\n",
       "      <td>15:10</td>\n",
       "      <td>39</td>\n",
       "      <td>36</td>\n",
       "    </tr>\n",
       "    <tr>\n",
       "      <th>1</th>\n",
       "      <td>Brendon Wilkie</td>\n",
       "      <td>1979-06-14</td>\n",
       "      <td>184</td>\n",
       "      <td>74</td>\n",
       "      <td>BrendonW@mail.com</td>\n",
       "      <td>55</td>\n",
       "      <td>74</td>\n",
       "      <td>42</td>\n",
       "      <td>2021-09-14</td>\n",
       "      <td>9:30</td>\n",
       "      <td>11:14</td>\n",
       "      <td>45</td>\n",
       "      <td>42</td>\n",
       "    </tr>\n",
       "    <tr>\n",
       "      <th>2</th>\n",
       "      <td>Eden Eugene</td>\n",
       "      <td>1990-11-02</td>\n",
       "      <td>167</td>\n",
       "      <td>79</td>\n",
       "      <td>EdenE@mail.com</td>\n",
       "      <td>68</td>\n",
       "      <td>11</td>\n",
       "      <td>69</td>\n",
       "      <td>2021-10-20</td>\n",
       "      <td>11:00</td>\n",
       "      <td>13:20</td>\n",
       "      <td>33</td>\n",
       "      <td>30</td>\n",
       "    </tr>\n",
       "    <tr>\n",
       "      <th>3</th>\n",
       "      <td>Lynton Wilburn</td>\n",
       "      <td>1983-08-24</td>\n",
       "      <td>155</td>\n",
       "      <td>58</td>\n",
       "      <td>LyntonW@mail.com</td>\n",
       "      <td>25</td>\n",
       "      <td>29</td>\n",
       "      <td>38</td>\n",
       "      <td>2022-01-10</td>\n",
       "      <td>10:30</td>\n",
       "      <td>12:00</td>\n",
       "      <td>40</td>\n",
       "      <td>38</td>\n",
       "    </tr>\n",
       "    <tr>\n",
       "      <th>4</th>\n",
       "      <td>Clemence Gladys</td>\n",
       "      <td>2018-12-04</td>\n",
       "      <td>176</td>\n",
       "      <td>80</td>\n",
       "      <td>ClemenceG@mail.com</td>\n",
       "      <td>40</td>\n",
       "      <td>35</td>\n",
       "      <td>78</td>\n",
       "      <td>2021-12-12</td>\n",
       "      <td>16:00</td>\n",
       "      <td>18:15</td>\n",
       "      <td>5</td>\n",
       "      <td>3</td>\n",
       "    </tr>\n",
       "  </tbody>\n",
       "</table>\n",
       "</div>"
      ],
      "text/plain": [
       "              Name DateOfBirth  Height  Weight               Email  TestA  \\\n",
       "0     Beauden Bree  1985-01-11     175      65   BeaudenB@mail.com     70   \n",
       "1   Brendon Wilkie  1979-06-14     184      74   BrendonW@mail.com     55   \n",
       "2      Eden Eugene  1990-11-02     167      79      EdenE@mail.com     68   \n",
       "3   Lynton Wilburn  1983-08-24     155      58    LyntonW@mail.com     25   \n",
       "4  Clemence Gladys  2018-12-04     176      80  ClemenceG@mail.com     40   \n",
       "\n",
       "   TestB  TestC   TestDate TestStart TestEnd  age  age_testDate  \n",
       "0     36     87 2021-07-25     14:00   15:10   39            36  \n",
       "1     74     42 2021-09-14      9:30   11:14   45            42  \n",
       "2     11     69 2021-10-20     11:00   13:20   33            30  \n",
       "3     29     38 2022-01-10     10:30   12:00   40            38  \n",
       "4     35     78 2021-12-12     16:00   18:15    5             3  "
      ]
     },
     "execution_count": 53,
     "metadata": {},
     "output_type": "execute_result"
    }
   ],
   "source": [
    "#using apply and lambda\n",
    "df_personInfo['age_testDate'] = df_personInfo.apply(\n",
    "    lambda row: (12 * (row['TestDate'].year - row['DateOfBirth'].year) +\n",
    "                 (row['TestDate'].month - row['DateOfBirth'].month)) // 12,\n",
    "    axis=1)\n",
    "df_personInfo.head()"
   ]
  },
  {
   "cell_type": "markdown",
   "id": "7063630f-d80c-40a0-8659-acc9a6c9ef3c",
   "metadata": {
    "id": "7063630f-d80c-40a0-8659-acc9a6c9ef3c"
   },
   "source": [
    "\\\n",
    "<font color=\"#029DA3\">**Time**</font>  \n",
    "If we want to calculate test duration from TestStart and TestEnd.  \n",
    "First, we need to convert columns TestStart and TestEnd to time.  "
   ]
  },
  {
   "cell_type": "code",
   "execution_count": null,
   "id": "f9d4dd73-b103-4037-aa74-25c19b121103",
   "metadata": {
    "id": "f9d4dd73-b103-4037-aa74-25c19b121103",
    "outputId": "1021434c-98a8-4869-dae5-92b92cea3196"
   },
   "outputs": [
    {
     "name": "stdout",
     "output_type": "stream",
     "text": [
      "<class 'pandas.core.frame.DataFrame'>\n",
      "RangeIndex: 5 entries, 0 to 4\n",
      "Data columns (total 13 columns):\n",
      " #   Column        Non-Null Count  Dtype         \n",
      "---  ------        --------------  -----         \n",
      " 0   Name          5 non-null      object        \n",
      " 1   DateOfBirth   5 non-null      datetime64[ns]\n",
      " 2   Height        5 non-null      int64         \n",
      " 3   Weight        5 non-null      int64         \n",
      " 4   Email         5 non-null      object        \n",
      " 5   TestA         5 non-null      int64         \n",
      " 6   TestB         5 non-null      int64         \n",
      " 7   TestC         5 non-null      int64         \n",
      " 8   TestDate      5 non-null      datetime64[ns]\n",
      " 9   TestStart     5 non-null      object        \n",
      " 10  TestEnd       5 non-null      object        \n",
      " 11  age           5 non-null      int64         \n",
      " 12  age_testDate  5 non-null      int64         \n",
      "dtypes: datetime64[ns](2), int64(7), object(4)\n",
      "memory usage: 652.0+ bytes\n"
     ]
    }
   ],
   "source": [
    "df_personInfo.info()"
   ]
  },
  {
   "cell_type": "markdown",
   "id": "b4699638-c979-42e4-907b-4f11ca317b89",
   "metadata": {
    "id": "b4699638-c979-42e4-907b-4f11ca317b89"
   },
   "source": [
    "\\\n",
    "You can simply use pd.to_datetime().  \n",
    "However, current year and month will added in the conversion."
   ]
  },
  {
   "cell_type": "code",
   "execution_count": null,
   "id": "cb4a1bf4-d8ff-43cd-979e-5f19982801b6",
   "metadata": {
    "id": "cb4a1bf4-d8ff-43cd-979e-5f19982801b6",
    "outputId": "4121206e-3f35-49c7-86c4-00ae54013119"
   },
   "outputs": [
    {
     "name": "stdout",
     "output_type": "stream",
     "text": [
      "0   2024-07-18 14:00:00\n",
      "1   2024-07-18 09:30:00\n",
      "2   2024-07-18 11:00:00\n",
      "3   2024-07-18 10:30:00\n",
      "4   2024-07-18 16:00:00\n",
      "Name: TestStart, dtype: datetime64[ns]\n",
      "0   2024-07-18 15:10:00\n",
      "1   2024-07-18 11:14:00\n",
      "2   2024-07-18 13:20:00\n",
      "3   2024-07-18 12:00:00\n",
      "4   2024-07-18 18:15:00\n",
      "Name: TestEnd, dtype: datetime64[ns]\n"
     ]
    },
    {
     "name": "stderr",
     "output_type": "stream",
     "text": [
      "C:\\Users\\Thammakorn\\AppData\\Local\\Temp\\ipykernel_28572\\2026984363.py:1: UserWarning: Could not infer format, so each element will be parsed individually, falling back to `dateutil`. To ensure parsing is consistent and as-expected, please specify a format.\n",
      "  start_test = pd.to_datetime(df_personInfo.TestStart)\n",
      "C:\\Users\\Thammakorn\\AppData\\Local\\Temp\\ipykernel_28572\\2026984363.py:2: UserWarning: Could not infer format, so each element will be parsed individually, falling back to `dateutil`. To ensure parsing is consistent and as-expected, please specify a format.\n",
      "  end_test = pd.to_datetime(df_personInfo.TestEnd)\n"
     ]
    }
   ],
   "source": [
    "start_test = pd.to_datetime(df_personInfo.TestStart)\n",
    "end_test = pd.to_datetime(df_personInfo.TestEnd)\n",
    "\n",
    "print(start_test)\n",
    "print(end_test)"
   ]
  },
  {
   "cell_type": "markdown",
   "id": "e4a95321-5d39-4866-bbec-7d741adba218",
   "metadata": {
    "id": "e4a95321-5d39-4866-bbec-7d741adba218"
   },
   "source": [
    "\\\n",
    "To correct this problem, we need to include information of TestDate before the conversion.  \n",
    "However, we need to convert TestDate to string first."
   ]
  },
  {
   "cell_type": "code",
   "execution_count": null,
   "id": "7e672918-9b44-4c89-8fc6-61ad700d5540",
   "metadata": {
    "id": "7e672918-9b44-4c89-8fc6-61ad700d5540",
    "outputId": "b596ffda-5ecb-4fad-c90c-c4beb1454c28"
   },
   "outputs": [
    {
     "data": {
      "text/plain": [
       "['2021-07-25 ', '2021-09-14 ', '2021-10-20 ', '2022-01-10 ', '2021-12-12 ']"
      ]
     },
     "execution_count": 56,
     "metadata": {},
     "output_type": "execute_result"
    }
   ],
   "source": [
    "TestDate_str = [\n",
    "    d.strftime('%Y-%m-%d') + \" \" for d in df_personInfo.TestDate\n",
    "]  #here we put space after date to separate date and time when concatenating date and time\n",
    "TestDate_str"
   ]
  },
  {
   "cell_type": "markdown",
   "id": "faef20fc-a146-4495-b916-b563665e2668",
   "metadata": {
    "id": "faef20fc-a146-4495-b916-b563665e2668"
   },
   "source": [
    "Concatenate TestDate_str with TestStart and TestEnd.  \n",
    "Then covert to datetime type."
   ]
  },
  {
   "cell_type": "code",
   "execution_count": null,
   "id": "4c077c12-8d93-42d6-a958-872504169213",
   "metadata": {
    "id": "4c077c12-8d93-42d6-a958-872504169213",
    "outputId": "33c94754-e180-4633-f160-e2aa59237335"
   },
   "outputs": [
    {
     "name": "stdout",
     "output_type": "stream",
     "text": [
      "0   2021-07-25 14:00:00\n",
      "1   2021-09-14 09:30:00\n",
      "2   2021-10-20 11:00:00\n",
      "3   2022-01-10 10:30:00\n",
      "4   2021-12-12 16:00:00\n",
      "Name: TestStart, dtype: datetime64[ns]\n",
      "0   2021-07-25 15:10:00\n",
      "1   2021-09-14 11:14:00\n",
      "2   2021-10-20 13:20:00\n",
      "3   2022-01-10 12:00:00\n",
      "4   2021-12-12 18:15:00\n",
      "Name: TestEnd, dtype: datetime64[ns]\n"
     ]
    }
   ],
   "source": [
    "start_test = pd.to_datetime(TestDate_str + df_personInfo.TestStart)\n",
    "end_test = pd.to_datetime(TestDate_str + df_personInfo.TestEnd)\n",
    "\n",
    "print(start_test)\n",
    "print(end_test)"
   ]
  },
  {
   "cell_type": "markdown",
   "id": "9723a6da-98b1-47d1-9704-4dca95a0f0f8",
   "metadata": {
    "id": "9723a6da-98b1-47d1-9704-4dca95a0f0f8"
   },
   "source": [
    "\\\n",
    "We can simply use pd.date_range() to calculate for a test duration.  \n",
    "However, the result will exceed 1 minute."
   ]
  },
  {
   "cell_type": "code",
   "execution_count": null,
   "id": "27a41d73-b0ed-4411-9d93-f2b55717221f",
   "metadata": {
    "id": "27a41d73-b0ed-4411-9d93-f2b55717221f",
    "outputId": "d156059c-f75d-4701-c7d8-928a37598ee9"
   },
   "outputs": [
    {
     "name": "stdout",
     "output_type": "stream",
     "text": [
      "71\n",
      "105\n",
      "141\n",
      "91\n",
      "136\n"
     ]
    }
   ],
   "source": [
    "for i in range(len(start_test)):\n",
    "    diff = len(pd.date_range(start=start_test[i], end=end_test[i], freq='min'))\n",
    "    print(diff)"
   ]
  },
  {
   "cell_type": "markdown",
   "id": "d43dc566-419f-4de6-98ea-25dcc651894f",
   "metadata": {
    "id": "d43dc566-419f-4de6-98ea-25dcc651894f"
   },
   "source": [
    "\\\n",
    "So, we just minus 1:"
   ]
  },
  {
   "cell_type": "code",
   "execution_count": null,
   "id": "66dff531-1b80-4b4c-9708-5cea50ab90f4",
   "metadata": {
    "id": "66dff531-1b80-4b4c-9708-5cea50ab90f4",
    "outputId": "884ea681-ad99-4b6d-eefa-c3b09dbb4c00"
   },
   "outputs": [
    {
     "name": "stdout",
     "output_type": "stream",
     "text": [
      "70\n",
      "104\n",
      "140\n",
      "90\n",
      "135\n"
     ]
    }
   ],
   "source": [
    "for i in range(len(start_test)):\n",
    "    diff = len(pd.date_range(start=start_test[i], end=end_test[i],\n",
    "                             freq='min')) - 1\n",
    "    print(diff)"
   ]
  },
  {
   "cell_type": "code",
   "execution_count": null,
   "id": "2d81b7ab-7f5d-48a9-9003-66949d2db61c",
   "metadata": {
    "id": "2d81b7ab-7f5d-48a9-9003-66949d2db61c",
    "outputId": "d4602ff0-7bda-4e54-b817-cdd1ac31c856"
   },
   "outputs": [
    {
     "data": {
      "text/html": [
       "<div>\n",
       "<style scoped>\n",
       "    .dataframe tbody tr th:only-of-type {\n",
       "        vertical-align: middle;\n",
       "    }\n",
       "\n",
       "    .dataframe tbody tr th {\n",
       "        vertical-align: top;\n",
       "    }\n",
       "\n",
       "    .dataframe thead th {\n",
       "        text-align: right;\n",
       "    }\n",
       "</style>\n",
       "<table border=\"1\" class=\"dataframe\">\n",
       "  <thead>\n",
       "    <tr style=\"text-align: right;\">\n",
       "      <th></th>\n",
       "      <th>Name</th>\n",
       "      <th>DateOfBirth</th>\n",
       "      <th>Height</th>\n",
       "      <th>Weight</th>\n",
       "      <th>Email</th>\n",
       "      <th>TestA</th>\n",
       "      <th>TestB</th>\n",
       "      <th>TestC</th>\n",
       "      <th>TestDate</th>\n",
       "      <th>TestStart</th>\n",
       "      <th>TestEnd</th>\n",
       "      <th>age</th>\n",
       "      <th>age_testDate</th>\n",
       "      <th>Test_duration_min</th>\n",
       "    </tr>\n",
       "  </thead>\n",
       "  <tbody>\n",
       "    <tr>\n",
       "      <th>0</th>\n",
       "      <td>Beauden Bree</td>\n",
       "      <td>1985-01-11</td>\n",
       "      <td>175</td>\n",
       "      <td>65</td>\n",
       "      <td>BeaudenB@mail.com</td>\n",
       "      <td>70</td>\n",
       "      <td>36</td>\n",
       "      <td>87</td>\n",
       "      <td>2021-07-25</td>\n",
       "      <td>14:00</td>\n",
       "      <td>15:10</td>\n",
       "      <td>39</td>\n",
       "      <td>36</td>\n",
       "      <td>70</td>\n",
       "    </tr>\n",
       "    <tr>\n",
       "      <th>1</th>\n",
       "      <td>Brendon Wilkie</td>\n",
       "      <td>1979-06-14</td>\n",
       "      <td>184</td>\n",
       "      <td>74</td>\n",
       "      <td>BrendonW@mail.com</td>\n",
       "      <td>55</td>\n",
       "      <td>74</td>\n",
       "      <td>42</td>\n",
       "      <td>2021-09-14</td>\n",
       "      <td>9:30</td>\n",
       "      <td>11:14</td>\n",
       "      <td>45</td>\n",
       "      <td>42</td>\n",
       "      <td>104</td>\n",
       "    </tr>\n",
       "    <tr>\n",
       "      <th>2</th>\n",
       "      <td>Eden Eugene</td>\n",
       "      <td>1990-11-02</td>\n",
       "      <td>167</td>\n",
       "      <td>79</td>\n",
       "      <td>EdenE@mail.com</td>\n",
       "      <td>68</td>\n",
       "      <td>11</td>\n",
       "      <td>69</td>\n",
       "      <td>2021-10-20</td>\n",
       "      <td>11:00</td>\n",
       "      <td>13:20</td>\n",
       "      <td>33</td>\n",
       "      <td>30</td>\n",
       "      <td>140</td>\n",
       "    </tr>\n",
       "    <tr>\n",
       "      <th>3</th>\n",
       "      <td>Lynton Wilburn</td>\n",
       "      <td>1983-08-24</td>\n",
       "      <td>155</td>\n",
       "      <td>58</td>\n",
       "      <td>LyntonW@mail.com</td>\n",
       "      <td>25</td>\n",
       "      <td>29</td>\n",
       "      <td>38</td>\n",
       "      <td>2022-01-10</td>\n",
       "      <td>10:30</td>\n",
       "      <td>12:00</td>\n",
       "      <td>40</td>\n",
       "      <td>38</td>\n",
       "      <td>90</td>\n",
       "    </tr>\n",
       "    <tr>\n",
       "      <th>4</th>\n",
       "      <td>Clemence Gladys</td>\n",
       "      <td>2018-12-04</td>\n",
       "      <td>176</td>\n",
       "      <td>80</td>\n",
       "      <td>ClemenceG@mail.com</td>\n",
       "      <td>40</td>\n",
       "      <td>35</td>\n",
       "      <td>78</td>\n",
       "      <td>2021-12-12</td>\n",
       "      <td>16:00</td>\n",
       "      <td>18:15</td>\n",
       "      <td>5</td>\n",
       "      <td>3</td>\n",
       "      <td>135</td>\n",
       "    </tr>\n",
       "  </tbody>\n",
       "</table>\n",
       "</div>"
      ],
      "text/plain": [
       "              Name DateOfBirth  Height  Weight               Email  TestA  \\\n",
       "0     Beauden Bree  1985-01-11     175      65   BeaudenB@mail.com     70   \n",
       "1   Brendon Wilkie  1979-06-14     184      74   BrendonW@mail.com     55   \n",
       "2      Eden Eugene  1990-11-02     167      79      EdenE@mail.com     68   \n",
       "3   Lynton Wilburn  1983-08-24     155      58    LyntonW@mail.com     25   \n",
       "4  Clemence Gladys  2018-12-04     176      80  ClemenceG@mail.com     40   \n",
       "\n",
       "   TestB  TestC   TestDate TestStart TestEnd  age  age_testDate  \\\n",
       "0     36     87 2021-07-25     14:00   15:10   39            36   \n",
       "1     74     42 2021-09-14      9:30   11:14   45            42   \n",
       "2     11     69 2021-10-20     11:00   13:20   33            30   \n",
       "3     29     38 2022-01-10     10:30   12:00   40            38   \n",
       "4     35     78 2021-12-12     16:00   18:15    5             3   \n",
       "\n",
       "   Test_duration_min  \n",
       "0                 70  \n",
       "1                104  \n",
       "2                140  \n",
       "3                 90  \n",
       "4                135  "
      ]
     },
     "execution_count": 60,
     "metadata": {},
     "output_type": "execute_result"
    }
   ],
   "source": [
    "df_personInfo['Test_duration_min'] = df_personInfo.apply(lambda df: len(\n",
    "    pd.date_range(start=pd.to_datetime(df['TestStart']),\n",
    "                  end=pd.to_datetime(df['TestEnd']),\n",
    "                  freq='min')) - 1,\n",
    "                                                         axis=1)\n",
    "df_personInfo"
   ]
  },
  {
   "cell_type": "markdown",
   "id": "2c78f98d-b4af-4b7b-b9b9-5f06c613496d",
   "metadata": {
    "id": "2c78f98d-b4af-4b7b-b9b9-5f06c613496d"
   },
   "source": [
    "\\\n",
    "As you see above, the code is quite complex, so we can just calculate for differences in minute."
   ]
  },
  {
   "cell_type": "code",
   "execution_count": null,
   "id": "154a803b-6c06-45b6-af5c-1feff189f59c",
   "metadata": {
    "id": "154a803b-6c06-45b6-af5c-1feff189f59c"
   },
   "outputs": [],
   "source": [
    "def cal_test_duration(row):\n",
    "    start = pd.to_datetime(row['TestStart'])\n",
    "    end = pd.to_datetime(row['TestEnd'])\n",
    "    diff_min = 60 * (end.hour - start.hour) + (end.minute - start.minute)\n",
    "    return diff_min"
   ]
  },
  {
   "cell_type": "code",
   "execution_count": null,
   "id": "074a2511-a07a-477a-99a0-926bd069f0d9",
   "metadata": {
    "tags": [],
    "id": "074a2511-a07a-477a-99a0-926bd069f0d9",
    "outputId": "0645ee63-d88c-46d5-b9c9-50754b0cc037"
   },
   "outputs": [
    {
     "data": {
      "text/html": [
       "<div>\n",
       "<style scoped>\n",
       "    .dataframe tbody tr th:only-of-type {\n",
       "        vertical-align: middle;\n",
       "    }\n",
       "\n",
       "    .dataframe tbody tr th {\n",
       "        vertical-align: top;\n",
       "    }\n",
       "\n",
       "    .dataframe thead th {\n",
       "        text-align: right;\n",
       "    }\n",
       "</style>\n",
       "<table border=\"1\" class=\"dataframe\">\n",
       "  <thead>\n",
       "    <tr style=\"text-align: right;\">\n",
       "      <th></th>\n",
       "      <th>Name</th>\n",
       "      <th>DateOfBirth</th>\n",
       "      <th>Height</th>\n",
       "      <th>Weight</th>\n",
       "      <th>Email</th>\n",
       "      <th>TestA</th>\n",
       "      <th>TestB</th>\n",
       "      <th>TestC</th>\n",
       "      <th>TestDate</th>\n",
       "      <th>TestStart</th>\n",
       "      <th>TestEnd</th>\n",
       "      <th>age</th>\n",
       "      <th>age_testDate</th>\n",
       "      <th>Test_duration_min</th>\n",
       "    </tr>\n",
       "  </thead>\n",
       "  <tbody>\n",
       "    <tr>\n",
       "      <th>0</th>\n",
       "      <td>Beauden Bree</td>\n",
       "      <td>1985-01-11</td>\n",
       "      <td>175</td>\n",
       "      <td>65</td>\n",
       "      <td>BeaudenB@mail.com</td>\n",
       "      <td>70</td>\n",
       "      <td>36</td>\n",
       "      <td>87</td>\n",
       "      <td>2021-07-25</td>\n",
       "      <td>14:00</td>\n",
       "      <td>15:10</td>\n",
       "      <td>39</td>\n",
       "      <td>36</td>\n",
       "      <td>70</td>\n",
       "    </tr>\n",
       "    <tr>\n",
       "      <th>1</th>\n",
       "      <td>Brendon Wilkie</td>\n",
       "      <td>1979-06-14</td>\n",
       "      <td>184</td>\n",
       "      <td>74</td>\n",
       "      <td>BrendonW@mail.com</td>\n",
       "      <td>55</td>\n",
       "      <td>74</td>\n",
       "      <td>42</td>\n",
       "      <td>2021-09-14</td>\n",
       "      <td>9:30</td>\n",
       "      <td>11:14</td>\n",
       "      <td>45</td>\n",
       "      <td>42</td>\n",
       "      <td>104</td>\n",
       "    </tr>\n",
       "    <tr>\n",
       "      <th>2</th>\n",
       "      <td>Eden Eugene</td>\n",
       "      <td>1990-11-02</td>\n",
       "      <td>167</td>\n",
       "      <td>79</td>\n",
       "      <td>EdenE@mail.com</td>\n",
       "      <td>68</td>\n",
       "      <td>11</td>\n",
       "      <td>69</td>\n",
       "      <td>2021-10-20</td>\n",
       "      <td>11:00</td>\n",
       "      <td>13:20</td>\n",
       "      <td>33</td>\n",
       "      <td>30</td>\n",
       "      <td>140</td>\n",
       "    </tr>\n",
       "    <tr>\n",
       "      <th>3</th>\n",
       "      <td>Lynton Wilburn</td>\n",
       "      <td>1983-08-24</td>\n",
       "      <td>155</td>\n",
       "      <td>58</td>\n",
       "      <td>LyntonW@mail.com</td>\n",
       "      <td>25</td>\n",
       "      <td>29</td>\n",
       "      <td>38</td>\n",
       "      <td>2022-01-10</td>\n",
       "      <td>10:30</td>\n",
       "      <td>12:00</td>\n",
       "      <td>40</td>\n",
       "      <td>38</td>\n",
       "      <td>90</td>\n",
       "    </tr>\n",
       "    <tr>\n",
       "      <th>4</th>\n",
       "      <td>Clemence Gladys</td>\n",
       "      <td>2018-12-04</td>\n",
       "      <td>176</td>\n",
       "      <td>80</td>\n",
       "      <td>ClemenceG@mail.com</td>\n",
       "      <td>40</td>\n",
       "      <td>35</td>\n",
       "      <td>78</td>\n",
       "      <td>2021-12-12</td>\n",
       "      <td>16:00</td>\n",
       "      <td>18:15</td>\n",
       "      <td>5</td>\n",
       "      <td>3</td>\n",
       "      <td>135</td>\n",
       "    </tr>\n",
       "  </tbody>\n",
       "</table>\n",
       "</div>"
      ],
      "text/plain": [
       "              Name DateOfBirth  Height  Weight               Email  TestA  \\\n",
       "0     Beauden Bree  1985-01-11     175      65   BeaudenB@mail.com     70   \n",
       "1   Brendon Wilkie  1979-06-14     184      74   BrendonW@mail.com     55   \n",
       "2      Eden Eugene  1990-11-02     167      79      EdenE@mail.com     68   \n",
       "3   Lynton Wilburn  1983-08-24     155      58    LyntonW@mail.com     25   \n",
       "4  Clemence Gladys  2018-12-04     176      80  ClemenceG@mail.com     40   \n",
       "\n",
       "   TestB  TestC   TestDate TestStart TestEnd  age  age_testDate  \\\n",
       "0     36     87 2021-07-25     14:00   15:10   39            36   \n",
       "1     74     42 2021-09-14      9:30   11:14   45            42   \n",
       "2     11     69 2021-10-20     11:00   13:20   33            30   \n",
       "3     29     38 2022-01-10     10:30   12:00   40            38   \n",
       "4     35     78 2021-12-12     16:00   18:15    5             3   \n",
       "\n",
       "   Test_duration_min  \n",
       "0                 70  \n",
       "1                104  \n",
       "2                140  \n",
       "3                 90  \n",
       "4                135  "
      ]
     },
     "execution_count": 62,
     "metadata": {},
     "output_type": "execute_result"
    }
   ],
   "source": [
    "df_personInfo['Test_duration_min'] = df_personInfo.apply(cal_test_duration,\n",
    "                                                         axis=1)\n",
    "df_personInfo"
   ]
  },
  {
   "cell_type": "markdown",
   "id": "4cdee3ee-3463-47fb-9b2c-d76fd8b4e10c",
   "metadata": {
    "id": "4cdee3ee-3463-47fb-9b2c-d76fd8b4e10c"
   },
   "source": [
    "\\\n",
    "<font color=\"#029DA3\">**Time delta**</font>  \n",
    "We can just convert TestStart and TestEnd columns to time delta and find differences.  "
   ]
  },
  {
   "cell_type": "code",
   "execution_count": null,
   "id": "89a5b605-e7fa-436a-82b4-e8abd21c6982",
   "metadata": {
    "id": "89a5b605-e7fa-436a-82b4-e8abd21c6982",
    "outputId": "b06ff54f-5b0f-4094-f94d-db75a5892432"
   },
   "outputs": [
    {
     "data": {
      "text/html": [
       "<div>\n",
       "<style scoped>\n",
       "    .dataframe tbody tr th:only-of-type {\n",
       "        vertical-align: middle;\n",
       "    }\n",
       "\n",
       "    .dataframe tbody tr th {\n",
       "        vertical-align: top;\n",
       "    }\n",
       "\n",
       "    .dataframe thead th {\n",
       "        text-align: right;\n",
       "    }\n",
       "</style>\n",
       "<table border=\"1\" class=\"dataframe\">\n",
       "  <thead>\n",
       "    <tr style=\"text-align: right;\">\n",
       "      <th></th>\n",
       "      <th>Name</th>\n",
       "      <th>DateOfBirth</th>\n",
       "      <th>Height</th>\n",
       "      <th>Weight</th>\n",
       "      <th>Email</th>\n",
       "      <th>TestA</th>\n",
       "      <th>TestB</th>\n",
       "      <th>TestC</th>\n",
       "      <th>TestDate</th>\n",
       "      <th>TestStart</th>\n",
       "      <th>TestEnd</th>\n",
       "      <th>age</th>\n",
       "      <th>age_testDate</th>\n",
       "    </tr>\n",
       "  </thead>\n",
       "  <tbody>\n",
       "    <tr>\n",
       "      <th>0</th>\n",
       "      <td>Beauden Bree</td>\n",
       "      <td>1985-01-11</td>\n",
       "      <td>175</td>\n",
       "      <td>65</td>\n",
       "      <td>BeaudenB@mail.com</td>\n",
       "      <td>70</td>\n",
       "      <td>36</td>\n",
       "      <td>87</td>\n",
       "      <td>2021-07-25</td>\n",
       "      <td>14:00</td>\n",
       "      <td>15:10</td>\n",
       "      <td>39</td>\n",
       "      <td>36</td>\n",
       "    </tr>\n",
       "    <tr>\n",
       "      <th>1</th>\n",
       "      <td>Brendon Wilkie</td>\n",
       "      <td>1979-06-14</td>\n",
       "      <td>184</td>\n",
       "      <td>74</td>\n",
       "      <td>BrendonW@mail.com</td>\n",
       "      <td>55</td>\n",
       "      <td>74</td>\n",
       "      <td>42</td>\n",
       "      <td>2021-09-14</td>\n",
       "      <td>9:30</td>\n",
       "      <td>11:14</td>\n",
       "      <td>45</td>\n",
       "      <td>42</td>\n",
       "    </tr>\n",
       "    <tr>\n",
       "      <th>2</th>\n",
       "      <td>Eden Eugene</td>\n",
       "      <td>1990-11-02</td>\n",
       "      <td>167</td>\n",
       "      <td>79</td>\n",
       "      <td>EdenE@mail.com</td>\n",
       "      <td>68</td>\n",
       "      <td>11</td>\n",
       "      <td>69</td>\n",
       "      <td>2021-10-20</td>\n",
       "      <td>11:00</td>\n",
       "      <td>13:20</td>\n",
       "      <td>33</td>\n",
       "      <td>30</td>\n",
       "    </tr>\n",
       "    <tr>\n",
       "      <th>3</th>\n",
       "      <td>Lynton Wilburn</td>\n",
       "      <td>1983-08-24</td>\n",
       "      <td>155</td>\n",
       "      <td>58</td>\n",
       "      <td>LyntonW@mail.com</td>\n",
       "      <td>25</td>\n",
       "      <td>29</td>\n",
       "      <td>38</td>\n",
       "      <td>2022-01-10</td>\n",
       "      <td>10:30</td>\n",
       "      <td>12:00</td>\n",
       "      <td>40</td>\n",
       "      <td>38</td>\n",
       "    </tr>\n",
       "    <tr>\n",
       "      <th>4</th>\n",
       "      <td>Clemence Gladys</td>\n",
       "      <td>2018-12-04</td>\n",
       "      <td>176</td>\n",
       "      <td>80</td>\n",
       "      <td>ClemenceG@mail.com</td>\n",
       "      <td>40</td>\n",
       "      <td>35</td>\n",
       "      <td>78</td>\n",
       "      <td>2021-12-12</td>\n",
       "      <td>16:00</td>\n",
       "      <td>18:15</td>\n",
       "      <td>5</td>\n",
       "      <td>3</td>\n",
       "    </tr>\n",
       "  </tbody>\n",
       "</table>\n",
       "</div>"
      ],
      "text/plain": [
       "              Name DateOfBirth  Height  Weight               Email  TestA  \\\n",
       "0     Beauden Bree  1985-01-11     175      65   BeaudenB@mail.com     70   \n",
       "1   Brendon Wilkie  1979-06-14     184      74   BrendonW@mail.com     55   \n",
       "2      Eden Eugene  1990-11-02     167      79      EdenE@mail.com     68   \n",
       "3   Lynton Wilburn  1983-08-24     155      58    LyntonW@mail.com     25   \n",
       "4  Clemence Gladys  2018-12-04     176      80  ClemenceG@mail.com     40   \n",
       "\n",
       "   TestB  TestC   TestDate TestStart TestEnd  age  age_testDate  \n",
       "0     36     87 2021-07-25     14:00   15:10   39            36  \n",
       "1     74     42 2021-09-14      9:30   11:14   45            42  \n",
       "2     11     69 2021-10-20     11:00   13:20   33            30  \n",
       "3     29     38 2022-01-10     10:30   12:00   40            38  \n",
       "4     35     78 2021-12-12     16:00   18:15    5             3  "
      ]
     },
     "execution_count": 63,
     "metadata": {},
     "output_type": "execute_result"
    }
   ],
   "source": [
    "del df_personInfo['Test_duration_min']\n",
    "df_personInfo"
   ]
  },
  {
   "cell_type": "markdown",
   "id": "16fef4b6-d62a-4f1b-a426-2fddac5dae53",
   "metadata": {
    "id": "16fef4b6-d62a-4f1b-a426-2fddac5dae53"
   },
   "source": [
    "The use of pd.to_timedelta() require input in the \"hh\\:mm:ss\" format.  \n",
    "So, we will append the string of seconds to TestStart and TestEnd columns."
   ]
  },
  {
   "cell_type": "code",
   "execution_count": null,
   "id": "77e548f0-1496-44ae-800d-c93f2b56504f",
   "metadata": {
    "id": "77e548f0-1496-44ae-800d-c93f2b56504f",
    "outputId": "aac78dd3-9bec-4c94-a902-d20898eab909"
   },
   "outputs": [
    {
     "name": "stdout",
     "output_type": "stream",
     "text": [
      "<class 'pandas.core.frame.DataFrame'>\n",
      "RangeIndex: 5 entries, 0 to 4\n",
      "Data columns (total 13 columns):\n",
      " #   Column        Non-Null Count  Dtype          \n",
      "---  ------        --------------  -----          \n",
      " 0   Name          5 non-null      object         \n",
      " 1   DateOfBirth   5 non-null      datetime64[ns] \n",
      " 2   Height        5 non-null      int64          \n",
      " 3   Weight        5 non-null      int64          \n",
      " 4   Email         5 non-null      object         \n",
      " 5   TestA         5 non-null      int64          \n",
      " 6   TestB         5 non-null      int64          \n",
      " 7   TestC         5 non-null      int64          \n",
      " 8   TestDate      5 non-null      datetime64[ns] \n",
      " 9   TestStart     5 non-null      timedelta64[ns]\n",
      " 10  TestEnd       5 non-null      timedelta64[ns]\n",
      " 11  age           5 non-null      int64          \n",
      " 12  age_testDate  5 non-null      int64          \n",
      "dtypes: datetime64[ns](2), int64(7), object(2), timedelta64[ns](2)\n",
      "memory usage: 652.0+ bytes\n"
     ]
    }
   ],
   "source": [
    "df_personInfo.TestStart = pd.to_timedelta(df_personInfo.TestStart + ':00')\n",
    "df_personInfo.TestEnd = pd.to_timedelta(df_personInfo.TestEnd + ':00')\n",
    "df_personInfo.head()\n",
    "df_personInfo.info()"
   ]
  },
  {
   "cell_type": "code",
   "execution_count": null,
   "id": "2cc0f5e1-6462-452c-a9b6-cf4b471ffa5d",
   "metadata": {
    "id": "2cc0f5e1-6462-452c-a9b6-cf4b471ffa5d",
    "outputId": "59b871cb-498f-4d59-c9f8-da94b515b451"
   },
   "outputs": [
    {
     "data": {
      "text/html": [
       "<div>\n",
       "<style scoped>\n",
       "    .dataframe tbody tr th:only-of-type {\n",
       "        vertical-align: middle;\n",
       "    }\n",
       "\n",
       "    .dataframe tbody tr th {\n",
       "        vertical-align: top;\n",
       "    }\n",
       "\n",
       "    .dataframe thead th {\n",
       "        text-align: right;\n",
       "    }\n",
       "</style>\n",
       "<table border=\"1\" class=\"dataframe\">\n",
       "  <thead>\n",
       "    <tr style=\"text-align: right;\">\n",
       "      <th></th>\n",
       "      <th>Name</th>\n",
       "      <th>DateOfBirth</th>\n",
       "      <th>Height</th>\n",
       "      <th>Weight</th>\n",
       "      <th>Email</th>\n",
       "      <th>TestA</th>\n",
       "      <th>TestB</th>\n",
       "      <th>TestC</th>\n",
       "      <th>TestDate</th>\n",
       "      <th>TestStart</th>\n",
       "      <th>TestEnd</th>\n",
       "      <th>age</th>\n",
       "      <th>age_testDate</th>\n",
       "    </tr>\n",
       "  </thead>\n",
       "  <tbody>\n",
       "    <tr>\n",
       "      <th>0</th>\n",
       "      <td>Beauden Bree</td>\n",
       "      <td>1985-01-11</td>\n",
       "      <td>175</td>\n",
       "      <td>65</td>\n",
       "      <td>BeaudenB@mail.com</td>\n",
       "      <td>70</td>\n",
       "      <td>36</td>\n",
       "      <td>87</td>\n",
       "      <td>2021-07-25</td>\n",
       "      <td>0 days 14:00:00</td>\n",
       "      <td>0 days 15:10:00</td>\n",
       "      <td>39</td>\n",
       "      <td>36</td>\n",
       "    </tr>\n",
       "    <tr>\n",
       "      <th>1</th>\n",
       "      <td>Brendon Wilkie</td>\n",
       "      <td>1979-06-14</td>\n",
       "      <td>184</td>\n",
       "      <td>74</td>\n",
       "      <td>BrendonW@mail.com</td>\n",
       "      <td>55</td>\n",
       "      <td>74</td>\n",
       "      <td>42</td>\n",
       "      <td>2021-09-14</td>\n",
       "      <td>0 days 09:30:00</td>\n",
       "      <td>0 days 11:14:00</td>\n",
       "      <td>45</td>\n",
       "      <td>42</td>\n",
       "    </tr>\n",
       "    <tr>\n",
       "      <th>2</th>\n",
       "      <td>Eden Eugene</td>\n",
       "      <td>1990-11-02</td>\n",
       "      <td>167</td>\n",
       "      <td>79</td>\n",
       "      <td>EdenE@mail.com</td>\n",
       "      <td>68</td>\n",
       "      <td>11</td>\n",
       "      <td>69</td>\n",
       "      <td>2021-10-20</td>\n",
       "      <td>0 days 11:00:00</td>\n",
       "      <td>0 days 13:20:00</td>\n",
       "      <td>33</td>\n",
       "      <td>30</td>\n",
       "    </tr>\n",
       "    <tr>\n",
       "      <th>3</th>\n",
       "      <td>Lynton Wilburn</td>\n",
       "      <td>1983-08-24</td>\n",
       "      <td>155</td>\n",
       "      <td>58</td>\n",
       "      <td>LyntonW@mail.com</td>\n",
       "      <td>25</td>\n",
       "      <td>29</td>\n",
       "      <td>38</td>\n",
       "      <td>2022-01-10</td>\n",
       "      <td>0 days 10:30:00</td>\n",
       "      <td>0 days 12:00:00</td>\n",
       "      <td>40</td>\n",
       "      <td>38</td>\n",
       "    </tr>\n",
       "    <tr>\n",
       "      <th>4</th>\n",
       "      <td>Clemence Gladys</td>\n",
       "      <td>2018-12-04</td>\n",
       "      <td>176</td>\n",
       "      <td>80</td>\n",
       "      <td>ClemenceG@mail.com</td>\n",
       "      <td>40</td>\n",
       "      <td>35</td>\n",
       "      <td>78</td>\n",
       "      <td>2021-12-12</td>\n",
       "      <td>0 days 16:00:00</td>\n",
       "      <td>0 days 18:15:00</td>\n",
       "      <td>5</td>\n",
       "      <td>3</td>\n",
       "    </tr>\n",
       "  </tbody>\n",
       "</table>\n",
       "</div>"
      ],
      "text/plain": [
       "              Name DateOfBirth  Height  Weight               Email  TestA  \\\n",
       "0     Beauden Bree  1985-01-11     175      65   BeaudenB@mail.com     70   \n",
       "1   Brendon Wilkie  1979-06-14     184      74   BrendonW@mail.com     55   \n",
       "2      Eden Eugene  1990-11-02     167      79      EdenE@mail.com     68   \n",
       "3   Lynton Wilburn  1983-08-24     155      58    LyntonW@mail.com     25   \n",
       "4  Clemence Gladys  2018-12-04     176      80  ClemenceG@mail.com     40   \n",
       "\n",
       "   TestB  TestC   TestDate       TestStart         TestEnd  age  age_testDate  \n",
       "0     36     87 2021-07-25 0 days 14:00:00 0 days 15:10:00   39            36  \n",
       "1     74     42 2021-09-14 0 days 09:30:00 0 days 11:14:00   45            42  \n",
       "2     11     69 2021-10-20 0 days 11:00:00 0 days 13:20:00   33            30  \n",
       "3     29     38 2022-01-10 0 days 10:30:00 0 days 12:00:00   40            38  \n",
       "4     35     78 2021-12-12 0 days 16:00:00 0 days 18:15:00    5             3  "
      ]
     },
     "execution_count": 65,
     "metadata": {},
     "output_type": "execute_result"
    }
   ],
   "source": [
    "df_personInfo"
   ]
  },
  {
   "cell_type": "markdown",
   "id": "f5ce5236-15c7-4d6a-9c0f-a339789c854b",
   "metadata": {
    "id": "f5ce5236-15c7-4d6a-9c0f-a339789c854b"
   },
   "source": [
    "\\\n",
    "Then, we just create new column as shown below:"
   ]
  },
  {
   "cell_type": "code",
   "execution_count": null,
   "id": "52ba8fd7-b9d6-45c0-a18b-12072a4d3647",
   "metadata": {
    "id": "52ba8fd7-b9d6-45c0-a18b-12072a4d3647",
    "outputId": "0eec93f7-4e42-445e-b36e-973d470bbd44"
   },
   "outputs": [
    {
     "data": {
      "text/html": [
       "<div>\n",
       "<style scoped>\n",
       "    .dataframe tbody tr th:only-of-type {\n",
       "        vertical-align: middle;\n",
       "    }\n",
       "\n",
       "    .dataframe tbody tr th {\n",
       "        vertical-align: top;\n",
       "    }\n",
       "\n",
       "    .dataframe thead th {\n",
       "        text-align: right;\n",
       "    }\n",
       "</style>\n",
       "<table border=\"1\" class=\"dataframe\">\n",
       "  <thead>\n",
       "    <tr style=\"text-align: right;\">\n",
       "      <th></th>\n",
       "      <th>Name</th>\n",
       "      <th>DateOfBirth</th>\n",
       "      <th>Height</th>\n",
       "      <th>Weight</th>\n",
       "      <th>Email</th>\n",
       "      <th>TestA</th>\n",
       "      <th>TestB</th>\n",
       "      <th>TestC</th>\n",
       "      <th>TestDate</th>\n",
       "      <th>TestStart</th>\n",
       "      <th>TestEnd</th>\n",
       "      <th>age</th>\n",
       "      <th>age_testDate</th>\n",
       "      <th>Test_duration</th>\n",
       "    </tr>\n",
       "  </thead>\n",
       "  <tbody>\n",
       "    <tr>\n",
       "      <th>0</th>\n",
       "      <td>Beauden Bree</td>\n",
       "      <td>1985-01-11</td>\n",
       "      <td>175</td>\n",
       "      <td>65</td>\n",
       "      <td>BeaudenB@mail.com</td>\n",
       "      <td>70</td>\n",
       "      <td>36</td>\n",
       "      <td>87</td>\n",
       "      <td>2021-07-25</td>\n",
       "      <td>0 days 14:00:00</td>\n",
       "      <td>0 days 15:10:00</td>\n",
       "      <td>39</td>\n",
       "      <td>36</td>\n",
       "      <td>0 days 01:10:00</td>\n",
       "    </tr>\n",
       "    <tr>\n",
       "      <th>1</th>\n",
       "      <td>Brendon Wilkie</td>\n",
       "      <td>1979-06-14</td>\n",
       "      <td>184</td>\n",
       "      <td>74</td>\n",
       "      <td>BrendonW@mail.com</td>\n",
       "      <td>55</td>\n",
       "      <td>74</td>\n",
       "      <td>42</td>\n",
       "      <td>2021-09-14</td>\n",
       "      <td>0 days 09:30:00</td>\n",
       "      <td>0 days 11:14:00</td>\n",
       "      <td>45</td>\n",
       "      <td>42</td>\n",
       "      <td>0 days 01:44:00</td>\n",
       "    </tr>\n",
       "    <tr>\n",
       "      <th>2</th>\n",
       "      <td>Eden Eugene</td>\n",
       "      <td>1990-11-02</td>\n",
       "      <td>167</td>\n",
       "      <td>79</td>\n",
       "      <td>EdenE@mail.com</td>\n",
       "      <td>68</td>\n",
       "      <td>11</td>\n",
       "      <td>69</td>\n",
       "      <td>2021-10-20</td>\n",
       "      <td>0 days 11:00:00</td>\n",
       "      <td>0 days 13:20:00</td>\n",
       "      <td>33</td>\n",
       "      <td>30</td>\n",
       "      <td>0 days 02:20:00</td>\n",
       "    </tr>\n",
       "    <tr>\n",
       "      <th>3</th>\n",
       "      <td>Lynton Wilburn</td>\n",
       "      <td>1983-08-24</td>\n",
       "      <td>155</td>\n",
       "      <td>58</td>\n",
       "      <td>LyntonW@mail.com</td>\n",
       "      <td>25</td>\n",
       "      <td>29</td>\n",
       "      <td>38</td>\n",
       "      <td>2022-01-10</td>\n",
       "      <td>0 days 10:30:00</td>\n",
       "      <td>0 days 12:00:00</td>\n",
       "      <td>40</td>\n",
       "      <td>38</td>\n",
       "      <td>0 days 01:30:00</td>\n",
       "    </tr>\n",
       "    <tr>\n",
       "      <th>4</th>\n",
       "      <td>Clemence Gladys</td>\n",
       "      <td>2018-12-04</td>\n",
       "      <td>176</td>\n",
       "      <td>80</td>\n",
       "      <td>ClemenceG@mail.com</td>\n",
       "      <td>40</td>\n",
       "      <td>35</td>\n",
       "      <td>78</td>\n",
       "      <td>2021-12-12</td>\n",
       "      <td>0 days 16:00:00</td>\n",
       "      <td>0 days 18:15:00</td>\n",
       "      <td>5</td>\n",
       "      <td>3</td>\n",
       "      <td>0 days 02:15:00</td>\n",
       "    </tr>\n",
       "  </tbody>\n",
       "</table>\n",
       "</div>"
      ],
      "text/plain": [
       "              Name DateOfBirth  Height  Weight               Email  TestA  \\\n",
       "0     Beauden Bree  1985-01-11     175      65   BeaudenB@mail.com     70   \n",
       "1   Brendon Wilkie  1979-06-14     184      74   BrendonW@mail.com     55   \n",
       "2      Eden Eugene  1990-11-02     167      79      EdenE@mail.com     68   \n",
       "3   Lynton Wilburn  1983-08-24     155      58    LyntonW@mail.com     25   \n",
       "4  Clemence Gladys  2018-12-04     176      80  ClemenceG@mail.com     40   \n",
       "\n",
       "   TestB  TestC   TestDate       TestStart         TestEnd  age  age_testDate  \\\n",
       "0     36     87 2021-07-25 0 days 14:00:00 0 days 15:10:00   39            36   \n",
       "1     74     42 2021-09-14 0 days 09:30:00 0 days 11:14:00   45            42   \n",
       "2     11     69 2021-10-20 0 days 11:00:00 0 days 13:20:00   33            30   \n",
       "3     29     38 2022-01-10 0 days 10:30:00 0 days 12:00:00   40            38   \n",
       "4     35     78 2021-12-12 0 days 16:00:00 0 days 18:15:00    5             3   \n",
       "\n",
       "    Test_duration  \n",
       "0 0 days 01:10:00  \n",
       "1 0 days 01:44:00  \n",
       "2 0 days 02:20:00  \n",
       "3 0 days 01:30:00  \n",
       "4 0 days 02:15:00  "
      ]
     },
     "execution_count": 66,
     "metadata": {},
     "output_type": "execute_result"
    }
   ],
   "source": [
    "df_personInfo['Test_duration'] = df_personInfo.TestEnd - df_personInfo.TestStart\n",
    "df_personInfo"
   ]
  },
  {
   "cell_type": "markdown",
   "id": "b72d7b8e-46b2-47dd-838c-9cf2809fb321",
   "metadata": {
    "id": "b72d7b8e-46b2-47dd-838c-9cf2809fb321"
   },
   "source": [
    "\\\n",
    "We can format values in Test_duration using attribute components.  \n",
    "For example, components of Test_duration of the first row."
   ]
  },
  {
   "cell_type": "code",
   "execution_count": null,
   "id": "c522e692-2eb9-4048-bb94-ac6192ab0b9e",
   "metadata": {
    "id": "c522e692-2eb9-4048-bb94-ac6192ab0b9e",
    "outputId": "b8d6fcde-b8d3-4dc8-96ec-13cb161e8c65"
   },
   "outputs": [
    {
     "data": {
      "text/plain": [
       "Components(days=0, hours=1, minutes=10, seconds=0, milliseconds=0, microseconds=0, nanoseconds=0)"
      ]
     },
     "execution_count": 67,
     "metadata": {},
     "output_type": "execute_result"
    }
   ],
   "source": [
    "df_personInfo.Test_duration[0].components"
   ]
  },
  {
   "cell_type": "code",
   "execution_count": null,
   "id": "50136744-1122-47c8-84eb-2ac622b8f1f5",
   "metadata": {
    "id": "50136744-1122-47c8-84eb-2ac622b8f1f5",
    "outputId": "292841b5-6f67-42f8-d70f-dd098521f053"
   },
   "outputs": [
    {
     "data": {
      "text/plain": [
       "1"
      ]
     },
     "execution_count": 68,
     "metadata": {},
     "output_type": "execute_result"
    }
   ],
   "source": [
    "df_personInfo.Test_duration[0].components.hours"
   ]
  },
  {
   "cell_type": "markdown",
   "id": "646538f5-ea94-4e66-beca-3883391bb683",
   "metadata": {
    "id": "646538f5-ea94-4e66-beca-3883391bb683"
   },
   "source": [
    "Now, create new column to show durations in 'Xhr Xmin':"
   ]
  },
  {
   "cell_type": "code",
   "execution_count": null,
   "id": "ca98ba86-6ea5-4e91-8f56-a37fdb3b2aae",
   "metadata": {
    "id": "ca98ba86-6ea5-4e91-8f56-a37fdb3b2aae",
    "outputId": "3af8f13f-78c4-420e-a42e-e207ecb25e75"
   },
   "outputs": [
    {
     "data": {
      "text/html": [
       "<div>\n",
       "<style scoped>\n",
       "    .dataframe tbody tr th:only-of-type {\n",
       "        vertical-align: middle;\n",
       "    }\n",
       "\n",
       "    .dataframe tbody tr th {\n",
       "        vertical-align: top;\n",
       "    }\n",
       "\n",
       "    .dataframe thead th {\n",
       "        text-align: right;\n",
       "    }\n",
       "</style>\n",
       "<table border=\"1\" class=\"dataframe\">\n",
       "  <thead>\n",
       "    <tr style=\"text-align: right;\">\n",
       "      <th></th>\n",
       "      <th>Name</th>\n",
       "      <th>DateOfBirth</th>\n",
       "      <th>Height</th>\n",
       "      <th>Weight</th>\n",
       "      <th>Email</th>\n",
       "      <th>TestA</th>\n",
       "      <th>TestB</th>\n",
       "      <th>TestC</th>\n",
       "      <th>TestDate</th>\n",
       "      <th>TestStart</th>\n",
       "      <th>TestEnd</th>\n",
       "      <th>age</th>\n",
       "      <th>age_testDate</th>\n",
       "      <th>Test_duration</th>\n",
       "      <th>Test_duration_str</th>\n",
       "    </tr>\n",
       "  </thead>\n",
       "  <tbody>\n",
       "    <tr>\n",
       "      <th>0</th>\n",
       "      <td>Beauden Bree</td>\n",
       "      <td>1985-01-11</td>\n",
       "      <td>175</td>\n",
       "      <td>65</td>\n",
       "      <td>BeaudenB@mail.com</td>\n",
       "      <td>70</td>\n",
       "      <td>36</td>\n",
       "      <td>87</td>\n",
       "      <td>2021-07-25</td>\n",
       "      <td>0 days 14:00:00</td>\n",
       "      <td>0 days 15:10:00</td>\n",
       "      <td>39</td>\n",
       "      <td>36</td>\n",
       "      <td>0 days 01:10:00</td>\n",
       "      <td>1hr 10min</td>\n",
       "    </tr>\n",
       "    <tr>\n",
       "      <th>1</th>\n",
       "      <td>Brendon Wilkie</td>\n",
       "      <td>1979-06-14</td>\n",
       "      <td>184</td>\n",
       "      <td>74</td>\n",
       "      <td>BrendonW@mail.com</td>\n",
       "      <td>55</td>\n",
       "      <td>74</td>\n",
       "      <td>42</td>\n",
       "      <td>2021-09-14</td>\n",
       "      <td>0 days 09:30:00</td>\n",
       "      <td>0 days 11:14:00</td>\n",
       "      <td>45</td>\n",
       "      <td>42</td>\n",
       "      <td>0 days 01:44:00</td>\n",
       "      <td>1hr 44min</td>\n",
       "    </tr>\n",
       "    <tr>\n",
       "      <th>2</th>\n",
       "      <td>Eden Eugene</td>\n",
       "      <td>1990-11-02</td>\n",
       "      <td>167</td>\n",
       "      <td>79</td>\n",
       "      <td>EdenE@mail.com</td>\n",
       "      <td>68</td>\n",
       "      <td>11</td>\n",
       "      <td>69</td>\n",
       "      <td>2021-10-20</td>\n",
       "      <td>0 days 11:00:00</td>\n",
       "      <td>0 days 13:20:00</td>\n",
       "      <td>33</td>\n",
       "      <td>30</td>\n",
       "      <td>0 days 02:20:00</td>\n",
       "      <td>2hr 20min</td>\n",
       "    </tr>\n",
       "    <tr>\n",
       "      <th>3</th>\n",
       "      <td>Lynton Wilburn</td>\n",
       "      <td>1983-08-24</td>\n",
       "      <td>155</td>\n",
       "      <td>58</td>\n",
       "      <td>LyntonW@mail.com</td>\n",
       "      <td>25</td>\n",
       "      <td>29</td>\n",
       "      <td>38</td>\n",
       "      <td>2022-01-10</td>\n",
       "      <td>0 days 10:30:00</td>\n",
       "      <td>0 days 12:00:00</td>\n",
       "      <td>40</td>\n",
       "      <td>38</td>\n",
       "      <td>0 days 01:30:00</td>\n",
       "      <td>1hr 30min</td>\n",
       "    </tr>\n",
       "    <tr>\n",
       "      <th>4</th>\n",
       "      <td>Clemence Gladys</td>\n",
       "      <td>2018-12-04</td>\n",
       "      <td>176</td>\n",
       "      <td>80</td>\n",
       "      <td>ClemenceG@mail.com</td>\n",
       "      <td>40</td>\n",
       "      <td>35</td>\n",
       "      <td>78</td>\n",
       "      <td>2021-12-12</td>\n",
       "      <td>0 days 16:00:00</td>\n",
       "      <td>0 days 18:15:00</td>\n",
       "      <td>5</td>\n",
       "      <td>3</td>\n",
       "      <td>0 days 02:15:00</td>\n",
       "      <td>2hr 15min</td>\n",
       "    </tr>\n",
       "  </tbody>\n",
       "</table>\n",
       "</div>"
      ],
      "text/plain": [
       "              Name DateOfBirth  Height  Weight               Email  TestA  \\\n",
       "0     Beauden Bree  1985-01-11     175      65   BeaudenB@mail.com     70   \n",
       "1   Brendon Wilkie  1979-06-14     184      74   BrendonW@mail.com     55   \n",
       "2      Eden Eugene  1990-11-02     167      79      EdenE@mail.com     68   \n",
       "3   Lynton Wilburn  1983-08-24     155      58    LyntonW@mail.com     25   \n",
       "4  Clemence Gladys  2018-12-04     176      80  ClemenceG@mail.com     40   \n",
       "\n",
       "   TestB  TestC   TestDate       TestStart         TestEnd  age  age_testDate  \\\n",
       "0     36     87 2021-07-25 0 days 14:00:00 0 days 15:10:00   39            36   \n",
       "1     74     42 2021-09-14 0 days 09:30:00 0 days 11:14:00   45            42   \n",
       "2     11     69 2021-10-20 0 days 11:00:00 0 days 13:20:00   33            30   \n",
       "3     29     38 2022-01-10 0 days 10:30:00 0 days 12:00:00   40            38   \n",
       "4     35     78 2021-12-12 0 days 16:00:00 0 days 18:15:00    5             3   \n",
       "\n",
       "    Test_duration Test_duration_str  \n",
       "0 0 days 01:10:00         1hr 10min  \n",
       "1 0 days 01:44:00         1hr 44min  \n",
       "2 0 days 02:20:00         2hr 20min  \n",
       "3 0 days 01:30:00         1hr 30min  \n",
       "4 0 days 02:15:00         2hr 15min  "
      ]
     },
     "execution_count": 69,
     "metadata": {},
     "output_type": "execute_result"
    }
   ],
   "source": [
    "df_personInfo['Test_duration_str'] = [\n",
    "    f\"{du.components.hours}hr {du.components.minutes}min\"\n",
    "    for du in df_personInfo.Test_duration\n",
    "]\n",
    "df_personInfo"
   ]
  },
  {
   "cell_type": "markdown",
   "id": "0cedbced-ec7a-4d8b-ae4c-3295913de67a",
   "metadata": {
    "id": "0cedbced-ec7a-4d8b-ae4c-3295913de67a"
   },
   "source": [
    "---"
   ]
  },
  {
   "cell_type": "markdown",
   "id": "ebbd2de4-a666-4224-a12b-f653399ca0b4",
   "metadata": {
    "id": "ebbd2de4-a666-4224-a12b-f653399ca0b4"
   },
   "source": [
    "&nbsp;  \n",
    "#### <font color=\"#127C02\">*String*</font>"
   ]
  },
  {
   "cell_type": "markdown",
   "id": "5f4121b0-fab5-4028-a5fb-8c7e75c49faf",
   "metadata": {
    "id": "5f4121b0-fab5-4028-a5fb-8c7e75c49faf"
   },
   "source": [
    "Actually, dtype can be changed to String, but it is not so different from the object dtype."
   ]
  },
  {
   "cell_type": "code",
   "execution_count": null,
   "id": "8a110801-9cea-4b1c-9043-5fb093f354f4",
   "metadata": {
    "id": "8a110801-9cea-4b1c-9043-5fb093f354f4",
    "outputId": "b59ec364-a937-4210-c410-5f6336d89a58"
   },
   "outputs": [
    {
     "name": "stdout",
     "output_type": "stream",
     "text": [
      "<class 'pandas.core.frame.DataFrame'>\n",
      "RangeIndex: 5 entries, 0 to 4\n",
      "Data columns (total 15 columns):\n",
      " #   Column             Non-Null Count  Dtype          \n",
      "---  ------             --------------  -----          \n",
      " 0   Name               5 non-null      string         \n",
      " 1   DateOfBirth        5 non-null      datetime64[ns] \n",
      " 2   Height             5 non-null      int64          \n",
      " 3   Weight             5 non-null      int64          \n",
      " 4   Email              5 non-null      string         \n",
      " 5   TestA              5 non-null      int64          \n",
      " 6   TestB              5 non-null      int64          \n",
      " 7   TestC              5 non-null      int64          \n",
      " 8   TestDate           5 non-null      datetime64[ns] \n",
      " 9   TestStart          5 non-null      timedelta64[ns]\n",
      " 10  TestEnd            5 non-null      timedelta64[ns]\n",
      " 11  age                5 non-null      int64          \n",
      " 12  age_testDate       5 non-null      int64          \n",
      " 13  Test_duration      5 non-null      timedelta64[ns]\n",
      " 14  Test_duration_str  5 non-null      object         \n",
      "dtypes: datetime64[ns](2), int64(7), object(1), string(2), timedelta64[ns](3)\n",
      "memory usage: 732.0+ bytes\n"
     ]
    }
   ],
   "source": [
    "df_personInfo = df_personInfo.astype({'Name': 'string', 'Email': 'string'})\n",
    "df_personInfo.info()"
   ]
  },
  {
   "cell_type": "markdown",
   "id": "5d6aa6aa-a86a-492e-86be-7317750bf72d",
   "metadata": {
    "id": "5d6aa6aa-a86a-492e-86be-7317750bf72d"
   },
   "source": [
    "\\\n",
    "<font color=\"#029DA3\">**Replacing String value**</font>  \n",
    "Suppose we have new column 'Gender'."
   ]
  },
  {
   "cell_type": "code",
   "execution_count": null,
   "id": "fec08350-378b-4a7a-97f3-95459f79b66b",
   "metadata": {
    "id": "fec08350-378b-4a7a-97f3-95459f79b66b",
    "outputId": "e864fa94-f258-4d53-8d77-f2af109f709e"
   },
   "outputs": [
    {
     "data": {
      "text/html": [
       "<div>\n",
       "<style scoped>\n",
       "    .dataframe tbody tr th:only-of-type {\n",
       "        vertical-align: middle;\n",
       "    }\n",
       "\n",
       "    .dataframe tbody tr th {\n",
       "        vertical-align: top;\n",
       "    }\n",
       "\n",
       "    .dataframe thead th {\n",
       "        text-align: right;\n",
       "    }\n",
       "</style>\n",
       "<table border=\"1\" class=\"dataframe\">\n",
       "  <thead>\n",
       "    <tr style=\"text-align: right;\">\n",
       "      <th></th>\n",
       "      <th>Name</th>\n",
       "      <th>DateOfBirth</th>\n",
       "      <th>Height</th>\n",
       "      <th>Weight</th>\n",
       "      <th>Email</th>\n",
       "      <th>TestA</th>\n",
       "      <th>TestB</th>\n",
       "      <th>TestC</th>\n",
       "      <th>TestDate</th>\n",
       "      <th>TestStart</th>\n",
       "      <th>TestEnd</th>\n",
       "      <th>age</th>\n",
       "      <th>age_testDate</th>\n",
       "      <th>Test_duration</th>\n",
       "      <th>Test_duration_str</th>\n",
       "      <th>Gender</th>\n",
       "    </tr>\n",
       "  </thead>\n",
       "  <tbody>\n",
       "    <tr>\n",
       "      <th>0</th>\n",
       "      <td>Beauden Bree</td>\n",
       "      <td>1985-01-11</td>\n",
       "      <td>175</td>\n",
       "      <td>65</td>\n",
       "      <td>BeaudenB@mail.com</td>\n",
       "      <td>70</td>\n",
       "      <td>36</td>\n",
       "      <td>87</td>\n",
       "      <td>2021-07-25</td>\n",
       "      <td>0 days 14:00:00</td>\n",
       "      <td>0 days 15:10:00</td>\n",
       "      <td>39</td>\n",
       "      <td>36</td>\n",
       "      <td>0 days 01:10:00</td>\n",
       "      <td>1hr 10min</td>\n",
       "      <td>F</td>\n",
       "    </tr>\n",
       "    <tr>\n",
       "      <th>1</th>\n",
       "      <td>Brendon Wilkie</td>\n",
       "      <td>1979-06-14</td>\n",
       "      <td>184</td>\n",
       "      <td>74</td>\n",
       "      <td>BrendonW@mail.com</td>\n",
       "      <td>55</td>\n",
       "      <td>74</td>\n",
       "      <td>42</td>\n",
       "      <td>2021-09-14</td>\n",
       "      <td>0 days 09:30:00</td>\n",
       "      <td>0 days 11:14:00</td>\n",
       "      <td>45</td>\n",
       "      <td>42</td>\n",
       "      <td>0 days 01:44:00</td>\n",
       "      <td>1hr 44min</td>\n",
       "      <td>M</td>\n",
       "    </tr>\n",
       "    <tr>\n",
       "      <th>2</th>\n",
       "      <td>Eden Eugene</td>\n",
       "      <td>1990-11-02</td>\n",
       "      <td>167</td>\n",
       "      <td>79</td>\n",
       "      <td>EdenE@mail.com</td>\n",
       "      <td>68</td>\n",
       "      <td>11</td>\n",
       "      <td>69</td>\n",
       "      <td>2021-10-20</td>\n",
       "      <td>0 days 11:00:00</td>\n",
       "      <td>0 days 13:20:00</td>\n",
       "      <td>33</td>\n",
       "      <td>30</td>\n",
       "      <td>0 days 02:20:00</td>\n",
       "      <td>2hr 20min</td>\n",
       "      <td>F</td>\n",
       "    </tr>\n",
       "    <tr>\n",
       "      <th>3</th>\n",
       "      <td>Lynton Wilburn</td>\n",
       "      <td>1983-08-24</td>\n",
       "      <td>155</td>\n",
       "      <td>58</td>\n",
       "      <td>LyntonW@mail.com</td>\n",
       "      <td>25</td>\n",
       "      <td>29</td>\n",
       "      <td>38</td>\n",
       "      <td>2022-01-10</td>\n",
       "      <td>0 days 10:30:00</td>\n",
       "      <td>0 days 12:00:00</td>\n",
       "      <td>40</td>\n",
       "      <td>38</td>\n",
       "      <td>0 days 01:30:00</td>\n",
       "      <td>1hr 30min</td>\n",
       "      <td>M</td>\n",
       "    </tr>\n",
       "    <tr>\n",
       "      <th>4</th>\n",
       "      <td>Clemence Gladys</td>\n",
       "      <td>2018-12-04</td>\n",
       "      <td>176</td>\n",
       "      <td>80</td>\n",
       "      <td>ClemenceG@mail.com</td>\n",
       "      <td>40</td>\n",
       "      <td>35</td>\n",
       "      <td>78</td>\n",
       "      <td>2021-12-12</td>\n",
       "      <td>0 days 16:00:00</td>\n",
       "      <td>0 days 18:15:00</td>\n",
       "      <td>5</td>\n",
       "      <td>3</td>\n",
       "      <td>0 days 02:15:00</td>\n",
       "      <td>2hr 15min</td>\n",
       "      <td>F</td>\n",
       "    </tr>\n",
       "  </tbody>\n",
       "</table>\n",
       "</div>"
      ],
      "text/plain": [
       "              Name DateOfBirth  Height  Weight               Email  TestA  \\\n",
       "0     Beauden Bree  1985-01-11     175      65   BeaudenB@mail.com     70   \n",
       "1   Brendon Wilkie  1979-06-14     184      74   BrendonW@mail.com     55   \n",
       "2      Eden Eugene  1990-11-02     167      79      EdenE@mail.com     68   \n",
       "3   Lynton Wilburn  1983-08-24     155      58    LyntonW@mail.com     25   \n",
       "4  Clemence Gladys  2018-12-04     176      80  ClemenceG@mail.com     40   \n",
       "\n",
       "   TestB  TestC   TestDate       TestStart         TestEnd  age  age_testDate  \\\n",
       "0     36     87 2021-07-25 0 days 14:00:00 0 days 15:10:00   39            36   \n",
       "1     74     42 2021-09-14 0 days 09:30:00 0 days 11:14:00   45            42   \n",
       "2     11     69 2021-10-20 0 days 11:00:00 0 days 13:20:00   33            30   \n",
       "3     29     38 2022-01-10 0 days 10:30:00 0 days 12:00:00   40            38   \n",
       "4     35     78 2021-12-12 0 days 16:00:00 0 days 18:15:00    5             3   \n",
       "\n",
       "    Test_duration Test_duration_str Gender  \n",
       "0 0 days 01:10:00         1hr 10min      F  \n",
       "1 0 days 01:44:00         1hr 44min      M  \n",
       "2 0 days 02:20:00         2hr 20min      F  \n",
       "3 0 days 01:30:00         1hr 30min      M  \n",
       "4 0 days 02:15:00         2hr 15min      F  "
      ]
     },
     "execution_count": 71,
     "metadata": {},
     "output_type": "execute_result"
    }
   ],
   "source": [
    "df_personInfo['Gender'] = ['F', 'M', 'F', 'M', 'F']\n",
    "df_personInfo"
   ]
  },
  {
   "cell_type": "markdown",
   "id": "77c5d570-e848-4433-9100-e5edd4ed8d39",
   "metadata": {
    "id": "77c5d570-e848-4433-9100-e5edd4ed8d39"
   },
   "source": [
    "\\\n",
    "We want to change value:  \n",
    "M -> Male  \n",
    "F -> Female  \n",
    "\\\n",
    "We can do this by using .replace():"
   ]
  },
  {
   "cell_type": "code",
   "execution_count": null,
   "id": "c40a0096-fd15-4690-972b-47e001e11ffc",
   "metadata": {
    "id": "c40a0096-fd15-4690-972b-47e001e11ffc",
    "outputId": "d88cc9d0-ec1c-44b3-d2cd-f6e146944924"
   },
   "outputs": [
    {
     "data": {
      "text/html": [
       "<div>\n",
       "<style scoped>\n",
       "    .dataframe tbody tr th:only-of-type {\n",
       "        vertical-align: middle;\n",
       "    }\n",
       "\n",
       "    .dataframe tbody tr th {\n",
       "        vertical-align: top;\n",
       "    }\n",
       "\n",
       "    .dataframe thead th {\n",
       "        text-align: right;\n",
       "    }\n",
       "</style>\n",
       "<table border=\"1\" class=\"dataframe\">\n",
       "  <thead>\n",
       "    <tr style=\"text-align: right;\">\n",
       "      <th></th>\n",
       "      <th>Name</th>\n",
       "      <th>DateOfBirth</th>\n",
       "      <th>Height</th>\n",
       "      <th>Weight</th>\n",
       "      <th>Email</th>\n",
       "      <th>TestA</th>\n",
       "      <th>TestB</th>\n",
       "      <th>TestC</th>\n",
       "      <th>TestDate</th>\n",
       "      <th>TestStart</th>\n",
       "      <th>TestEnd</th>\n",
       "      <th>age</th>\n",
       "      <th>age_testDate</th>\n",
       "      <th>Test_duration</th>\n",
       "      <th>Test_duration_str</th>\n",
       "      <th>Gender</th>\n",
       "    </tr>\n",
       "  </thead>\n",
       "  <tbody>\n",
       "    <tr>\n",
       "      <th>0</th>\n",
       "      <td>Beauden Bree</td>\n",
       "      <td>1985-01-11</td>\n",
       "      <td>175</td>\n",
       "      <td>65</td>\n",
       "      <td>BeaudenB@mail.com</td>\n",
       "      <td>70</td>\n",
       "      <td>36</td>\n",
       "      <td>87</td>\n",
       "      <td>2021-07-25</td>\n",
       "      <td>0 days 14:00:00</td>\n",
       "      <td>0 days 15:10:00</td>\n",
       "      <td>39</td>\n",
       "      <td>36</td>\n",
       "      <td>0 days 01:10:00</td>\n",
       "      <td>1hr 10min</td>\n",
       "      <td>Female</td>\n",
       "    </tr>\n",
       "    <tr>\n",
       "      <th>1</th>\n",
       "      <td>Brendon Wilkie</td>\n",
       "      <td>1979-06-14</td>\n",
       "      <td>184</td>\n",
       "      <td>74</td>\n",
       "      <td>BrendonW@mail.com</td>\n",
       "      <td>55</td>\n",
       "      <td>74</td>\n",
       "      <td>42</td>\n",
       "      <td>2021-09-14</td>\n",
       "      <td>0 days 09:30:00</td>\n",
       "      <td>0 days 11:14:00</td>\n",
       "      <td>45</td>\n",
       "      <td>42</td>\n",
       "      <td>0 days 01:44:00</td>\n",
       "      <td>1hr 44min</td>\n",
       "      <td>Male</td>\n",
       "    </tr>\n",
       "    <tr>\n",
       "      <th>2</th>\n",
       "      <td>Eden Eugene</td>\n",
       "      <td>1990-11-02</td>\n",
       "      <td>167</td>\n",
       "      <td>79</td>\n",
       "      <td>EdenE@mail.com</td>\n",
       "      <td>68</td>\n",
       "      <td>11</td>\n",
       "      <td>69</td>\n",
       "      <td>2021-10-20</td>\n",
       "      <td>0 days 11:00:00</td>\n",
       "      <td>0 days 13:20:00</td>\n",
       "      <td>33</td>\n",
       "      <td>30</td>\n",
       "      <td>0 days 02:20:00</td>\n",
       "      <td>2hr 20min</td>\n",
       "      <td>Female</td>\n",
       "    </tr>\n",
       "    <tr>\n",
       "      <th>3</th>\n",
       "      <td>Lynton Wilburn</td>\n",
       "      <td>1983-08-24</td>\n",
       "      <td>155</td>\n",
       "      <td>58</td>\n",
       "      <td>LyntonW@mail.com</td>\n",
       "      <td>25</td>\n",
       "      <td>29</td>\n",
       "      <td>38</td>\n",
       "      <td>2022-01-10</td>\n",
       "      <td>0 days 10:30:00</td>\n",
       "      <td>0 days 12:00:00</td>\n",
       "      <td>40</td>\n",
       "      <td>38</td>\n",
       "      <td>0 days 01:30:00</td>\n",
       "      <td>1hr 30min</td>\n",
       "      <td>Male</td>\n",
       "    </tr>\n",
       "    <tr>\n",
       "      <th>4</th>\n",
       "      <td>Clemence Gladys</td>\n",
       "      <td>2018-12-04</td>\n",
       "      <td>176</td>\n",
       "      <td>80</td>\n",
       "      <td>ClemenceG@mail.com</td>\n",
       "      <td>40</td>\n",
       "      <td>35</td>\n",
       "      <td>78</td>\n",
       "      <td>2021-12-12</td>\n",
       "      <td>0 days 16:00:00</td>\n",
       "      <td>0 days 18:15:00</td>\n",
       "      <td>5</td>\n",
       "      <td>3</td>\n",
       "      <td>0 days 02:15:00</td>\n",
       "      <td>2hr 15min</td>\n",
       "      <td>Female</td>\n",
       "    </tr>\n",
       "  </tbody>\n",
       "</table>\n",
       "</div>"
      ],
      "text/plain": [
       "              Name DateOfBirth  Height  Weight               Email  TestA  \\\n",
       "0     Beauden Bree  1985-01-11     175      65   BeaudenB@mail.com     70   \n",
       "1   Brendon Wilkie  1979-06-14     184      74   BrendonW@mail.com     55   \n",
       "2      Eden Eugene  1990-11-02     167      79      EdenE@mail.com     68   \n",
       "3   Lynton Wilburn  1983-08-24     155      58    LyntonW@mail.com     25   \n",
       "4  Clemence Gladys  2018-12-04     176      80  ClemenceG@mail.com     40   \n",
       "\n",
       "   TestB  TestC   TestDate       TestStart         TestEnd  age  age_testDate  \\\n",
       "0     36     87 2021-07-25 0 days 14:00:00 0 days 15:10:00   39            36   \n",
       "1     74     42 2021-09-14 0 days 09:30:00 0 days 11:14:00   45            42   \n",
       "2     11     69 2021-10-20 0 days 11:00:00 0 days 13:20:00   33            30   \n",
       "3     29     38 2022-01-10 0 days 10:30:00 0 days 12:00:00   40            38   \n",
       "4     35     78 2021-12-12 0 days 16:00:00 0 days 18:15:00    5             3   \n",
       "\n",
       "    Test_duration Test_duration_str  Gender  \n",
       "0 0 days 01:10:00         1hr 10min  Female  \n",
       "1 0 days 01:44:00         1hr 44min    Male  \n",
       "2 0 days 02:20:00         2hr 20min  Female  \n",
       "3 0 days 01:30:00         1hr 30min    Male  \n",
       "4 0 days 02:15:00         2hr 15min  Female  "
      ]
     },
     "execution_count": 72,
     "metadata": {},
     "output_type": "execute_result"
    }
   ],
   "source": [
    "df_personInfo.Gender = df_personInfo.Gender.replace(['F', 'M'],\n",
    "                                                    ['Female', 'Male'])\n",
    "df_personInfo"
   ]
  },
  {
   "cell_type": "markdown",
   "id": "178d12a5-18a8-4589-bf1f-ec2867e866fd",
   "metadata": {
    "id": "178d12a5-18a8-4589-bf1f-ec2867e866fd"
   },
   "source": [
    "\\\n",
    "<font color=\"#029DA3\">**Split column**</font>  \n",
    "We use str.split() to split one columns into more columns.  \n",
    "For instance, split Name into FName and LName."
   ]
  },
  {
   "cell_type": "code",
   "execution_count": null,
   "id": "08843300-5b9a-4804-9c32-4a03a31b1c6f",
   "metadata": {
    "id": "08843300-5b9a-4804-9c32-4a03a31b1c6f",
    "outputId": "f1e58acd-5875-4d00-b22c-429e1410ce70"
   },
   "outputs": [
    {
     "data": {
      "text/html": [
       "<div>\n",
       "<style scoped>\n",
       "    .dataframe tbody tr th:only-of-type {\n",
       "        vertical-align: middle;\n",
       "    }\n",
       "\n",
       "    .dataframe tbody tr th {\n",
       "        vertical-align: top;\n",
       "    }\n",
       "\n",
       "    .dataframe thead th {\n",
       "        text-align: right;\n",
       "    }\n",
       "</style>\n",
       "<table border=\"1\" class=\"dataframe\">\n",
       "  <thead>\n",
       "    <tr style=\"text-align: right;\">\n",
       "      <th></th>\n",
       "      <th>Name</th>\n",
       "      <th>DateOfBirth</th>\n",
       "      <th>Height</th>\n",
       "      <th>Weight</th>\n",
       "      <th>Email</th>\n",
       "      <th>TestA</th>\n",
       "      <th>TestB</th>\n",
       "      <th>TestC</th>\n",
       "      <th>TestDate</th>\n",
       "      <th>TestStart</th>\n",
       "      <th>TestEnd</th>\n",
       "      <th>age</th>\n",
       "      <th>age_testDate</th>\n",
       "      <th>Test_duration</th>\n",
       "      <th>Test_duration_str</th>\n",
       "      <th>Gender</th>\n",
       "      <th>FName</th>\n",
       "      <th>Lname</th>\n",
       "    </tr>\n",
       "  </thead>\n",
       "  <tbody>\n",
       "    <tr>\n",
       "      <th>0</th>\n",
       "      <td>Beauden Bree</td>\n",
       "      <td>1985-01-11</td>\n",
       "      <td>175</td>\n",
       "      <td>65</td>\n",
       "      <td>BeaudenB@mail.com</td>\n",
       "      <td>70</td>\n",
       "      <td>36</td>\n",
       "      <td>87</td>\n",
       "      <td>2021-07-25</td>\n",
       "      <td>0 days 14:00:00</td>\n",
       "      <td>0 days 15:10:00</td>\n",
       "      <td>39</td>\n",
       "      <td>36</td>\n",
       "      <td>0 days 01:10:00</td>\n",
       "      <td>1hr 10min</td>\n",
       "      <td>Female</td>\n",
       "      <td>Beauden</td>\n",
       "      <td>Bree</td>\n",
       "    </tr>\n",
       "    <tr>\n",
       "      <th>1</th>\n",
       "      <td>Brendon Wilkie</td>\n",
       "      <td>1979-06-14</td>\n",
       "      <td>184</td>\n",
       "      <td>74</td>\n",
       "      <td>BrendonW@mail.com</td>\n",
       "      <td>55</td>\n",
       "      <td>74</td>\n",
       "      <td>42</td>\n",
       "      <td>2021-09-14</td>\n",
       "      <td>0 days 09:30:00</td>\n",
       "      <td>0 days 11:14:00</td>\n",
       "      <td>45</td>\n",
       "      <td>42</td>\n",
       "      <td>0 days 01:44:00</td>\n",
       "      <td>1hr 44min</td>\n",
       "      <td>Male</td>\n",
       "      <td>Brendon</td>\n",
       "      <td>Wilkie</td>\n",
       "    </tr>\n",
       "    <tr>\n",
       "      <th>2</th>\n",
       "      <td>Eden Eugene</td>\n",
       "      <td>1990-11-02</td>\n",
       "      <td>167</td>\n",
       "      <td>79</td>\n",
       "      <td>EdenE@mail.com</td>\n",
       "      <td>68</td>\n",
       "      <td>11</td>\n",
       "      <td>69</td>\n",
       "      <td>2021-10-20</td>\n",
       "      <td>0 days 11:00:00</td>\n",
       "      <td>0 days 13:20:00</td>\n",
       "      <td>33</td>\n",
       "      <td>30</td>\n",
       "      <td>0 days 02:20:00</td>\n",
       "      <td>2hr 20min</td>\n",
       "      <td>Female</td>\n",
       "      <td>Eden</td>\n",
       "      <td>Eugene</td>\n",
       "    </tr>\n",
       "    <tr>\n",
       "      <th>3</th>\n",
       "      <td>Lynton Wilburn</td>\n",
       "      <td>1983-08-24</td>\n",
       "      <td>155</td>\n",
       "      <td>58</td>\n",
       "      <td>LyntonW@mail.com</td>\n",
       "      <td>25</td>\n",
       "      <td>29</td>\n",
       "      <td>38</td>\n",
       "      <td>2022-01-10</td>\n",
       "      <td>0 days 10:30:00</td>\n",
       "      <td>0 days 12:00:00</td>\n",
       "      <td>40</td>\n",
       "      <td>38</td>\n",
       "      <td>0 days 01:30:00</td>\n",
       "      <td>1hr 30min</td>\n",
       "      <td>Male</td>\n",
       "      <td>Lynton</td>\n",
       "      <td>Wilburn</td>\n",
       "    </tr>\n",
       "    <tr>\n",
       "      <th>4</th>\n",
       "      <td>Clemence Gladys</td>\n",
       "      <td>2018-12-04</td>\n",
       "      <td>176</td>\n",
       "      <td>80</td>\n",
       "      <td>ClemenceG@mail.com</td>\n",
       "      <td>40</td>\n",
       "      <td>35</td>\n",
       "      <td>78</td>\n",
       "      <td>2021-12-12</td>\n",
       "      <td>0 days 16:00:00</td>\n",
       "      <td>0 days 18:15:00</td>\n",
       "      <td>5</td>\n",
       "      <td>3</td>\n",
       "      <td>0 days 02:15:00</td>\n",
       "      <td>2hr 15min</td>\n",
       "      <td>Female</td>\n",
       "      <td>Clemence</td>\n",
       "      <td>Gladys</td>\n",
       "    </tr>\n",
       "  </tbody>\n",
       "</table>\n",
       "</div>"
      ],
      "text/plain": [
       "              Name DateOfBirth  Height  Weight               Email  TestA  \\\n",
       "0     Beauden Bree  1985-01-11     175      65   BeaudenB@mail.com     70   \n",
       "1   Brendon Wilkie  1979-06-14     184      74   BrendonW@mail.com     55   \n",
       "2      Eden Eugene  1990-11-02     167      79      EdenE@mail.com     68   \n",
       "3   Lynton Wilburn  1983-08-24     155      58    LyntonW@mail.com     25   \n",
       "4  Clemence Gladys  2018-12-04     176      80  ClemenceG@mail.com     40   \n",
       "\n",
       "   TestB  TestC   TestDate       TestStart         TestEnd  age  age_testDate  \\\n",
       "0     36     87 2021-07-25 0 days 14:00:00 0 days 15:10:00   39            36   \n",
       "1     74     42 2021-09-14 0 days 09:30:00 0 days 11:14:00   45            42   \n",
       "2     11     69 2021-10-20 0 days 11:00:00 0 days 13:20:00   33            30   \n",
       "3     29     38 2022-01-10 0 days 10:30:00 0 days 12:00:00   40            38   \n",
       "4     35     78 2021-12-12 0 days 16:00:00 0 days 18:15:00    5             3   \n",
       "\n",
       "    Test_duration Test_duration_str  Gender     FName    Lname  \n",
       "0 0 days 01:10:00         1hr 10min  Female   Beauden     Bree  \n",
       "1 0 days 01:44:00         1hr 44min    Male   Brendon   Wilkie  \n",
       "2 0 days 02:20:00         2hr 20min  Female      Eden   Eugene  \n",
       "3 0 days 01:30:00         1hr 30min    Male    Lynton  Wilburn  \n",
       "4 0 days 02:15:00         2hr 15min  Female  Clemence   Gladys  "
      ]
     },
     "execution_count": 73,
     "metadata": {},
     "output_type": "execute_result"
    }
   ],
   "source": [
    "df_personInfo[['FName', 'Lname']] = df_personInfo.Name.str.split(expand=True)\n",
    "#By default pat=None -> split on whitespace\n",
    "\n",
    "#By default expand=False:\n",
    "# expand=True -> return DataFrame/MultiIndex expanding dimensionality.\n",
    "# expand=False -> return return Series/Index, containing lists of strings.\n",
    "df_personInfo"
   ]
  },
  {
   "cell_type": "markdown",
   "id": "c7022972-a0de-492a-bee6-c4be808e8ee3",
   "metadata": {
    "id": "c7022972-a0de-492a-bee6-c4be808e8ee3"
   },
   "source": [
    "Columns FName and Lname are put in the back. So, we rearrange the order of columns."
   ]
  },
  {
   "cell_type": "code",
   "execution_count": null,
   "id": "8a9f923d-b1d7-48ec-997f-c5b7a11e6c2b",
   "metadata": {
    "id": "8a9f923d-b1d7-48ec-997f-c5b7a11e6c2b",
    "outputId": "d716c6b0-0dc6-45e5-f8df-d208e0c30c93"
   },
   "outputs": [
    {
     "data": {
      "text/html": [
       "<div>\n",
       "<style scoped>\n",
       "    .dataframe tbody tr th:only-of-type {\n",
       "        vertical-align: middle;\n",
       "    }\n",
       "\n",
       "    .dataframe tbody tr th {\n",
       "        vertical-align: top;\n",
       "    }\n",
       "\n",
       "    .dataframe thead th {\n",
       "        text-align: right;\n",
       "    }\n",
       "</style>\n",
       "<table border=\"1\" class=\"dataframe\">\n",
       "  <thead>\n",
       "    <tr style=\"text-align: right;\">\n",
       "      <th></th>\n",
       "      <th>FName</th>\n",
       "      <th>Lname</th>\n",
       "      <th>DateOfBirth</th>\n",
       "      <th>Height</th>\n",
       "      <th>Weight</th>\n",
       "      <th>Email</th>\n",
       "      <th>TestA</th>\n",
       "      <th>TestB</th>\n",
       "      <th>TestC</th>\n",
       "      <th>TestDate</th>\n",
       "      <th>TestStart</th>\n",
       "      <th>TestEnd</th>\n",
       "      <th>age</th>\n",
       "      <th>age_testDate</th>\n",
       "      <th>Test_duration</th>\n",
       "      <th>Test_duration_str</th>\n",
       "      <th>Gender</th>\n",
       "    </tr>\n",
       "  </thead>\n",
       "  <tbody>\n",
       "    <tr>\n",
       "      <th>0</th>\n",
       "      <td>Beauden</td>\n",
       "      <td>Bree</td>\n",
       "      <td>1985-01-11</td>\n",
       "      <td>175</td>\n",
       "      <td>65</td>\n",
       "      <td>BeaudenB@mail.com</td>\n",
       "      <td>70</td>\n",
       "      <td>36</td>\n",
       "      <td>87</td>\n",
       "      <td>2021-07-25</td>\n",
       "      <td>0 days 14:00:00</td>\n",
       "      <td>0 days 15:10:00</td>\n",
       "      <td>39</td>\n",
       "      <td>36</td>\n",
       "      <td>0 days 01:10:00</td>\n",
       "      <td>1hr 10min</td>\n",
       "      <td>Female</td>\n",
       "    </tr>\n",
       "    <tr>\n",
       "      <th>1</th>\n",
       "      <td>Brendon</td>\n",
       "      <td>Wilkie</td>\n",
       "      <td>1979-06-14</td>\n",
       "      <td>184</td>\n",
       "      <td>74</td>\n",
       "      <td>BrendonW@mail.com</td>\n",
       "      <td>55</td>\n",
       "      <td>74</td>\n",
       "      <td>42</td>\n",
       "      <td>2021-09-14</td>\n",
       "      <td>0 days 09:30:00</td>\n",
       "      <td>0 days 11:14:00</td>\n",
       "      <td>45</td>\n",
       "      <td>42</td>\n",
       "      <td>0 days 01:44:00</td>\n",
       "      <td>1hr 44min</td>\n",
       "      <td>Male</td>\n",
       "    </tr>\n",
       "    <tr>\n",
       "      <th>2</th>\n",
       "      <td>Eden</td>\n",
       "      <td>Eugene</td>\n",
       "      <td>1990-11-02</td>\n",
       "      <td>167</td>\n",
       "      <td>79</td>\n",
       "      <td>EdenE@mail.com</td>\n",
       "      <td>68</td>\n",
       "      <td>11</td>\n",
       "      <td>69</td>\n",
       "      <td>2021-10-20</td>\n",
       "      <td>0 days 11:00:00</td>\n",
       "      <td>0 days 13:20:00</td>\n",
       "      <td>33</td>\n",
       "      <td>30</td>\n",
       "      <td>0 days 02:20:00</td>\n",
       "      <td>2hr 20min</td>\n",
       "      <td>Female</td>\n",
       "    </tr>\n",
       "    <tr>\n",
       "      <th>3</th>\n",
       "      <td>Lynton</td>\n",
       "      <td>Wilburn</td>\n",
       "      <td>1983-08-24</td>\n",
       "      <td>155</td>\n",
       "      <td>58</td>\n",
       "      <td>LyntonW@mail.com</td>\n",
       "      <td>25</td>\n",
       "      <td>29</td>\n",
       "      <td>38</td>\n",
       "      <td>2022-01-10</td>\n",
       "      <td>0 days 10:30:00</td>\n",
       "      <td>0 days 12:00:00</td>\n",
       "      <td>40</td>\n",
       "      <td>38</td>\n",
       "      <td>0 days 01:30:00</td>\n",
       "      <td>1hr 30min</td>\n",
       "      <td>Male</td>\n",
       "    </tr>\n",
       "    <tr>\n",
       "      <th>4</th>\n",
       "      <td>Clemence</td>\n",
       "      <td>Gladys</td>\n",
       "      <td>2018-12-04</td>\n",
       "      <td>176</td>\n",
       "      <td>80</td>\n",
       "      <td>ClemenceG@mail.com</td>\n",
       "      <td>40</td>\n",
       "      <td>35</td>\n",
       "      <td>78</td>\n",
       "      <td>2021-12-12</td>\n",
       "      <td>0 days 16:00:00</td>\n",
       "      <td>0 days 18:15:00</td>\n",
       "      <td>5</td>\n",
       "      <td>3</td>\n",
       "      <td>0 days 02:15:00</td>\n",
       "      <td>2hr 15min</td>\n",
       "      <td>Female</td>\n",
       "    </tr>\n",
       "  </tbody>\n",
       "</table>\n",
       "</div>"
      ],
      "text/plain": [
       "      FName    Lname DateOfBirth  Height  Weight               Email  TestA  \\\n",
       "0   Beauden     Bree  1985-01-11     175      65   BeaudenB@mail.com     70   \n",
       "1   Brendon   Wilkie  1979-06-14     184      74   BrendonW@mail.com     55   \n",
       "2      Eden   Eugene  1990-11-02     167      79      EdenE@mail.com     68   \n",
       "3    Lynton  Wilburn  1983-08-24     155      58    LyntonW@mail.com     25   \n",
       "4  Clemence   Gladys  2018-12-04     176      80  ClemenceG@mail.com     40   \n",
       "\n",
       "   TestB  TestC   TestDate       TestStart         TestEnd  age  age_testDate  \\\n",
       "0     36     87 2021-07-25 0 days 14:00:00 0 days 15:10:00   39            36   \n",
       "1     74     42 2021-09-14 0 days 09:30:00 0 days 11:14:00   45            42   \n",
       "2     11     69 2021-10-20 0 days 11:00:00 0 days 13:20:00   33            30   \n",
       "3     29     38 2022-01-10 0 days 10:30:00 0 days 12:00:00   40            38   \n",
       "4     35     78 2021-12-12 0 days 16:00:00 0 days 18:15:00    5             3   \n",
       "\n",
       "    Test_duration Test_duration_str  Gender  \n",
       "0 0 days 01:10:00         1hr 10min  Female  \n",
       "1 0 days 01:44:00         1hr 44min    Male  \n",
       "2 0 days 02:20:00         2hr 20min  Female  \n",
       "3 0 days 01:30:00         1hr 30min    Male  \n",
       "4 0 days 02:15:00         2hr 15min  Female  "
      ]
     },
     "execution_count": 74,
     "metadata": {},
     "output_type": "execute_result"
    }
   ],
   "source": [
    "df_personInfo = df_personInfo[[\n",
    "    'FName', 'Lname', 'DateOfBirth', 'Height', 'Weight', 'Email', 'TestA',\n",
    "    'TestB', 'TestC', 'TestDate', 'TestStart', 'TestEnd', 'age', 'age_testDate',\n",
    "    'Test_duration', 'Test_duration_str', 'Gender'\n",
    "]]\n",
    "df_personInfo"
   ]
  },
  {
   "cell_type": "markdown",
   "id": "1f0d5f27-330e-4158-89e4-e73509c71393",
   "metadata": {
    "id": "1f0d5f27-330e-4158-89e4-e73509c71393"
   },
   "source": [
    "\\\n",
    "<font color=\"#029DA3\">**Separate column by year, month, day**</font>  \n",
    "For example, we want to separate DateOfBirth by year, month, day.  \n",
    "First, we need to convert DateOfBirth to string.  "
   ]
  },
  {
   "cell_type": "code",
   "execution_count": null,
   "id": "ed41578d-fad3-41c8-8f0e-b68c2a790e22",
   "metadata": {
    "id": "ed41578d-fad3-41c8-8f0e-b68c2a790e22",
    "outputId": "60a291ce-5b6b-4be8-de69-f64ce1584426"
   },
   "outputs": [
    {
     "data": {
      "text/plain": [
       "0    1985-01-11\n",
       "1    1979-06-14\n",
       "2    1990-11-02\n",
       "3    1983-08-24\n",
       "4    2018-12-04\n",
       "Name: DateOfBirth, dtype: object"
      ]
     },
     "execution_count": 75,
     "metadata": {},
     "output_type": "execute_result"
    }
   ],
   "source": [
    "df_personInfo.DateOfBirth.dt.strftime('%Y-%m-%d')"
   ]
  },
  {
   "cell_type": "markdown",
   "id": "6dae9c11-d4c3-44bf-add8-e425b5de37a9",
   "metadata": {
    "id": "6dae9c11-d4c3-44bf-add8-e425b5de37a9"
   },
   "source": [
    "\\\n",
    "Then use str.split():"
   ]
  },
  {
   "cell_type": "code",
   "execution_count": null,
   "id": "74637fb4-7049-4e11-a96a-6a73eb21f07d",
   "metadata": {
    "id": "74637fb4-7049-4e11-a96a-6a73eb21f07d",
    "outputId": "fbe51e23-27d6-49f0-e5d1-6be2358e9b64"
   },
   "outputs": [
    {
     "data": {
      "text/html": [
       "<div>\n",
       "<style scoped>\n",
       "    .dataframe tbody tr th:only-of-type {\n",
       "        vertical-align: middle;\n",
       "    }\n",
       "\n",
       "    .dataframe tbody tr th {\n",
       "        vertical-align: top;\n",
       "    }\n",
       "\n",
       "    .dataframe thead th {\n",
       "        text-align: right;\n",
       "    }\n",
       "</style>\n",
       "<table border=\"1\" class=\"dataframe\">\n",
       "  <thead>\n",
       "    <tr style=\"text-align: right;\">\n",
       "      <th></th>\n",
       "      <th>Year</th>\n",
       "      <th>Month</th>\n",
       "      <th>Day</th>\n",
       "    </tr>\n",
       "  </thead>\n",
       "  <tbody>\n",
       "    <tr>\n",
       "      <th>0</th>\n",
       "      <td>1985</td>\n",
       "      <td>01</td>\n",
       "      <td>11</td>\n",
       "    </tr>\n",
       "    <tr>\n",
       "      <th>1</th>\n",
       "      <td>1979</td>\n",
       "      <td>06</td>\n",
       "      <td>14</td>\n",
       "    </tr>\n",
       "    <tr>\n",
       "      <th>2</th>\n",
       "      <td>1990</td>\n",
       "      <td>11</td>\n",
       "      <td>02</td>\n",
       "    </tr>\n",
       "    <tr>\n",
       "      <th>3</th>\n",
       "      <td>1983</td>\n",
       "      <td>08</td>\n",
       "      <td>24</td>\n",
       "    </tr>\n",
       "    <tr>\n",
       "      <th>4</th>\n",
       "      <td>2018</td>\n",
       "      <td>12</td>\n",
       "      <td>04</td>\n",
       "    </tr>\n",
       "  </tbody>\n",
       "</table>\n",
       "</div>"
      ],
      "text/plain": [
       "   Year Month Day\n",
       "0  1985    01  11\n",
       "1  1979    06  14\n",
       "2  1990    11  02\n",
       "3  1983    08  24\n",
       "4  2018    12  04"
      ]
     },
     "execution_count": 76,
     "metadata": {},
     "output_type": "execute_result"
    }
   ],
   "source": [
    "df_dob = pd.DataFrame()\n",
    "df_dob[['Year', 'Month','Day']] = df_personInfo.DateOfBirth.dt.strftime('%Y-%m-%d').str.split(pat=\"-\", expand=True)\n",
    "df_dob"
   ]
  },
  {
   "cell_type": "code",
   "execution_count": null,
   "id": "a5b554be-9dc4-4142-b8ed-6f671eaf82ee",
   "metadata": {
    "id": "a5b554be-9dc4-4142-b8ed-6f671eaf82ee"
   },
   "outputs": [],
   "source": []
  }
 ],
 "metadata": {
  "kernelspec": {
   "display_name": "Python 3 (ipykernel)",
   "language": "python",
   "name": "python3"
  },
  "language_info": {
   "codemirror_mode": {
    "name": "ipython",
    "version": 3
   },
   "file_extension": ".py",
   "mimetype": "text/x-python",
   "name": "python",
   "nbconvert_exporter": "python",
   "pygments_lexer": "ipython3",
   "version": "3.12.3"
  },
  "colab": {
   "provenance": []
  }
 },
 "nbformat": 4,
 "nbformat_minor": 5
}
