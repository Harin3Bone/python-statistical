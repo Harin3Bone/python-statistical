{
 "cells": [
  {
   "cell_type": "markdown",
   "id": "727a2fd1-6765-47f0-9ded-8033db3591c1",
   "metadata": {
    "id": "727a2fd1-6765-47f0-9ded-8033db3591c1"
   },
   "source": [
    "# <font color=\"#DE1509\">Chi-Squared Test (Test of Independence)</font>"
   ]
  },
  {
   "cell_type": "markdown",
   "id": "8b92ea80-74fa-4d4c-a653-0036ee158fc2",
   "metadata": {
    "id": "8b92ea80-74fa-4d4c-a653-0036ee158fc2"
   },
   "source": [
    "A chi-squared test (χ<sup>2</sup> test) is used to decide whether there is a relationship exists between two categorical variables of a sample.\n",
    "\n",
    "H0 ตัวแปร A, B เป็นอิสระต่อกัน\n",
    "H1 ตัวแปร A, B ไม่เป็นอิสระกัน\n",
    "\n",
    "หรือ\n",
    "\n",
    "H0: ไม่มีความสัมพันธ์ระหว่างตัวแปร A และ B\n",
    "H1: มีความสัมพันธ์ระหว่างตัวแปร A และ B\n",
    "\n",
    "In this exercise, we will perform χ<sup>2</sup> test based on 'Immunotherapy.csv' and 'titanic.csv' dataset."
   ]
  },
  {
   "cell_type": "code",
   "id": "55c4a6d1-d486-4423-af07-fd4806d889c8",
   "metadata": {
    "executionInfo": {
     "elapsed": 2030,
     "status": "ok",
     "timestamp": 1738325948678,
     "user": {
      "displayName": "Thammakorn SAETHANG",
      "userId": "08182570455347153646"
     },
     "user_tz": -420
    },
    "id": "55c4a6d1-d486-4423-af07-fd4806d889c8",
    "ExecuteTime": {
     "end_time": "2025-02-01T09:38:50.290705Z",
     "start_time": "2025-02-01T09:38:50.287195Z"
    }
   },
   "source": [
    "import pandas as pd\n",
    "import numpy as np\n",
    "import matplotlib.pyplot as plt\n",
    "import seaborn as sns\n",
    "from scipy import stats"
   ],
   "outputs": [],
   "execution_count": 1
  },
  {
   "cell_type": "markdown",
   "id": "59ef9387-a2f6-4e84-839c-aee148aff965",
   "metadata": {
    "id": "59ef9387-a2f6-4e84-839c-aee148aff965"
   },
   "source": [
    "&nbsp;    \n",
    "#### <font color=\"#127C02\">*Immunotherapy Dataset*</font>"
   ]
  },
  {
   "cell_type": "code",
   "id": "133a4676-3282-4c27-8b25-462eb1c79e3b",
   "metadata": {
    "colab": {
     "base_uri": "https://localhost:8080/",
     "height": 206
    },
    "executionInfo": {
     "elapsed": 872,
     "status": "ok",
     "timestamp": 1738325968164,
     "user": {
      "displayName": "Thammakorn SAETHANG",
      "userId": "08182570455347153646"
     },
     "user_tz": -420
    },
    "id": "133a4676-3282-4c27-8b25-462eb1c79e3b",
    "outputId": "8d47cebc-f043-44d4-e5b2-6916e58f9e31",
    "ExecuteTime": {
     "end_time": "2025-02-01T09:38:50.399138Z",
     "start_time": "2025-02-01T09:38:50.298226Z"
    }
   },
   "source": [
    "df_immuno = pd.read_csv(\"https://raw.githubusercontent.com/ThammakornS/ProgStat/main/dataset/Immunotherapy.csv\")\n",
    "df_immuno.head()"
   ],
   "outputs": [
    {
     "data": {
      "text/plain": [
       "   gender  age   time  number_of_warts     type  area  induration_diameter  \\\n",
       "0  Female   15   1.75                1  Plantar    49                    7   \n",
       "1  Female   38   2.50                1     Both    43                   50   \n",
       "2  Female   24   4.25                1   common   174                   30   \n",
       "3  Female   34   8.50                1  Plantar   163                    7   \n",
       "4  Female   53  10.00                1  Plantar    30                   25   \n",
       "\n",
       "  response  \n",
       "0       No  \n",
       "1      Yes  \n",
       "2      Yes  \n",
       "3       No  \n",
       "4      Yes  "
      ],
      "text/html": [
       "<div>\n",
       "<style scoped>\n",
       "    .dataframe tbody tr th:only-of-type {\n",
       "        vertical-align: middle;\n",
       "    }\n",
       "\n",
       "    .dataframe tbody tr th {\n",
       "        vertical-align: top;\n",
       "    }\n",
       "\n",
       "    .dataframe thead th {\n",
       "        text-align: right;\n",
       "    }\n",
       "</style>\n",
       "<table border=\"1\" class=\"dataframe\">\n",
       "  <thead>\n",
       "    <tr style=\"text-align: right;\">\n",
       "      <th></th>\n",
       "      <th>gender</th>\n",
       "      <th>age</th>\n",
       "      <th>time</th>\n",
       "      <th>number_of_warts</th>\n",
       "      <th>type</th>\n",
       "      <th>area</th>\n",
       "      <th>induration_diameter</th>\n",
       "      <th>response</th>\n",
       "    </tr>\n",
       "  </thead>\n",
       "  <tbody>\n",
       "    <tr>\n",
       "      <th>0</th>\n",
       "      <td>Female</td>\n",
       "      <td>15</td>\n",
       "      <td>1.75</td>\n",
       "      <td>1</td>\n",
       "      <td>Plantar</td>\n",
       "      <td>49</td>\n",
       "      <td>7</td>\n",
       "      <td>No</td>\n",
       "    </tr>\n",
       "    <tr>\n",
       "      <th>1</th>\n",
       "      <td>Female</td>\n",
       "      <td>38</td>\n",
       "      <td>2.50</td>\n",
       "      <td>1</td>\n",
       "      <td>Both</td>\n",
       "      <td>43</td>\n",
       "      <td>50</td>\n",
       "      <td>Yes</td>\n",
       "    </tr>\n",
       "    <tr>\n",
       "      <th>2</th>\n",
       "      <td>Female</td>\n",
       "      <td>24</td>\n",
       "      <td>4.25</td>\n",
       "      <td>1</td>\n",
       "      <td>common</td>\n",
       "      <td>174</td>\n",
       "      <td>30</td>\n",
       "      <td>Yes</td>\n",
       "    </tr>\n",
       "    <tr>\n",
       "      <th>3</th>\n",
       "      <td>Female</td>\n",
       "      <td>34</td>\n",
       "      <td>8.50</td>\n",
       "      <td>1</td>\n",
       "      <td>Plantar</td>\n",
       "      <td>163</td>\n",
       "      <td>7</td>\n",
       "      <td>No</td>\n",
       "    </tr>\n",
       "    <tr>\n",
       "      <th>4</th>\n",
       "      <td>Female</td>\n",
       "      <td>53</td>\n",
       "      <td>10.00</td>\n",
       "      <td>1</td>\n",
       "      <td>Plantar</td>\n",
       "      <td>30</td>\n",
       "      <td>25</td>\n",
       "      <td>Yes</td>\n",
       "    </tr>\n",
       "  </tbody>\n",
       "</table>\n",
       "</div>"
      ]
     },
     "execution_count": 2,
     "metadata": {},
     "output_type": "execute_result"
    }
   ],
   "execution_count": 2
  },
  {
   "cell_type": "markdown",
   "id": "28dbe51c-be85-4801-b213-9d885adbf999",
   "metadata": {
    "id": "28dbe51c-be85-4801-b213-9d885adbf999",
    "tags": []
   },
   "source": [
    "&nbsp;    \n",
    "#### <font color=\"#029DA3\">**Adjust Data Type**</font>"
   ]
  },
  {
   "cell_type": "code",
   "id": "ad958ebf-a652-4835-88c3-91987133d813",
   "metadata": {
    "colab": {
     "base_uri": "https://localhost:8080/"
    },
    "executionInfo": {
     "elapsed": 515,
     "status": "ok",
     "timestamp": 1674838156690,
     "user": {
      "displayName": "Thammakorn SAETHANG",
      "userId": "08182570455347153646"
     },
     "user_tz": -420
    },
    "id": "ad958ebf-a652-4835-88c3-91987133d813",
    "outputId": "3423d6af-211a-42d3-e314-eb62b2df13bb",
    "ExecuteTime": {
     "end_time": "2025-02-01T09:38:50.950079Z",
     "start_time": "2025-02-01T09:38:50.939711Z"
    }
   },
   "source": [
    "df_immuno = df_immuno.astype({\n",
    "    'gender': 'category',\n",
    "    'type': 'category',\n",
    "    'response': 'category'\n",
    "})\n",
    "df_immuno.info()"
   ],
   "outputs": [
    {
     "name": "stdout",
     "output_type": "stream",
     "text": [
      "<class 'pandas.core.frame.DataFrame'>\n",
      "RangeIndex: 90 entries, 0 to 89\n",
      "Data columns (total 8 columns):\n",
      " #   Column               Non-Null Count  Dtype   \n",
      "---  ------               --------------  -----   \n",
      " 0   gender               90 non-null     category\n",
      " 1   age                  90 non-null     int64   \n",
      " 2   time                 90 non-null     float64 \n",
      " 3   number_of_warts      90 non-null     int64   \n",
      " 4   type                 90 non-null     category\n",
      " 5   area                 90 non-null     int64   \n",
      " 6   induration_diameter  90 non-null     int64   \n",
      " 7   response             90 non-null     category\n",
      "dtypes: category(3), float64(1), int64(4)\n",
      "memory usage: 4.3 KB\n"
     ]
    }
   ],
   "execution_count": 3
  },
  {
   "cell_type": "markdown",
   "id": "f7e5256a-aeaa-4c64-802a-8a2add35a417",
   "metadata": {
    "id": "f7e5256a-aeaa-4c64-802a-8a2add35a417",
    "tags": []
   },
   "source": [
    "&nbsp;    \n",
    "#### <font color=\"#029DA3\">**Visualization of Categorical Data**</font>"
   ]
  },
  {
   "cell_type": "code",
   "id": "6af89e27-2e7b-4389-a525-9a316af7898b",
   "metadata": {
    "colab": {
     "base_uri": "https://localhost:8080/",
     "height": 467
    },
    "executionInfo": {
     "elapsed": 675,
     "status": "ok",
     "timestamp": 1738325977306,
     "user": {
      "displayName": "Thammakorn SAETHANG",
      "userId": "08182570455347153646"
     },
     "user_tz": -420
    },
    "id": "6af89e27-2e7b-4389-a525-9a316af7898b",
    "outputId": "eb5bff07-f894-4453-b400-87ebdb144ece",
    "ExecuteTime": {
     "end_time": "2025-02-01T09:38:51.305926Z",
     "start_time": "2025-02-01T09:38:51.027683Z"
    }
   },
   "source": [
    "sns.countplot(data=df_immuno,\n",
    "             x='gender',\n",
    "             hue='response')"
   ],
   "outputs": [
    {
     "data": {
      "text/plain": [
       "<Axes: xlabel='gender', ylabel='count'>"
      ]
     },
     "execution_count": 4,
     "metadata": {},
     "output_type": "execute_result"
    },
    {
     "data": {
      "text/plain": [
       "<Figure size 640x480 with 1 Axes>"
      ],
      "image/png": "[encoded data removed]"
     },
     "metadata": {},
     "output_type": "display_data"
    }
   ],
   "execution_count": 4
  },
  {
   "cell_type": "code",
   "id": "c7666242-47c1-4b4d-bd4f-ce59eac21f67",
   "metadata": {
    "colab": {
     "base_uri": "https://localhost:8080/",
     "height": 175
    },
    "executionInfo": {
     "elapsed": 313,
     "status": "ok",
     "timestamp": 1738326004007,
     "user": {
      "displayName": "Thammakorn SAETHANG",
      "userId": "08182570455347153646"
     },
     "user_tz": -420
    },
    "id": "c7666242-47c1-4b4d-bd4f-ce59eac21f67",
    "outputId": "7958a123-5348-4f23-cdee-9687117be8f2",
    "ExecuteTime": {
     "end_time": "2025-02-01T09:38:51.347961Z",
     "start_time": "2025-02-01T09:38:51.311440Z"
    }
   },
   "source": [
    "pd.crosstab(df_immuno.gender,\n",
    "            df_immuno.response,\n",
    "            margins=True)"
   ],
   "outputs": [
    {
     "data": {
      "text/plain": [
       "response  No  Yes  All\n",
       "gender                \n",
       "Female    10   39   49\n",
       "Male       9   32   41\n",
       "All       19   71   90"
      ],
      "text/html": [
       "<div>\n",
       "<style scoped>\n",
       "    .dataframe tbody tr th:only-of-type {\n",
       "        vertical-align: middle;\n",
       "    }\n",
       "\n",
       "    .dataframe tbody tr th {\n",
       "        vertical-align: top;\n",
       "    }\n",
       "\n",
       "    .dataframe thead th {\n",
       "        text-align: right;\n",
       "    }\n",
       "</style>\n",
       "<table border=\"1\" class=\"dataframe\">\n",
       "  <thead>\n",
       "    <tr style=\"text-align: right;\">\n",
       "      <th>response</th>\n",
       "      <th>No</th>\n",
       "      <th>Yes</th>\n",
       "      <th>All</th>\n",
       "    </tr>\n",
       "    <tr>\n",
       "      <th>gender</th>\n",
       "      <th></th>\n",
       "      <th></th>\n",
       "      <th></th>\n",
       "    </tr>\n",
       "  </thead>\n",
       "  <tbody>\n",
       "    <tr>\n",
       "      <th>Female</th>\n",
       "      <td>10</td>\n",
       "      <td>39</td>\n",
       "      <td>49</td>\n",
       "    </tr>\n",
       "    <tr>\n",
       "      <th>Male</th>\n",
       "      <td>9</td>\n",
       "      <td>32</td>\n",
       "      <td>41</td>\n",
       "    </tr>\n",
       "    <tr>\n",
       "      <th>All</th>\n",
       "      <td>19</td>\n",
       "      <td>71</td>\n",
       "      <td>90</td>\n",
       "    </tr>\n",
       "  </tbody>\n",
       "</table>\n",
       "</div>"
      ]
     },
     "execution_count": 5,
     "metadata": {},
     "output_type": "execute_result"
    }
   ],
   "execution_count": 5
  },
  {
   "cell_type": "code",
   "id": "f183fd0f-eb45-42db-ba82-c2f40f78c863",
   "metadata": {
    "colab": {
     "base_uri": "https://localhost:8080/",
     "height": 467
    },
    "executionInfo": {
     "elapsed": 381,
     "status": "ok",
     "timestamp": 1738326024228,
     "user": {
      "displayName": "Thammakorn SAETHANG",
      "userId": "08182570455347153646"
     },
     "user_tz": -420
    },
    "id": "f183fd0f-eb45-42db-ba82-c2f40f78c863",
    "outputId": "1bf2dd7a-7086-4c95-c5aa-099a8abb2922",
    "ExecuteTime": {
     "end_time": "2025-02-01T09:38:51.529124Z",
     "start_time": "2025-02-01T09:38:51.397365Z"
    }
   },
   "source": [
    "sns.countplot(data=df_immuno,\n",
    "             x='type',\n",
    "             hue='response')"
   ],
   "outputs": [
    {
     "data": {
      "text/plain": [
       "<Axes: xlabel='type', ylabel='count'>"
      ]
     },
     "execution_count": 6,
     "metadata": {},
     "output_type": "execute_result"
    },
    {
     "data": {
      "text/plain": [
       "<Figure size 640x480 with 1 Axes>"
      ],
      "image/png": "[encoded data removed]"
     },
     "metadata": {},
     "output_type": "display_data"
    }
   ],
   "execution_count": 6
  },
  {
   "cell_type": "code",
   "id": "1d0c39cc-0b06-4573-a1b3-f601756aab7f",
   "metadata": {
    "id": "1d0c39cc-0b06-4573-a1b3-f601756aab7f",
    "outputId": "25beed59-2d97-4c0b-d011-40a46168f28b",
    "colab": {
     "base_uri": "https://localhost:8080/",
     "height": 206
    },
    "executionInfo": {
     "status": "ok",
     "timestamp": 1738326079896,
     "user_tz": -420,
     "elapsed": 305,
     "user": {
      "displayName": "Thammakorn SAETHANG",
      "userId": "08182570455347153646"
     }
    },
    "ExecuteTime": {
     "end_time": "2025-02-01T09:38:51.586664Z",
     "start_time": "2025-02-01T09:38:51.560564Z"
    }
   },
   "source": [
    "pd.crosstab(df_immuno.type,\n",
    "            df_immuno.response,\n",
    "            margins=True)"
   ],
   "outputs": [
    {
     "data": {
      "text/plain": [
       "response  No  Yes  All\n",
       "type                  \n",
       "Both       3   18   21\n",
       "Plantar    5   17   22\n",
       "common    11   36   47\n",
       "All       19   71   90"
      ],
      "text/html": [
       "<div>\n",
       "<style scoped>\n",
       "    .dataframe tbody tr th:only-of-type {\n",
       "        vertical-align: middle;\n",
       "    }\n",
       "\n",
       "    .dataframe tbody tr th {\n",
       "        vertical-align: top;\n",
       "    }\n",
       "\n",
       "    .dataframe thead th {\n",
       "        text-align: right;\n",
       "    }\n",
       "</style>\n",
       "<table border=\"1\" class=\"dataframe\">\n",
       "  <thead>\n",
       "    <tr style=\"text-align: right;\">\n",
       "      <th>response</th>\n",
       "      <th>No</th>\n",
       "      <th>Yes</th>\n",
       "      <th>All</th>\n",
       "    </tr>\n",
       "    <tr>\n",
       "      <th>type</th>\n",
       "      <th></th>\n",
       "      <th></th>\n",
       "      <th></th>\n",
       "    </tr>\n",
       "  </thead>\n",
       "  <tbody>\n",
       "    <tr>\n",
       "      <th>Both</th>\n",
       "      <td>3</td>\n",
       "      <td>18</td>\n",
       "      <td>21</td>\n",
       "    </tr>\n",
       "    <tr>\n",
       "      <th>Plantar</th>\n",
       "      <td>5</td>\n",
       "      <td>17</td>\n",
       "      <td>22</td>\n",
       "    </tr>\n",
       "    <tr>\n",
       "      <th>common</th>\n",
       "      <td>11</td>\n",
       "      <td>36</td>\n",
       "      <td>47</td>\n",
       "    </tr>\n",
       "    <tr>\n",
       "      <th>All</th>\n",
       "      <td>19</td>\n",
       "      <td>71</td>\n",
       "      <td>90</td>\n",
       "    </tr>\n",
       "  </tbody>\n",
       "</table>\n",
       "</div>"
      ]
     },
     "execution_count": 7,
     "metadata": {},
     "output_type": "execute_result"
    }
   ],
   "execution_count": 7
  },
  {
   "cell_type": "code",
   "id": "92af0fa2-87f0-4f18-a146-c1c6082cbba3",
   "metadata": {
    "colab": {
     "base_uri": "https://localhost:8080/",
     "height": 525
    },
    "executionInfo": {
     "elapsed": 1053,
     "status": "ok",
     "timestamp": 1738326120301,
     "user": {
      "displayName": "Thammakorn SAETHANG",
      "userId": "08182570455347153646"
     },
     "user_tz": -420
    },
    "id": "92af0fa2-87f0-4f18-a146-c1c6082cbba3",
    "outputId": "eca6f735-cc73-4a18-cf32-c63e3d6b4793",
    "ExecuteTime": {
     "end_time": "2025-02-01T09:38:52.145333Z",
     "start_time": "2025-02-01T09:38:51.673316Z"
    }
   },
   "source": [
    "sns.catplot(data=df_immuno,\n",
    "           kind='count',\n",
    "           col='type',\n",
    "           x='gender',\n",
    "           hue='response')"
   ],
   "outputs": [
    {
     "data": {
      "text/plain": [
       "<seaborn.axisgrid.FacetGrid at 0x1b8ce6d3a70>"
      ]
     },
     "execution_count": 8,
     "metadata": {},
     "output_type": "execute_result"
    },
    {
     "data": {
      "text/plain": [
       "<Figure size 1572.62x500 with 3 Axes>"
      ],
      "image/png": "[encoded data removed]"
     },
     "metadata": {},
     "output_type": "display_data"
    }
   ],
   "execution_count": 8
  },
  {
   "cell_type": "markdown",
   "id": "a449e903-ef72-4e52-a697-c0e4a0c93798",
   "metadata": {
    "id": "a449e903-ef72-4e52-a697-c0e4a0c93798",
    "tags": []
   },
   "source": [
    "&nbsp;    \n",
    "#### <font color=\"#127C02\">**Gender & Response**</font>"
   ]
  },
  {
   "cell_type": "markdown",
   "id": "bcf2b4b1-97bd-4d69-926f-94988717180c",
   "metadata": {
    "id": "bcf2b4b1-97bd-4d69-926f-94988717180c",
    "tags": []
   },
   "source": [
    "&NewLine;  \n",
    "#### <font color=\"#029DA3\">**Create Contingency Table**</font>"
   ]
  },
  {
   "cell_type": "markdown",
   "id": "7945f7b9-7c02-404e-86f8-cecda0073cbd",
   "metadata": {
    "id": "7945f7b9-7c02-404e-86f8-cecda0073cbd"
   },
   "source": [
    "To run the Chi-Square Test, the easiest way is to convert the data into a contingency table with frequencies.  "
   ]
  },
  {
   "cell_type": "code",
   "id": "170a290e-be29-45ae-8552-6079fcdd1600",
   "metadata": {
    "id": "170a290e-be29-45ae-8552-6079fcdd1600",
    "outputId": "d82b4613-1973-4565-f853-047c770d1c89",
    "colab": {
     "base_uri": "https://localhost:8080/",
     "height": 143
    },
    "executionInfo": {
     "status": "ok",
     "timestamp": 1738326163547,
     "user_tz": -420,
     "elapsed": 333,
     "user": {
      "displayName": "Thammakorn SAETHANG",
      "userId": "08182570455347153646"
     }
    },
    "ExecuteTime": {
     "end_time": "2025-02-01T09:38:52.183663Z",
     "start_time": "2025-02-01T09:38:52.171884Z"
    }
   },
   "source": [
    "contab = pd.crosstab(df_immuno.gender,\n",
    "                     df_immuno.response)\n",
    "contab"
   ],
   "outputs": [
    {
     "data": {
      "text/plain": [
       "response  No  Yes\n",
       "gender           \n",
       "Female    10   39\n",
       "Male       9   32"
      ],
      "text/html": [
       "<div>\n",
       "<style scoped>\n",
       "    .dataframe tbody tr th:only-of-type {\n",
       "        vertical-align: middle;\n",
       "    }\n",
       "\n",
       "    .dataframe tbody tr th {\n",
       "        vertical-align: top;\n",
       "    }\n",
       "\n",
       "    .dataframe thead th {\n",
       "        text-align: right;\n",
       "    }\n",
       "</style>\n",
       "<table border=\"1\" class=\"dataframe\">\n",
       "  <thead>\n",
       "    <tr style=\"text-align: right;\">\n",
       "      <th>response</th>\n",
       "      <th>No</th>\n",
       "      <th>Yes</th>\n",
       "    </tr>\n",
       "    <tr>\n",
       "      <th>gender</th>\n",
       "      <th></th>\n",
       "      <th></th>\n",
       "    </tr>\n",
       "  </thead>\n",
       "  <tbody>\n",
       "    <tr>\n",
       "      <th>Female</th>\n",
       "      <td>10</td>\n",
       "      <td>39</td>\n",
       "    </tr>\n",
       "    <tr>\n",
       "      <th>Male</th>\n",
       "      <td>9</td>\n",
       "      <td>32</td>\n",
       "    </tr>\n",
       "  </tbody>\n",
       "</table>\n",
       "</div>"
      ]
     },
     "execution_count": 9,
     "metadata": {},
     "output_type": "execute_result"
    }
   ],
   "execution_count": 9
  },
  {
   "cell_type": "markdown",
   "id": "8c0baa6c-3f9a-482f-b287-1ef8d42a0262",
   "metadata": {
    "id": "8c0baa6c-3f9a-482f-b287-1ef8d42a0262",
    "tags": []
   },
   "source": [
    "&nbsp;    \n",
    "#### <font color=\"#029DA3\">**Visualize Contingency Table**</font>"
   ]
  },
  {
   "cell_type": "markdown",
   "id": "ec98707c-5e3b-4f14-ab52-515c3990cc84",
   "metadata": {
    "id": "ec98707c-5e3b-4f14-ab52-515c3990cc84"
   },
   "source": [
    "An easy way to visualize a contingency table is to draw a heatmap."
   ]
  },
  {
   "cell_type": "code",
   "id": "fe9e1e79-2747-4a3f-95ae-ec828aac85ca",
   "metadata": {
    "id": "fe9e1e79-2747-4a3f-95ae-ec828aac85ca",
    "outputId": "cf15a9ac-922d-4ec6-e9ef-209de5f63fa6",
    "colab": {
     "base_uri": "https://localhost:8080/",
     "height": 467
    },
    "executionInfo": {
     "status": "ok",
     "timestamp": 1738326173233,
     "user_tz": -420,
     "elapsed": 735,
     "user": {
      "displayName": "Thammakorn SAETHANG",
      "userId": "08182570455347153646"
     }
    },
    "ExecuteTime": {
     "end_time": "2025-02-01T09:38:52.363138Z",
     "start_time": "2025-02-01T09:38:52.249388Z"
    }
   },
   "source": [
    "sns.heatmap(contab, annot=True, cmap='RdYlGn')"
   ],
   "outputs": [
    {
     "data": {
      "text/plain": [
       "<Axes: xlabel='response', ylabel='gender'>"
      ]
     },
     "execution_count": 10,
     "metadata": {},
     "output_type": "execute_result"
    },
    {
     "data": {
      "text/plain": [
       "<Figure size 640x480 with 2 Axes>"
      ],
      "image/png": "[encoded data removed]"
     },
     "metadata": {},
     "output_type": "display_data"
    }
   ],
   "execution_count": 10
  },
  {
   "cell_type": "markdown",
   "id": "11587be1-5fbf-49f6-8fea-a6ceac9ccddd",
   "metadata": {
    "id": "11587be1-5fbf-49f6-8fea-a6ceac9ccddd",
    "tags": []
   },
   "source": [
    "&nbsp;    \n",
    "#### <font color=\"#029DA3\">**Chi-Square Test**</font>"
   ]
  },
  {
   "cell_type": "markdown",
   "id": "07ad5d4c-1b13-4c90-8aeb-6d0dc9128acc",
   "metadata": {
    "id": "07ad5d4c-1b13-4c90-8aeb-6d0dc9128acc"
   },
   "source": [
    "Now that we have built the contingency table, we can pass it to chi2_contingency() from the scipy library which returns:\n",
    "\n",
    "- The test statistic (c)\n",
    "- The p-value of the test (p)\n",
    "- Degrees of freedom (dof)\n",
    "- The expected frequencies, based on the marginal sums of the table (expected)"
   ]
  },
  {
   "cell_type": "markdown",
   "id": "59fd7305-95d3-4c0f-99e5-c829926be900",
   "metadata": {
    "id": "59fd7305-95d3-4c0f-99e5-c829926be900"
   },
   "source": [
    "***Hypothesis***  \n",
    "H<sub>0</sub>: the gender & response have *no relationship*  \n",
    "H<sub>A</sub>: there is a relationship between gender & response"
   ]
  },
  {
   "cell_type": "code",
   "id": "0b050b0e-d7f6-4d62-9fc5-ca482a985cfe",
   "metadata": {
    "id": "0b050b0e-d7f6-4d62-9fc5-ca482a985cfe",
    "executionInfo": {
     "status": "ok",
     "timestamp": 1738326267050,
     "user_tz": -420,
     "elapsed": 318,
     "user": {
      "displayName": "Thammakorn SAETHANG",
      "userId": "08182570455347153646"
     }
    },
    "ExecuteTime": {
     "end_time": "2025-02-01T09:38:52.409170Z",
     "start_time": "2025-02-01T09:38:52.404850Z"
    }
   },
   "source": [
    "c, p, dof, expected = stats.chi2_contingency(contab)"
   ],
   "outputs": [],
   "execution_count": 11
  },
  {
   "cell_type": "code",
   "id": "2c79610f-88f6-4382-9ba4-d4f733a3c4fa",
   "metadata": {
    "id": "2c79610f-88f6-4382-9ba4-d4f733a3c4fa",
    "outputId": "c5feaf89-1bef-496c-c72a-ad256c9e50f4",
    "colab": {
     "base_uri": "https://localhost:8080/"
    },
    "executionInfo": {
     "status": "ok",
     "timestamp": 1738326269545,
     "user_tz": -420,
     "elapsed": 304,
     "user": {
      "displayName": "Thammakorn SAETHANG",
      "userId": "08182570455347153646"
     }
    },
    "ExecuteTime": {
     "end_time": "2025-02-01T09:38:52.459673Z",
     "start_time": "2025-02-01T09:38:52.456434Z"
    }
   },
   "source": [
    "print(\"p-value:\", p)"
   ],
   "outputs": [
    {
     "name": "stdout",
     "output_type": "stream",
     "text": [
      "p-value: 1.0\n"
     ]
    }
   ],
   "execution_count": 12
  },
  {
   "cell_type": "markdown",
   "id": "146222c8-a22d-4360-8cd9-482aff177147",
   "metadata": {
    "id": "146222c8-a22d-4360-8cd9-482aff177147"
   },
   "source": [
    "p-value > 0.05, fail to reject H<sub>0</sub>.  \n",
    "The p-value is 1 which means that we do not reject the H<sub>0</sub> at 95% level of confidence."
   ]
  },
  {
   "cell_type": "markdown",
   "id": "2606da5a-b743-4e4a-93b6-f0a1422265ff",
   "metadata": {
    "id": "2606da5a-b743-4e4a-93b6-f0a1422265ff"
   },
   "source": [
    "\\\n",
    "Expected frequencies (no relationship):"
   ]
  },
  {
   "cell_type": "code",
   "id": "054ed70c-5e4b-45d8-b3c9-071b6287cf44",
   "metadata": {
    "id": "054ed70c-5e4b-45d8-b3c9-071b6287cf44",
    "outputId": "24f50f33-1d45-4144-aab5-49962e6ef16e",
    "tags": [],
    "colab": {
     "base_uri": "https://localhost:8080/",
     "height": 448
    },
    "executionInfo": {
     "status": "ok",
     "timestamp": 1738326368913,
     "user_tz": -420,
     "elapsed": 340,
     "user": {
      "displayName": "Thammakorn SAETHANG",
      "userId": "08182570455347153646"
     }
    },
    "ExecuteTime": {
     "end_time": "2025-02-01T09:38:52.625348Z",
     "start_time": "2025-02-01T09:38:52.525743Z"
    }
   },
   "source": [
    "sns.heatmap(expected, annot=True, cmap='RdYlGn')"
   ],
   "outputs": [
    {
     "data": {
      "text/plain": [
       "<Axes: >"
      ]
     },
     "execution_count": 13,
     "metadata": {},
     "output_type": "execute_result"
    },
    {
     "data": {
      "text/plain": [
       "<Figure size 640x480 with 2 Axes>"
      ],
      "image/png": "[encoded data removed]"
     },
     "metadata": {},
     "output_type": "display_data"
    }
   ],
   "execution_count": 13
  },
  {
   "cell_type": "markdown",
   "id": "8113ef3f-6b22-4001-beb6-0a41f30c1e50",
   "metadata": {
    "id": "8113ef3f-6b22-4001-beb6-0a41f30c1e50"
   },
   "source": [
    "\\\n",
    "The expected value at row i and column j can be calculated using below equation."
   ]
  },
  {
   "cell_type": "markdown",
   "id": "47f91f1a-9b7e-4cae-bb8a-f5b179d2e25c",
   "metadata": {
    "id": "47f91f1a-9b7e-4cae-bb8a-f5b179d2e25c"
   },
   "source": [
    "![expect.png](data:image/png;base64,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)"
   ]
  },
  {
   "cell_type": "markdown",
   "id": "d8c93825-0c1a-4b63-a074-3ff8d24af2f8",
   "metadata": {
    "id": "d8c93825-0c1a-4b63-a074-3ff8d24af2f8"
   },
   "source": [
    "\\\n",
    "Let's see the contingency table again before calculating expected values."
   ]
  },
  {
   "cell_type": "code",
   "id": "e6ec0757-ab92-40e3-b1f3-d08c50bfea88",
   "metadata": {
    "id": "e6ec0757-ab92-40e3-b1f3-d08c50bfea88",
    "outputId": "a8cff5e8-0d38-4f1d-90d1-a8dce516dbb5",
    "ExecuteTime": {
     "end_time": "2025-02-01T09:38:52.656060Z",
     "start_time": "2025-02-01T09:38:52.635201Z"
    }
   },
   "source": [
    "pd.crosstab(df_immuno.gender,\n",
    "            df_immuno.response,\n",
    "            margins=True)"
   ],
   "outputs": [
    {
     "data": {
      "text/plain": [
       "response  No  Yes  All\n",
       "gender                \n",
       "Female    10   39   49\n",
       "Male       9   32   41\n",
       "All       19   71   90"
      ],
      "text/html": [
       "<div>\n",
       "<style scoped>\n",
       "    .dataframe tbody tr th:only-of-type {\n",
       "        vertical-align: middle;\n",
       "    }\n",
       "\n",
       "    .dataframe tbody tr th {\n",
       "        vertical-align: top;\n",
       "    }\n",
       "\n",
       "    .dataframe thead th {\n",
       "        text-align: right;\n",
       "    }\n",
       "</style>\n",
       "<table border=\"1\" class=\"dataframe\">\n",
       "  <thead>\n",
       "    <tr style=\"text-align: right;\">\n",
       "      <th>response</th>\n",
       "      <th>No</th>\n",
       "      <th>Yes</th>\n",
       "      <th>All</th>\n",
       "    </tr>\n",
       "    <tr>\n",
       "      <th>gender</th>\n",
       "      <th></th>\n",
       "      <th></th>\n",
       "      <th></th>\n",
       "    </tr>\n",
       "  </thead>\n",
       "  <tbody>\n",
       "    <tr>\n",
       "      <th>Female</th>\n",
       "      <td>10</td>\n",
       "      <td>39</td>\n",
       "      <td>49</td>\n",
       "    </tr>\n",
       "    <tr>\n",
       "      <th>Male</th>\n",
       "      <td>9</td>\n",
       "      <td>32</td>\n",
       "      <td>41</td>\n",
       "    </tr>\n",
       "    <tr>\n",
       "      <th>All</th>\n",
       "      <td>19</td>\n",
       "      <td>71</td>\n",
       "      <td>90</td>\n",
       "    </tr>\n",
       "  </tbody>\n",
       "</table>\n",
       "</div>"
      ]
     },
     "execution_count": 14,
     "metadata": {},
     "output_type": "execute_result"
    }
   ],
   "execution_count": 14
  },
  {
   "cell_type": "markdown",
   "id": "38781f31-a963-41d8-a147-879611dd7ed3",
   "metadata": {
    "id": "38781f31-a963-41d8-a147-879611dd7ed3"
   },
   "source": [
    "\\\n",
    "Now calculate expected value at gender=Female, response=No"
   ]
  },
  {
   "cell_type": "code",
   "id": "2adf73b2-bdc6-419c-8532-4f9ab083bad7",
   "metadata": {
    "id": "2adf73b2-bdc6-419c-8532-4f9ab083bad7",
    "outputId": "548ee6ea-446d-4293-f293-ee41fa27ee48",
    "tags": [],
    "ExecuteTime": {
     "end_time": "2025-02-01T09:38:52.696744Z",
     "start_time": "2025-02-01T09:38:52.693255Z"
    }
   },
   "source": [
    "(49*19)/90"
   ],
   "outputs": [
    {
     "data": {
      "text/plain": [
       "10.344444444444445"
      ]
     },
     "execution_count": 15,
     "metadata": {},
     "output_type": "execute_result"
    }
   ],
   "execution_count": 15
  },
  {
   "cell_type": "markdown",
   "id": "73b56e90-6c41-4636-874c-842a2f2e2c73",
   "metadata": {
    "id": "73b56e90-6c41-4636-874c-842a2f2e2c73"
   },
   "source": [
    "\\\n",
    "Calculate expected value at gender=male, response=No"
   ]
  },
  {
   "cell_type": "code",
   "id": "60ece444-c535-46e0-b384-e230c87dde80",
   "metadata": {
    "id": "60ece444-c535-46e0-b384-e230c87dde80",
    "outputId": "b7169023-926d-4f79-b513-f470bd007576",
    "ExecuteTime": {
     "end_time": "2025-02-01T09:38:52.739315Z",
     "start_time": "2025-02-01T09:38:52.735162Z"
    }
   },
   "source": [
    "(41*19)/90"
   ],
   "outputs": [
    {
     "data": {
      "text/plain": [
       "8.655555555555555"
      ]
     },
     "execution_count": 16,
     "metadata": {},
     "output_type": "execute_result"
    }
   ],
   "execution_count": 16
  },
  {
   "cell_type": "markdown",
   "id": "ce8922b5-d50a-46c6-8fad-33b879eeb9a3",
   "metadata": {
    "id": "ce8922b5-d50a-46c6-8fad-33b879eeb9a3"
   },
   "source": [
    "&nbsp;    \n",
    "#### <font color=\"#127C02\">**Type & Response**</font>"
   ]
  },
  {
   "cell_type": "markdown",
   "id": "130dc999-a2b4-4220-b181-dfe20c45313a",
   "metadata": {
    "id": "130dc999-a2b4-4220-b181-dfe20c45313a",
    "tags": []
   },
   "source": [
    "&NewLine;  \n",
    "#### <font color=\"#029DA3\">**Create Contingency Table**</font>"
   ]
  },
  {
   "cell_type": "code",
   "id": "b9e587b2-8173-41f6-b10f-342aef681216",
   "metadata": {
    "colab": {
     "base_uri": "https://localhost:8080/",
     "height": 175
    },
    "executionInfo": {
     "elapsed": 330,
     "status": "ok",
     "timestamp": 1738326458685,
     "user": {
      "displayName": "Thammakorn SAETHANG",
      "userId": "08182570455347153646"
     },
     "user_tz": -420
    },
    "id": "b9e587b2-8173-41f6-b10f-342aef681216",
    "outputId": "aa357033-7634-4a79-9d52-79cb8af64257",
    "ExecuteTime": {
     "end_time": "2025-02-01T09:38:52.825584Z",
     "start_time": "2025-02-01T09:38:52.812864Z"
    }
   },
   "source": [
    "contab = pd.crosstab(df_immuno.type,\n",
    "                     df_immuno.response)\n",
    "contab"
   ],
   "outputs": [
    {
     "data": {
      "text/plain": [
       "response  No  Yes\n",
       "type             \n",
       "Both       3   18\n",
       "Plantar    5   17\n",
       "common    11   36"
      ],
      "text/html": [
       "<div>\n",
       "<style scoped>\n",
       "    .dataframe tbody tr th:only-of-type {\n",
       "        vertical-align: middle;\n",
       "    }\n",
       "\n",
       "    .dataframe tbody tr th {\n",
       "        vertical-align: top;\n",
       "    }\n",
       "\n",
       "    .dataframe thead th {\n",
       "        text-align: right;\n",
       "    }\n",
       "</style>\n",
       "<table border=\"1\" class=\"dataframe\">\n",
       "  <thead>\n",
       "    <tr style=\"text-align: right;\">\n",
       "      <th>response</th>\n",
       "      <th>No</th>\n",
       "      <th>Yes</th>\n",
       "    </tr>\n",
       "    <tr>\n",
       "      <th>type</th>\n",
       "      <th></th>\n",
       "      <th></th>\n",
       "    </tr>\n",
       "  </thead>\n",
       "  <tbody>\n",
       "    <tr>\n",
       "      <th>Both</th>\n",
       "      <td>3</td>\n",
       "      <td>18</td>\n",
       "    </tr>\n",
       "    <tr>\n",
       "      <th>Plantar</th>\n",
       "      <td>5</td>\n",
       "      <td>17</td>\n",
       "    </tr>\n",
       "    <tr>\n",
       "      <th>common</th>\n",
       "      <td>11</td>\n",
       "      <td>36</td>\n",
       "    </tr>\n",
       "  </tbody>\n",
       "</table>\n",
       "</div>"
      ]
     },
     "execution_count": 17,
     "metadata": {},
     "output_type": "execute_result"
    }
   ],
   "execution_count": 17
  },
  {
   "cell_type": "markdown",
   "id": "90b90da5-3920-488e-adf4-fd1230a9eebd",
   "metadata": {
    "id": "90b90da5-3920-488e-adf4-fd1230a9eebd",
    "tags": []
   },
   "source": [
    "&NewLine;  \n",
    "#### <font color=\"#029DA3\">**Visualize Contingency Table**</font>"
   ]
  },
  {
   "cell_type": "code",
   "id": "42e887c4-4744-4a67-9a9d-b6a8495e916b",
   "metadata": {
    "colab": {
     "base_uri": "https://localhost:8080/",
     "height": 467
    },
    "executionInfo": {
     "elapsed": 337,
     "status": "ok",
     "timestamp": 1738326464111,
     "user": {
      "displayName": "Thammakorn SAETHANG",
      "userId": "08182570455347153646"
     },
     "user_tz": -420
    },
    "id": "42e887c4-4744-4a67-9a9d-b6a8495e916b",
    "outputId": "3ce4d6db-14a5-4ae0-e144-6d0f374e83ea",
    "ExecuteTime": {
     "end_time": "2025-02-01T09:38:53.019911Z",
     "start_time": "2025-02-01T09:38:52.901996Z"
    }
   },
   "source": [
    "sns.heatmap(contab, annot=True, cmap='RdYlGn')"
   ],
   "outputs": [
    {
     "data": {
      "text/plain": [
       "<Axes: xlabel='response', ylabel='type'>"
      ]
     },
     "execution_count": 18,
     "metadata": {},
     "output_type": "execute_result"
    },
    {
     "data": {
      "text/plain": [
       "<Figure size 640x480 with 2 Axes>"
      ],
      "image/png": "[encoded data removed]"
     },
     "metadata": {},
     "output_type": "display_data"
    }
   ],
   "execution_count": 18
  },
  {
   "cell_type": "markdown",
   "id": "1b613280-64b9-4197-ab5b-7d68bed4550d",
   "metadata": {
    "id": "1b613280-64b9-4197-ab5b-7d68bed4550d",
    "tags": []
   },
   "source": [
    "&NewLine;  \n",
    "#### <font color=\"#029DA3\">**Chi-Square Test**</font>"
   ]
  },
  {
   "cell_type": "markdown",
   "id": "c776963d-f629-4fd3-852f-451e1cbaa972",
   "metadata": {
    "id": "c776963d-f629-4fd3-852f-451e1cbaa972"
   },
   "source": [
    "***Hypothesis***  \n",
    "H<sub>0</sub>: the type & response variables have *no relationship*  \n",
    "H<sub>A</sub>: there is a relationship between type & response variables"
   ]
  },
  {
   "cell_type": "code",
   "id": "b01114f3-b3e0-47ec-9820-ab86fe3f0739",
   "metadata": {
    "id": "b01114f3-b3e0-47ec-9820-ab86fe3f0739",
    "ExecuteTime": {
     "end_time": "2025-02-01T09:38:53.049482Z",
     "start_time": "2025-02-01T09:38:53.045583Z"
    }
   },
   "source": [
    "c, p, dof, expected = stats.chi2_contingency(contab)"
   ],
   "outputs": [],
   "execution_count": 19
  },
  {
   "cell_type": "code",
   "id": "7a52bc9d-984a-4e53-a007-bc572b676470",
   "metadata": {
    "colab": {
     "base_uri": "https://localhost:8080/"
    },
    "executionInfo": {
     "elapsed": 3,
     "status": "ok",
     "timestamp": 1674840646258,
     "user": {
      "displayName": "Thammakorn SAETHANG",
      "userId": "08182570455347153646"
     },
     "user_tz": -420
    },
    "id": "7a52bc9d-984a-4e53-a007-bc572b676470",
    "outputId": "b41acb2c-4535-4f15-d2ee-fbb8021edf19",
    "ExecuteTime": {
     "end_time": "2025-02-01T09:38:53.091130Z",
     "start_time": "2025-02-01T09:38:53.087104Z"
    }
   },
   "source": [
    "print(\"p-value:\", p)"
   ],
   "outputs": [
    {
     "name": "stdout",
     "output_type": "stream",
     "text": [
      "p-value: 0.6803408056744953\n"
     ]
    }
   ],
   "execution_count": 20
  },
  {
   "cell_type": "markdown",
   "id": "3e5bebf7-b714-4f4e-8508-174cf85b56c4",
   "metadata": {
    "id": "3e5bebf7-b714-4f4e-8508-174cf85b56c4"
   },
   "source": [
    "p-value > 0.05, fail to reject H<sub>0</sub>.\n",
    "p-value > 0.05 ยอมรับสมมุติฐานหลัก ปฏิเสธสมมุติฐานรอง\n",
    "The p-value is 1 which means that we do not reject the H<sub>0</sub> at 95% level of confidence."
   ]
  },
  {
   "cell_type": "markdown",
   "id": "1e052f00-e7d8-493b-aa5c-62e22b47765a",
   "metadata": {
    "id": "1e052f00-e7d8-493b-aa5c-62e22b47765a"
   },
   "source": [
    "\\\n",
    "Expected frequencies:"
   ]
  },
  {
   "cell_type": "code",
   "id": "1f35952c-d644-429f-a7cd-9f98a5372e06",
   "metadata": {
    "id": "1f35952c-d644-429f-a7cd-9f98a5372e06",
    "outputId": "4e0e1085-3674-4f35-81c2-1dc5be28e843",
    "tags": [],
    "ExecuteTime": {
     "end_time": "2025-02-01T09:38:53.282462Z",
     "start_time": "2025-02-01T09:38:53.160926Z"
    }
   },
   "source": [
    "sns.heatmap(expected, annot=True, cmap='RdYlGn')"
   ],
   "outputs": [
    {
     "data": {
      "text/plain": [
       "<Axes: >"
      ]
     },
     "execution_count": 21,
     "metadata": {},
     "output_type": "execute_result"
    },
    {
     "data": {
      "text/plain": [
       "<Figure size 640x480 with 2 Axes>"
      ],
      "image/png": "[encoded data removed]"
     },
     "metadata": {},
     "output_type": "display_data"
    }
   ],
   "execution_count": 21
  },
  {
   "cell_type": "markdown",
   "id": "f0629a4b-410c-4a13-988f-09653af792e6",
   "metadata": {
    "id": "f0629a4b-410c-4a13-988f-09653af792e6"
   },
   "source": [
    "&nbsp;    \n",
    "#### <font color=\"#127C02\">*Titanic Dataset*</font>"
   ]
  },
  {
   "cell_type": "code",
   "id": "97fef76b-f913-4dae-a2f2-ff17ebc2bb08",
   "metadata": {
    "colab": {
     "base_uri": "https://localhost:8080/",
     "height": 206
    },
    "executionInfo": {
     "elapsed": 649,
     "status": "ok",
     "timestamp": 1738326483025,
     "user": {
      "displayName": "Thammakorn SAETHANG",
      "userId": "08182570455347153646"
     },
     "user_tz": -420
    },
    "id": "97fef76b-f913-4dae-a2f2-ff17ebc2bb08",
    "outputId": "dac709f0-23d6-4e85-ecab-f94b10721d5c",
    "ExecuteTime": {
     "end_time": "2025-02-01T09:38:53.625543Z",
     "start_time": "2025-02-01T09:38:53.298984Z"
    }
   },
   "source": [
    "df_titan = pd.read_csv(\"https://raw.githubusercontent.com/ThammakornS/ProgStat/main/dataset/titanic.csv\")\n",
    "df_titan.head()"
   ],
   "outputs": [
    {
     "data": {
      "text/plain": [
       "   PassengerId  Survived  Pclass  \\\n",
       "0            1         0       3   \n",
       "1            2         1       1   \n",
       "2            3         1       3   \n",
       "3            4         1       1   \n",
       "4            5         0       3   \n",
       "\n",
       "                                                Name     Sex   Age  SibSp  \\\n",
       "0                            Braund, Mr. Owen Harris    male  22.0      1   \n",
       "1  Cumings, Mrs. John Bradley (Florence Briggs Th...  female  38.0      1   \n",
       "2                             Heikkinen, Miss. Laina  female  26.0      0   \n",
       "3       Futrelle, Mrs. Jacques Heath (Lily May Peel)  female  35.0      1   \n",
       "4                           Allen, Mr. William Henry    male  35.0      0   \n",
       "\n",
       "   Parch            Ticket     Fare Cabin Embarked  \n",
       "0      0         A/5 21171   7.2500   NaN        S  \n",
       "1      0          PC 17599  71.2833   C85        C  \n",
       "2      0  STON/O2. 3101282   7.9250   NaN        S  \n",
       "3      0            113803  53.1000  C123        S  \n",
       "4      0            373450   8.0500   NaN        S  "
      ],
      "text/html": [
       "<div>\n",
       "<style scoped>\n",
       "    .dataframe tbody tr th:only-of-type {\n",
       "        vertical-align: middle;\n",
       "    }\n",
       "\n",
       "    .dataframe tbody tr th {\n",
       "        vertical-align: top;\n",
       "    }\n",
       "\n",
       "    .dataframe thead th {\n",
       "        text-align: right;\n",
       "    }\n",
       "</style>\n",
       "<table border=\"1\" class=\"dataframe\">\n",
       "  <thead>\n",
       "    <tr style=\"text-align: right;\">\n",
       "      <th></th>\n",
       "      <th>PassengerId</th>\n",
       "      <th>Survived</th>\n",
       "      <th>Pclass</th>\n",
       "      <th>Name</th>\n",
       "      <th>Sex</th>\n",
       "      <th>Age</th>\n",
       "      <th>SibSp</th>\n",
       "      <th>Parch</th>\n",
       "      <th>Ticket</th>\n",
       "      <th>Fare</th>\n",
       "      <th>Cabin</th>\n",
       "      <th>Embarked</th>\n",
       "    </tr>\n",
       "  </thead>\n",
       "  <tbody>\n",
       "    <tr>\n",
       "      <th>0</th>\n",
       "      <td>1</td>\n",
       "      <td>0</td>\n",
       "      <td>3</td>\n",
       "      <td>Braund, Mr. Owen Harris</td>\n",
       "      <td>male</td>\n",
       "      <td>22.0</td>\n",
       "      <td>1</td>\n",
       "      <td>0</td>\n",
       "      <td>A/5 21171</td>\n",
       "      <td>7.2500</td>\n",
       "      <td>NaN</td>\n",
       "      <td>S</td>\n",
       "    </tr>\n",
       "    <tr>\n",
       "      <th>1</th>\n",
       "      <td>2</td>\n",
       "      <td>1</td>\n",
       "      <td>1</td>\n",
       "      <td>Cumings, Mrs. John Bradley (Florence Briggs Th...</td>\n",
       "      <td>female</td>\n",
       "      <td>38.0</td>\n",
       "      <td>1</td>\n",
       "      <td>0</td>\n",
       "      <td>PC 17599</td>\n",
       "      <td>71.2833</td>\n",
       "      <td>C85</td>\n",
       "      <td>C</td>\n",
       "    </tr>\n",
       "    <tr>\n",
       "      <th>2</th>\n",
       "      <td>3</td>\n",
       "      <td>1</td>\n",
       "      <td>3</td>\n",
       "      <td>Heikkinen, Miss. Laina</td>\n",
       "      <td>female</td>\n",
       "      <td>26.0</td>\n",
       "      <td>0</td>\n",
       "      <td>0</td>\n",
       "      <td>STON/O2. 3101282</td>\n",
       "      <td>7.9250</td>\n",
       "      <td>NaN</td>\n",
       "      <td>S</td>\n",
       "    </tr>\n",
       "    <tr>\n",
       "      <th>3</th>\n",
       "      <td>4</td>\n",
       "      <td>1</td>\n",
       "      <td>1</td>\n",
       "      <td>Futrelle, Mrs. Jacques Heath (Lily May Peel)</td>\n",
       "      <td>female</td>\n",
       "      <td>35.0</td>\n",
       "      <td>1</td>\n",
       "      <td>0</td>\n",
       "      <td>113803</td>\n",
       "      <td>53.1000</td>\n",
       "      <td>C123</td>\n",
       "      <td>S</td>\n",
       "    </tr>\n",
       "    <tr>\n",
       "      <th>4</th>\n",
       "      <td>5</td>\n",
       "      <td>0</td>\n",
       "      <td>3</td>\n",
       "      <td>Allen, Mr. William Henry</td>\n",
       "      <td>male</td>\n",
       "      <td>35.0</td>\n",
       "      <td>0</td>\n",
       "      <td>0</td>\n",
       "      <td>373450</td>\n",
       "      <td>8.0500</td>\n",
       "      <td>NaN</td>\n",
       "      <td>S</td>\n",
       "    </tr>\n",
       "  </tbody>\n",
       "</table>\n",
       "</div>"
      ]
     },
     "execution_count": 22,
     "metadata": {},
     "output_type": "execute_result"
    }
   ],
   "execution_count": 22
  },
  {
   "cell_type": "markdown",
   "id": "48ee639e-43d3-4e18-b685-4f7fa58f2591",
   "metadata": {
    "id": "48ee639e-43d3-4e18-b685-4f7fa58f2591",
    "tags": []
   },
   "source": [
    "&NewLine;  \n",
    "#### <font color=\"#029DA3\">**Adjust Data Type**</font>"
   ]
  },
  {
   "cell_type": "code",
   "id": "248b8ae7-6ebb-4e5c-a52a-985544973ae2",
   "metadata": {
    "colab": {
     "base_uri": "https://localhost:8080/"
    },
    "executionInfo": {
     "elapsed": 324,
     "status": "ok",
     "timestamp": 1738326485680,
     "user": {
      "displayName": "Thammakorn SAETHANG",
      "userId": "08182570455347153646"
     },
     "user_tz": -420
    },
    "id": "248b8ae7-6ebb-4e5c-a52a-985544973ae2",
    "outputId": "f389b515-6687-4176-96e7-83fb6269b6cb",
    "ExecuteTime": {
     "end_time": "2025-02-01T09:38:53.674507Z",
     "start_time": "2025-02-01T09:38:53.662241Z"
    }
   },
   "source": [
    "df_titan = df_titan.astype({\n",
    "    'Survived': 'category',\n",
    "    'Pclass': 'category',\n",
    "    'Sex': 'category',\n",
    "    'Cabin': 'category',\n",
    "    'Embarked': 'category'\n",
    "})\n",
    "df_titan.info()"
   ],
   "outputs": [
    {
     "name": "stdout",
     "output_type": "stream",
     "text": [
      "<class 'pandas.core.frame.DataFrame'>\n",
      "RangeIndex: 891 entries, 0 to 890\n",
      "Data columns (total 12 columns):\n",
      " #   Column       Non-Null Count  Dtype   \n",
      "---  ------       --------------  -----   \n",
      " 0   PassengerId  891 non-null    int64   \n",
      " 1   Survived     891 non-null    category\n",
      " 2   Pclass       891 non-null    category\n",
      " 3   Name         891 non-null    object  \n",
      " 4   Sex          891 non-null    category\n",
      " 5   Age          714 non-null    float64 \n",
      " 6   SibSp        891 non-null    int64   \n",
      " 7   Parch        891 non-null    int64   \n",
      " 8   Ticket       891 non-null    object  \n",
      " 9   Fare         891 non-null    float64 \n",
      " 10  Cabin        204 non-null    category\n",
      " 11  Embarked     889 non-null    category\n",
      "dtypes: category(5), float64(2), int64(3), object(2)\n",
      "memory usage: 59.8+ KB\n"
     ]
    }
   ],
   "execution_count": 23
  },
  {
   "cell_type": "markdown",
   "id": "60f73f3c-1f36-4531-a0e3-5b3c38f78656",
   "metadata": {
    "id": "60f73f3c-1f36-4531-a0e3-5b3c38f78656",
    "tags": []
   },
   "source": [
    "&nbsp;    \n",
    "#### <font color=\"#127C02\">**Gender & Survived**</font>"
   ]
  },
  {
   "cell_type": "markdown",
   "id": "afd68459-489a-4509-a97f-a3dd11a3df9d",
   "metadata": {
    "id": "afd68459-489a-4509-a97f-a3dd11a3df9d",
    "tags": []
   },
   "source": [
    "&NewLine;  \n",
    "#### <font color=\"#029DA3\">**Create Contingency Table**</font>"
   ]
  },
  {
   "cell_type": "code",
   "id": "6383fc19-8a0d-4936-aa32-121aaae7cee1",
   "metadata": {
    "colab": {
     "base_uri": "https://localhost:8080/",
     "height": 143
    },
    "executionInfo": {
     "elapsed": 321,
     "status": "ok",
     "timestamp": 1738326488848,
     "user": {
      "displayName": "Thammakorn SAETHANG",
      "userId": "08182570455347153646"
     },
     "user_tz": -420
    },
    "id": "6383fc19-8a0d-4936-aa32-121aaae7cee1",
    "outputId": "0458a96f-b588-43dd-e471-bb9245a4442e",
    "ExecuteTime": {
     "end_time": "2025-02-01T09:38:53.730999Z",
     "start_time": "2025-02-01T09:38:53.719153Z"
    }
   },
   "source": [
    "contab = pd.crosstab(df_titan.Sex,\n",
    "                     df_titan.Survived,)\n",
    "contab"
   ],
   "outputs": [
    {
     "data": {
      "text/plain": [
       "Survived    0    1\n",
       "Sex               \n",
       "female     81  233\n",
       "male      468  109"
      ],
      "text/html": [
       "<div>\n",
       "<style scoped>\n",
       "    .dataframe tbody tr th:only-of-type {\n",
       "        vertical-align: middle;\n",
       "    }\n",
       "\n",
       "    .dataframe tbody tr th {\n",
       "        vertical-align: top;\n",
       "    }\n",
       "\n",
       "    .dataframe thead th {\n",
       "        text-align: right;\n",
       "    }\n",
       "</style>\n",
       "<table border=\"1\" class=\"dataframe\">\n",
       "  <thead>\n",
       "    <tr style=\"text-align: right;\">\n",
       "      <th>Survived</th>\n",
       "      <th>0</th>\n",
       "      <th>1</th>\n",
       "    </tr>\n",
       "    <tr>\n",
       "      <th>Sex</th>\n",
       "      <th></th>\n",
       "      <th></th>\n",
       "    </tr>\n",
       "  </thead>\n",
       "  <tbody>\n",
       "    <tr>\n",
       "      <th>female</th>\n",
       "      <td>81</td>\n",
       "      <td>233</td>\n",
       "    </tr>\n",
       "    <tr>\n",
       "      <th>male</th>\n",
       "      <td>468</td>\n",
       "      <td>109</td>\n",
       "    </tr>\n",
       "  </tbody>\n",
       "</table>\n",
       "</div>"
      ]
     },
     "execution_count": 24,
     "metadata": {},
     "output_type": "execute_result"
    }
   ],
   "execution_count": 24
  },
  {
   "cell_type": "markdown",
   "id": "a1dced8c-741e-4eee-a16f-0ba540a674a7",
   "metadata": {
    "id": "a1dced8c-741e-4eee-a16f-0ba540a674a7",
    "tags": []
   },
   "source": [
    "&NewLine;  \n",
    "#### <font color=\"#029DA3\">**Visualize Contingency Table**</font>"
   ]
  },
  {
   "cell_type": "code",
   "id": "e12fca02-69ac-4729-a035-08e94535c617",
   "metadata": {
    "colab": {
     "base_uri": "https://localhost:8080/",
     "height": 467
    },
    "executionInfo": {
     "elapsed": 798,
     "status": "ok",
     "timestamp": 1738326493347,
     "user": {
      "displayName": "Thammakorn SAETHANG",
      "userId": "08182570455347153646"
     },
     "user_tz": -420
    },
    "id": "e12fca02-69ac-4729-a035-08e94535c617",
    "outputId": "283b1062-2419-4b4d-93a1-9ce872261b3e",
    "ExecuteTime": {
     "end_time": "2025-02-01T09:38:54.015744Z",
     "start_time": "2025-02-01T09:38:53.893595Z"
    }
   },
   "source": [
    "sns.heatmap(contab, annot=True, cmap='RdYlGn')"
   ],
   "outputs": [
    {
     "data": {
      "text/plain": [
       "<Axes: xlabel='Survived', ylabel='Sex'>"
      ]
     },
     "execution_count": 25,
     "metadata": {},
     "output_type": "execute_result"
    },
    {
     "data": {
      "text/plain": [
       "<Figure size 640x480 with 2 Axes>"
      ],
      "image/png": "[encoded data removed]"
     },
     "metadata": {},
     "output_type": "display_data"
    }
   ],
   "execution_count": 25
  },
  {
   "cell_type": "markdown",
   "id": "5e1598e6-5530-4b68-b9aa-e657c073ce6b",
   "metadata": {
    "id": "5e1598e6-5530-4b68-b9aa-e657c073ce6b",
    "tags": []
   },
   "source": [
    "&NewLine;  \n",
    "#### <font color=\"#029DA3\">**Chi-Square Test**</font>"
   ]
  },
  {
   "cell_type": "markdown",
   "id": "775f1eb1-1935-4442-8f83-391765f2a7fd",
   "metadata": {
    "id": "775f1eb1-1935-4442-8f83-391765f2a7fd"
   },
   "source": [
    "***Hypothesis***  \n",
    "H<sub>0</sub>: the gender & survived variables have *no relationship*  \n",
    "H<sub>A</sub>: there is a relationship between gender & survived variables"
   ]
  },
  {
   "cell_type": "code",
   "id": "ea046f53-2f24-43d3-9a63-278bddec3a94",
   "metadata": {
    "id": "ea046f53-2f24-43d3-9a63-278bddec3a94",
    "executionInfo": {
     "status": "ok",
     "timestamp": 1738326500133,
     "user_tz": -420,
     "elapsed": 330,
     "user": {
      "displayName": "Thammakorn SAETHANG",
      "userId": "08182570455347153646"
     }
    },
    "ExecuteTime": {
     "end_time": "2025-02-01T09:38:54.045639Z",
     "start_time": "2025-02-01T09:38:54.041832Z"
    }
   },
   "source": [
    "c, p, dof, expected = stats.chi2_contingency(contab)"
   ],
   "outputs": [],
   "execution_count": 26
  },
  {
   "cell_type": "code",
   "id": "5bb11924-427c-483a-abe4-5bee84448d11",
   "metadata": {
    "colab": {
     "base_uri": "https://localhost:8080/"
    },
    "executionInfo": {
     "elapsed": 5,
     "status": "ok",
     "timestamp": 1738326501453,
     "user": {
      "displayName": "Thammakorn SAETHANG",
      "userId": "08182570455347153646"
     },
     "user_tz": -420
    },
    "id": "5bb11924-427c-483a-abe4-5bee84448d11",
    "outputId": "ee194bf7-0ec8-4fc8-8205-3d12dd8d9ef2",
    "ExecuteTime": {
     "end_time": "2025-02-01T09:38:54.091695Z",
     "start_time": "2025-02-01T09:38:54.088342Z"
    }
   },
   "source": [
    "print(\"p-value:\", p)"
   ],
   "outputs": [
    {
     "name": "stdout",
     "output_type": "stream",
     "text": [
      "p-value: 1.1973570627755645e-58\n"
     ]
    }
   ],
   "execution_count": 27
  },
  {
   "cell_type": "markdown",
   "id": "e6cd78fb-1cea-4343-ad5f-a0056f044d6d",
   "metadata": {
    "id": "e6cd78fb-1cea-4343-ad5f-a0056f044d6d"
   },
   "source": [
    "p-value <= 0.05, reject H<sub>0</sub>, accept H<sub>A</sub>.\n",
    "ปฏิเสธสมมุติฐานหลัก ยอมรับสมมุติฐานรอง"
   ]
  },
  {
   "cell_type": "markdown",
   "id": "e3ce438f-036a-4c1c-a28d-969013699bc7",
   "metadata": {
    "id": "e3ce438f-036a-4c1c-a28d-969013699bc7"
   },
   "source": [
    "\\\n",
    "Expected frequencies:"
   ]
  },
  {
   "cell_type": "code",
   "id": "e8a762f5-7147-40bb-97f1-ee307789ab2d",
   "metadata": {
    "colab": {
     "base_uri": "https://localhost:8080/",
     "height": 448
    },
    "executionInfo": {
     "elapsed": 354,
     "status": "ok",
     "timestamp": 1738326505625,
     "user": {
      "displayName": "Thammakorn SAETHANG",
      "userId": "08182570455347153646"
     },
     "user_tz": -420
    },
    "id": "e8a762f5-7147-40bb-97f1-ee307789ab2d",
    "outputId": "c03dc28a-aed9-45e3-8e54-b51b71ac691f",
    "tags": [],
    "ExecuteTime": {
     "end_time": "2025-02-01T09:38:54.249970Z",
     "start_time": "2025-02-01T09:38:54.149805Z"
    }
   },
   "source": [
    "sns.heatmap(expected, annot=True, cmap='RdYlGn')"
   ],
   "outputs": [
    {
     "data": {
      "text/plain": [
       "<Axes: >"
      ]
     },
     "execution_count": 28,
     "metadata": {},
     "output_type": "execute_result"
    },
    {
     "data": {
      "text/plain": [
       "<Figure size 640x480 with 2 Axes>"
      ],
      "image/png": "[encoded data removed]"
     },
     "metadata": {},
     "output_type": "display_data"
    }
   ],
   "execution_count": 28
  },
  {
   "cell_type": "markdown",
   "id": "e0c9e29b-dbba-4e8b-9a4a-d345703dd4f0",
   "metadata": {
    "id": "e0c9e29b-dbba-4e8b-9a4a-d345703dd4f0",
    "tags": []
   },
   "source": [
    "####  \n",
    "#### <font color=\"#127C02\">**Pclass & Survived**</font>"
   ]
  },
  {
   "cell_type": "markdown",
   "id": "65b4f081-c1fc-4a40-96a3-f2eb40c60ce4",
   "metadata": {
    "id": "65b4f081-c1fc-4a40-96a3-f2eb40c60ce4",
    "tags": []
   },
   "source": [
    "&NewLine;  \n",
    "#### <font color=\"#029DA3\">**Create Contingency Table**</font>"
   ]
  },
  {
   "cell_type": "code",
   "id": "8f28757f-6ad3-4e1c-a14c-a3952ac1d5ab",
   "metadata": {
    "colab": {
     "base_uri": "https://localhost:8080/",
     "height": 175
    },
    "executionInfo": {
     "elapsed": 328,
     "status": "ok",
     "timestamp": 1738326541301,
     "user": {
      "displayName": "Thammakorn SAETHANG",
      "userId": "08182570455347153646"
     },
     "user_tz": -420
    },
    "id": "8f28757f-6ad3-4e1c-a14c-a3952ac1d5ab",
    "outputId": "0a5351e3-8435-4016-df4a-b038b5b43796",
    "ExecuteTime": {
     "end_time": "2025-02-01T09:38:54.273252Z",
     "start_time": "2025-02-01T09:38:54.261002Z"
    }
   },
   "source": [
    "contab = pd.crosstab(df_titan.Pclass,\n",
    "                     df_titan.Survived)\n",
    "contab"
   ],
   "outputs": [
    {
     "data": {
      "text/plain": [
       "Survived    0    1\n",
       "Pclass            \n",
       "1          80  136\n",
       "2          97   87\n",
       "3         372  119"
      ],
      "text/html": [
       "<div>\n",
       "<style scoped>\n",
       "    .dataframe tbody tr th:only-of-type {\n",
       "        vertical-align: middle;\n",
       "    }\n",
       "\n",
       "    .dataframe tbody tr th {\n",
       "        vertical-align: top;\n",
       "    }\n",
       "\n",
       "    .dataframe thead th {\n",
       "        text-align: right;\n",
       "    }\n",
       "</style>\n",
       "<table border=\"1\" class=\"dataframe\">\n",
       "  <thead>\n",
       "    <tr style=\"text-align: right;\">\n",
       "      <th>Survived</th>\n",
       "      <th>0</th>\n",
       "      <th>1</th>\n",
       "    </tr>\n",
       "    <tr>\n",
       "      <th>Pclass</th>\n",
       "      <th></th>\n",
       "      <th></th>\n",
       "    </tr>\n",
       "  </thead>\n",
       "  <tbody>\n",
       "    <tr>\n",
       "      <th>1</th>\n",
       "      <td>80</td>\n",
       "      <td>136</td>\n",
       "    </tr>\n",
       "    <tr>\n",
       "      <th>2</th>\n",
       "      <td>97</td>\n",
       "      <td>87</td>\n",
       "    </tr>\n",
       "    <tr>\n",
       "      <th>3</th>\n",
       "      <td>372</td>\n",
       "      <td>119</td>\n",
       "    </tr>\n",
       "  </tbody>\n",
       "</table>\n",
       "</div>"
      ]
     },
     "execution_count": 29,
     "metadata": {},
     "output_type": "execute_result"
    }
   ],
   "execution_count": 29
  },
  {
   "cell_type": "markdown",
   "id": "70007b76-fb84-4f18-92ea-a4e1188e552b",
   "metadata": {
    "id": "70007b76-fb84-4f18-92ea-a4e1188e552b",
    "tags": []
   },
   "source": [
    "&NewLine;  \n",
    "#### <font color=\"#029DA3\">**Visualize Contingency Table**</font>"
   ]
  },
  {
   "cell_type": "code",
   "id": "d8e09766-bc48-4522-b7c3-f22ee9e63e4b",
   "metadata": {
    "colab": {
     "base_uri": "https://localhost:8080/",
     "height": 467
    },
    "executionInfo": {
     "elapsed": 335,
     "status": "ok",
     "timestamp": 1738326544155,
     "user": {
      "displayName": "Thammakorn SAETHANG",
      "userId": "08182570455347153646"
     },
     "user_tz": -420
    },
    "id": "d8e09766-bc48-4522-b7c3-f22ee9e63e4b",
    "outputId": "7db3507b-b40b-4871-fcd7-9a07e7f2bf9d",
    "ExecuteTime": {
     "end_time": "2025-02-01T09:38:54.501070Z",
     "start_time": "2025-02-01T09:38:54.370600Z"
    }
   },
   "source": [
    "sns.heatmap(contab, annot=True, cmap='RdYlGn')"
   ],
   "outputs": [
    {
     "data": {
      "text/plain": [
       "<Axes: xlabel='Survived', ylabel='Pclass'>"
      ]
     },
     "execution_count": 30,
     "metadata": {},
     "output_type": "execute_result"
    },
    {
     "data": {
      "text/plain": [
       "<Figure size 640x480 with 2 Axes>"
      ],
      "image/png": "[encoded data removed]"
     },
     "metadata": {},
     "output_type": "display_data"
    }
   ],
   "execution_count": 30
  },
  {
   "cell_type": "markdown",
   "id": "bbaf9677-00b2-40ee-9bc0-d380db88082b",
   "metadata": {
    "id": "bbaf9677-00b2-40ee-9bc0-d380db88082b",
    "tags": []
   },
   "source": [
    "&NewLine;  \n",
    "#### <font color=\"#029DA3\">**Chi-Square Test**</font>"
   ]
  },
  {
   "cell_type": "markdown",
   "id": "ed7929dd-8182-4255-827d-803c337064a7",
   "metadata": {
    "id": "ed7929dd-8182-4255-827d-803c337064a7"
   },
   "source": [
    "***Hypothesis***  \n",
    "H<sub>0</sub>: the pclass & survived variables have *no relationship*  \n",
    "H<sub>A</sub>: there is a relationship between pclass & survived variables"
   ]
  },
  {
   "cell_type": "code",
   "id": "2084b67b-ab56-40f9-b5e0-0c8ea36b48e5",
   "metadata": {
    "id": "2084b67b-ab56-40f9-b5e0-0c8ea36b48e5",
    "executionInfo": {
     "status": "ok",
     "timestamp": 1738326548758,
     "user_tz": -420,
     "elapsed": 328,
     "user": {
      "displayName": "Thammakorn SAETHANG",
      "userId": "08182570455347153646"
     }
    },
    "ExecuteTime": {
     "end_time": "2025-02-01T09:38:54.535233Z",
     "start_time": "2025-02-01T09:38:54.531656Z"
    }
   },
   "source": [
    "c, p, dof, expected = stats.chi2_contingency(contab)"
   ],
   "outputs": [],
   "execution_count": 31
  },
  {
   "cell_type": "code",
   "id": "a50f8685-f0f1-4287-b809-5c0f5da3738e",
   "metadata": {
    "colab": {
     "base_uri": "https://localhost:8080/"
    },
    "executionInfo": {
     "elapsed": 4,
     "status": "ok",
     "timestamp": 1738326550115,
     "user": {
      "displayName": "Thammakorn SAETHANG",
      "userId": "08182570455347153646"
     },
     "user_tz": -420
    },
    "id": "a50f8685-f0f1-4287-b809-5c0f5da3738e",
    "outputId": "b5fd1c0f-8818-4bb2-a604-d2ec32158953",
    "ExecuteTime": {
     "end_time": "2025-02-01T09:38:54.611499Z",
     "start_time": "2025-02-01T09:38:54.607993Z"
    }
   },
   "source": [
    "print(\"p-value:\", p)"
   ],
   "outputs": [
    {
     "name": "stdout",
     "output_type": "stream",
     "text": [
      "p-value: 4.549251711298793e-23\n"
     ]
    }
   ],
   "execution_count": 32
  },
  {
   "cell_type": "markdown",
   "id": "ab7697ac-0fc4-43b9-b387-0dcbb22a6d2c",
   "metadata": {
    "id": "ab7697ac-0fc4-43b9-b387-0dcbb22a6d2c"
   },
   "source": [
    "p-value <= 0.05, reject H<sub>0</sub>, accept H<sub>A</sub>.   "
   ]
  },
  {
   "cell_type": "markdown",
   "id": "0b78bc7b-49b3-468a-bff8-67bfd4657dd6",
   "metadata": {
    "id": "0b78bc7b-49b3-468a-bff8-67bfd4657dd6"
   },
   "source": [
    "&nbsp;    \n",
    "Expected frequencies:"
   ]
  },
  {
   "cell_type": "code",
   "id": "be3dd7a9-6c7f-42b7-9cf4-9692a2812a8c",
   "metadata": {
    "colab": {
     "base_uri": "https://localhost:8080/",
     "height": 449
    },
    "executionInfo": {
     "elapsed": 328,
     "status": "ok",
     "timestamp": 1738326557295,
     "user": {
      "displayName": "Thammakorn SAETHANG",
      "userId": "08182570455347153646"
     },
     "user_tz": -420
    },
    "id": "be3dd7a9-6c7f-42b7-9cf4-9692a2812a8c",
    "outputId": "78fdfd44-d7be-4ba2-a286-e6ea78d6d2d8",
    "tags": [],
    "ExecuteTime": {
     "end_time": "2025-02-01T09:38:54.811615Z",
     "start_time": "2025-02-01T09:38:54.695713Z"
    }
   },
   "source": [
    "sns.heatmap(expected, annot=True, cmap='RdYlGn')"
   ],
   "outputs": [
    {
     "data": {
      "text/plain": [
       "<Axes: >"
      ]
     },
     "execution_count": 33,
     "metadata": {},
     "output_type": "execute_result"
    },
    {
     "data": {
      "text/plain": [
       "<Figure size 640x480 with 2 Axes>"
      ],
      "image/png": "[encoded data removed]"
     },
     "metadata": {},
     "output_type": "display_data"
    }
   ],
   "execution_count": 33
  },
  {
   "cell_type": "code",
   "id": "129009cc-c730-4d7a-a89f-1e35cec35376",
   "metadata": {
    "id": "129009cc-c730-4d7a-a89f-1e35cec35376",
    "ExecuteTime": {
     "end_time": "2025-02-01T09:38:54.816635Z",
     "start_time": "2025-02-01T09:38:54.814622Z"
    }
   },
   "source": [],
   "outputs": [],
   "execution_count": null
  }
 ],
 "metadata": {
  "colab": {
   "provenance": []
  },
  "kernelspec": {
   "display_name": "Python 3 (ipykernel)",
   "language": "python",
   "name": "python3"
  },
  "language_info": {
   "codemirror_mode": {
    "name": "ipython",
    "version": 3
   },
   "file_extension": ".py",
   "mimetype": "text/x-python",
   "name": "python",
   "nbconvert_exporter": "python",
   "pygments_lexer": "ipython3",
   "version": "3.12.3"
  }
 },
 "nbformat": 4,
 "nbformat_minor": 5
}
