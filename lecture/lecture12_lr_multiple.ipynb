{
 "cells": [
  {
   "cell_type": "markdown",
   "id": "72bf801a-a220-4a8e-9b9d-267e43031581",
   "metadata": {
    "id": "72bf801a-a220-4a8e-9b9d-267e43031581",
    "tags": []
   },
   "source": [
    "# <font color=\"CE4A06\">Multiple Linear Regression With Healthcare Cost Dataset</span>\n",
    "In the previous exercise, we build linear regression model for healthcare cost prediction using only a variable *age*.  \n",
    "In this lesson, we will use multiple variables to create a linear regression model."
   ]
  },
  {
   "cell_type": "code",
   "id": "db17ae86-987d-43e6-96c9-7de422c877f9",
   "metadata": {
    "executionInfo": {
     "elapsed": 5581,
     "status": "ok",
     "timestamp": 1739534292065,
     "user": {
      "displayName": "Thammakorn SAETHANG",
      "userId": "08182570455347153646"
     },
     "user_tz": -420
    },
    "id": "db17ae86-987d-43e6-96c9-7de422c877f9",
    "ExecuteTime": {
     "end_time": "2025-02-15T08:27:05.630846Z",
     "start_time": "2025-02-15T08:27:05.473079Z"
    }
   },
   "source": [
    "import pandas as pd\n",
    "import numpy as np\n",
    "import matplotlib.pyplot as plt\n",
    "import seaborn as sns\n",
    "from scipy import stats\n",
    "from sklearn.linear_model import LinearRegression as lr\n",
    "from sklearn import metrics"
   ],
   "outputs": [],
   "execution_count": 1
  },
  {
   "cell_type": "markdown",
   "id": "f04d198b-bf6c-4d9e-97b5-d2a99ef38a62",
   "metadata": {
    "id": "f04d198b-bf6c-4d9e-97b5-d2a99ef38a62",
    "tags": []
   },
   "source": [
    "&nbsp;   \n",
    "#### <font color=\"color:blue\">**Read dataset**</span>"
   ]
  },
  {
   "cell_type": "code",
   "id": "9d0a496f-a3e4-4fdd-9624-a0de8a686943",
   "metadata": {
    "colab": {
     "base_uri": "https://localhost:8080/",
     "height": 206
    },
    "executionInfo": {
     "elapsed": 326,
     "status": "ok",
     "timestamp": 1739534353665,
     "user": {
      "displayName": "Thammakorn SAETHANG",
      "userId": "08182570455347153646"
     },
     "user_tz": -420
    },
    "id": "9d0a496f-a3e4-4fdd-9624-a0de8a686943",
    "outputId": "d2496540-a67c-4de2-96e3-bb069b410764",
    "ExecuteTime": {
     "end_time": "2025-02-15T08:27:05.719853Z",
     "start_time": "2025-02-15T08:27:05.647980Z"
    }
   },
   "source": [
    "df = pd.read_csv(\"https://raw.githubusercontent.com/ThammakornS/ProgStat/main/dataset/healthcare_cost.csv\")\n",
    "df.head()"
   ],
   "outputs": [
    {
     "data": {
      "text/plain": [
       "      sex  age     bmi nicotine_addict district  healthcare_cost\n",
       "0  female   21  27.900             yes      DT1      16884.92400\n",
       "1    male   20  33.770              no      DT2       1725.55230\n",
       "2    male   30  33.000              no      DT2       4449.46200\n",
       "3    male   35  22.705              no      DT3      21984.47061\n",
       "4    male   34  28.880              no      DT3       3866.85520"
      ],
      "text/html": [
       "<div>\n",
       "<style scoped>\n",
       "    .dataframe tbody tr th:only-of-type {\n",
       "        vertical-align: middle;\n",
       "    }\n",
       "\n",
       "    .dataframe tbody tr th {\n",
       "        vertical-align: top;\n",
       "    }\n",
       "\n",
       "    .dataframe thead th {\n",
       "        text-align: right;\n",
       "    }\n",
       "</style>\n",
       "<table border=\"1\" class=\"dataframe\">\n",
       "  <thead>\n",
       "    <tr style=\"text-align: right;\">\n",
       "      <th></th>\n",
       "      <th>sex</th>\n",
       "      <th>age</th>\n",
       "      <th>bmi</th>\n",
       "      <th>nicotine_addict</th>\n",
       "      <th>district</th>\n",
       "      <th>healthcare_cost</th>\n",
       "    </tr>\n",
       "  </thead>\n",
       "  <tbody>\n",
       "    <tr>\n",
       "      <th>0</th>\n",
       "      <td>female</td>\n",
       "      <td>21</td>\n",
       "      <td>27.900</td>\n",
       "      <td>yes</td>\n",
       "      <td>DT1</td>\n",
       "      <td>16884.92400</td>\n",
       "    </tr>\n",
       "    <tr>\n",
       "      <th>1</th>\n",
       "      <td>male</td>\n",
       "      <td>20</td>\n",
       "      <td>33.770</td>\n",
       "      <td>no</td>\n",
       "      <td>DT2</td>\n",
       "      <td>1725.55230</td>\n",
       "    </tr>\n",
       "    <tr>\n",
       "      <th>2</th>\n",
       "      <td>male</td>\n",
       "      <td>30</td>\n",
       "      <td>33.000</td>\n",
       "      <td>no</td>\n",
       "      <td>DT2</td>\n",
       "      <td>4449.46200</td>\n",
       "    </tr>\n",
       "    <tr>\n",
       "      <th>3</th>\n",
       "      <td>male</td>\n",
       "      <td>35</td>\n",
       "      <td>22.705</td>\n",
       "      <td>no</td>\n",
       "      <td>DT3</td>\n",
       "      <td>21984.47061</td>\n",
       "    </tr>\n",
       "    <tr>\n",
       "      <th>4</th>\n",
       "      <td>male</td>\n",
       "      <td>34</td>\n",
       "      <td>28.880</td>\n",
       "      <td>no</td>\n",
       "      <td>DT3</td>\n",
       "      <td>3866.85520</td>\n",
       "    </tr>\n",
       "  </tbody>\n",
       "</table>\n",
       "</div>"
      ]
     },
     "execution_count": 2,
     "metadata": {},
     "output_type": "execute_result"
    }
   ],
   "execution_count": 2
  },
  {
   "cell_type": "markdown",
   "id": "7efb28f6-6ae9-4fdd-b777-2560da8ad296",
   "metadata": {
    "id": "7efb28f6-6ae9-4fdd-b777-2560da8ad296",
    "tags": []
   },
   "source": [
    "&nbsp;   \n",
    "#### <font color=\"color:blue\">**Adjust data type**</span>"
   ]
  },
  {
   "cell_type": "code",
   "id": "fc1f0040-665b-4cef-b2c0-4ca76041ccbf",
   "metadata": {
    "colab": {
     "base_uri": "https://localhost:8080/"
    },
    "executionInfo": {
     "elapsed": 290,
     "status": "ok",
     "timestamp": 1739534357538,
     "user": {
      "displayName": "Thammakorn SAETHANG",
      "userId": "08182570455347153646"
     },
     "user_tz": -420
    },
    "id": "fc1f0040-665b-4cef-b2c0-4ca76041ccbf",
    "outputId": "04839c6e-58b3-4ffb-ecac-5aef27eeb4c2",
    "ExecuteTime": {
     "end_time": "2025-02-15T08:27:06.006248Z",
     "start_time": "2025-02-15T08:27:05.993183Z"
    }
   },
   "source": [
    "df = df.astype({\n",
    "    'sex': 'category',\n",
    "    'nicotine_addict': 'category',\n",
    "    'district': 'category'\n",
    "})\n",
    "df.info()"
   ],
   "outputs": [
    {
     "name": "stdout",
     "output_type": "stream",
     "text": [
      "<class 'pandas.core.frame.DataFrame'>\n",
      "RangeIndex: 1338 entries, 0 to 1337\n",
      "Data columns (total 6 columns):\n",
      " #   Column           Non-Null Count  Dtype   \n",
      "---  ------           --------------  -----   \n",
      " 0   sex              1338 non-null   category\n",
      " 1   age              1338 non-null   int64   \n",
      " 2   bmi              1338 non-null   float64 \n",
      " 3   nicotine_addict  1338 non-null   category\n",
      " 4   district         1338 non-null   category\n",
      " 5   healthcare_cost  1338 non-null   float64 \n",
      "dtypes: category(3), float64(2), int64(1)\n",
      "memory usage: 35.8 KB\n"
     ]
    }
   ],
   "execution_count": 3
  },
  {
   "cell_type": "markdown",
   "id": "b0dae17a-1c7f-4653-ad9a-8303acf3a365",
   "metadata": {
    "id": "b0dae17a-1c7f-4653-ad9a-8303acf3a365",
    "tags": []
   },
   "source": [
    "&nbsp;   \n",
    "#### <font color=\"color:blue\">**Data groups**</span>\n",
    "\n",
    "1.  nicotine_addict=yes, bmi \\>= 30\n",
    "2.  nicotine_addict=yes, bmi \\< 30\n",
    "3.  nicotine_addict=no\n",
    "\n",
    "<p> กลุ่มตัวอย่างแค่ 145 rows ถือว่าน้อยอยู่ </p>\n",
    "\n",
    "\\\n",
    "Let's focus on group 1"
   ]
  },
  {
   "cell_type": "code",
   "id": "03d1a6d5-7ed1-4ded-a0d8-82f200ca1512",
   "metadata": {
    "colab": {
     "base_uri": "https://localhost:8080/",
     "height": 381
    },
    "executionInfo": {
     "elapsed": 410,
     "status": "ok",
     "timestamp": 1739534370991,
     "user": {
      "displayName": "Thammakorn SAETHANG",
      "userId": "08182570455347153646"
     },
     "user_tz": -420
    },
    "id": "03d1a6d5-7ed1-4ded-a0d8-82f200ca1512",
    "outputId": "19684c26-7631-4820-d615-588e6bf365ee",
    "ExecuteTime": {
     "end_time": "2025-02-15T08:27:06.212034Z",
     "start_time": "2025-02-15T08:27:06.197976Z"
    }
   },
   "source": [
    "df_g1 = df.query('nicotine_addict == \"yes\" & bmi >= 30')\n",
    "print(df_g1.shape)\n",
    "df_g1.head(10)"
   ],
   "outputs": [
    {
     "name": "stdout",
     "output_type": "stream",
     "text": [
      "(145, 6)\n"
     ]
    },
    {
     "data": {
      "text/plain": [
       "       sex  age    bmi nicotine_addict district  healthcare_cost\n",
       "14    male   29  42.13             yes      DT2      39611.75770\n",
       "19    male   32  35.30             yes      DT1      36837.46700\n",
       "23  female   36  31.92             yes      DT4      37701.87680\n",
       "29    male   33  36.30             yes      DT1      38711.00000\n",
       "30    male   24  35.60             yes      DT1      35585.57600\n",
       "34    male   30  36.40             yes      DT1      51194.55914\n",
       "38    male   37  36.67             yes      DT4      39774.27630\n",
       "39    male   62  39.90             yes      DT1      48173.36100\n",
       "49    male   38  35.20             yes      DT2      38709.17600\n",
       "53    male   38  34.43             yes      DT2      37742.57570"
      ],
      "text/html": [
       "<div>\n",
       "<style scoped>\n",
       "    .dataframe tbody tr th:only-of-type {\n",
       "        vertical-align: middle;\n",
       "    }\n",
       "\n",
       "    .dataframe tbody tr th {\n",
       "        vertical-align: top;\n",
       "    }\n",
       "\n",
       "    .dataframe thead th {\n",
       "        text-align: right;\n",
       "    }\n",
       "</style>\n",
       "<table border=\"1\" class=\"dataframe\">\n",
       "  <thead>\n",
       "    <tr style=\"text-align: right;\">\n",
       "      <th></th>\n",
       "      <th>sex</th>\n",
       "      <th>age</th>\n",
       "      <th>bmi</th>\n",
       "      <th>nicotine_addict</th>\n",
       "      <th>district</th>\n",
       "      <th>healthcare_cost</th>\n",
       "    </tr>\n",
       "  </thead>\n",
       "  <tbody>\n",
       "    <tr>\n",
       "      <th>14</th>\n",
       "      <td>male</td>\n",
       "      <td>29</td>\n",
       "      <td>42.13</td>\n",
       "      <td>yes</td>\n",
       "      <td>DT2</td>\n",
       "      <td>39611.75770</td>\n",
       "    </tr>\n",
       "    <tr>\n",
       "      <th>19</th>\n",
       "      <td>male</td>\n",
       "      <td>32</td>\n",
       "      <td>35.30</td>\n",
       "      <td>yes</td>\n",
       "      <td>DT1</td>\n",
       "      <td>36837.46700</td>\n",
       "    </tr>\n",
       "    <tr>\n",
       "      <th>23</th>\n",
       "      <td>female</td>\n",
       "      <td>36</td>\n",
       "      <td>31.92</td>\n",
       "      <td>yes</td>\n",
       "      <td>DT4</td>\n",
       "      <td>37701.87680</td>\n",
       "    </tr>\n",
       "    <tr>\n",
       "      <th>29</th>\n",
       "      <td>male</td>\n",
       "      <td>33</td>\n",
       "      <td>36.30</td>\n",
       "      <td>yes</td>\n",
       "      <td>DT1</td>\n",
       "      <td>38711.00000</td>\n",
       "    </tr>\n",
       "    <tr>\n",
       "      <th>30</th>\n",
       "      <td>male</td>\n",
       "      <td>24</td>\n",
       "      <td>35.60</td>\n",
       "      <td>yes</td>\n",
       "      <td>DT1</td>\n",
       "      <td>35585.57600</td>\n",
       "    </tr>\n",
       "    <tr>\n",
       "      <th>34</th>\n",
       "      <td>male</td>\n",
       "      <td>30</td>\n",
       "      <td>36.40</td>\n",
       "      <td>yes</td>\n",
       "      <td>DT1</td>\n",
       "      <td>51194.55914</td>\n",
       "    </tr>\n",
       "    <tr>\n",
       "      <th>38</th>\n",
       "      <td>male</td>\n",
       "      <td>37</td>\n",
       "      <td>36.67</td>\n",
       "      <td>yes</td>\n",
       "      <td>DT4</td>\n",
       "      <td>39774.27630</td>\n",
       "    </tr>\n",
       "    <tr>\n",
       "      <th>39</th>\n",
       "      <td>male</td>\n",
       "      <td>62</td>\n",
       "      <td>39.90</td>\n",
       "      <td>yes</td>\n",
       "      <td>DT1</td>\n",
       "      <td>48173.36100</td>\n",
       "    </tr>\n",
       "    <tr>\n",
       "      <th>49</th>\n",
       "      <td>male</td>\n",
       "      <td>38</td>\n",
       "      <td>35.20</td>\n",
       "      <td>yes</td>\n",
       "      <td>DT2</td>\n",
       "      <td>38709.17600</td>\n",
       "    </tr>\n",
       "    <tr>\n",
       "      <th>53</th>\n",
       "      <td>male</td>\n",
       "      <td>38</td>\n",
       "      <td>34.43</td>\n",
       "      <td>yes</td>\n",
       "      <td>DT2</td>\n",
       "      <td>37742.57570</td>\n",
       "    </tr>\n",
       "  </tbody>\n",
       "</table>\n",
       "</div>"
      ]
     },
     "execution_count": 4,
     "metadata": {},
     "output_type": "execute_result"
    }
   ],
   "execution_count": 4
  },
  {
   "cell_type": "markdown",
   "id": "58192f7f-d850-4723-ba3e-ebd30cf29bf5",
   "metadata": {
    "id": "58192f7f-d850-4723-ba3e-ebd30cf29bf5"
   },
   "source": [
    "&nbsp;   \n",
    "#### <font color=\"color:blue\">**Removing outliers**</span>"
   ]
  },
  {
   "metadata": {},
   "cell_type": "markdown",
   "source": [
    "<p>\n",
    "บางครั้งการตัด Outliers ไม่ได้จำเป็น <br>\n",
    "บางที่เลือกที่จะดู Pattern ของ Outliers ว่าเป็นยังไง แล้วปล่อยไว้ถ้าสมมุติพวกมันมีความเป็นเหตุเป็นผลที่ชัดเจน <br>\n",
    "แต่ในกรณีของเรา ถ้าเราไม่ตัด Outliers ออก จะทำให้ Model ที่เราสร้างมีความแม่นยำน้อยลง\n",
    "</p>"
   ],
   "id": "da0581cf3add66e8"
  },
  {
   "cell_type": "code",
   "id": "4bfc6a79-9ed1-4133-b30a-04ba1c0e8140",
   "metadata": {
    "colab": {
     "base_uri": "https://localhost:8080/",
     "height": 444
    },
    "executionInfo": {
     "elapsed": 359,
     "status": "ok",
     "timestamp": 1739534405658,
     "user": {
      "displayName": "Thammakorn SAETHANG",
      "userId": "08182570455347153646"
     },
     "user_tz": -420
    },
    "id": "4bfc6a79-9ed1-4133-b30a-04ba1c0e8140",
    "outputId": "46ad6d1c-a873-4d30-c9df-3232021be4f5",
    "ExecuteTime": {
     "end_time": "2025-02-15T08:27:06.688089Z",
     "start_time": "2025-02-15T08:27:06.596153Z"
    }
   },
   "source": [
    "fig, ax = plt.subplots(figsize=(2, 5))  #set size of plot (width, height)\n",
    "sns.boxplot(data=df_g1,\n",
    "            y=\"healthcare_cost\",\n",
    "            whis=1.5,\n",
    "            ax=ax)"
   ],
   "outputs": [
    {
     "data": {
      "text/plain": [
       "<Axes: ylabel='healthcare_cost'>"
      ]
     },
     "execution_count": 5,
     "metadata": {},
     "output_type": "execute_result"
    },
    {
     "data": {
      "text/plain": [
       "<Figure size 200x500 with 1 Axes>"
      ],
      "image/png": "[encoded data removed]"
     },
     "metadata": {},
     "output_type": "display_data"
    }
   ],
   "execution_count": 5
  },
  {
   "cell_type": "code",
   "id": "a80543fc-ef66-42cc-8c4d-14091419c2b8",
   "metadata": {
    "colab": {
     "base_uri": "https://localhost:8080/"
    },
    "executionInfo": {
     "elapsed": 330,
     "status": "ok",
     "timestamp": 1739534409945,
     "user": {
      "displayName": "Thammakorn SAETHANG",
      "userId": "08182570455347153646"
     },
     "user_tz": -420
    },
    "id": "a80543fc-ef66-42cc-8c4d-14091419c2b8",
    "outputId": "2f290f22-2e11-4bd3-cba5-dd6ec35695e4",
    "ExecuteTime": {
     "end_time": "2025-02-15T08:27:06.808891Z",
     "start_time": "2025-02-15T08:27:06.802049Z"
    }
   },
   "source": [
    "q1, q3 = np.percentile(df_g1.healthcare_cost, [25, 75])\n",
    "print(\"q1:\", q1)\n",
    "print(\"q3:\", q3)\n",
    "IQR = q3 - q1\n",
    "print(\"IQR: \", IQR)\n",
    "upper = df_g1.healthcare_cost[df_g1.healthcare_cost <= (q3 + 1.5*IQR)].max()\n",
    "lower = df_g1.healthcare_cost[df_g1.healthcare_cost >= (q1 - 1.5*IQR)].min()\n",
    "print(\"lower:\",lower)\n",
    "print(\"upper:\",upper)\n",
    "\n",
    "df_g1_remOut = df_g1[(df_g1.healthcare_cost < upper) &\n",
    "                     (df_g1.healthcare_cost > lower)]\n",
    "df_g1_remOut.shape"
   ],
   "outputs": [
    {
     "name": "stdout",
     "output_type": "stream",
     "text": [
      "q1: 37165.1638\n",
      "q3: 45702.02235\n",
      "IQR:  8536.858549999997\n",
      "lower: 32548.3405\n",
      "upper: 55135.40209\n"
     ]
    },
    {
     "data": {
      "text/plain": [
       "(138, 6)"
      ]
     },
     "execution_count": 6,
     "metadata": {},
     "output_type": "execute_result"
    }
   ],
   "execution_count": 6
  },
  {
   "cell_type": "code",
   "id": "f0352c52-7fb4-442a-8165-b12ed0eaf1aa",
   "metadata": {
    "colab": {
     "base_uri": "https://localhost:8080/",
     "height": 445
    },
    "executionInfo": {
     "elapsed": 340,
     "status": "ok",
     "timestamp": 1739534434008,
     "user": {
      "displayName": "Thammakorn SAETHANG",
      "userId": "08182570455347153646"
     },
     "user_tz": -420
    },
    "id": "f0352c52-7fb4-442a-8165-b12ed0eaf1aa",
    "outputId": "a6291448-10aa-49f1-fafe-b7eb60902112",
    "ExecuteTime": {
     "end_time": "2025-02-15T08:27:07.197096Z",
     "start_time": "2025-02-15T08:27:07.109132Z"
    }
   },
   "source": [
    "fig, ax = plt.subplots(figsize=(2, 5))  #set size of plot (width, height)\n",
    "sns.boxplot(data=df_g1_remOut,\n",
    "            y=\"healthcare_cost\",\n",
    "            whis=1.5,\n",
    "            ax=ax)"
   ],
   "outputs": [
    {
     "data": {
      "text/plain": [
       "<Axes: ylabel='healthcare_cost'>"
      ]
     },
     "execution_count": 7,
     "metadata": {},
     "output_type": "execute_result"
    },
    {
     "data": {
      "text/plain": [
       "<Figure size 200x500 with 1 Axes>"
      ],
      "image/png": "[encoded data removed]"
     },
     "metadata": {},
     "output_type": "display_data"
    }
   ],
   "execution_count": 7
  },
  {
   "cell_type": "markdown",
   "id": "8235198b-80db-439a-b1e7-743d0776e963",
   "metadata": {
    "id": "8235198b-80db-439a-b1e7-743d0776e963",
    "tags": []
   },
   "source": [
    "&nbsp;   \n",
    "#### <font color=\"1f7d02\">*Create Multiple Linear Regression Model Using \\'age\\' & \\'bmi'*</span>"
   ]
  },
  {
   "cell_type": "code",
   "id": "d4a03ea6-7e31-4d12-8738-3ae104b67930",
   "metadata": {
    "colab": {
     "base_uri": "https://localhost:8080/",
     "height": 80
    },
    "executionInfo": {
     "elapsed": 307,
     "status": "ok",
     "timestamp": 1739534445158,
     "user": {
      "displayName": "Thammakorn SAETHANG",
      "userId": "08182570455347153646"
     },
     "user_tz": -420
    },
    "id": "d4a03ea6-7e31-4d12-8738-3ae104b67930",
    "outputId": "ee55cee0-1b6e-4ac1-e046-b0d2d517f98c",
    "ExecuteTime": {
     "end_time": "2025-02-15T08:31:12.018116Z",
     "start_time": "2025-02-15T08:31:12.008977Z"
    }
   },
   "source": [
    "X = df_g1_remOut.filter(['age','bmi'])\n",
    "y = df_g1_remOut.filter(['healthcare_cost'])\n",
    "model = lr(fit_intercept=True)\n",
    "model.fit(X, y)"
   ],
   "outputs": [
    {
     "data": {
      "text/plain": [
       "LinearRegression()"
      ],
      "text/html": [
       "<style>#sk-container-id-4 {\n",
       "  /* Definition of color scheme common for light and dark mode */\n",
       "  --sklearn-color-text: #000;\n",
       "  --sklearn-color-text-muted: #666;\n",
       "  --sklearn-color-line: gray;\n",
       "  /* Definition of color scheme for unfitted estimators */\n",
       "  --sklearn-color-unfitted-level-0: #fff5e6;\n",
       "  --sklearn-color-unfitted-level-1: #f6e4d2;\n",
       "  --sklearn-color-unfitted-level-2: #ffe0b3;\n",
       "  --sklearn-color-unfitted-level-3: chocolate;\n",
       "  /* Definition of color scheme for fitted estimators */\n",
       "  --sklearn-color-fitted-level-0: #f0f8ff;\n",
       "  --sklearn-color-fitted-level-1: #d4ebff;\n",
       "  --sklearn-color-fitted-level-2: #b3dbfd;\n",
       "  --sklearn-color-fitted-level-3: cornflowerblue;\n",
       "\n",
       "  /* Specific color for light theme */\n",
       "  --sklearn-color-text-on-default-background: var(--sg-text-color, var(--theme-code-foreground, var(--jp-content-font-color1, black)));\n",
       "  --sklearn-color-background: var(--sg-background-color, var(--theme-background, var(--jp-layout-color0, white)));\n",
       "  --sklearn-color-border-box: var(--sg-text-color, var(--theme-code-foreground, var(--jp-content-font-color1, black)));\n",
       "  --sklearn-color-icon: #696969;\n",
       "\n",
       "  @media (prefers-color-scheme: dark) {\n",
       "    /* Redefinition of color scheme for dark theme */\n",
       "    --sklearn-color-text-on-default-background: var(--sg-text-color, var(--theme-code-foreground, var(--jp-content-font-color1, white)));\n",
       "    --sklearn-color-background: var(--sg-background-color, var(--theme-background, var(--jp-layout-color0, #111)));\n",
       "    --sklearn-color-border-box: var(--sg-text-color, var(--theme-code-foreground, var(--jp-content-font-color1, white)));\n",
       "    --sklearn-color-icon: #878787;\n",
       "  }\n",
       "}\n",
       "\n",
       "#sk-container-id-4 {\n",
       "  color: var(--sklearn-color-text);\n",
       "}\n",
       "\n",
       "#sk-container-id-4 pre {\n",
       "  padding: 0;\n",
       "}\n",
       "\n",
       "#sk-container-id-4 input.sk-hidden--visually {\n",
       "  border: 0;\n",
       "  clip: rect(1px 1px 1px 1px);\n",
       "  clip: rect(1px, 1px, 1px, 1px);\n",
       "  height: 1px;\n",
       "  margin: -1px;\n",
       "  overflow: hidden;\n",
       "  padding: 0;\n",
       "  position: absolute;\n",
       "  width: 1px;\n",
       "}\n",
       "\n",
       "#sk-container-id-4 div.sk-dashed-wrapped {\n",
       "  border: 1px dashed var(--sklearn-color-line);\n",
       "  margin: 0 0.4em 0.5em 0.4em;\n",
       "  box-sizing: border-box;\n",
       "  padding-bottom: 0.4em;\n",
       "  background-color: var(--sklearn-color-background);\n",
       "}\n",
       "\n",
       "#sk-container-id-4 div.sk-container {\n",
       "  /* jupyter's `normalize.less` sets `[hidden] { display: none; }`\n",
       "     but bootstrap.min.css set `[hidden] { display: none !important; }`\n",
       "     so we also need the `!important` here to be able to override the\n",
       "     default hidden behavior on the sphinx rendered scikit-learn.org.\n",
       "     See: https://github.com/scikit-learn/scikit-learn/issues/21755 */\n",
       "  display: inline-block !important;\n",
       "  position: relative;\n",
       "}\n",
       "\n",
       "#sk-container-id-4 div.sk-text-repr-fallback {\n",
       "  display: none;\n",
       "}\n",
       "\n",
       "div.sk-parallel-item,\n",
       "div.sk-serial,\n",
       "div.sk-item {\n",
       "  /* draw centered vertical line to link estimators */\n",
       "  background-image: linear-gradient(var(--sklearn-color-text-on-default-background), var(--sklearn-color-text-on-default-background));\n",
       "  background-size: 2px 100%;\n",
       "  background-repeat: no-repeat;\n",
       "  background-position: center center;\n",
       "}\n",
       "\n",
       "/* Parallel-specific style estimator block */\n",
       "\n",
       "#sk-container-id-4 div.sk-parallel-item::after {\n",
       "  content: \"\";\n",
       "  width: 100%;\n",
       "  border-bottom: 2px solid var(--sklearn-color-text-on-default-background);\n",
       "  flex-grow: 1;\n",
       "}\n",
       "\n",
       "#sk-container-id-4 div.sk-parallel {\n",
       "  display: flex;\n",
       "  align-items: stretch;\n",
       "  justify-content: center;\n",
       "  background-color: var(--sklearn-color-background);\n",
       "  position: relative;\n",
       "}\n",
       "\n",
       "#sk-container-id-4 div.sk-parallel-item {\n",
       "  display: flex;\n",
       "  flex-direction: column;\n",
       "}\n",
       "\n",
       "#sk-container-id-4 div.sk-parallel-item:first-child::after {\n",
       "  align-self: flex-end;\n",
       "  width: 50%;\n",
       "}\n",
       "\n",
       "#sk-container-id-4 div.sk-parallel-item:last-child::after {\n",
       "  align-self: flex-start;\n",
       "  width: 50%;\n",
       "}\n",
       "\n",
       "#sk-container-id-4 div.sk-parallel-item:only-child::after {\n",
       "  width: 0;\n",
       "}\n",
       "\n",
       "/* Serial-specific style estimator block */\n",
       "\n",
       "#sk-container-id-4 div.sk-serial {\n",
       "  display: flex;\n",
       "  flex-direction: column;\n",
       "  align-items: center;\n",
       "  background-color: var(--sklearn-color-background);\n",
       "  padding-right: 1em;\n",
       "  padding-left: 1em;\n",
       "}\n",
       "\n",
       "\n",
       "/* Toggleable style: style used for estimator/Pipeline/ColumnTransformer box that is\n",
       "clickable and can be expanded/collapsed.\n",
       "- Pipeline and ColumnTransformer use this feature and define the default style\n",
       "- Estimators will overwrite some part of the style using the `sk-estimator` class\n",
       "*/\n",
       "\n",
       "/* Pipeline and ColumnTransformer style (default) */\n",
       "\n",
       "#sk-container-id-4 div.sk-toggleable {\n",
       "  /* Default theme specific background. It is overwritten whether we have a\n",
       "  specific estimator or a Pipeline/ColumnTransformer */\n",
       "  background-color: var(--sklearn-color-background);\n",
       "}\n",
       "\n",
       "/* Toggleable label */\n",
       "#sk-container-id-4 label.sk-toggleable__label {\n",
       "  cursor: pointer;\n",
       "  display: flex;\n",
       "  width: 100%;\n",
       "  margin-bottom: 0;\n",
       "  padding: 0.5em;\n",
       "  box-sizing: border-box;\n",
       "  text-align: center;\n",
       "  align-items: start;\n",
       "  justify-content: space-between;\n",
       "  gap: 0.5em;\n",
       "}\n",
       "\n",
       "#sk-container-id-4 label.sk-toggleable__label .caption {\n",
       "  font-size: 0.6rem;\n",
       "  font-weight: lighter;\n",
       "  color: var(--sklearn-color-text-muted);\n",
       "}\n",
       "\n",
       "#sk-container-id-4 label.sk-toggleable__label-arrow:before {\n",
       "  /* Arrow on the left of the label */\n",
       "  content: \"▸\";\n",
       "  float: left;\n",
       "  margin-right: 0.25em;\n",
       "  color: var(--sklearn-color-icon);\n",
       "}\n",
       "\n",
       "#sk-container-id-4 label.sk-toggleable__label-arrow:hover:before {\n",
       "  color: var(--sklearn-color-text);\n",
       "}\n",
       "\n",
       "/* Toggleable content - dropdown */\n",
       "\n",
       "#sk-container-id-4 div.sk-toggleable__content {\n",
       "  max-height: 0;\n",
       "  max-width: 0;\n",
       "  overflow: hidden;\n",
       "  text-align: left;\n",
       "  /* unfitted */\n",
       "  background-color: var(--sklearn-color-unfitted-level-0);\n",
       "}\n",
       "\n",
       "#sk-container-id-4 div.sk-toggleable__content.fitted {\n",
       "  /* fitted */\n",
       "  background-color: var(--sklearn-color-fitted-level-0);\n",
       "}\n",
       "\n",
       "#sk-container-id-4 div.sk-toggleable__content pre {\n",
       "  margin: 0.2em;\n",
       "  border-radius: 0.25em;\n",
       "  color: var(--sklearn-color-text);\n",
       "  /* unfitted */\n",
       "  background-color: var(--sklearn-color-unfitted-level-0);\n",
       "}\n",
       "\n",
       "#sk-container-id-4 div.sk-toggleable__content.fitted pre {\n",
       "  /* unfitted */\n",
       "  background-color: var(--sklearn-color-fitted-level-0);\n",
       "}\n",
       "\n",
       "#sk-container-id-4 input.sk-toggleable__control:checked~div.sk-toggleable__content {\n",
       "  /* Expand drop-down */\n",
       "  max-height: 200px;\n",
       "  max-width: 100%;\n",
       "  overflow: auto;\n",
       "}\n",
       "\n",
       "#sk-container-id-4 input.sk-toggleable__control:checked~label.sk-toggleable__label-arrow:before {\n",
       "  content: \"▾\";\n",
       "}\n",
       "\n",
       "/* Pipeline/ColumnTransformer-specific style */\n",
       "\n",
       "#sk-container-id-4 div.sk-label input.sk-toggleable__control:checked~label.sk-toggleable__label {\n",
       "  color: var(--sklearn-color-text);\n",
       "  background-color: var(--sklearn-color-unfitted-level-2);\n",
       "}\n",
       "\n",
       "#sk-container-id-4 div.sk-label.fitted input.sk-toggleable__control:checked~label.sk-toggleable__label {\n",
       "  background-color: var(--sklearn-color-fitted-level-2);\n",
       "}\n",
       "\n",
       "/* Estimator-specific style */\n",
       "\n",
       "/* Colorize estimator box */\n",
       "#sk-container-id-4 div.sk-estimator input.sk-toggleable__control:checked~label.sk-toggleable__label {\n",
       "  /* unfitted */\n",
       "  background-color: var(--sklearn-color-unfitted-level-2);\n",
       "}\n",
       "\n",
       "#sk-container-id-4 div.sk-estimator.fitted input.sk-toggleable__control:checked~label.sk-toggleable__label {\n",
       "  /* fitted */\n",
       "  background-color: var(--sklearn-color-fitted-level-2);\n",
       "}\n",
       "\n",
       "#sk-container-id-4 div.sk-label label.sk-toggleable__label,\n",
       "#sk-container-id-4 div.sk-label label {\n",
       "  /* The background is the default theme color */\n",
       "  color: var(--sklearn-color-text-on-default-background);\n",
       "}\n",
       "\n",
       "/* On hover, darken the color of the background */\n",
       "#sk-container-id-4 div.sk-label:hover label.sk-toggleable__label {\n",
       "  color: var(--sklearn-color-text);\n",
       "  background-color: var(--sklearn-color-unfitted-level-2);\n",
       "}\n",
       "\n",
       "/* Label box, darken color on hover, fitted */\n",
       "#sk-container-id-4 div.sk-label.fitted:hover label.sk-toggleable__label.fitted {\n",
       "  color: var(--sklearn-color-text);\n",
       "  background-color: var(--sklearn-color-fitted-level-2);\n",
       "}\n",
       "\n",
       "/* Estimator label */\n",
       "\n",
       "#sk-container-id-4 div.sk-label label {\n",
       "  font-family: monospace;\n",
       "  font-weight: bold;\n",
       "  display: inline-block;\n",
       "  line-height: 1.2em;\n",
       "}\n",
       "\n",
       "#sk-container-id-4 div.sk-label-container {\n",
       "  text-align: center;\n",
       "}\n",
       "\n",
       "/* Estimator-specific */\n",
       "#sk-container-id-4 div.sk-estimator {\n",
       "  font-family: monospace;\n",
       "  border: 1px dotted var(--sklearn-color-border-box);\n",
       "  border-radius: 0.25em;\n",
       "  box-sizing: border-box;\n",
       "  margin-bottom: 0.5em;\n",
       "  /* unfitted */\n",
       "  background-color: var(--sklearn-color-unfitted-level-0);\n",
       "}\n",
       "\n",
       "#sk-container-id-4 div.sk-estimator.fitted {\n",
       "  /* fitted */\n",
       "  background-color: var(--sklearn-color-fitted-level-0);\n",
       "}\n",
       "\n",
       "/* on hover */\n",
       "#sk-container-id-4 div.sk-estimator:hover {\n",
       "  /* unfitted */\n",
       "  background-color: var(--sklearn-color-unfitted-level-2);\n",
       "}\n",
       "\n",
       "#sk-container-id-4 div.sk-estimator.fitted:hover {\n",
       "  /* fitted */\n",
       "  background-color: var(--sklearn-color-fitted-level-2);\n",
       "}\n",
       "\n",
       "/* Specification for estimator info (e.g. \"i\" and \"?\") */\n",
       "\n",
       "/* Common style for \"i\" and \"?\" */\n",
       "\n",
       ".sk-estimator-doc-link,\n",
       "a:link.sk-estimator-doc-link,\n",
       "a:visited.sk-estimator-doc-link {\n",
       "  float: right;\n",
       "  font-size: smaller;\n",
       "  line-height: 1em;\n",
       "  font-family: monospace;\n",
       "  background-color: var(--sklearn-color-background);\n",
       "  border-radius: 1em;\n",
       "  height: 1em;\n",
       "  width: 1em;\n",
       "  text-decoration: none !important;\n",
       "  margin-left: 0.5em;\n",
       "  text-align: center;\n",
       "  /* unfitted */\n",
       "  border: var(--sklearn-color-unfitted-level-1) 1pt solid;\n",
       "  color: var(--sklearn-color-unfitted-level-1);\n",
       "}\n",
       "\n",
       ".sk-estimator-doc-link.fitted,\n",
       "a:link.sk-estimator-doc-link.fitted,\n",
       "a:visited.sk-estimator-doc-link.fitted {\n",
       "  /* fitted */\n",
       "  border: var(--sklearn-color-fitted-level-1) 1pt solid;\n",
       "  color: var(--sklearn-color-fitted-level-1);\n",
       "}\n",
       "\n",
       "/* On hover */\n",
       "div.sk-estimator:hover .sk-estimator-doc-link:hover,\n",
       ".sk-estimator-doc-link:hover,\n",
       "div.sk-label-container:hover .sk-estimator-doc-link:hover,\n",
       ".sk-estimator-doc-link:hover {\n",
       "  /* unfitted */\n",
       "  background-color: var(--sklearn-color-unfitted-level-3);\n",
       "  color: var(--sklearn-color-background);\n",
       "  text-decoration: none;\n",
       "}\n",
       "\n",
       "div.sk-estimator.fitted:hover .sk-estimator-doc-link.fitted:hover,\n",
       ".sk-estimator-doc-link.fitted:hover,\n",
       "div.sk-label-container:hover .sk-estimator-doc-link.fitted:hover,\n",
       ".sk-estimator-doc-link.fitted:hover {\n",
       "  /* fitted */\n",
       "  background-color: var(--sklearn-color-fitted-level-3);\n",
       "  color: var(--sklearn-color-background);\n",
       "  text-decoration: none;\n",
       "}\n",
       "\n",
       "/* Span, style for the box shown on hovering the info icon */\n",
       ".sk-estimator-doc-link span {\n",
       "  display: none;\n",
       "  z-index: 9999;\n",
       "  position: relative;\n",
       "  font-weight: normal;\n",
       "  right: .2ex;\n",
       "  padding: .5ex;\n",
       "  margin: .5ex;\n",
       "  width: min-content;\n",
       "  min-width: 20ex;\n",
       "  max-width: 50ex;\n",
       "  color: var(--sklearn-color-text);\n",
       "  box-shadow: 2pt 2pt 4pt #999;\n",
       "  /* unfitted */\n",
       "  background: var(--sklearn-color-unfitted-level-0);\n",
       "  border: .5pt solid var(--sklearn-color-unfitted-level-3);\n",
       "}\n",
       "\n",
       ".sk-estimator-doc-link.fitted span {\n",
       "  /* fitted */\n",
       "  background: var(--sklearn-color-fitted-level-0);\n",
       "  border: var(--sklearn-color-fitted-level-3);\n",
       "}\n",
       "\n",
       ".sk-estimator-doc-link:hover span {\n",
       "  display: block;\n",
       "}\n",
       "\n",
       "/* \"?\"-specific style due to the `<a>` HTML tag */\n",
       "\n",
       "#sk-container-id-4 a.estimator_doc_link {\n",
       "  float: right;\n",
       "  font-size: 1rem;\n",
       "  line-height: 1em;\n",
       "  font-family: monospace;\n",
       "  background-color: var(--sklearn-color-background);\n",
       "  border-radius: 1rem;\n",
       "  height: 1rem;\n",
       "  width: 1rem;\n",
       "  text-decoration: none;\n",
       "  /* unfitted */\n",
       "  color: var(--sklearn-color-unfitted-level-1);\n",
       "  border: var(--sklearn-color-unfitted-level-1) 1pt solid;\n",
       "}\n",
       "\n",
       "#sk-container-id-4 a.estimator_doc_link.fitted {\n",
       "  /* fitted */\n",
       "  border: var(--sklearn-color-fitted-level-1) 1pt solid;\n",
       "  color: var(--sklearn-color-fitted-level-1);\n",
       "}\n",
       "\n",
       "/* On hover */\n",
       "#sk-container-id-4 a.estimator_doc_link:hover {\n",
       "  /* unfitted */\n",
       "  background-color: var(--sklearn-color-unfitted-level-3);\n",
       "  color: var(--sklearn-color-background);\n",
       "  text-decoration: none;\n",
       "}\n",
       "\n",
       "#sk-container-id-4 a.estimator_doc_link.fitted:hover {\n",
       "  /* fitted */\n",
       "  background-color: var(--sklearn-color-fitted-level-3);\n",
       "}\n",
       "</style><div id=\"sk-container-id-4\" class=\"sk-top-container\"><div class=\"sk-text-repr-fallback\"><pre>LinearRegression()</pre><b>In a Jupyter environment, please rerun this cell to show the HTML representation or trust the notebook. <br />On GitHub, the HTML representation is unable to render, please try loading this page with nbviewer.org.</b></div><div class=\"sk-container\" hidden><div class=\"sk-item\"><div class=\"sk-estimator fitted sk-toggleable\"><input class=\"sk-toggleable__control sk-hidden--visually\" id=\"sk-estimator-id-4\" type=\"checkbox\" checked><label for=\"sk-estimator-id-4\" class=\"sk-toggleable__label fitted sk-toggleable__label-arrow\"><div><div>LinearRegression</div></div><div><a class=\"sk-estimator-doc-link fitted\" rel=\"noreferrer\" target=\"_blank\" href=\"https://scikit-learn.org/1.6/modules/generated/sklearn.linear_model.LinearRegression.html\">?<span>Documentation for LinearRegression</span></a><span class=\"sk-estimator-doc-link fitted\">i<span>Fitted</span></span></div></label><div class=\"sk-toggleable__content fitted\"><pre>LinearRegression()</pre></div> </div></div></div></div>"
      ]
     },
     "execution_count": 63,
     "metadata": {},
     "output_type": "execute_result"
    }
   ],
   "execution_count": 63
  },
  {
   "cell_type": "markdown",
   "id": "b592f342-9602-45bf-8f74-9ae7b3a05d9f",
   "metadata": {
    "id": "b592f342-9602-45bf-8f74-9ae7b3a05d9f",
    "tags": []
   },
   "source": [
    "&nbsp;   \n",
    "#### <font color=\"color:blue\">**Perform prediction**</span>"
   ]
  },
  {
   "cell_type": "code",
   "id": "0042dee9-da65-4d16-93c2-1ff3bc10d724",
   "metadata": {
    "executionInfo": {
     "elapsed": 331,
     "status": "ok",
     "timestamp": 1739534523237,
     "user": {
      "displayName": "Thammakorn SAETHANG",
      "userId": "08182570455347153646"
     },
     "user_tz": -420
    },
    "id": "0042dee9-da65-4d16-93c2-1ff3bc10d724",
    "ExecuteTime": {
     "end_time": "2025-02-15T08:31:13.825048Z",
     "start_time": "2025-02-15T08:31:13.819956Z"
    }
   },
   "source": [
    "y_pred = model.predict(X)"
   ],
   "outputs": [],
   "execution_count": 64
  },
  {
   "cell_type": "markdown",
   "id": "09a40126-0829-4d3f-87c0-c3b0d2bb99c1",
   "metadata": {
    "id": "09a40126-0829-4d3f-87c0-c3b0d2bb99c1",
    "tags": []
   },
   "source": [
    "&nbsp;   \n",
    "#### <font color=\"color:blue\">**Get coefficients & intercept**</span>"
   ]
  },
  {
   "cell_type": "code",
   "id": "7e1a7ff4-87b9-494f-abd0-f6df3e5bd93d",
   "metadata": {
    "colab": {
     "base_uri": "https://localhost:8080/"
    },
    "executionInfo": {
     "elapsed": 482,
     "status": "ok",
     "timestamp": 1739534527489,
     "user": {
      "displayName": "Thammakorn SAETHANG",
      "userId": "08182570455347153646"
     },
     "user_tz": -420
    },
    "id": "7e1a7ff4-87b9-494f-abd0-f6df3e5bd93d",
    "outputId": "6dfdd94f-eba6-4354-eafe-452b96aa4cba",
    "ExecuteTime": {
     "end_time": "2025-02-15T08:27:07.405928Z",
     "start_time": "2025-02-15T08:27:07.401793Z"
    }
   },
   "source": [
    "print(\"coefficients:\", model.coef_)\n",
    "print(\"Intercept:\", model.intercept_)"
   ],
   "outputs": [
    {
     "name": "stdout",
     "output_type": "stream",
     "text": [
      "coefficients: [[270.48638381 461.9732308 ]]\n",
      "Intercept: [13564.61900976]\n"
     ]
    }
   ],
   "execution_count": 10
  },
  {
   "cell_type": "markdown",
   "id": "5cfa3791-1e13-4037-b274-aef1fd29f980",
   "metadata": {
    "id": "5cfa3791-1e13-4037-b274-aef1fd29f980",
    "tags": []
   },
   "source": [
    "&nbsp;   \n",
    "#### <font color=\"color:blue\">**Evaluate model performance**</span>"
   ]
  },
  {
   "cell_type": "code",
   "id": "aeb46eb0-dc7c-4e61-8ba0-bddcf711eb51",
   "metadata": {
    "colab": {
     "base_uri": "https://localhost:8080/"
    },
    "executionInfo": {
     "elapsed": 276,
     "status": "ok",
     "timestamp": 1739534554011,
     "user": {
      "displayName": "Thammakorn SAETHANG",
      "userId": "08182570455347153646"
     },
     "user_tz": -420
    },
    "id": "aeb46eb0-dc7c-4e61-8ba0-bddcf711eb51",
    "outputId": "ddf2ddeb-0a51-4d6c-f27a-9ed21e3046df",
    "ExecuteTime": {
     "end_time": "2025-02-15T08:27:07.502906Z",
     "start_time": "2025-02-15T08:27:07.493817Z"
    }
   },
   "source": [
    "print('MAE:', metrics.mean_absolute_error(y, y_pred))\n",
    "print('MSE:', metrics.mean_squared_error(y, y_pred))\n",
    "print('RMSE:', np.sqrt(metrics.mean_squared_error(y, y_pred)))\n",
    "print('R2:', metrics.r2_score(y, y_pred))"
   ],
   "outputs": [
    {
     "name": "stdout",
     "output_type": "stream",
     "text": [
      "MAE: 997.8856797043095\n",
      "MSE: 3151353.347067842\n",
      "RMSE: 1775.2051563320342\n",
      "R2: 0.8550541006143095\n"
     ]
    }
   ],
   "execution_count": 11
  },
  {
   "cell_type": "markdown",
   "id": "0bfc3033-9b77-43de-a81a-5bf407f43a41",
   "metadata": {
    "id": "0bfc3033-9b77-43de-a81a-5bf407f43a41"
   },
   "source": [
    "&nbsp;   \n",
    "#### <font color=\"color:blue\">**Plot observed (actual) vs. predicted healthcare_cost**</span>"
   ]
  },
  {
   "cell_type": "code",
   "id": "6dfb6503-4f6e-4b1d-b3b5-87a9805234d6",
   "metadata": {
    "colab": {
     "base_uri": "https://localhost:8080/",
     "height": 702
    },
    "executionInfo": {
     "elapsed": 820,
     "status": "ok",
     "timestamp": 1739534578174,
     "user": {
      "displayName": "Thammakorn SAETHANG",
      "userId": "08182570455347153646"
     },
     "user_tz": -420
    },
    "id": "6dfb6503-4f6e-4b1d-b3b5-87a9805234d6",
    "outputId": "6b3bfa25-a275-4a3e-f4cf-70902612403e",
    "ExecuteTime": {
     "end_time": "2025-02-15T08:27:07.699754Z",
     "start_time": "2025-02-15T08:27:07.555650Z"
    }
   },
   "source": [
    "df_pred = pd.DataFrame({'obs': df_g1_remOut.healthcare_cost.values, 'predict': y_pred.reshape(1, -1)[0]})\n",
    "display(df_pred.head())\n",
    "\n",
    "fig, ax = plt.subplots(figsize=(5, 5))\n",
    "sns.scatterplot(data=df_pred,\n",
    "               x='predict',\n",
    "               y='obs',\n",
    "               ax=ax)\n",
    "plt.xticks(rotation=90)\n",
    "diag = np.linspace(min(df_pred.obs), max(df_pred.obs))\n",
    "plt.plot(diag,\n",
    "         diag,\n",
    "         color = 'r')\n",
    "\n",
    "#Show R2 score in the plot\n",
    "plt.text(47500, 35000, f\"R2={metrics.r2_score(y, y_pred):.2f}\", horizontalalignment='left', size='small', color='red')"
   ],
   "outputs": [
    {
     "data": {
      "text/plain": [
       "          obs       predict\n",
       "0  39611.7577  40871.656354\n",
       "1  36837.4670  38527.838339\n",
       "2  37701.8768  38048.314354\n",
       "3  38711.0000  39260.297953\n",
       "4  35585.5760  36502.539238"
      ],
      "text/html": [
       "<div>\n",
       "<style scoped>\n",
       "    .dataframe tbody tr th:only-of-type {\n",
       "        vertical-align: middle;\n",
       "    }\n",
       "\n",
       "    .dataframe tbody tr th {\n",
       "        vertical-align: top;\n",
       "    }\n",
       "\n",
       "    .dataframe thead th {\n",
       "        text-align: right;\n",
       "    }\n",
       "</style>\n",
       "<table border=\"1\" class=\"dataframe\">\n",
       "  <thead>\n",
       "    <tr style=\"text-align: right;\">\n",
       "      <th></th>\n",
       "      <th>obs</th>\n",
       "      <th>predict</th>\n",
       "    </tr>\n",
       "  </thead>\n",
       "  <tbody>\n",
       "    <tr>\n",
       "      <th>0</th>\n",
       "      <td>39611.7577</td>\n",
       "      <td>40871.656354</td>\n",
       "    </tr>\n",
       "    <tr>\n",
       "      <th>1</th>\n",
       "      <td>36837.4670</td>\n",
       "      <td>38527.838339</td>\n",
       "    </tr>\n",
       "    <tr>\n",
       "      <th>2</th>\n",
       "      <td>37701.8768</td>\n",
       "      <td>38048.314354</td>\n",
       "    </tr>\n",
       "    <tr>\n",
       "      <th>3</th>\n",
       "      <td>38711.0000</td>\n",
       "      <td>39260.297953</td>\n",
       "    </tr>\n",
       "    <tr>\n",
       "      <th>4</th>\n",
       "      <td>35585.5760</td>\n",
       "      <td>36502.539238</td>\n",
       "    </tr>\n",
       "  </tbody>\n",
       "</table>\n",
       "</div>"
      ]
     },
     "metadata": {},
     "output_type": "display_data"
    },
    {
     "data": {
      "text/plain": [
       "Text(47500, 35000, 'R2=0.86')"
      ]
     },
     "execution_count": 12,
     "metadata": {},
     "output_type": "execute_result"
    },
    {
     "data": {
      "text/plain": [
       "<Figure size 500x500 with 1 Axes>"
      ],
      "image/png": "[encoded data removed]"
     },
     "metadata": {},
     "output_type": "display_data"
    }
   ],
   "execution_count": 12
  },
  {
   "cell_type": "markdown",
   "id": "d1a1710a-3bdf-4959-8c23-c4bac47d3e32",
   "metadata": {
    "id": "d1a1710a-3bdf-4959-8c23-c4bac47d3e32",
    "tags": []
   },
   "source": [
    "&nbsp;  \n",
    "#### <font color=\"1f7d02\">*Create Multiple Linear Regression Model Using 'age', 'bmi', 'sex' and 'district'*</span>"
   ]
  },
  {
   "cell_type": "markdown",
   "id": "830c1644-60c5-4b6a-8ec8-62e2fc9e4e1b",
   "metadata": {
    "id": "830c1644-60c5-4b6a-8ec8-62e2fc9e4e1b"
   },
   "source": [
    "<p> Columns conversion </p>\n",
    "<ol>\n",
    "<li> The columns 'age' and 'bmi' are numbers columns <br>\n",
    "unnecessary to convert them to anything else. </li>\n",
    "<li> The columns 'sex' and 'district' are categories. <br>\n",
    "These data cannot be used directly to create model, it need to be converted first. </li>\n",
    "</ol>\n",
    "\n",
    "One of the most common approaches to convert a categorical column to a numeric one is via one-hot encoding. In one-hot encoding, for every unique value in the original columns, a new column is created. For instance, for sex, two columns: 'female' and 'male', are created. If the original sex column contained male, a 1 is added in the newly created 'male' column, while 1 is added in the newly created 'female' column if the original sex column contained female.  \n",
    "\n",
    "However, it can be noted that we do not really need two columns. A single column, i.e., 'male' is enough since when a customer is male, we can add 1 in the 'male' column, else 0 can be added in that column. Hence, <u>we need N-1 one-hot encoded columns for all the N values in the original column</u>.  "
   ]
  },
  {
   "cell_type": "markdown",
   "id": "d42ec129-d1b7-4216-9310-d3a3b74bfbfa",
   "metadata": {
    "id": "d42ec129-d1b7-4216-9310-d3a3b74bfbfa"
   },
   "source": [
    "&nbsp;  \n",
    "For 'sex' column, we create 1 one-hot encoded column."
   ]
  },
  {
   "cell_type": "code",
   "id": "a547c257-bf9a-4868-8f2f-c2ac1475cadb",
   "metadata": {
    "colab": {
     "base_uri": "https://localhost:8080/",
     "height": 423
    },
    "executionInfo": {
     "elapsed": 324,
     "status": "ok",
     "timestamp": 1739534614796,
     "user": {
      "displayName": "Thammakorn SAETHANG",
      "userId": "08182570455347153646"
     },
     "user_tz": -420
    },
    "id": "a547c257-bf9a-4868-8f2f-c2ac1475cadb",
    "outputId": "5d1d107b-e534-4e9a-c3c0-661309c97225",
    "ExecuteTime": {
     "end_time": "2025-02-15T08:36:56.164782Z",
     "start_time": "2025-02-15T08:36:56.157416Z"
    }
   },
   "source": [
    "# pd.get_dummies(df_g1_remOut[['sex']])\n",
    "# pd.get_dummies(df_g1_remOut[['sex']], dtype=int)\n",
    "\n",
    "# drop_first = Remove first column\n",
    "pd.get_dummies(df_g1_remOut[['sex']], drop_first=True, dtype=int)"
   ],
   "outputs": [
    {
     "data": {
      "text/plain": [
       "      sex_male\n",
       "14           1\n",
       "19           1\n",
       "23           0\n",
       "29           1\n",
       "30           1\n",
       "...        ...\n",
       "1291         1\n",
       "1301         1\n",
       "1308         0\n",
       "1313         0\n",
       "1323         0\n",
       "\n",
       "[138 rows x 1 columns]"
      ],
      "text/html": [
       "<div>\n",
       "<style scoped>\n",
       "    .dataframe tbody tr th:only-of-type {\n",
       "        vertical-align: middle;\n",
       "    }\n",
       "\n",
       "    .dataframe tbody tr th {\n",
       "        vertical-align: top;\n",
       "    }\n",
       "\n",
       "    .dataframe thead th {\n",
       "        text-align: right;\n",
       "    }\n",
       "</style>\n",
       "<table border=\"1\" class=\"dataframe\">\n",
       "  <thead>\n",
       "    <tr style=\"text-align: right;\">\n",
       "      <th></th>\n",
       "      <th>sex_male</th>\n",
       "    </tr>\n",
       "  </thead>\n",
       "  <tbody>\n",
       "    <tr>\n",
       "      <th>14</th>\n",
       "      <td>1</td>\n",
       "    </tr>\n",
       "    <tr>\n",
       "      <th>19</th>\n",
       "      <td>1</td>\n",
       "    </tr>\n",
       "    <tr>\n",
       "      <th>23</th>\n",
       "      <td>0</td>\n",
       "    </tr>\n",
       "    <tr>\n",
       "      <th>29</th>\n",
       "      <td>1</td>\n",
       "    </tr>\n",
       "    <tr>\n",
       "      <th>30</th>\n",
       "      <td>1</td>\n",
       "    </tr>\n",
       "    <tr>\n",
       "      <th>...</th>\n",
       "      <td>...</td>\n",
       "    </tr>\n",
       "    <tr>\n",
       "      <th>1291</th>\n",
       "      <td>1</td>\n",
       "    </tr>\n",
       "    <tr>\n",
       "      <th>1301</th>\n",
       "      <td>1</td>\n",
       "    </tr>\n",
       "    <tr>\n",
       "      <th>1308</th>\n",
       "      <td>0</td>\n",
       "    </tr>\n",
       "    <tr>\n",
       "      <th>1313</th>\n",
       "      <td>0</td>\n",
       "    </tr>\n",
       "    <tr>\n",
       "      <th>1323</th>\n",
       "      <td>0</td>\n",
       "    </tr>\n",
       "  </tbody>\n",
       "</table>\n",
       "<p>138 rows × 1 columns</p>\n",
       "</div>"
      ]
     },
     "execution_count": 67,
     "metadata": {},
     "output_type": "execute_result"
    }
   ],
   "execution_count": 67
  },
  {
   "cell_type": "markdown",
   "id": "104c6325-c143-4601-bd03-e51d6335a7b9",
   "metadata": {
    "id": "104c6325-c143-4601-bd03-e51d6335a7b9"
   },
   "source": [
    "&nbsp;  \n",
    "For 'district' column, we create 3 one-hot encoded columns."
   ]
  },
  {
   "cell_type": "code",
   "id": "77fed6cd-a497-4306-a764-5a5f92ad1543",
   "metadata": {
    "colab": {
     "base_uri": "https://localhost:8080/",
     "height": 423
    },
    "executionInfo": {
     "elapsed": 301,
     "status": "ok",
     "timestamp": 1739534701524,
     "user": {
      "displayName": "Thammakorn SAETHANG",
      "userId": "08182570455347153646"
     },
     "user_tz": -420
    },
    "id": "77fed6cd-a497-4306-a764-5a5f92ad1543",
    "outputId": "55f199e8-5c96-4c33-d26b-0b66b4a618ee",
    "ExecuteTime": {
     "end_time": "2025-02-15T08:27:08.063611Z",
     "start_time": "2025-02-15T08:27:08.055091Z"
    }
   },
   "source": [
    "pd.get_dummies(df_g1_remOut[['district']], drop_first=True, dtype=int)"
   ],
   "outputs": [
    {
     "data": {
      "text/plain": [
       "      district_DT2  district_DT3  district_DT4\n",
       "14               1             0             0\n",
       "19               0             0             0\n",
       "23               0             0             1\n",
       "29               0             0             0\n",
       "30               0             0             0\n",
       "...            ...           ...           ...\n",
       "1291             0             0             0\n",
       "1301             0             1             0\n",
       "1308             0             0             0\n",
       "1313             0             0             0\n",
       "1323             1             0             0\n",
       "\n",
       "[138 rows x 3 columns]"
      ],
      "text/html": [
       "<div>\n",
       "<style scoped>\n",
       "    .dataframe tbody tr th:only-of-type {\n",
       "        vertical-align: middle;\n",
       "    }\n",
       "\n",
       "    .dataframe tbody tr th {\n",
       "        vertical-align: top;\n",
       "    }\n",
       "\n",
       "    .dataframe thead th {\n",
       "        text-align: right;\n",
       "    }\n",
       "</style>\n",
       "<table border=\"1\" class=\"dataframe\">\n",
       "  <thead>\n",
       "    <tr style=\"text-align: right;\">\n",
       "      <th></th>\n",
       "      <th>district_DT2</th>\n",
       "      <th>district_DT3</th>\n",
       "      <th>district_DT4</th>\n",
       "    </tr>\n",
       "  </thead>\n",
       "  <tbody>\n",
       "    <tr>\n",
       "      <th>14</th>\n",
       "      <td>1</td>\n",
       "      <td>0</td>\n",
       "      <td>0</td>\n",
       "    </tr>\n",
       "    <tr>\n",
       "      <th>19</th>\n",
       "      <td>0</td>\n",
       "      <td>0</td>\n",
       "      <td>0</td>\n",
       "    </tr>\n",
       "    <tr>\n",
       "      <th>23</th>\n",
       "      <td>0</td>\n",
       "      <td>0</td>\n",
       "      <td>1</td>\n",
       "    </tr>\n",
       "    <tr>\n",
       "      <th>29</th>\n",
       "      <td>0</td>\n",
       "      <td>0</td>\n",
       "      <td>0</td>\n",
       "    </tr>\n",
       "    <tr>\n",
       "      <th>30</th>\n",
       "      <td>0</td>\n",
       "      <td>0</td>\n",
       "      <td>0</td>\n",
       "    </tr>\n",
       "    <tr>\n",
       "      <th>...</th>\n",
       "      <td>...</td>\n",
       "      <td>...</td>\n",
       "      <td>...</td>\n",
       "    </tr>\n",
       "    <tr>\n",
       "      <th>1291</th>\n",
       "      <td>0</td>\n",
       "      <td>0</td>\n",
       "      <td>0</td>\n",
       "    </tr>\n",
       "    <tr>\n",
       "      <th>1301</th>\n",
       "      <td>0</td>\n",
       "      <td>1</td>\n",
       "      <td>0</td>\n",
       "    </tr>\n",
       "    <tr>\n",
       "      <th>1308</th>\n",
       "      <td>0</td>\n",
       "      <td>0</td>\n",
       "      <td>0</td>\n",
       "    </tr>\n",
       "    <tr>\n",
       "      <th>1313</th>\n",
       "      <td>0</td>\n",
       "      <td>0</td>\n",
       "      <td>0</td>\n",
       "    </tr>\n",
       "    <tr>\n",
       "      <th>1323</th>\n",
       "      <td>1</td>\n",
       "      <td>0</td>\n",
       "      <td>0</td>\n",
       "    </tr>\n",
       "  </tbody>\n",
       "</table>\n",
       "<p>138 rows × 3 columns</p>\n",
       "</div>"
      ]
     },
     "execution_count": 14,
     "metadata": {},
     "output_type": "execute_result"
    }
   ],
   "execution_count": 14
  },
  {
   "cell_type": "markdown",
   "id": "43c657a8-fe0a-4b18-9624-493c5fb2618f",
   "metadata": {
    "id": "43c657a8-fe0a-4b18-9624-493c5fb2618f"
   },
   "source": [
    "&nbsp;  \n",
    "Create feature data (X)"
   ]
  },
  {
   "cell_type": "code",
   "id": "ed04ad5a-bb8b-4df8-813c-f457020228cc",
   "metadata": {
    "colab": {
     "base_uri": "https://localhost:8080/",
     "height": 423
    },
    "executionInfo": {
     "elapsed": 373,
     "status": "ok",
     "timestamp": 1739534713442,
     "user": {
      "displayName": "Thammakorn SAETHANG",
      "userId": "08182570455347153646"
     },
     "user_tz": -420
    },
    "id": "ed04ad5a-bb8b-4df8-813c-f457020228cc",
    "outputId": "c7847605-4c82-4376-a87b-98dcf42acd69",
    "ExecuteTime": {
     "end_time": "2025-02-15T08:40:27.531532Z",
     "start_time": "2025-02-15T08:40:27.516750Z"
    }
   },
   "source": [
    "X = pd.concat([df_g1_remOut[['age','bmi']],\n",
    "               pd.get_dummies(df_g1_remOut[['sex']], drop_first=True, dtype=int),\n",
    "               pd.get_dummies(df_g1_remOut[['district']], drop_first=True, dtype=int)],\n",
    "              axis=1)\n",
    "X"
   ],
   "outputs": [
    {
     "data": {
      "text/plain": [
       "      age     bmi  sex_male  district_DT2  district_DT3  district_DT4\n",
       "14     29  42.130         1             1             0             0\n",
       "19     32  35.300         1             0             0             0\n",
       "23     36  31.920         0             0             0             1\n",
       "29     33  36.300         1             0             0             0\n",
       "30     24  35.600         1             0             0             0\n",
       "...   ...     ...       ...           ...           ...           ...\n",
       "1291   21  34.900         1             0             0             0\n",
       "1301   64  30.875         1             0             1             0\n",
       "1308   27  30.200         0             0             0             0\n",
       "1313   21  34.700         0             0             0             0\n",
       "1323   44  40.370         0             1             0             0\n",
       "\n",
       "[138 rows x 6 columns]"
      ],
      "text/html": [
       "<div>\n",
       "<style scoped>\n",
       "    .dataframe tbody tr th:only-of-type {\n",
       "        vertical-align: middle;\n",
       "    }\n",
       "\n",
       "    .dataframe tbody tr th {\n",
       "        vertical-align: top;\n",
       "    }\n",
       "\n",
       "    .dataframe thead th {\n",
       "        text-align: right;\n",
       "    }\n",
       "</style>\n",
       "<table border=\"1\" class=\"dataframe\">\n",
       "  <thead>\n",
       "    <tr style=\"text-align: right;\">\n",
       "      <th></th>\n",
       "      <th>age</th>\n",
       "      <th>bmi</th>\n",
       "      <th>sex_male</th>\n",
       "      <th>district_DT2</th>\n",
       "      <th>district_DT3</th>\n",
       "      <th>district_DT4</th>\n",
       "    </tr>\n",
       "  </thead>\n",
       "  <tbody>\n",
       "    <tr>\n",
       "      <th>14</th>\n",
       "      <td>29</td>\n",
       "      <td>42.130</td>\n",
       "      <td>1</td>\n",
       "      <td>1</td>\n",
       "      <td>0</td>\n",
       "      <td>0</td>\n",
       "    </tr>\n",
       "    <tr>\n",
       "      <th>19</th>\n",
       "      <td>32</td>\n",
       "      <td>35.300</td>\n",
       "      <td>1</td>\n",
       "      <td>0</td>\n",
       "      <td>0</td>\n",
       "      <td>0</td>\n",
       "    </tr>\n",
       "    <tr>\n",
       "      <th>23</th>\n",
       "      <td>36</td>\n",
       "      <td>31.920</td>\n",
       "      <td>0</td>\n",
       "      <td>0</td>\n",
       "      <td>0</td>\n",
       "      <td>1</td>\n",
       "    </tr>\n",
       "    <tr>\n",
       "      <th>29</th>\n",
       "      <td>33</td>\n",
       "      <td>36.300</td>\n",
       "      <td>1</td>\n",
       "      <td>0</td>\n",
       "      <td>0</td>\n",
       "      <td>0</td>\n",
       "    </tr>\n",
       "    <tr>\n",
       "      <th>30</th>\n",
       "      <td>24</td>\n",
       "      <td>35.600</td>\n",
       "      <td>1</td>\n",
       "      <td>0</td>\n",
       "      <td>0</td>\n",
       "      <td>0</td>\n",
       "    </tr>\n",
       "    <tr>\n",
       "      <th>...</th>\n",
       "      <td>...</td>\n",
       "      <td>...</td>\n",
       "      <td>...</td>\n",
       "      <td>...</td>\n",
       "      <td>...</td>\n",
       "      <td>...</td>\n",
       "    </tr>\n",
       "    <tr>\n",
       "      <th>1291</th>\n",
       "      <td>21</td>\n",
       "      <td>34.900</td>\n",
       "      <td>1</td>\n",
       "      <td>0</td>\n",
       "      <td>0</td>\n",
       "      <td>0</td>\n",
       "    </tr>\n",
       "    <tr>\n",
       "      <th>1301</th>\n",
       "      <td>64</td>\n",
       "      <td>30.875</td>\n",
       "      <td>1</td>\n",
       "      <td>0</td>\n",
       "      <td>1</td>\n",
       "      <td>0</td>\n",
       "    </tr>\n",
       "    <tr>\n",
       "      <th>1308</th>\n",
       "      <td>27</td>\n",
       "      <td>30.200</td>\n",
       "      <td>0</td>\n",
       "      <td>0</td>\n",
       "      <td>0</td>\n",
       "      <td>0</td>\n",
       "    </tr>\n",
       "    <tr>\n",
       "      <th>1313</th>\n",
       "      <td>21</td>\n",
       "      <td>34.700</td>\n",
       "      <td>0</td>\n",
       "      <td>0</td>\n",
       "      <td>0</td>\n",
       "      <td>0</td>\n",
       "    </tr>\n",
       "    <tr>\n",
       "      <th>1323</th>\n",
       "      <td>44</td>\n",
       "      <td>40.370</td>\n",
       "      <td>0</td>\n",
       "      <td>1</td>\n",
       "      <td>0</td>\n",
       "      <td>0</td>\n",
       "    </tr>\n",
       "  </tbody>\n",
       "</table>\n",
       "<p>138 rows × 6 columns</p>\n",
       "</div>"
      ]
     },
     "execution_count": 68,
     "metadata": {},
     "output_type": "execute_result"
    }
   ],
   "execution_count": 68
  },
  {
   "cell_type": "markdown",
   "id": "e2ad9192-8194-476e-878f-6548a9c65f8d",
   "metadata": {
    "id": "e2ad9192-8194-476e-878f-6548a9c65f8d"
   },
   "source": [
    "&nbsp;  \n",
    "Create outcome data (y)"
   ]
  },
  {
   "cell_type": "code",
   "id": "2186c520-bf0b-49b5-8371-52e37b742bf4",
   "metadata": {
    "colab": {
     "base_uri": "https://localhost:8080/",
     "height": 423
    },
    "executionInfo": {
     "elapsed": 306,
     "status": "ok",
     "timestamp": 1739534721522,
     "user": {
      "displayName": "Thammakorn SAETHANG",
      "userId": "08182570455347153646"
     },
     "user_tz": -420
    },
    "id": "2186c520-bf0b-49b5-8371-52e37b742bf4",
    "outputId": "fc09f7e3-daa6-426e-b606-3c97d9260b10",
    "ExecuteTime": {
     "end_time": "2025-02-15T08:27:08.487247Z",
     "start_time": "2025-02-15T08:27:08.479063Z"
    }
   },
   "source": [
    "y = df_g1_remOut.filter(['healthcare_cost'])\n",
    "y"
   ],
   "outputs": [
    {
     "data": {
      "text/plain": [
       "      healthcare_cost\n",
       "14        39611.75770\n",
       "19        36837.46700\n",
       "23        37701.87680\n",
       "29        38711.00000\n",
       "30        35585.57600\n",
       "...               ...\n",
       "1291      34828.65400\n",
       "1301      46718.16325\n",
       "1308      33900.65300\n",
       "1313      36397.57600\n",
       "1323      43896.37630\n",
       "\n",
       "[138 rows x 1 columns]"
      ],
      "text/html": [
       "<div>\n",
       "<style scoped>\n",
       "    .dataframe tbody tr th:only-of-type {\n",
       "        vertical-align: middle;\n",
       "    }\n",
       "\n",
       "    .dataframe tbody tr th {\n",
       "        vertical-align: top;\n",
       "    }\n",
       "\n",
       "    .dataframe thead th {\n",
       "        text-align: right;\n",
       "    }\n",
       "</style>\n",
       "<table border=\"1\" class=\"dataframe\">\n",
       "  <thead>\n",
       "    <tr style=\"text-align: right;\">\n",
       "      <th></th>\n",
       "      <th>healthcare_cost</th>\n",
       "    </tr>\n",
       "  </thead>\n",
       "  <tbody>\n",
       "    <tr>\n",
       "      <th>14</th>\n",
       "      <td>39611.75770</td>\n",
       "    </tr>\n",
       "    <tr>\n",
       "      <th>19</th>\n",
       "      <td>36837.46700</td>\n",
       "    </tr>\n",
       "    <tr>\n",
       "      <th>23</th>\n",
       "      <td>37701.87680</td>\n",
       "    </tr>\n",
       "    <tr>\n",
       "      <th>29</th>\n",
       "      <td>38711.00000</td>\n",
       "    </tr>\n",
       "    <tr>\n",
       "      <th>30</th>\n",
       "      <td>35585.57600</td>\n",
       "    </tr>\n",
       "    <tr>\n",
       "      <th>...</th>\n",
       "      <td>...</td>\n",
       "    </tr>\n",
       "    <tr>\n",
       "      <th>1291</th>\n",
       "      <td>34828.65400</td>\n",
       "    </tr>\n",
       "    <tr>\n",
       "      <th>1301</th>\n",
       "      <td>46718.16325</td>\n",
       "    </tr>\n",
       "    <tr>\n",
       "      <th>1308</th>\n",
       "      <td>33900.65300</td>\n",
       "    </tr>\n",
       "    <tr>\n",
       "      <th>1313</th>\n",
       "      <td>36397.57600</td>\n",
       "    </tr>\n",
       "    <tr>\n",
       "      <th>1323</th>\n",
       "      <td>43896.37630</td>\n",
       "    </tr>\n",
       "  </tbody>\n",
       "</table>\n",
       "<p>138 rows × 1 columns</p>\n",
       "</div>"
      ]
     },
     "execution_count": 16,
     "metadata": {},
     "output_type": "execute_result"
    }
   ],
   "execution_count": 16
  },
  {
   "cell_type": "markdown",
   "id": "45bd4ab0-8972-46f7-aacf-4b4379c2a81f",
   "metadata": {
    "id": "45bd4ab0-8972-46f7-aacf-4b4379c2a81f"
   },
   "source": [
    "&nbsp;  \n",
    "#### <font color=\"color:blue\">**Create linear regression model**</span>"
   ]
  },
  {
   "cell_type": "code",
   "id": "b576825a-758d-4487-b827-84cd9f29d2e9",
   "metadata": {
    "colab": {
     "base_uri": "https://localhost:8080/",
     "height": 80
    },
    "executionInfo": {
     "elapsed": 327,
     "status": "ok",
     "timestamp": 1739534725293,
     "user": {
      "displayName": "Thammakorn SAETHANG",
      "userId": "08182570455347153646"
     },
     "user_tz": -420
    },
    "id": "b576825a-758d-4487-b827-84cd9f29d2e9",
    "outputId": "28e7cc87-64c6-42a5-edef-00bd6a7b1c31",
    "ExecuteTime": {
     "end_time": "2025-02-15T08:27:08.750080Z",
     "start_time": "2025-02-15T08:27:08.742102Z"
    }
   },
   "source": [
    "model = lr(fit_intercept=True)\n",
    "model.fit(X, y)"
   ],
   "outputs": [
    {
     "data": {
      "text/plain": [
       "LinearRegression()"
      ],
      "text/html": [
       "<style>#sk-container-id-2 {\n",
       "  /* Definition of color scheme common for light and dark mode */\n",
       "  --sklearn-color-text: #000;\n",
       "  --sklearn-color-text-muted: #666;\n",
       "  --sklearn-color-line: gray;\n",
       "  /* Definition of color scheme for unfitted estimators */\n",
       "  --sklearn-color-unfitted-level-0: #fff5e6;\n",
       "  --sklearn-color-unfitted-level-1: #f6e4d2;\n",
       "  --sklearn-color-unfitted-level-2: #ffe0b3;\n",
       "  --sklearn-color-unfitted-level-3: chocolate;\n",
       "  /* Definition of color scheme for fitted estimators */\n",
       "  --sklearn-color-fitted-level-0: #f0f8ff;\n",
       "  --sklearn-color-fitted-level-1: #d4ebff;\n",
       "  --sklearn-color-fitted-level-2: #b3dbfd;\n",
       "  --sklearn-color-fitted-level-3: cornflowerblue;\n",
       "\n",
       "  /* Specific color for light theme */\n",
       "  --sklearn-color-text-on-default-background: var(--sg-text-color, var(--theme-code-foreground, var(--jp-content-font-color1, black)));\n",
       "  --sklearn-color-background: var(--sg-background-color, var(--theme-background, var(--jp-layout-color0, white)));\n",
       "  --sklearn-color-border-box: var(--sg-text-color, var(--theme-code-foreground, var(--jp-content-font-color1, black)));\n",
       "  --sklearn-color-icon: #696969;\n",
       "\n",
       "  @media (prefers-color-scheme: dark) {\n",
       "    /* Redefinition of color scheme for dark theme */\n",
       "    --sklearn-color-text-on-default-background: var(--sg-text-color, var(--theme-code-foreground, var(--jp-content-font-color1, white)));\n",
       "    --sklearn-color-background: var(--sg-background-color, var(--theme-background, var(--jp-layout-color0, #111)));\n",
       "    --sklearn-color-border-box: var(--sg-text-color, var(--theme-code-foreground, var(--jp-content-font-color1, white)));\n",
       "    --sklearn-color-icon: #878787;\n",
       "  }\n",
       "}\n",
       "\n",
       "#sk-container-id-2 {\n",
       "  color: var(--sklearn-color-text);\n",
       "}\n",
       "\n",
       "#sk-container-id-2 pre {\n",
       "  padding: 0;\n",
       "}\n",
       "\n",
       "#sk-container-id-2 input.sk-hidden--visually {\n",
       "  border: 0;\n",
       "  clip: rect(1px 1px 1px 1px);\n",
       "  clip: rect(1px, 1px, 1px, 1px);\n",
       "  height: 1px;\n",
       "  margin: -1px;\n",
       "  overflow: hidden;\n",
       "  padding: 0;\n",
       "  position: absolute;\n",
       "  width: 1px;\n",
       "}\n",
       "\n",
       "#sk-container-id-2 div.sk-dashed-wrapped {\n",
       "  border: 1px dashed var(--sklearn-color-line);\n",
       "  margin: 0 0.4em 0.5em 0.4em;\n",
       "  box-sizing: border-box;\n",
       "  padding-bottom: 0.4em;\n",
       "  background-color: var(--sklearn-color-background);\n",
       "}\n",
       "\n",
       "#sk-container-id-2 div.sk-container {\n",
       "  /* jupyter's `normalize.less` sets `[hidden] { display: none; }`\n",
       "     but bootstrap.min.css set `[hidden] { display: none !important; }`\n",
       "     so we also need the `!important` here to be able to override the\n",
       "     default hidden behavior on the sphinx rendered scikit-learn.org.\n",
       "     See: https://github.com/scikit-learn/scikit-learn/issues/21755 */\n",
       "  display: inline-block !important;\n",
       "  position: relative;\n",
       "}\n",
       "\n",
       "#sk-container-id-2 div.sk-text-repr-fallback {\n",
       "  display: none;\n",
       "}\n",
       "\n",
       "div.sk-parallel-item,\n",
       "div.sk-serial,\n",
       "div.sk-item {\n",
       "  /* draw centered vertical line to link estimators */\n",
       "  background-image: linear-gradient(var(--sklearn-color-text-on-default-background), var(--sklearn-color-text-on-default-background));\n",
       "  background-size: 2px 100%;\n",
       "  background-repeat: no-repeat;\n",
       "  background-position: center center;\n",
       "}\n",
       "\n",
       "/* Parallel-specific style estimator block */\n",
       "\n",
       "#sk-container-id-2 div.sk-parallel-item::after {\n",
       "  content: \"\";\n",
       "  width: 100%;\n",
       "  border-bottom: 2px solid var(--sklearn-color-text-on-default-background);\n",
       "  flex-grow: 1;\n",
       "}\n",
       "\n",
       "#sk-container-id-2 div.sk-parallel {\n",
       "  display: flex;\n",
       "  align-items: stretch;\n",
       "  justify-content: center;\n",
       "  background-color: var(--sklearn-color-background);\n",
       "  position: relative;\n",
       "}\n",
       "\n",
       "#sk-container-id-2 div.sk-parallel-item {\n",
       "  display: flex;\n",
       "  flex-direction: column;\n",
       "}\n",
       "\n",
       "#sk-container-id-2 div.sk-parallel-item:first-child::after {\n",
       "  align-self: flex-end;\n",
       "  width: 50%;\n",
       "}\n",
       "\n",
       "#sk-container-id-2 div.sk-parallel-item:last-child::after {\n",
       "  align-self: flex-start;\n",
       "  width: 50%;\n",
       "}\n",
       "\n",
       "#sk-container-id-2 div.sk-parallel-item:only-child::after {\n",
       "  width: 0;\n",
       "}\n",
       "\n",
       "/* Serial-specific style estimator block */\n",
       "\n",
       "#sk-container-id-2 div.sk-serial {\n",
       "  display: flex;\n",
       "  flex-direction: column;\n",
       "  align-items: center;\n",
       "  background-color: var(--sklearn-color-background);\n",
       "  padding-right: 1em;\n",
       "  padding-left: 1em;\n",
       "}\n",
       "\n",
       "\n",
       "/* Toggleable style: style used for estimator/Pipeline/ColumnTransformer box that is\n",
       "clickable and can be expanded/collapsed.\n",
       "- Pipeline and ColumnTransformer use this feature and define the default style\n",
       "- Estimators will overwrite some part of the style using the `sk-estimator` class\n",
       "*/\n",
       "\n",
       "/* Pipeline and ColumnTransformer style (default) */\n",
       "\n",
       "#sk-container-id-2 div.sk-toggleable {\n",
       "  /* Default theme specific background. It is overwritten whether we have a\n",
       "  specific estimator or a Pipeline/ColumnTransformer */\n",
       "  background-color: var(--sklearn-color-background);\n",
       "}\n",
       "\n",
       "/* Toggleable label */\n",
       "#sk-container-id-2 label.sk-toggleable__label {\n",
       "  cursor: pointer;\n",
       "  display: flex;\n",
       "  width: 100%;\n",
       "  margin-bottom: 0;\n",
       "  padding: 0.5em;\n",
       "  box-sizing: border-box;\n",
       "  text-align: center;\n",
       "  align-items: start;\n",
       "  justify-content: space-between;\n",
       "  gap: 0.5em;\n",
       "}\n",
       "\n",
       "#sk-container-id-2 label.sk-toggleable__label .caption {\n",
       "  font-size: 0.6rem;\n",
       "  font-weight: lighter;\n",
       "  color: var(--sklearn-color-text-muted);\n",
       "}\n",
       "\n",
       "#sk-container-id-2 label.sk-toggleable__label-arrow:before {\n",
       "  /* Arrow on the left of the label */\n",
       "  content: \"▸\";\n",
       "  float: left;\n",
       "  margin-right: 0.25em;\n",
       "  color: var(--sklearn-color-icon);\n",
       "}\n",
       "\n",
       "#sk-container-id-2 label.sk-toggleable__label-arrow:hover:before {\n",
       "  color: var(--sklearn-color-text);\n",
       "}\n",
       "\n",
       "/* Toggleable content - dropdown */\n",
       "\n",
       "#sk-container-id-2 div.sk-toggleable__content {\n",
       "  max-height: 0;\n",
       "  max-width: 0;\n",
       "  overflow: hidden;\n",
       "  text-align: left;\n",
       "  /* unfitted */\n",
       "  background-color: var(--sklearn-color-unfitted-level-0);\n",
       "}\n",
       "\n",
       "#sk-container-id-2 div.sk-toggleable__content.fitted {\n",
       "  /* fitted */\n",
       "  background-color: var(--sklearn-color-fitted-level-0);\n",
       "}\n",
       "\n",
       "#sk-container-id-2 div.sk-toggleable__content pre {\n",
       "  margin: 0.2em;\n",
       "  border-radius: 0.25em;\n",
       "  color: var(--sklearn-color-text);\n",
       "  /* unfitted */\n",
       "  background-color: var(--sklearn-color-unfitted-level-0);\n",
       "}\n",
       "\n",
       "#sk-container-id-2 div.sk-toggleable__content.fitted pre {\n",
       "  /* unfitted */\n",
       "  background-color: var(--sklearn-color-fitted-level-0);\n",
       "}\n",
       "\n",
       "#sk-container-id-2 input.sk-toggleable__control:checked~div.sk-toggleable__content {\n",
       "  /* Expand drop-down */\n",
       "  max-height: 200px;\n",
       "  max-width: 100%;\n",
       "  overflow: auto;\n",
       "}\n",
       "\n",
       "#sk-container-id-2 input.sk-toggleable__control:checked~label.sk-toggleable__label-arrow:before {\n",
       "  content: \"▾\";\n",
       "}\n",
       "\n",
       "/* Pipeline/ColumnTransformer-specific style */\n",
       "\n",
       "#sk-container-id-2 div.sk-label input.sk-toggleable__control:checked~label.sk-toggleable__label {\n",
       "  color: var(--sklearn-color-text);\n",
       "  background-color: var(--sklearn-color-unfitted-level-2);\n",
       "}\n",
       "\n",
       "#sk-container-id-2 div.sk-label.fitted input.sk-toggleable__control:checked~label.sk-toggleable__label {\n",
       "  background-color: var(--sklearn-color-fitted-level-2);\n",
       "}\n",
       "\n",
       "/* Estimator-specific style */\n",
       "\n",
       "/* Colorize estimator box */\n",
       "#sk-container-id-2 div.sk-estimator input.sk-toggleable__control:checked~label.sk-toggleable__label {\n",
       "  /* unfitted */\n",
       "  background-color: var(--sklearn-color-unfitted-level-2);\n",
       "}\n",
       "\n",
       "#sk-container-id-2 div.sk-estimator.fitted input.sk-toggleable__control:checked~label.sk-toggleable__label {\n",
       "  /* fitted */\n",
       "  background-color: var(--sklearn-color-fitted-level-2);\n",
       "}\n",
       "\n",
       "#sk-container-id-2 div.sk-label label.sk-toggleable__label,\n",
       "#sk-container-id-2 div.sk-label label {\n",
       "  /* The background is the default theme color */\n",
       "  color: var(--sklearn-color-text-on-default-background);\n",
       "}\n",
       "\n",
       "/* On hover, darken the color of the background */\n",
       "#sk-container-id-2 div.sk-label:hover label.sk-toggleable__label {\n",
       "  color: var(--sklearn-color-text);\n",
       "  background-color: var(--sklearn-color-unfitted-level-2);\n",
       "}\n",
       "\n",
       "/* Label box, darken color on hover, fitted */\n",
       "#sk-container-id-2 div.sk-label.fitted:hover label.sk-toggleable__label.fitted {\n",
       "  color: var(--sklearn-color-text);\n",
       "  background-color: var(--sklearn-color-fitted-level-2);\n",
       "}\n",
       "\n",
       "/* Estimator label */\n",
       "\n",
       "#sk-container-id-2 div.sk-label label {\n",
       "  font-family: monospace;\n",
       "  font-weight: bold;\n",
       "  display: inline-block;\n",
       "  line-height: 1.2em;\n",
       "}\n",
       "\n",
       "#sk-container-id-2 div.sk-label-container {\n",
       "  text-align: center;\n",
       "}\n",
       "\n",
       "/* Estimator-specific */\n",
       "#sk-container-id-2 div.sk-estimator {\n",
       "  font-family: monospace;\n",
       "  border: 1px dotted var(--sklearn-color-border-box);\n",
       "  border-radius: 0.25em;\n",
       "  box-sizing: border-box;\n",
       "  margin-bottom: 0.5em;\n",
       "  /* unfitted */\n",
       "  background-color: var(--sklearn-color-unfitted-level-0);\n",
       "}\n",
       "\n",
       "#sk-container-id-2 div.sk-estimator.fitted {\n",
       "  /* fitted */\n",
       "  background-color: var(--sklearn-color-fitted-level-0);\n",
       "}\n",
       "\n",
       "/* on hover */\n",
       "#sk-container-id-2 div.sk-estimator:hover {\n",
       "  /* unfitted */\n",
       "  background-color: var(--sklearn-color-unfitted-level-2);\n",
       "}\n",
       "\n",
       "#sk-container-id-2 div.sk-estimator.fitted:hover {\n",
       "  /* fitted */\n",
       "  background-color: var(--sklearn-color-fitted-level-2);\n",
       "}\n",
       "\n",
       "/* Specification for estimator info (e.g. \"i\" and \"?\") */\n",
       "\n",
       "/* Common style for \"i\" and \"?\" */\n",
       "\n",
       ".sk-estimator-doc-link,\n",
       "a:link.sk-estimator-doc-link,\n",
       "a:visited.sk-estimator-doc-link {\n",
       "  float: right;\n",
       "  font-size: smaller;\n",
       "  line-height: 1em;\n",
       "  font-family: monospace;\n",
       "  background-color: var(--sklearn-color-background);\n",
       "  border-radius: 1em;\n",
       "  height: 1em;\n",
       "  width: 1em;\n",
       "  text-decoration: none !important;\n",
       "  margin-left: 0.5em;\n",
       "  text-align: center;\n",
       "  /* unfitted */\n",
       "  border: var(--sklearn-color-unfitted-level-1) 1pt solid;\n",
       "  color: var(--sklearn-color-unfitted-level-1);\n",
       "}\n",
       "\n",
       ".sk-estimator-doc-link.fitted,\n",
       "a:link.sk-estimator-doc-link.fitted,\n",
       "a:visited.sk-estimator-doc-link.fitted {\n",
       "  /* fitted */\n",
       "  border: var(--sklearn-color-fitted-level-1) 1pt solid;\n",
       "  color: var(--sklearn-color-fitted-level-1);\n",
       "}\n",
       "\n",
       "/* On hover */\n",
       "div.sk-estimator:hover .sk-estimator-doc-link:hover,\n",
       ".sk-estimator-doc-link:hover,\n",
       "div.sk-label-container:hover .sk-estimator-doc-link:hover,\n",
       ".sk-estimator-doc-link:hover {\n",
       "  /* unfitted */\n",
       "  background-color: var(--sklearn-color-unfitted-level-3);\n",
       "  color: var(--sklearn-color-background);\n",
       "  text-decoration: none;\n",
       "}\n",
       "\n",
       "div.sk-estimator.fitted:hover .sk-estimator-doc-link.fitted:hover,\n",
       ".sk-estimator-doc-link.fitted:hover,\n",
       "div.sk-label-container:hover .sk-estimator-doc-link.fitted:hover,\n",
       ".sk-estimator-doc-link.fitted:hover {\n",
       "  /* fitted */\n",
       "  background-color: var(--sklearn-color-fitted-level-3);\n",
       "  color: var(--sklearn-color-background);\n",
       "  text-decoration: none;\n",
       "}\n",
       "\n",
       "/* Span, style for the box shown on hovering the info icon */\n",
       ".sk-estimator-doc-link span {\n",
       "  display: none;\n",
       "  z-index: 9999;\n",
       "  position: relative;\n",
       "  font-weight: normal;\n",
       "  right: .2ex;\n",
       "  padding: .5ex;\n",
       "  margin: .5ex;\n",
       "  width: min-content;\n",
       "  min-width: 20ex;\n",
       "  max-width: 50ex;\n",
       "  color: var(--sklearn-color-text);\n",
       "  box-shadow: 2pt 2pt 4pt #999;\n",
       "  /* unfitted */\n",
       "  background: var(--sklearn-color-unfitted-level-0);\n",
       "  border: .5pt solid var(--sklearn-color-unfitted-level-3);\n",
       "}\n",
       "\n",
       ".sk-estimator-doc-link.fitted span {\n",
       "  /* fitted */\n",
       "  background: var(--sklearn-color-fitted-level-0);\n",
       "  border: var(--sklearn-color-fitted-level-3);\n",
       "}\n",
       "\n",
       ".sk-estimator-doc-link:hover span {\n",
       "  display: block;\n",
       "}\n",
       "\n",
       "/* \"?\"-specific style due to the `<a>` HTML tag */\n",
       "\n",
       "#sk-container-id-2 a.estimator_doc_link {\n",
       "  float: right;\n",
       "  font-size: 1rem;\n",
       "  line-height: 1em;\n",
       "  font-family: monospace;\n",
       "  background-color: var(--sklearn-color-background);\n",
       "  border-radius: 1rem;\n",
       "  height: 1rem;\n",
       "  width: 1rem;\n",
       "  text-decoration: none;\n",
       "  /* unfitted */\n",
       "  color: var(--sklearn-color-unfitted-level-1);\n",
       "  border: var(--sklearn-color-unfitted-level-1) 1pt solid;\n",
       "}\n",
       "\n",
       "#sk-container-id-2 a.estimator_doc_link.fitted {\n",
       "  /* fitted */\n",
       "  border: var(--sklearn-color-fitted-level-1) 1pt solid;\n",
       "  color: var(--sklearn-color-fitted-level-1);\n",
       "}\n",
       "\n",
       "/* On hover */\n",
       "#sk-container-id-2 a.estimator_doc_link:hover {\n",
       "  /* unfitted */\n",
       "  background-color: var(--sklearn-color-unfitted-level-3);\n",
       "  color: var(--sklearn-color-background);\n",
       "  text-decoration: none;\n",
       "}\n",
       "\n",
       "#sk-container-id-2 a.estimator_doc_link.fitted:hover {\n",
       "  /* fitted */\n",
       "  background-color: var(--sklearn-color-fitted-level-3);\n",
       "}\n",
       "</style><div id=\"sk-container-id-2\" class=\"sk-top-container\"><div class=\"sk-text-repr-fallback\"><pre>LinearRegression()</pre><b>In a Jupyter environment, please rerun this cell to show the HTML representation or trust the notebook. <br />On GitHub, the HTML representation is unable to render, please try loading this page with nbviewer.org.</b></div><div class=\"sk-container\" hidden><div class=\"sk-item\"><div class=\"sk-estimator fitted sk-toggleable\"><input class=\"sk-toggleable__control sk-hidden--visually\" id=\"sk-estimator-id-2\" type=\"checkbox\" checked><label for=\"sk-estimator-id-2\" class=\"sk-toggleable__label fitted sk-toggleable__label-arrow\"><div><div>LinearRegression</div></div><div><a class=\"sk-estimator-doc-link fitted\" rel=\"noreferrer\" target=\"_blank\" href=\"https://scikit-learn.org/1.6/modules/generated/sklearn.linear_model.LinearRegression.html\">?<span>Documentation for LinearRegression</span></a><span class=\"sk-estimator-doc-link fitted\">i<span>Fitted</span></span></div></label><div class=\"sk-toggleable__content fitted\"><pre>LinearRegression()</pre></div> </div></div></div></div>"
      ]
     },
     "execution_count": 17,
     "metadata": {},
     "output_type": "execute_result"
    }
   ],
   "execution_count": 17
  },
  {
   "cell_type": "markdown",
   "id": "7ae1a47d-c0da-41c9-9300-d0c589104bab",
   "metadata": {
    "id": "7ae1a47d-c0da-41c9-9300-d0c589104bab",
    "tags": []
   },
   "source": [
    "&nbsp;  \n",
    "#### <font color=\"color:blue\">**Perform prediction**</span>"
   ]
  },
  {
   "cell_type": "code",
   "id": "99c35ca0-3022-4f21-9883-35de310a3553",
   "metadata": {
    "executionInfo": {
     "elapsed": 325,
     "status": "ok",
     "timestamp": 1739534728076,
     "user": {
      "displayName": "Thammakorn SAETHANG",
      "userId": "08182570455347153646"
     },
     "user_tz": -420
    },
    "id": "99c35ca0-3022-4f21-9883-35de310a3553",
    "ExecuteTime": {
     "end_time": "2025-02-15T08:27:09.036160Z",
     "start_time": "2025-02-15T08:27:09.031825Z"
    }
   },
   "source": [
    "y_pred = model.predict(X)"
   ],
   "outputs": [],
   "execution_count": 18
  },
  {
   "cell_type": "markdown",
   "id": "ef5b6e93-ecde-44a7-95fa-0c289b0ad5af",
   "metadata": {
    "id": "ef5b6e93-ecde-44a7-95fa-0c289b0ad5af"
   },
   "source": [
    "&nbsp;  \n",
    "#### <font color=\"color:blue\">**Get coefficients & intercept**</span>"
   ]
  },
  {
   "cell_type": "code",
   "id": "56bf4ec9-148e-4e5f-8bbf-20136b16da50",
   "metadata": {
    "colab": {
     "base_uri": "https://localhost:8080/"
    },
    "executionInfo": {
     "elapsed": 291,
     "status": "ok",
     "timestamp": 1739534730308,
     "user": {
      "displayName": "Thammakorn SAETHANG",
      "userId": "08182570455347153646"
     },
     "user_tz": -420
    },
    "id": "56bf4ec9-148e-4e5f-8bbf-20136b16da50",
    "outputId": "b50867c9-debd-4b19-8c5e-004fb1dc77d5",
    "ExecuteTime": {
     "end_time": "2025-02-15T08:27:09.264835Z",
     "start_time": "2025-02-15T08:27:09.259762Z"
    }
   },
   "source": [
    "# Beta#1, Beta#2, Beta#3, Beta#4, Beta#5, Beta#6\n",
    "print(\"coefficients:\", model.coef_)\n",
    "print(\"Intercept:\", model.intercept_)"
   ],
   "outputs": [
    {
     "name": "stdout",
     "output_type": "stream",
     "text": [
      "coefficients: [[ 271.16550934  499.45781997 -329.70167015 -812.07271419  281.56984401\n",
      "  -399.25346057]]\n",
      "Intercept: [12779.54390273]\n"
     ]
    }
   ],
   "execution_count": 19
  },
  {
   "cell_type": "markdown",
   "id": "c90fbef5-0099-40e9-b2c8-7681d57177d9",
   "metadata": {
    "id": "c90fbef5-0099-40e9-b2c8-7681d57177d9",
    "tags": []
   },
   "source": [
    "&nbsp;  \n",
    "#### <font color=\"color:blue\">**Evaluate model performance**</span>"
   ]
  },
  {
   "cell_type": "code",
   "id": "11adf67a-e246-4723-9436-228581522fb1",
   "metadata": {
    "colab": {
     "base_uri": "https://localhost:8080/"
    },
    "executionInfo": {
     "elapsed": 305,
     "status": "ok",
     "timestamp": 1739534933654,
     "user": {
      "displayName": "Thammakorn SAETHANG",
      "userId": "08182570455347153646"
     },
     "user_tz": -420
    },
    "id": "11adf67a-e246-4723-9436-228581522fb1",
    "outputId": "151a41ef-4e03-40e9-c56e-d056a6f472ea",
    "ExecuteTime": {
     "end_time": "2025-02-15T08:27:09.401512Z",
     "start_time": "2025-02-15T08:27:09.393431Z"
    }
   },
   "source": [
    "print('MAE:', metrics.mean_absolute_error(y, y_pred))\n",
    "print('MSE:', metrics.mean_squared_error(y, y_pred))\n",
    "print('RMSE:', np.sqrt(metrics.mean_squared_error(y, y_pred)))\n",
    "print('R2:', metrics.r2_score(y, y_pred))"
   ],
   "outputs": [
    {
     "name": "stdout",
     "output_type": "stream",
     "text": [
      "MAE: 977.380473598039\n",
      "MSE: 2962478.6803059964\n",
      "RMSE: 1721.1852544993512\n",
      "R2: 0.8637413550824384\n"
     ]
    }
   ],
   "execution_count": 20
  },
  {
   "metadata": {},
   "cell_type": "markdown",
   "source": [
    "&nbsp;\n",
    "Alternative way to evaluate model is \"Feature Evaluation\""
   ],
   "id": "593f00050d1010f0"
  },
  {
   "cell_type": "markdown",
   "id": "2c607e40-fe70-4f0c-a491-e40d3816aa8d",
   "metadata": {
    "id": "2c607e40-fe70-4f0c-a491-e40d3816aa8d"
   },
   "source": [
    "&nbsp;  \n",
    "#### <font color=\"color:blue\">**Plot Actual vs. Predicted healthcare_cost**</span>"
   ]
  },
  {
   "cell_type": "code",
   "id": "183214cc-99cc-4b13-b783-1b70352e2dd0",
   "metadata": {
    "colab": {
     "base_uri": "https://localhost:8080/",
     "height": 702
    },
    "executionInfo": {
     "elapsed": 869,
     "status": "ok",
     "timestamp": 1739534945923,
     "user": {
      "displayName": "Thammakorn SAETHANG",
      "userId": "08182570455347153646"
     },
     "user_tz": -420
    },
    "id": "183214cc-99cc-4b13-b783-1b70352e2dd0",
    "outputId": "46cfc137-0f24-4d84-80ad-810063dbe341",
    "ExecuteTime": {
     "end_time": "2025-02-15T08:27:09.674962Z",
     "start_time": "2025-02-15T08:27:09.525741Z"
    }
   },
   "source": [
    "df_pred = pd.DataFrame({'obs': df_g1_remOut.healthcare_cost.values, 'predict': y_pred.reshape(1, -1)[0]})\n",
    "display(df_pred.head())\n",
    "\n",
    "fig, ax = plt.subplots(figsize=(5, 5))\n",
    "sns.scatterplot(data=df_pred,\n",
    "               x='predict',\n",
    "               y='obs',\n",
    "               ax=ax)\n",
    "plt.xticks(rotation=90)\n",
    "diag = np.linspace(min(df_pred.obs), max(df_pred.obs))\n",
    "plt.plot(diag,\n",
    "         diag,\n",
    "         color = 'r')\n",
    "\n",
    "#Show R2 score in the plot\n",
    "plt.text(47500, 35000, f\"R2={metrics.r2_score(y, y_pred):.2f}\", horizontalalignment='left', size='small', color='red')"
   ],
   "outputs": [
    {
     "data": {
      "text/plain": [
       "          obs       predict\n",
       "0  39611.7577  40543.727244\n",
       "1  36837.4670  38757.999576\n",
       "2  37701.8768  38084.942392\n",
       "3  38711.0000  39528.622906\n",
       "4  35585.5760  36738.512848"
      ],
      "text/html": [
       "<div>\n",
       "<style scoped>\n",
       "    .dataframe tbody tr th:only-of-type {\n",
       "        vertical-align: middle;\n",
       "    }\n",
       "\n",
       "    .dataframe tbody tr th {\n",
       "        vertical-align: top;\n",
       "    }\n",
       "\n",
       "    .dataframe thead th {\n",
       "        text-align: right;\n",
       "    }\n",
       "</style>\n",
       "<table border=\"1\" class=\"dataframe\">\n",
       "  <thead>\n",
       "    <tr style=\"text-align: right;\">\n",
       "      <th></th>\n",
       "      <th>obs</th>\n",
       "      <th>predict</th>\n",
       "    </tr>\n",
       "  </thead>\n",
       "  <tbody>\n",
       "    <tr>\n",
       "      <th>0</th>\n",
       "      <td>39611.7577</td>\n",
       "      <td>40543.727244</td>\n",
       "    </tr>\n",
       "    <tr>\n",
       "      <th>1</th>\n",
       "      <td>36837.4670</td>\n",
       "      <td>38757.999576</td>\n",
       "    </tr>\n",
       "    <tr>\n",
       "      <th>2</th>\n",
       "      <td>37701.8768</td>\n",
       "      <td>38084.942392</td>\n",
       "    </tr>\n",
       "    <tr>\n",
       "      <th>3</th>\n",
       "      <td>38711.0000</td>\n",
       "      <td>39528.622906</td>\n",
       "    </tr>\n",
       "    <tr>\n",
       "      <th>4</th>\n",
       "      <td>35585.5760</td>\n",
       "      <td>36738.512848</td>\n",
       "    </tr>\n",
       "  </tbody>\n",
       "</table>\n",
       "</div>"
      ]
     },
     "metadata": {},
     "output_type": "display_data"
    },
    {
     "data": {
      "text/plain": [
       "Text(47500, 35000, 'R2=0.86')"
      ]
     },
     "execution_count": 21,
     "metadata": {},
     "output_type": "execute_result"
    },
    {
     "data": {
      "text/plain": [
       "<Figure size 500x500 with 1 Axes>"
      ],
      "image/png": "[encoded data removed]"
     },
     "metadata": {},
     "output_type": "display_data"
    }
   ],
   "execution_count": 21
  },
  {
   "cell_type": "markdown",
   "id": "d266c21e-3c5e-41b4-b88a-4a4ffd3a7c63",
   "metadata": {
    "id": "d266c21e-3c5e-41b4-b88a-4a4ffd3a7c63"
   },
   "source": [
    "&nbsp;  \n",
    "#### <font color=\"color:blue\">**Find p-values of coefficients using statmodels**</span>"
   ]
  },
  {
   "metadata": {
    "ExecuteTime": {
     "end_time": "2025-02-15T08:58:55.086238Z",
     "start_time": "2025-02-15T08:58:55.074649Z"
    }
   },
   "cell_type": "code",
   "source": "X",
   "id": "c242c9032e09f05d",
   "outputs": [
    {
     "data": {
      "text/plain": [
       "      age     bmi  sex_male  district_DT2  district_DT3  district_DT4\n",
       "14     29  42.130         1             1             0             0\n",
       "19     32  35.300         1             0             0             0\n",
       "23     36  31.920         0             0             0             1\n",
       "29     33  36.300         1             0             0             0\n",
       "30     24  35.600         1             0             0             0\n",
       "...   ...     ...       ...           ...           ...           ...\n",
       "1291   21  34.900         1             0             0             0\n",
       "1301   64  30.875         1             0             1             0\n",
       "1308   27  30.200         0             0             0             0\n",
       "1313   21  34.700         0             0             0             0\n",
       "1323   44  40.370         0             1             0             0\n",
       "\n",
       "[138 rows x 6 columns]"
      ],
      "text/html": [
       "<div>\n",
       "<style scoped>\n",
       "    .dataframe tbody tr th:only-of-type {\n",
       "        vertical-align: middle;\n",
       "    }\n",
       "\n",
       "    .dataframe tbody tr th {\n",
       "        vertical-align: top;\n",
       "    }\n",
       "\n",
       "    .dataframe thead th {\n",
       "        text-align: right;\n",
       "    }\n",
       "</style>\n",
       "<table border=\"1\" class=\"dataframe\">\n",
       "  <thead>\n",
       "    <tr style=\"text-align: right;\">\n",
       "      <th></th>\n",
       "      <th>age</th>\n",
       "      <th>bmi</th>\n",
       "      <th>sex_male</th>\n",
       "      <th>district_DT2</th>\n",
       "      <th>district_DT3</th>\n",
       "      <th>district_DT4</th>\n",
       "    </tr>\n",
       "  </thead>\n",
       "  <tbody>\n",
       "    <tr>\n",
       "      <th>14</th>\n",
       "      <td>29</td>\n",
       "      <td>42.130</td>\n",
       "      <td>1</td>\n",
       "      <td>1</td>\n",
       "      <td>0</td>\n",
       "      <td>0</td>\n",
       "    </tr>\n",
       "    <tr>\n",
       "      <th>19</th>\n",
       "      <td>32</td>\n",
       "      <td>35.300</td>\n",
       "      <td>1</td>\n",
       "      <td>0</td>\n",
       "      <td>0</td>\n",
       "      <td>0</td>\n",
       "    </tr>\n",
       "    <tr>\n",
       "      <th>23</th>\n",
       "      <td>36</td>\n",
       "      <td>31.920</td>\n",
       "      <td>0</td>\n",
       "      <td>0</td>\n",
       "      <td>0</td>\n",
       "      <td>1</td>\n",
       "    </tr>\n",
       "    <tr>\n",
       "      <th>29</th>\n",
       "      <td>33</td>\n",
       "      <td>36.300</td>\n",
       "      <td>1</td>\n",
       "      <td>0</td>\n",
       "      <td>0</td>\n",
       "      <td>0</td>\n",
       "    </tr>\n",
       "    <tr>\n",
       "      <th>30</th>\n",
       "      <td>24</td>\n",
       "      <td>35.600</td>\n",
       "      <td>1</td>\n",
       "      <td>0</td>\n",
       "      <td>0</td>\n",
       "      <td>0</td>\n",
       "    </tr>\n",
       "    <tr>\n",
       "      <th>...</th>\n",
       "      <td>...</td>\n",
       "      <td>...</td>\n",
       "      <td>...</td>\n",
       "      <td>...</td>\n",
       "      <td>...</td>\n",
       "      <td>...</td>\n",
       "    </tr>\n",
       "    <tr>\n",
       "      <th>1291</th>\n",
       "      <td>21</td>\n",
       "      <td>34.900</td>\n",
       "      <td>1</td>\n",
       "      <td>0</td>\n",
       "      <td>0</td>\n",
       "      <td>0</td>\n",
       "    </tr>\n",
       "    <tr>\n",
       "      <th>1301</th>\n",
       "      <td>64</td>\n",
       "      <td>30.875</td>\n",
       "      <td>1</td>\n",
       "      <td>0</td>\n",
       "      <td>1</td>\n",
       "      <td>0</td>\n",
       "    </tr>\n",
       "    <tr>\n",
       "      <th>1308</th>\n",
       "      <td>27</td>\n",
       "      <td>30.200</td>\n",
       "      <td>0</td>\n",
       "      <td>0</td>\n",
       "      <td>0</td>\n",
       "      <td>0</td>\n",
       "    </tr>\n",
       "    <tr>\n",
       "      <th>1313</th>\n",
       "      <td>21</td>\n",
       "      <td>34.700</td>\n",
       "      <td>0</td>\n",
       "      <td>0</td>\n",
       "      <td>0</td>\n",
       "      <td>0</td>\n",
       "    </tr>\n",
       "    <tr>\n",
       "      <th>1323</th>\n",
       "      <td>44</td>\n",
       "      <td>40.370</td>\n",
       "      <td>0</td>\n",
       "      <td>1</td>\n",
       "      <td>0</td>\n",
       "      <td>0</td>\n",
       "    </tr>\n",
       "  </tbody>\n",
       "</table>\n",
       "<p>138 rows × 6 columns</p>\n",
       "</div>"
      ]
     },
     "execution_count": 73,
     "metadata": {},
     "output_type": "execute_result"
    }
   ],
   "execution_count": 73
  },
  {
   "cell_type": "code",
   "id": "df6cc7e4-e945-4d4d-af99-a9c78c21028a",
   "metadata": {
    "colab": {
     "base_uri": "https://localhost:8080/"
    },
    "executionInfo": {
     "elapsed": 2387,
     "status": "ok",
     "timestamp": 1739534963009,
     "user": {
      "displayName": "Thammakorn SAETHANG",
      "userId": "08182570455347153646"
     },
     "user_tz": -420
    },
    "id": "df6cc7e4-e945-4d4d-af99-a9c78c21028a",
    "outputId": "d81cf34d-1296-4c46-873a-0a308a74ebf5",
    "ExecuteTime": {
     "end_time": "2025-02-15T08:57:07.150583Z",
     "start_time": "2025-02-15T08:57:07.136840Z"
    }
   },
   "source": [
    "import statsmodels.api as sm\n",
    "\n",
    "X2 = sm.add_constant(X)\n",
    "# model_sm_config = sm.OLS(y,X2)\n",
    "# model_sm_train = model_sm_config.fit()\n",
    "model_sm = sm.OLS(y,X2).fit()\n",
    "print(model_sm.summary())"
   ],
   "outputs": [
    {
     "name": "stdout",
     "output_type": "stream",
     "text": [
      "                            OLS Regression Results                            \n",
      "==============================================================================\n",
      "Dep. Variable:        healthcare_cost   R-squared:                       0.864\n",
      "Model:                            OLS   Adj. R-squared:                  0.858\n",
      "Method:                 Least Squares   F-statistic:                     138.4\n",
      "Date:                Sat, 15 Feb 2025   Prob (F-statistic):           3.36e-54\n",
      "Time:                        15:57:07   Log-Likelihood:                -1224.0\n",
      "No. Observations:                 138   AIC:                             2462.\n",
      "Df Residuals:                     131   BIC:                             2483.\n",
      "Df Model:                           6                                         \n",
      "Covariance Type:            nonrobust                                         \n",
      "================================================================================\n",
      "                   coef    std err          t      P>|t|      [0.025      0.975]\n",
      "--------------------------------------------------------------------------------\n",
      "const         1.278e+04   1491.962      8.566      0.000    9828.087    1.57e+04\n",
      "age            271.1655     10.474     25.889      0.000     250.445     291.886\n",
      "bmi            499.4578     39.986     12.491      0.000     420.356     578.559\n",
      "sex_male      -329.7017    316.241     -1.043      0.299    -955.302     295.898\n",
      "district_DT2  -812.0727    402.097     -2.020      0.045   -1607.516     -16.629\n",
      "district_DT3   281.5698    493.736      0.570      0.569    -695.157    1258.297\n",
      "district_DT4  -399.2535    451.873     -0.884      0.379   -1293.167     494.660\n",
      "==============================================================================\n",
      "Omnibus:                      149.179   Durbin-Watson:                   2.094\n",
      "Prob(Omnibus):                  0.000   Jarque-Bera (JB):             3062.222\n",
      "Skew:                           3.958   Prob(JB):                         0.00\n",
      "Kurtosis:                      24.677   Cond. No.                         553.\n",
      "==============================================================================\n",
      "\n",
      "Notes:\n",
      "[1] Standard Errors assume that the covariance matrix of the errors is correctly specified.\n"
     ]
    }
   ],
   "execution_count": 70
  },
  {
   "metadata": {},
   "cell_type": "markdown",
   "source": [
    "\\\n",
    "Using only columns with p-value <= 0.05"
   ],
   "id": "852d374907a26d83"
  },
  {
   "cell_type": "code",
   "id": "5b331b9c-6750-46a7-86aa-db915fc33e65",
   "metadata": {
    "colab": {
     "base_uri": "https://localhost:8080/",
     "height": 423
    },
    "executionInfo": {
     "elapsed": 291,
     "status": "ok",
     "timestamp": 1739535037828,
     "user": {
      "displayName": "Thammakorn SAETHANG",
      "userId": "08182570455347153646"
     },
     "user_tz": -420
    },
    "id": "5b331b9c-6750-46a7-86aa-db915fc33e65",
    "outputId": "f63d79c0-0418-471e-a6a8-4a152c0f69ea",
    "ExecuteTime": {
     "end_time": "2025-02-15T08:57:17.332948Z",
     "start_time": "2025-02-15T08:57:17.325739Z"
    }
   },
   "source": [
    "X_sig = X.drop(['sex_male', 'district_DT3', 'district_DT4'], axis=1)\n",
    "X_sig"
   ],
   "outputs": [
    {
     "data": {
      "text/plain": [
       "      age     bmi  district_DT2\n",
       "14     29  42.130             1\n",
       "19     32  35.300             0\n",
       "23     36  31.920             0\n",
       "29     33  36.300             0\n",
       "30     24  35.600             0\n",
       "...   ...     ...           ...\n",
       "1291   21  34.900             0\n",
       "1301   64  30.875             0\n",
       "1308   27  30.200             0\n",
       "1313   21  34.700             0\n",
       "1323   44  40.370             1\n",
       "\n",
       "[138 rows x 3 columns]"
      ],
      "text/html": [
       "<div>\n",
       "<style scoped>\n",
       "    .dataframe tbody tr th:only-of-type {\n",
       "        vertical-align: middle;\n",
       "    }\n",
       "\n",
       "    .dataframe tbody tr th {\n",
       "        vertical-align: top;\n",
       "    }\n",
       "\n",
       "    .dataframe thead th {\n",
       "        text-align: right;\n",
       "    }\n",
       "</style>\n",
       "<table border=\"1\" class=\"dataframe\">\n",
       "  <thead>\n",
       "    <tr style=\"text-align: right;\">\n",
       "      <th></th>\n",
       "      <th>age</th>\n",
       "      <th>bmi</th>\n",
       "      <th>district_DT2</th>\n",
       "    </tr>\n",
       "  </thead>\n",
       "  <tbody>\n",
       "    <tr>\n",
       "      <th>14</th>\n",
       "      <td>29</td>\n",
       "      <td>42.130</td>\n",
       "      <td>1</td>\n",
       "    </tr>\n",
       "    <tr>\n",
       "      <th>19</th>\n",
       "      <td>32</td>\n",
       "      <td>35.300</td>\n",
       "      <td>0</td>\n",
       "    </tr>\n",
       "    <tr>\n",
       "      <th>23</th>\n",
       "      <td>36</td>\n",
       "      <td>31.920</td>\n",
       "      <td>0</td>\n",
       "    </tr>\n",
       "    <tr>\n",
       "      <th>29</th>\n",
       "      <td>33</td>\n",
       "      <td>36.300</td>\n",
       "      <td>0</td>\n",
       "    </tr>\n",
       "    <tr>\n",
       "      <th>30</th>\n",
       "      <td>24</td>\n",
       "      <td>35.600</td>\n",
       "      <td>0</td>\n",
       "    </tr>\n",
       "    <tr>\n",
       "      <th>...</th>\n",
       "      <td>...</td>\n",
       "      <td>...</td>\n",
       "      <td>...</td>\n",
       "    </tr>\n",
       "    <tr>\n",
       "      <th>1291</th>\n",
       "      <td>21</td>\n",
       "      <td>34.900</td>\n",
       "      <td>0</td>\n",
       "    </tr>\n",
       "    <tr>\n",
       "      <th>1301</th>\n",
       "      <td>64</td>\n",
       "      <td>30.875</td>\n",
       "      <td>0</td>\n",
       "    </tr>\n",
       "    <tr>\n",
       "      <th>1308</th>\n",
       "      <td>27</td>\n",
       "      <td>30.200</td>\n",
       "      <td>0</td>\n",
       "    </tr>\n",
       "    <tr>\n",
       "      <th>1313</th>\n",
       "      <td>21</td>\n",
       "      <td>34.700</td>\n",
       "      <td>0</td>\n",
       "    </tr>\n",
       "    <tr>\n",
       "      <th>1323</th>\n",
       "      <td>44</td>\n",
       "      <td>40.370</td>\n",
       "      <td>1</td>\n",
       "    </tr>\n",
       "  </tbody>\n",
       "</table>\n",
       "<p>138 rows × 3 columns</p>\n",
       "</div>"
      ]
     },
     "execution_count": 71,
     "metadata": {},
     "output_type": "execute_result"
    }
   ],
   "execution_count": 71
  },
  {
   "cell_type": "code",
   "id": "a97a3e74-7621-43cc-97f0-51bddc1dc524",
   "metadata": {
    "colab": {
     "base_uri": "https://localhost:8080/"
    },
    "executionInfo": {
     "elapsed": 334,
     "status": "ok",
     "timestamp": 1739535040862,
     "user": {
      "displayName": "Thammakorn SAETHANG",
      "userId": "08182570455347153646"
     },
     "user_tz": -420
    },
    "id": "a97a3e74-7621-43cc-97f0-51bddc1dc524",
    "outputId": "172c7d3c-a7be-4495-b689-3d0e199f0211",
    "ExecuteTime": {
     "end_time": "2025-02-15T08:27:14.624857Z",
     "start_time": "2025-02-15T08:27:14.611712Z"
    }
   },
   "source": [
    "X2 = sm.add_constant(X_sig)\n",
    "model_sm = sm.OLS(y,X2).fit()\n",
    "print(model_sm.summary())"
   ],
   "outputs": [
    {
     "name": "stdout",
     "output_type": "stream",
     "text": [
      "                            OLS Regression Results                            \n",
      "==============================================================================\n",
      "Dep. Variable:        healthcare_cost   R-squared:                       0.860\n",
      "Model:                            OLS   Adj. R-squared:                  0.857\n",
      "Method:                 Least Squares   F-statistic:                     275.3\n",
      "Date:                Sat, 15 Feb 2025   Prob (F-statistic):           4.37e-57\n",
      "Time:                        15:27:14   Log-Likelihood:                -1225.7\n",
      "No. Observations:                 138   AIC:                             2459.\n",
      "Df Residuals:                     134   BIC:                             2471.\n",
      "Df Model:                           3                                         \n",
      "Covariance Type:            nonrobust                                         \n",
      "================================================================================\n",
      "                   coef    std err          t      P>|t|      [0.025      0.975]\n",
      "--------------------------------------------------------------------------------\n",
      "const         1.262e+04   1450.934      8.696      0.000    9747.061    1.55e+04\n",
      "age            270.9839     10.463     25.899      0.000     250.290     291.678\n",
      "bmi            496.5447     39.886     12.449      0.000     417.657     575.433\n",
      "district_DT2  -754.4966    332.674     -2.268      0.025   -1412.468     -96.525\n",
      "==============================================================================\n",
      "Omnibus:                      146.754   Durbin-Watson:                   2.103\n",
      "Prob(Omnibus):                  0.000   Jarque-Bera (JB):             2798.857\n",
      "Skew:                           3.895   Prob(JB):                         0.00\n",
      "Kurtosis:                      23.642   Cond. No.                         537.\n",
      "==============================================================================\n",
      "\n",
      "Notes:\n",
      "[1] Standard Errors assume that the covariance matrix of the errors is correctly specified.\n"
     ]
    }
   ],
   "execution_count": 24
  },
  {
   "cell_type": "markdown",
   "id": "bc19ca64-8728-4624-a49f-5c775ae8e1d9",
   "metadata": {
    "id": "bc19ca64-8728-4624-a49f-5c775ae8e1d9"
   },
   "source": [
    "---"
   ]
  },
  {
   "cell_type": "markdown",
   "id": "5aae5209-9d30-4071-a0c2-89a788fe5268",
   "metadata": {
    "id": "5aae5209-9d30-4071-a0c2-89a788fe5268"
   },
   "source": [
    "&nbsp;  \n",
    "#### <font color=\"C70039\">Can we trust this result of model performance?</span>  \n",
    "We created model based on whole dataset and then do predcition on the whole dataset again!  \n",
    "This is *not* the proper way to evaluate model performance."
   ]
  },
  {
   "cell_type": "markdown",
   "id": "7e51ac1a-c721-4e10-92c6-42d2b0e31f10",
   "metadata": {
    "id": "7e51ac1a-c721-4e10-92c6-42d2b0e31f10"
   },
   "source": [
    "Generally, to evaluate model performance, **cross-validation (cv) techniques** are used. One of cv techniques that is simple and commonly used is hold-out method.  \n",
    "  \n",
    "In the hold-out method, the whole dataset is split into *train* and *test* sets. A model is built based on training set and then use this model to predict on test set. The model performance is evaluated based on observed and predicted outcome values of test set.\n",
    "\n",
    "Train set can be 70% 80% 90% 95% whatever but best case prefer 70%\n",
    "Test set is the rest of Train set has been left e.g. 30% 20% 10% 5% whatever but best case prefer 30%\n",
    "Train + Test = 100%"
   ]
  },
  {
   "cell_type": "markdown",
   "id": "125ead1a-95aa-426f-868c-63275df72b81",
   "metadata": {
    "id": "125ead1a-95aa-426f-868c-63275df72b81"
   },
   "source": [
    "![HoldOut.png](data:image/png;base64,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)"
   ]
  },
  {
   "cell_type": "markdown",
   "id": "2ed1fcdd-cb88-47a4-9d07-e6817f036ffc",
   "metadata": {
    "id": "2ed1fcdd-cb88-47a4-9d07-e6817f036ffc"
   },
   "source": [
    "&nbsp;  \n",
    "#### <font color=\"color:blue\">**Create training & test sets**</span>"
   ]
  },
  {
   "cell_type": "code",
   "id": "ceeb662d-cb50-4555-a61c-683c2281f824",
   "metadata": {
    "executionInfo": {
     "elapsed": 314,
     "status": "ok",
     "timestamp": 1739535100077,
     "user": {
      "displayName": "Thammakorn SAETHANG",
      "userId": "08182570455347153646"
     },
     "user_tz": -420
    },
    "id": "ceeb662d-cb50-4555-a61c-683c2281f824",
    "ExecuteTime": {
     "end_time": "2025-02-15T08:27:14.752551Z",
     "start_time": "2025-02-15T08:27:14.747042Z"
    }
   },
   "source": [
    "from sklearn.model_selection import train_test_split\n",
    "# 1 = 100% -> 0.3 will be 30%\n",
    "X_train, X_test, y_train, y_test = train_test_split(X,\n",
    "                                                    y,\n",
    "                                                    test_size=0.3, # test 30% of whole data, train 70% of whole data\n",
    "                                                    random_state=1)# random seed number"
   ],
   "outputs": [],
   "execution_count": 25
  },
  {
   "cell_type": "markdown",
   "id": "59c93d94-aa2a-4ab6-aba9-afd42ec88758",
   "metadata": {
    "id": "59c93d94-aa2a-4ab6-aba9-afd42ec88758"
   },
   "source": [
    "\\\n",
    "Training set:"
   ]
  },
  {
   "cell_type": "code",
   "id": "593f7f0f-c38e-4034-b8a3-54b26325f162",
   "metadata": {
    "colab": {
     "base_uri": "https://localhost:8080/"
    },
    "executionInfo": {
     "elapsed": 296,
     "status": "ok",
     "timestamp": 1739535193885,
     "user": {
      "displayName": "Thammakorn SAETHANG",
      "userId": "08182570455347153646"
     },
     "user_tz": -420
    },
    "id": "593f7f0f-c38e-4034-b8a3-54b26325f162",
    "outputId": "d6e3116e-eecb-4934-85f2-018998def9fc",
    "ExecuteTime": {
     "end_time": "2025-02-15T08:27:14.909952Z",
     "start_time": "2025-02-15T08:27:14.905689Z"
    }
   },
   "source": [
    "X_train.shape"
   ],
   "outputs": [
    {
     "data": {
      "text/plain": [
       "(96, 6)"
      ]
     },
     "execution_count": 26,
     "metadata": {},
     "output_type": "execute_result"
    }
   ],
   "execution_count": 26
  },
  {
   "cell_type": "code",
   "id": "e0e05df5-202b-4e58-9f38-e22430dd4677",
   "metadata": {
    "colab": {
     "base_uri": "https://localhost:8080/"
    },
    "executionInfo": {
     "elapsed": 335,
     "status": "ok",
     "timestamp": 1739535195992,
     "user": {
      "displayName": "Thammakorn SAETHANG",
      "userId": "08182570455347153646"
     },
     "user_tz": -420
    },
    "id": "e0e05df5-202b-4e58-9f38-e22430dd4677",
    "outputId": "c263c233-ab4d-4729-ce5f-baa81c06e141",
    "ExecuteTime": {
     "end_time": "2025-02-15T08:27:15.036885Z",
     "start_time": "2025-02-15T08:27:15.032186Z"
    }
   },
   "source": [
    "y_train.shape"
   ],
   "outputs": [
    {
     "data": {
      "text/plain": [
       "(96, 1)"
      ]
     },
     "execution_count": 27,
     "metadata": {},
     "output_type": "execute_result"
    }
   ],
   "execution_count": 27
  },
  {
   "cell_type": "markdown",
   "id": "2b5c67bc-1079-44e7-9b7b-f377e2310748",
   "metadata": {
    "id": "2b5c67bc-1079-44e7-9b7b-f377e2310748"
   },
   "source": [
    "&nbsp;  \n",
    "Test set:"
   ]
  },
  {
   "cell_type": "code",
   "id": "630c2bb7-928c-4512-9461-43d9fe1dacd1",
   "metadata": {
    "colab": {
     "base_uri": "https://localhost:8080/"
    },
    "executionInfo": {
     "elapsed": 2,
     "status": "ok",
     "timestamp": 1675857098126,
     "user": {
      "displayName": "Thammakorn SAETHANG",
      "userId": "08182570455347153646"
     },
     "user_tz": -420
    },
    "id": "630c2bb7-928c-4512-9461-43d9fe1dacd1",
    "outputId": "9e5bf36b-28fb-44ab-b71c-4ca9a1ee501b",
    "ExecuteTime": {
     "end_time": "2025-02-15T08:27:15.118995Z",
     "start_time": "2025-02-15T08:27:15.113326Z"
    }
   },
   "source": [
    "X_test.shape"
   ],
   "outputs": [
    {
     "data": {
      "text/plain": [
       "(42, 6)"
      ]
     },
     "execution_count": 28,
     "metadata": {},
     "output_type": "execute_result"
    }
   ],
   "execution_count": 28
  },
  {
   "cell_type": "code",
   "id": "c134e022-bc79-4ffc-a8b7-fb720d09c8fa",
   "metadata": {
    "colab": {
     "base_uri": "https://localhost:8080/"
    },
    "executionInfo": {
     "elapsed": 375,
     "status": "ok",
     "timestamp": 1675857099096,
     "user": {
      "displayName": "Thammakorn SAETHANG",
      "userId": "08182570455347153646"
     },
     "user_tz": -420
    },
    "id": "c134e022-bc79-4ffc-a8b7-fb720d09c8fa",
    "outputId": "01e340ee-e295-49b3-b769-9c851522c783",
    "ExecuteTime": {
     "end_time": "2025-02-15T08:27:15.192607Z",
     "start_time": "2025-02-15T08:27:15.188097Z"
    }
   },
   "source": [
    "y_test.shape"
   ],
   "outputs": [
    {
     "data": {
      "text/plain": [
       "(42, 1)"
      ]
     },
     "execution_count": 29,
     "metadata": {},
     "output_type": "execute_result"
    }
   ],
   "execution_count": 29
  },
  {
   "cell_type": "markdown",
   "id": "ebc25e19-258e-4c0d-abb2-b66e50adea61",
   "metadata": {
    "id": "ebc25e19-258e-4c0d-abb2-b66e50adea61"
   },
   "source": [
    "&nbsp;  \n",
    "#### <font color=\"color:blue\">**Create linear regression model based on training set**</span>"
   ]
  },
  {
   "cell_type": "code",
   "id": "a12bbaff-b27b-4a4d-9d38-c2f91116f453",
   "metadata": {
    "colab": {
     "base_uri": "https://localhost:8080/"
    },
    "executionInfo": {
     "elapsed": 3,
     "status": "ok",
     "timestamp": 1675857101813,
     "user": {
      "displayName": "Thammakorn SAETHANG",
      "userId": "08182570455347153646"
     },
     "user_tz": -420
    },
    "id": "a12bbaff-b27b-4a4d-9d38-c2f91116f453",
    "outputId": "d7b79cf7-572b-47c0-f5f0-c815bb0a2bbd",
    "ExecuteTime": {
     "end_time": "2025-02-15T08:27:15.260126Z",
     "start_time": "2025-02-15T08:27:15.251960Z"
    }
   },
   "source": [
    "model = lr(fit_intercept=True)\n",
    "model.fit(X_train, y_train)"
   ],
   "outputs": [
    {
     "data": {
      "text/plain": [
       "LinearRegression()"
      ],
      "text/html": [
       "<style>#sk-container-id-3 {\n",
       "  /* Definition of color scheme common for light and dark mode */\n",
       "  --sklearn-color-text: #000;\n",
       "  --sklearn-color-text-muted: #666;\n",
       "  --sklearn-color-line: gray;\n",
       "  /* Definition of color scheme for unfitted estimators */\n",
       "  --sklearn-color-unfitted-level-0: #fff5e6;\n",
       "  --sklearn-color-unfitted-level-1: #f6e4d2;\n",
       "  --sklearn-color-unfitted-level-2: #ffe0b3;\n",
       "  --sklearn-color-unfitted-level-3: chocolate;\n",
       "  /* Definition of color scheme for fitted estimators */\n",
       "  --sklearn-color-fitted-level-0: #f0f8ff;\n",
       "  --sklearn-color-fitted-level-1: #d4ebff;\n",
       "  --sklearn-color-fitted-level-2: #b3dbfd;\n",
       "  --sklearn-color-fitted-level-3: cornflowerblue;\n",
       "\n",
       "  /* Specific color for light theme */\n",
       "  --sklearn-color-text-on-default-background: var(--sg-text-color, var(--theme-code-foreground, var(--jp-content-font-color1, black)));\n",
       "  --sklearn-color-background: var(--sg-background-color, var(--theme-background, var(--jp-layout-color0, white)));\n",
       "  --sklearn-color-border-box: var(--sg-text-color, var(--theme-code-foreground, var(--jp-content-font-color1, black)));\n",
       "  --sklearn-color-icon: #696969;\n",
       "\n",
       "  @media (prefers-color-scheme: dark) {\n",
       "    /* Redefinition of color scheme for dark theme */\n",
       "    --sklearn-color-text-on-default-background: var(--sg-text-color, var(--theme-code-foreground, var(--jp-content-font-color1, white)));\n",
       "    --sklearn-color-background: var(--sg-background-color, var(--theme-background, var(--jp-layout-color0, #111)));\n",
       "    --sklearn-color-border-box: var(--sg-text-color, var(--theme-code-foreground, var(--jp-content-font-color1, white)));\n",
       "    --sklearn-color-icon: #878787;\n",
       "  }\n",
       "}\n",
       "\n",
       "#sk-container-id-3 {\n",
       "  color: var(--sklearn-color-text);\n",
       "}\n",
       "\n",
       "#sk-container-id-3 pre {\n",
       "  padding: 0;\n",
       "}\n",
       "\n",
       "#sk-container-id-3 input.sk-hidden--visually {\n",
       "  border: 0;\n",
       "  clip: rect(1px 1px 1px 1px);\n",
       "  clip: rect(1px, 1px, 1px, 1px);\n",
       "  height: 1px;\n",
       "  margin: -1px;\n",
       "  overflow: hidden;\n",
       "  padding: 0;\n",
       "  position: absolute;\n",
       "  width: 1px;\n",
       "}\n",
       "\n",
       "#sk-container-id-3 div.sk-dashed-wrapped {\n",
       "  border: 1px dashed var(--sklearn-color-line);\n",
       "  margin: 0 0.4em 0.5em 0.4em;\n",
       "  box-sizing: border-box;\n",
       "  padding-bottom: 0.4em;\n",
       "  background-color: var(--sklearn-color-background);\n",
       "}\n",
       "\n",
       "#sk-container-id-3 div.sk-container {\n",
       "  /* jupyter's `normalize.less` sets `[hidden] { display: none; }`\n",
       "     but bootstrap.min.css set `[hidden] { display: none !important; }`\n",
       "     so we also need the `!important` here to be able to override the\n",
       "     default hidden behavior on the sphinx rendered scikit-learn.org.\n",
       "     See: https://github.com/scikit-learn/scikit-learn/issues/21755 */\n",
       "  display: inline-block !important;\n",
       "  position: relative;\n",
       "}\n",
       "\n",
       "#sk-container-id-3 div.sk-text-repr-fallback {\n",
       "  display: none;\n",
       "}\n",
       "\n",
       "div.sk-parallel-item,\n",
       "div.sk-serial,\n",
       "div.sk-item {\n",
       "  /* draw centered vertical line to link estimators */\n",
       "  background-image: linear-gradient(var(--sklearn-color-text-on-default-background), var(--sklearn-color-text-on-default-background));\n",
       "  background-size: 2px 100%;\n",
       "  background-repeat: no-repeat;\n",
       "  background-position: center center;\n",
       "}\n",
       "\n",
       "/* Parallel-specific style estimator block */\n",
       "\n",
       "#sk-container-id-3 div.sk-parallel-item::after {\n",
       "  content: \"\";\n",
       "  width: 100%;\n",
       "  border-bottom: 2px solid var(--sklearn-color-text-on-default-background);\n",
       "  flex-grow: 1;\n",
       "}\n",
       "\n",
       "#sk-container-id-3 div.sk-parallel {\n",
       "  display: flex;\n",
       "  align-items: stretch;\n",
       "  justify-content: center;\n",
       "  background-color: var(--sklearn-color-background);\n",
       "  position: relative;\n",
       "}\n",
       "\n",
       "#sk-container-id-3 div.sk-parallel-item {\n",
       "  display: flex;\n",
       "  flex-direction: column;\n",
       "}\n",
       "\n",
       "#sk-container-id-3 div.sk-parallel-item:first-child::after {\n",
       "  align-self: flex-end;\n",
       "  width: 50%;\n",
       "}\n",
       "\n",
       "#sk-container-id-3 div.sk-parallel-item:last-child::after {\n",
       "  align-self: flex-start;\n",
       "  width: 50%;\n",
       "}\n",
       "\n",
       "#sk-container-id-3 div.sk-parallel-item:only-child::after {\n",
       "  width: 0;\n",
       "}\n",
       "\n",
       "/* Serial-specific style estimator block */\n",
       "\n",
       "#sk-container-id-3 div.sk-serial {\n",
       "  display: flex;\n",
       "  flex-direction: column;\n",
       "  align-items: center;\n",
       "  background-color: var(--sklearn-color-background);\n",
       "  padding-right: 1em;\n",
       "  padding-left: 1em;\n",
       "}\n",
       "\n",
       "\n",
       "/* Toggleable style: style used for estimator/Pipeline/ColumnTransformer box that is\n",
       "clickable and can be expanded/collapsed.\n",
       "- Pipeline and ColumnTransformer use this feature and define the default style\n",
       "- Estimators will overwrite some part of the style using the `sk-estimator` class\n",
       "*/\n",
       "\n",
       "/* Pipeline and ColumnTransformer style (default) */\n",
       "\n",
       "#sk-container-id-3 div.sk-toggleable {\n",
       "  /* Default theme specific background. It is overwritten whether we have a\n",
       "  specific estimator or a Pipeline/ColumnTransformer */\n",
       "  background-color: var(--sklearn-color-background);\n",
       "}\n",
       "\n",
       "/* Toggleable label */\n",
       "#sk-container-id-3 label.sk-toggleable__label {\n",
       "  cursor: pointer;\n",
       "  display: flex;\n",
       "  width: 100%;\n",
       "  margin-bottom: 0;\n",
       "  padding: 0.5em;\n",
       "  box-sizing: border-box;\n",
       "  text-align: center;\n",
       "  align-items: start;\n",
       "  justify-content: space-between;\n",
       "  gap: 0.5em;\n",
       "}\n",
       "\n",
       "#sk-container-id-3 label.sk-toggleable__label .caption {\n",
       "  font-size: 0.6rem;\n",
       "  font-weight: lighter;\n",
       "  color: var(--sklearn-color-text-muted);\n",
       "}\n",
       "\n",
       "#sk-container-id-3 label.sk-toggleable__label-arrow:before {\n",
       "  /* Arrow on the left of the label */\n",
       "  content: \"▸\";\n",
       "  float: left;\n",
       "  margin-right: 0.25em;\n",
       "  color: var(--sklearn-color-icon);\n",
       "}\n",
       "\n",
       "#sk-container-id-3 label.sk-toggleable__label-arrow:hover:before {\n",
       "  color: var(--sklearn-color-text);\n",
       "}\n",
       "\n",
       "/* Toggleable content - dropdown */\n",
       "\n",
       "#sk-container-id-3 div.sk-toggleable__content {\n",
       "  max-height: 0;\n",
       "  max-width: 0;\n",
       "  overflow: hidden;\n",
       "  text-align: left;\n",
       "  /* unfitted */\n",
       "  background-color: var(--sklearn-color-unfitted-level-0);\n",
       "}\n",
       "\n",
       "#sk-container-id-3 div.sk-toggleable__content.fitted {\n",
       "  /* fitted */\n",
       "  background-color: var(--sklearn-color-fitted-level-0);\n",
       "}\n",
       "\n",
       "#sk-container-id-3 div.sk-toggleable__content pre {\n",
       "  margin: 0.2em;\n",
       "  border-radius: 0.25em;\n",
       "  color: var(--sklearn-color-text);\n",
       "  /* unfitted */\n",
       "  background-color: var(--sklearn-color-unfitted-level-0);\n",
       "}\n",
       "\n",
       "#sk-container-id-3 div.sk-toggleable__content.fitted pre {\n",
       "  /* unfitted */\n",
       "  background-color: var(--sklearn-color-fitted-level-0);\n",
       "}\n",
       "\n",
       "#sk-container-id-3 input.sk-toggleable__control:checked~div.sk-toggleable__content {\n",
       "  /* Expand drop-down */\n",
       "  max-height: 200px;\n",
       "  max-width: 100%;\n",
       "  overflow: auto;\n",
       "}\n",
       "\n",
       "#sk-container-id-3 input.sk-toggleable__control:checked~label.sk-toggleable__label-arrow:before {\n",
       "  content: \"▾\";\n",
       "}\n",
       "\n",
       "/* Pipeline/ColumnTransformer-specific style */\n",
       "\n",
       "#sk-container-id-3 div.sk-label input.sk-toggleable__control:checked~label.sk-toggleable__label {\n",
       "  color: var(--sklearn-color-text);\n",
       "  background-color: var(--sklearn-color-unfitted-level-2);\n",
       "}\n",
       "\n",
       "#sk-container-id-3 div.sk-label.fitted input.sk-toggleable__control:checked~label.sk-toggleable__label {\n",
       "  background-color: var(--sklearn-color-fitted-level-2);\n",
       "}\n",
       "\n",
       "/* Estimator-specific style */\n",
       "\n",
       "/* Colorize estimator box */\n",
       "#sk-container-id-3 div.sk-estimator input.sk-toggleable__control:checked~label.sk-toggleable__label {\n",
       "  /* unfitted */\n",
       "  background-color: var(--sklearn-color-unfitted-level-2);\n",
       "}\n",
       "\n",
       "#sk-container-id-3 div.sk-estimator.fitted input.sk-toggleable__control:checked~label.sk-toggleable__label {\n",
       "  /* fitted */\n",
       "  background-color: var(--sklearn-color-fitted-level-2);\n",
       "}\n",
       "\n",
       "#sk-container-id-3 div.sk-label label.sk-toggleable__label,\n",
       "#sk-container-id-3 div.sk-label label {\n",
       "  /* The background is the default theme color */\n",
       "  color: var(--sklearn-color-text-on-default-background);\n",
       "}\n",
       "\n",
       "/* On hover, darken the color of the background */\n",
       "#sk-container-id-3 div.sk-label:hover label.sk-toggleable__label {\n",
       "  color: var(--sklearn-color-text);\n",
       "  background-color: var(--sklearn-color-unfitted-level-2);\n",
       "}\n",
       "\n",
       "/* Label box, darken color on hover, fitted */\n",
       "#sk-container-id-3 div.sk-label.fitted:hover label.sk-toggleable__label.fitted {\n",
       "  color: var(--sklearn-color-text);\n",
       "  background-color: var(--sklearn-color-fitted-level-2);\n",
       "}\n",
       "\n",
       "/* Estimator label */\n",
       "\n",
       "#sk-container-id-3 div.sk-label label {\n",
       "  font-family: monospace;\n",
       "  font-weight: bold;\n",
       "  display: inline-block;\n",
       "  line-height: 1.2em;\n",
       "}\n",
       "\n",
       "#sk-container-id-3 div.sk-label-container {\n",
       "  text-align: center;\n",
       "}\n",
       "\n",
       "/* Estimator-specific */\n",
       "#sk-container-id-3 div.sk-estimator {\n",
       "  font-family: monospace;\n",
       "  border: 1px dotted var(--sklearn-color-border-box);\n",
       "  border-radius: 0.25em;\n",
       "  box-sizing: border-box;\n",
       "  margin-bottom: 0.5em;\n",
       "  /* unfitted */\n",
       "  background-color: var(--sklearn-color-unfitted-level-0);\n",
       "}\n",
       "\n",
       "#sk-container-id-3 div.sk-estimator.fitted {\n",
       "  /* fitted */\n",
       "  background-color: var(--sklearn-color-fitted-level-0);\n",
       "}\n",
       "\n",
       "/* on hover */\n",
       "#sk-container-id-3 div.sk-estimator:hover {\n",
       "  /* unfitted */\n",
       "  background-color: var(--sklearn-color-unfitted-level-2);\n",
       "}\n",
       "\n",
       "#sk-container-id-3 div.sk-estimator.fitted:hover {\n",
       "  /* fitted */\n",
       "  background-color: var(--sklearn-color-fitted-level-2);\n",
       "}\n",
       "\n",
       "/* Specification for estimator info (e.g. \"i\" and \"?\") */\n",
       "\n",
       "/* Common style for \"i\" and \"?\" */\n",
       "\n",
       ".sk-estimator-doc-link,\n",
       "a:link.sk-estimator-doc-link,\n",
       "a:visited.sk-estimator-doc-link {\n",
       "  float: right;\n",
       "  font-size: smaller;\n",
       "  line-height: 1em;\n",
       "  font-family: monospace;\n",
       "  background-color: var(--sklearn-color-background);\n",
       "  border-radius: 1em;\n",
       "  height: 1em;\n",
       "  width: 1em;\n",
       "  text-decoration: none !important;\n",
       "  margin-left: 0.5em;\n",
       "  text-align: center;\n",
       "  /* unfitted */\n",
       "  border: var(--sklearn-color-unfitted-level-1) 1pt solid;\n",
       "  color: var(--sklearn-color-unfitted-level-1);\n",
       "}\n",
       "\n",
       ".sk-estimator-doc-link.fitted,\n",
       "a:link.sk-estimator-doc-link.fitted,\n",
       "a:visited.sk-estimator-doc-link.fitted {\n",
       "  /* fitted */\n",
       "  border: var(--sklearn-color-fitted-level-1) 1pt solid;\n",
       "  color: var(--sklearn-color-fitted-level-1);\n",
       "}\n",
       "\n",
       "/* On hover */\n",
       "div.sk-estimator:hover .sk-estimator-doc-link:hover,\n",
       ".sk-estimator-doc-link:hover,\n",
       "div.sk-label-container:hover .sk-estimator-doc-link:hover,\n",
       ".sk-estimator-doc-link:hover {\n",
       "  /* unfitted */\n",
       "  background-color: var(--sklearn-color-unfitted-level-3);\n",
       "  color: var(--sklearn-color-background);\n",
       "  text-decoration: none;\n",
       "}\n",
       "\n",
       "div.sk-estimator.fitted:hover .sk-estimator-doc-link.fitted:hover,\n",
       ".sk-estimator-doc-link.fitted:hover,\n",
       "div.sk-label-container:hover .sk-estimator-doc-link.fitted:hover,\n",
       ".sk-estimator-doc-link.fitted:hover {\n",
       "  /* fitted */\n",
       "  background-color: var(--sklearn-color-fitted-level-3);\n",
       "  color: var(--sklearn-color-background);\n",
       "  text-decoration: none;\n",
       "}\n",
       "\n",
       "/* Span, style for the box shown on hovering the info icon */\n",
       ".sk-estimator-doc-link span {\n",
       "  display: none;\n",
       "  z-index: 9999;\n",
       "  position: relative;\n",
       "  font-weight: normal;\n",
       "  right: .2ex;\n",
       "  padding: .5ex;\n",
       "  margin: .5ex;\n",
       "  width: min-content;\n",
       "  min-width: 20ex;\n",
       "  max-width: 50ex;\n",
       "  color: var(--sklearn-color-text);\n",
       "  box-shadow: 2pt 2pt 4pt #999;\n",
       "  /* unfitted */\n",
       "  background: var(--sklearn-color-unfitted-level-0);\n",
       "  border: .5pt solid var(--sklearn-color-unfitted-level-3);\n",
       "}\n",
       "\n",
       ".sk-estimator-doc-link.fitted span {\n",
       "  /* fitted */\n",
       "  background: var(--sklearn-color-fitted-level-0);\n",
       "  border: var(--sklearn-color-fitted-level-3);\n",
       "}\n",
       "\n",
       ".sk-estimator-doc-link:hover span {\n",
       "  display: block;\n",
       "}\n",
       "\n",
       "/* \"?\"-specific style due to the `<a>` HTML tag */\n",
       "\n",
       "#sk-container-id-3 a.estimator_doc_link {\n",
       "  float: right;\n",
       "  font-size: 1rem;\n",
       "  line-height: 1em;\n",
       "  font-family: monospace;\n",
       "  background-color: var(--sklearn-color-background);\n",
       "  border-radius: 1rem;\n",
       "  height: 1rem;\n",
       "  width: 1rem;\n",
       "  text-decoration: none;\n",
       "  /* unfitted */\n",
       "  color: var(--sklearn-color-unfitted-level-1);\n",
       "  border: var(--sklearn-color-unfitted-level-1) 1pt solid;\n",
       "}\n",
       "\n",
       "#sk-container-id-3 a.estimator_doc_link.fitted {\n",
       "  /* fitted */\n",
       "  border: var(--sklearn-color-fitted-level-1) 1pt solid;\n",
       "  color: var(--sklearn-color-fitted-level-1);\n",
       "}\n",
       "\n",
       "/* On hover */\n",
       "#sk-container-id-3 a.estimator_doc_link:hover {\n",
       "  /* unfitted */\n",
       "  background-color: var(--sklearn-color-unfitted-level-3);\n",
       "  color: var(--sklearn-color-background);\n",
       "  text-decoration: none;\n",
       "}\n",
       "\n",
       "#sk-container-id-3 a.estimator_doc_link.fitted:hover {\n",
       "  /* fitted */\n",
       "  background-color: var(--sklearn-color-fitted-level-3);\n",
       "}\n",
       "</style><div id=\"sk-container-id-3\" class=\"sk-top-container\"><div class=\"sk-text-repr-fallback\"><pre>LinearRegression()</pre><b>In a Jupyter environment, please rerun this cell to show the HTML representation or trust the notebook. <br />On GitHub, the HTML representation is unable to render, please try loading this page with nbviewer.org.</b></div><div class=\"sk-container\" hidden><div class=\"sk-item\"><div class=\"sk-estimator fitted sk-toggleable\"><input class=\"sk-toggleable__control sk-hidden--visually\" id=\"sk-estimator-id-3\" type=\"checkbox\" checked><label for=\"sk-estimator-id-3\" class=\"sk-toggleable__label fitted sk-toggleable__label-arrow\"><div><div>LinearRegression</div></div><div><a class=\"sk-estimator-doc-link fitted\" rel=\"noreferrer\" target=\"_blank\" href=\"https://scikit-learn.org/1.6/modules/generated/sklearn.linear_model.LinearRegression.html\">?<span>Documentation for LinearRegression</span></a><span class=\"sk-estimator-doc-link fitted\">i<span>Fitted</span></span></div></label><div class=\"sk-toggleable__content fitted\"><pre>LinearRegression()</pre></div> </div></div></div></div>"
      ]
     },
     "execution_count": 30,
     "metadata": {},
     "output_type": "execute_result"
    }
   ],
   "execution_count": 30
  },
  {
   "cell_type": "markdown",
   "id": "5c70d577-fb91-44f9-b606-544b81ee5b75",
   "metadata": {
    "id": "5c70d577-fb91-44f9-b606-544b81ee5b75",
    "tags": []
   },
   "source": [
    "&nbsp;  \n",
    "#### <font color=\"color:blue\">**Perform prediction**</span>"
   ]
  },
  {
   "cell_type": "markdown",
   "id": "02853911-c93d-42d1-afe0-3883e5c91118",
   "metadata": {
    "id": "02853911-c93d-42d1-afe0-3883e5c91118"
   },
   "source": [
    "- On training set"
   ]
  },
  {
   "cell_type": "code",
   "id": "0592650f-4328-4716-b074-421d873a3f18",
   "metadata": {
    "colab": {
     "base_uri": "https://localhost:8080/"
    },
    "executionInfo": {
     "elapsed": 293,
     "status": "ok",
     "timestamp": 1739535237089,
     "user": {
      "displayName": "Thammakorn SAETHANG",
      "userId": "08182570455347153646"
     },
     "user_tz": -420
    },
    "id": "0592650f-4328-4716-b074-421d873a3f18",
    "outputId": "85c79c7e-54f4-4f9a-85b9-be976feda57e",
    "ExecuteTime": {
     "end_time": "2025-02-15T08:27:15.328389Z",
     "start_time": "2025-02-15T08:27:15.321904Z"
    }
   },
   "source": [
    "y_pred_train = model.predict(X_train)\n",
    "y_pred_train.shape"
   ],
   "outputs": [
    {
     "data": {
      "text/plain": [
       "(96, 1)"
      ]
     },
     "execution_count": 31,
     "metadata": {},
     "output_type": "execute_result"
    }
   ],
   "execution_count": 31
  },
  {
   "cell_type": "markdown",
   "id": "c4692295-e906-4624-a925-1944567d735a",
   "metadata": {
    "id": "c4692295-e906-4624-a925-1944567d735a"
   },
   "source": [
    "- On test set"
   ]
  },
  {
   "cell_type": "code",
   "id": "53c14002-3b66-4ba4-b7c0-d8948b242719",
   "metadata": {
    "colab": {
     "base_uri": "https://localhost:8080/"
    },
    "executionInfo": {
     "elapsed": 281,
     "status": "ok",
     "timestamp": 1739535240094,
     "user": {
      "displayName": "Thammakorn SAETHANG",
      "userId": "08182570455347153646"
     },
     "user_tz": -420
    },
    "id": "53c14002-3b66-4ba4-b7c0-d8948b242719",
    "outputId": "8460b462-4ef9-4951-ca53-d28723449051",
    "ExecuteTime": {
     "end_time": "2025-02-15T08:27:15.415061Z",
     "start_time": "2025-02-15T08:27:15.409798Z"
    }
   },
   "source": [
    "y_pred_test = model.predict(X_test)\n",
    "y_pred_test.shape"
   ],
   "outputs": [
    {
     "data": {
      "text/plain": [
       "(42, 1)"
      ]
     },
     "execution_count": 32,
     "metadata": {},
     "output_type": "execute_result"
    }
   ],
   "execution_count": 32
  },
  {
   "cell_type": "markdown",
   "id": "4e7414cb-8bde-419f-bf79-1e346c25a25b",
   "metadata": {
    "id": "4e7414cb-8bde-419f-bf79-1e346c25a25b",
    "tags": []
   },
   "source": [
    "&nbsp;  \n",
    "#### <font color=\"color:blue\">**Get coefficients & intercept**</span>"
   ]
  },
  {
   "cell_type": "code",
   "id": "714dfc83-13e5-4348-bcac-cf3a1b93a974",
   "metadata": {
    "colab": {
     "base_uri": "https://localhost:8080/"
    },
    "executionInfo": {
     "elapsed": 324,
     "status": "ok",
     "timestamp": 1739535243404,
     "user": {
      "displayName": "Thammakorn SAETHANG",
      "userId": "08182570455347153646"
     },
     "user_tz": -420
    },
    "id": "714dfc83-13e5-4348-bcac-cf3a1b93a974",
    "outputId": "be4aae8d-a945-464a-df65-a57532839424",
    "ExecuteTime": {
     "end_time": "2025-02-15T08:27:15.496401Z",
     "start_time": "2025-02-15T08:27:15.491970Z"
    }
   },
   "source": [
    "print(\"coefficients:\", model.coef_)\n",
    "print(\"Intercept:\", model.intercept_)"
   ],
   "outputs": [
    {
     "name": "stdout",
     "output_type": "stream",
     "text": [
      "coefficients: [[ 279.66861833  502.99203068 -562.85284413 -402.14877471  124.13994552\n",
      "     8.48181436]]\n",
      "Intercept: [12085.06138082]\n"
     ]
    }
   ],
   "execution_count": 33
  },
  {
   "cell_type": "markdown",
   "id": "3489993e-f403-4bbc-ab24-ac3f0a14c681",
   "metadata": {
    "id": "3489993e-f403-4bbc-ab24-ac3f0a14c681",
    "tags": []
   },
   "source": [
    "&nbsp;   \n",
    "#### <font color=\"color:blue\">**Evaluate model performance**</span>"
   ]
  },
  {
   "cell_type": "markdown",
   "id": "726b04aa-b046-4a2d-a79a-10818079d5ed",
   "metadata": {
    "id": "726b04aa-b046-4a2d-a79a-10818079d5ed"
   },
   "source": [
    "- On training set"
   ]
  },
  {
   "cell_type": "code",
   "id": "646f9a9a-0fbc-4d1a-b226-f304045edaf5",
   "metadata": {
    "colab": {
     "base_uri": "https://localhost:8080/"
    },
    "executionInfo": {
     "elapsed": 288,
     "status": "ok",
     "timestamp": 1739535251759,
     "user": {
      "displayName": "Thammakorn SAETHANG",
      "userId": "08182570455347153646"
     },
     "user_tz": -420
    },
    "id": "646f9a9a-0fbc-4d1a-b226-f304045edaf5",
    "outputId": "dca4fb94-e161-4764-ed08-c5a4a5c8e4f4",
    "ExecuteTime": {
     "end_time": "2025-02-15T08:27:15.552470Z",
     "start_time": "2025-02-15T08:27:15.543486Z"
    }
   },
   "source": [
    "print('MAE:', metrics.mean_absolute_error(y_train, y_pred_train))\n",
    "print('MSE:', metrics.mean_squared_error(y_train, y_pred_train))\n",
    "print('RMSE:', np.sqrt(metrics.mean_squared_error(y_train, y_pred_train)))\n",
    "print('R2:', metrics.r2_score(y_train, y_pred_train))"
   ],
   "outputs": [
    {
     "name": "stdout",
     "output_type": "stream",
     "text": [
      "MAE: 764.1817518767039\n",
      "MSE: 1439843.8054226127\n",
      "RMSE: 1199.934917161182\n",
      "R2: 0.9303041720647994\n"
     ]
    }
   ],
   "execution_count": 34
  },
  {
   "cell_type": "markdown",
   "id": "b82c284c-5b6b-42cc-aef5-c175a75d5785",
   "metadata": {
    "id": "b82c284c-5b6b-42cc-aef5-c175a75d5785"
   },
   "source": [
    "- On test set"
   ]
  },
  {
   "cell_type": "code",
   "id": "eb1082a3-0f1f-4eb1-9a49-b3c82b9ac0f4",
   "metadata": {
    "colab": {
     "base_uri": "https://localhost:8080/"
    },
    "executionInfo": {
     "elapsed": 476,
     "status": "ok",
     "timestamp": 1739535257823,
     "user": {
      "displayName": "Thammakorn SAETHANG",
      "userId": "08182570455347153646"
     },
     "user_tz": -420
    },
    "id": "eb1082a3-0f1f-4eb1-9a49-b3c82b9ac0f4",
    "outputId": "c1feb77c-f695-4749-bac3-2cfa05bf2337",
    "ExecuteTime": {
     "end_time": "2025-02-15T08:27:15.624827Z",
     "start_time": "2025-02-15T08:27:15.615954Z"
    }
   },
   "source": [
    "print('MAE:', metrics.mean_absolute_error(y_test, y_pred_test))\n",
    "print('MSE:', metrics.mean_squared_error(y_test, y_pred_test))\n",
    "print('RMSE:', np.sqrt(metrics.mean_squared_error(y_test, y_pred_test)))\n",
    "print('R2:', metrics.r2_score(y_test, y_pred_test))"
   ],
   "outputs": [
    {
     "name": "stdout",
     "output_type": "stream",
     "text": [
      "MAE: 1314.8185817732567\n",
      "MSE: 6782855.464579652\n",
      "RMSE: 2604.391572820733\n",
      "R2: 0.7195228151649967\n"
     ]
    }
   ],
   "execution_count": 35
  },
  {
   "cell_type": "markdown",
   "id": "1f223550-dc05-4b03-ac5a-0232970850b4",
   "metadata": {
    "id": "1f223550-dc05-4b03-ac5a-0232970850b4"
   },
   "source": [
    "&nbsp;  \n",
    "#### <font color=\"color:blue\">**Plot Actual vs. Predicted healthcare_cost**</span>"
   ]
  },
  {
   "cell_type": "markdown",
   "id": "b10f17f8-f521-4046-8f87-4fafbe1069dd",
   "metadata": {
    "id": "b10f17f8-f521-4046-8f87-4fafbe1069dd"
   },
   "source": [
    "- On training set"
   ]
  },
  {
   "cell_type": "code",
   "id": "407be8af-d701-4b31-b6a3-ae5253fd875f",
   "metadata": {
    "colab": {
     "base_uri": "https://localhost:8080/",
     "height": 702
    },
    "executionInfo": {
     "elapsed": 370,
     "status": "ok",
     "timestamp": 1739535267389,
     "user": {
      "displayName": "Thammakorn SAETHANG",
      "userId": "08182570455347153646"
     },
     "user_tz": -420
    },
    "id": "407be8af-d701-4b31-b6a3-ae5253fd875f",
    "outputId": "dd190814-19c4-4284-d7f1-cf4d293c8705",
    "ExecuteTime": {
     "end_time": "2025-02-15T08:27:15.825015Z",
     "start_time": "2025-02-15T08:27:15.684211Z"
    }
   },
   "source": [
    "df_pred = pd.DataFrame({'obs': y_train.values.reshape(1, -1)[0], 'predict': y_pred_train.reshape(1, -1)[0]})\n",
    "display(df_pred.head())\n",
    "\n",
    "fig, ax = plt.subplots(figsize=(5, 5))\n",
    "sns.scatterplot(data=df_pred,\n",
    "               x='predict',\n",
    "               y='obs',\n",
    "               ax=ax)\n",
    "plt.xticks(rotation=90)\n",
    "diag = np.linspace(min(df_pred.obs), max(df_pred.obs))\n",
    "plt.plot(diag,\n",
    "         diag,\n",
    "         color = 'r')\n",
    "\n",
    "#Show R2 score in the plot\n",
    "plt.text(47500, 35000, f\"R2={metrics.r2_score(y_train, y_pred_train):.2f}\", horizontalalignment='left', size='small', color='red')"
   ],
   "outputs": [
    {
     "data": {
      "text/plain": [
       "           obs       predict\n",
       "0  37165.16380  36754.666796\n",
       "1  37701.87680  38217.119074\n",
       "2  39983.42595  39711.483411\n",
       "3  41034.22140  41700.379568\n",
       "4  39774.27630  40323.146994"
      ],
      "text/html": [
       "<div>\n",
       "<style scoped>\n",
       "    .dataframe tbody tr th:only-of-type {\n",
       "        vertical-align: middle;\n",
       "    }\n",
       "\n",
       "    .dataframe tbody tr th {\n",
       "        vertical-align: top;\n",
       "    }\n",
       "\n",
       "    .dataframe thead th {\n",
       "        text-align: right;\n",
       "    }\n",
       "</style>\n",
       "<table border=\"1\" class=\"dataframe\">\n",
       "  <thead>\n",
       "    <tr style=\"text-align: right;\">\n",
       "      <th></th>\n",
       "      <th>obs</th>\n",
       "      <th>predict</th>\n",
       "    </tr>\n",
       "  </thead>\n",
       "  <tbody>\n",
       "    <tr>\n",
       "      <th>0</th>\n",
       "      <td>37165.16380</td>\n",
       "      <td>36754.666796</td>\n",
       "    </tr>\n",
       "    <tr>\n",
       "      <th>1</th>\n",
       "      <td>37701.87680</td>\n",
       "      <td>38217.119074</td>\n",
       "    </tr>\n",
       "    <tr>\n",
       "      <th>2</th>\n",
       "      <td>39983.42595</td>\n",
       "      <td>39711.483411</td>\n",
       "    </tr>\n",
       "    <tr>\n",
       "      <th>3</th>\n",
       "      <td>41034.22140</td>\n",
       "      <td>41700.379568</td>\n",
       "    </tr>\n",
       "    <tr>\n",
       "      <th>4</th>\n",
       "      <td>39774.27630</td>\n",
       "      <td>40323.146994</td>\n",
       "    </tr>\n",
       "  </tbody>\n",
       "</table>\n",
       "</div>"
      ]
     },
     "metadata": {},
     "output_type": "display_data"
    },
    {
     "data": {
      "text/plain": [
       "Text(47500, 35000, 'R2=0.93')"
      ]
     },
     "execution_count": 36,
     "metadata": {},
     "output_type": "execute_result"
    },
    {
     "data": {
      "text/plain": [
       "<Figure size 500x500 with 1 Axes>"
      ],
      "image/png": "[encoded data removed]"
     },
     "metadata": {},
     "output_type": "display_data"
    }
   ],
   "execution_count": 36
  },
  {
   "cell_type": "markdown",
   "id": "fde4d722-0130-4111-9080-6f5344eb0880",
   "metadata": {
    "id": "fde4d722-0130-4111-9080-6f5344eb0880"
   },
   "source": [
    "- On test set"
   ]
  },
  {
   "cell_type": "code",
   "id": "20e2654f-a3d7-4a81-bd34-9891a4e5cd1a",
   "metadata": {
    "colab": {
     "base_uri": "https://localhost:8080/",
     "height": 702
    },
    "executionInfo": {
     "elapsed": 543,
     "status": "ok",
     "timestamp": 1739535329756,
     "user": {
      "displayName": "Thammakorn SAETHANG",
      "userId": "08182570455347153646"
     },
     "user_tz": -420
    },
    "id": "20e2654f-a3d7-4a81-bd34-9891a4e5cd1a",
    "outputId": "3bf100fb-09fe-4148-fd6e-f0cda346aeed",
    "ExecuteTime": {
     "end_time": "2025-02-15T08:27:16.084534Z",
     "start_time": "2025-02-15T08:27:15.951063Z"
    }
   },
   "source": [
    "df_pred = pd.DataFrame({'obs': y_test.values.reshape(1, -1)[0], 'predict': y_pred_test.reshape(1, -1)[0]})\n",
    "display(df_pred.head())\n",
    "\n",
    "fig, ax = plt.subplots(figsize=(5, 5))\n",
    "sns.scatterplot(data=df_pred,\n",
    "               x='predict',\n",
    "               y='obs',\n",
    "               ax=ax)\n",
    "plt.xticks(rotation=90)\n",
    "diag = np.linspace(min(df_pred.obs), max(df_pred.obs))\n",
    "plt.plot(diag,\n",
    "         diag,\n",
    "         color = 'r')\n",
    "\n",
    "#Show R2 score in the plot\n",
    "plt.text(47500, 35000, f\"R2={metrics.r2_score(y_test, y_pred_test):.2f}\", horizontalalignment='left', size='small', color='red')"
   ],
   "outputs": [
    {
     "data": {
      "text/plain": [
       "           obs       predict\n",
       "0  47896.79135  47645.830921\n",
       "1  42856.83800  43267.304139\n",
       "2  44585.45587  38048.152794\n",
       "3  51194.55914  38221.177003\n",
       "4  36950.25670  37940.762399"
      ],
      "text/html": [
       "<div>\n",
       "<style scoped>\n",
       "    .dataframe tbody tr th:only-of-type {\n",
       "        vertical-align: middle;\n",
       "    }\n",
       "\n",
       "    .dataframe tbody tr th {\n",
       "        vertical-align: top;\n",
       "    }\n",
       "\n",
       "    .dataframe thead th {\n",
       "        text-align: right;\n",
       "    }\n",
       "</style>\n",
       "<table border=\"1\" class=\"dataframe\">\n",
       "  <thead>\n",
       "    <tr style=\"text-align: right;\">\n",
       "      <th></th>\n",
       "      <th>obs</th>\n",
       "      <th>predict</th>\n",
       "    </tr>\n",
       "  </thead>\n",
       "  <tbody>\n",
       "    <tr>\n",
       "      <th>0</th>\n",
       "      <td>47896.79135</td>\n",
       "      <td>47645.830921</td>\n",
       "    </tr>\n",
       "    <tr>\n",
       "      <th>1</th>\n",
       "      <td>42856.83800</td>\n",
       "      <td>43267.304139</td>\n",
       "    </tr>\n",
       "    <tr>\n",
       "      <th>2</th>\n",
       "      <td>44585.45587</td>\n",
       "      <td>38048.152794</td>\n",
       "    </tr>\n",
       "    <tr>\n",
       "      <th>3</th>\n",
       "      <td>51194.55914</td>\n",
       "      <td>38221.177003</td>\n",
       "    </tr>\n",
       "    <tr>\n",
       "      <th>4</th>\n",
       "      <td>36950.25670</td>\n",
       "      <td>37940.762399</td>\n",
       "    </tr>\n",
       "  </tbody>\n",
       "</table>\n",
       "</div>"
      ]
     },
     "metadata": {},
     "output_type": "display_data"
    },
    {
     "data": {
      "text/plain": [
       "Text(47500, 35000, 'R2=0.72')"
      ]
     },
     "execution_count": 37,
     "metadata": {},
     "output_type": "execute_result"
    },
    {
     "data": {
      "text/plain": [
       "<Figure size 500x500 with 1 Axes>"
      ],
      "image/png": "[encoded data removed]"
     },
     "metadata": {},
     "output_type": "display_data"
    }
   ],
   "execution_count": 37
  },
  {
   "cell_type": "markdown",
   "id": "ed81cac9-59f2-4471-b792-140759975f33",
   "metadata": {
    "id": "ed81cac9-59f2-4471-b792-140759975f33"
   },
   "source": [
    "&nbsp;  \n",
    "#### <font color=\"color:blue\">**If we change the 'random_state' argument**</span>"
   ]
  },
  {
   "cell_type": "code",
   "id": "9cdebb04-85c3-40ed-859d-d63e9ebd6fbf",
   "metadata": {
    "colab": {
     "base_uri": "https://localhost:8080/"
    },
    "executionInfo": {
     "elapsed": 313,
     "status": "ok",
     "timestamp": 1739535289135,
     "user": {
      "displayName": "Thammakorn SAETHANG",
      "userId": "08182570455347153646"
     },
     "user_tz": -420
    },
    "id": "9cdebb04-85c3-40ed-859d-d63e9ebd6fbf",
    "outputId": "7a6bd78f-c539-4238-87c4-ad7da88e33bc",
    "ExecuteTime": {
     "end_time": "2025-02-15T08:27:16.182086Z",
     "start_time": "2025-02-15T08:27:16.165633Z"
    }
   },
   "source": [
    "X_train, X_test, y_train, y_test = train_test_split(X,\n",
    "                                                    y,\n",
    "                                                    test_size=0.3,\n",
    "                                                    random_state=2)# change from 1 to 2\n",
    "model = lr(fit_intercept=True)\n",
    "model.fit(X_train, y_train)\n",
    "\n",
    "y_pred_train = model.predict(X_train)\n",
    "y_pred_train.shape\n",
    "\n",
    "y_pred_test = model.predict(X_test)\n",
    "y_pred_test.shape\n",
    "\n",
    "print(\"coefficients:\", model.coef_)\n",
    "print(\"Intercept:\", model.intercept_)\n",
    "\n",
    "print(\"\\n---Training---\")\n",
    "print('MAE:', metrics.mean_absolute_error(y_train, y_pred_train))\n",
    "print('MSE:', metrics.mean_squared_error(y_train, y_pred_train))\n",
    "print('RMSE:', np.sqrt(metrics.mean_squared_error(y_train, y_pred_train)))\n",
    "print('R2:', metrics.r2_score(y_train, y_pred_train))\n",
    "\n",
    "print(\"\\n---Test---\")\n",
    "print('MAE:', metrics.mean_absolute_error(y_test, y_pred_test))\n",
    "print('MSE:', metrics.mean_squared_error(y_test, y_pred_test))\n",
    "print('RMSE:', np.sqrt(metrics.mean_squared_error(y_test, y_pred_test)))\n",
    "print('R2:', metrics.r2_score(y_test, y_pred_test))"
   ],
   "outputs": [
    {
     "name": "stdout",
     "output_type": "stream",
     "text": [
      "coefficients: [[ 278.00076116  498.69586565 -562.69997338 -429.71387286  932.85125266\n",
      "   -14.63583221]]\n",
      "Intercept: [12354.88839351]\n",
      "\n",
      "---Training---\n",
      "MAE: 936.6489864202837\n",
      "MSE: 2262172.679785338\n",
      "RMSE: 1504.0520867926543\n",
      "R2: 0.8938023170787366\n",
      "\n",
      "---Test---\n",
      "MAE: 1038.7733644874322\n",
      "MSE: 4797406.874289233\n",
      "RMSE: 2190.2983528024747\n",
      "R2: 0.7889674301093036\n"
     ]
    }
   ],
   "execution_count": 38
  },
  {
   "cell_type": "markdown",
   "id": "c1c6a1b2-a7e7-405b-a60b-0c7e64dd21c0",
   "metadata": {
    "id": "c1c6a1b2-a7e7-405b-a60b-0c7e64dd21c0",
    "tags": []
   },
   "source": [
    "&nbsp;  \n",
    "#### <font color=\"1f7d02\">*Comparison of Linear Regression Models*</span>"
   ]
  },
  {
   "cell_type": "markdown",
   "id": "7f9feb3b-bec7-4d8d-902f-5aeafd160456",
   "metadata": {
    "id": "7f9feb3b-bec7-4d8d-902f-5aeafd160456",
    "tags": []
   },
   "source": [
    "Now, we will compare 3 models **based on prediction performance of test set**:\n",
    "1. Model using age only\n",
    "2. Model using age + bmi\n",
    "3. Model using age + bmi + sex + district"
   ]
  },
  {
   "cell_type": "markdown",
   "id": "e8b0f47d-1b58-4824-b059-7a21c54b7560",
   "metadata": {
    "id": "e8b0f47d-1b58-4824-b059-7a21c54b7560"
   },
   "source": [
    "&nbsp;  \n",
    "Re-create feature and outcome data:"
   ]
  },
  {
   "cell_type": "code",
   "id": "3d978962-a789-46d4-8670-ff5519ab580b",
   "metadata": {
    "colab": {
     "base_uri": "https://localhost:8080/",
     "height": 423
    },
    "executionInfo": {
     "elapsed": 1291,
     "status": "ok",
     "timestamp": 1739535365014,
     "user": {
      "displayName": "Thammakorn SAETHANG",
      "userId": "08182570455347153646"
     },
     "user_tz": -420
    },
    "id": "3d978962-a789-46d4-8670-ff5519ab580b",
    "outputId": "c3188b21-dbbc-45c4-dbe9-9017c99ce571",
    "ExecuteTime": {
     "end_time": "2025-02-15T08:27:16.375Z",
     "start_time": "2025-02-15T08:27:16.361952Z"
    }
   },
   "source": [
    "X = pd.concat([df_g1_remOut[['age','bmi']],\n",
    "               pd.get_dummies(df_g1_remOut[['sex']], drop_first=True),\n",
    "               pd.get_dummies(df_g1_remOut[['district']], drop_first=True)],\n",
    "              axis=1)\n",
    "X"
   ],
   "outputs": [
    {
     "data": {
      "text/plain": [
       "      age     bmi  sex_male  district_DT2  district_DT3  district_DT4\n",
       "14     29  42.130      True          True         False         False\n",
       "19     32  35.300      True         False         False         False\n",
       "23     36  31.920     False         False         False          True\n",
       "29     33  36.300      True         False         False         False\n",
       "30     24  35.600      True         False         False         False\n",
       "...   ...     ...       ...           ...           ...           ...\n",
       "1291   21  34.900      True         False         False         False\n",
       "1301   64  30.875      True         False          True         False\n",
       "1308   27  30.200     False         False         False         False\n",
       "1313   21  34.700     False         False         False         False\n",
       "1323   44  40.370     False          True         False         False\n",
       "\n",
       "[138 rows x 6 columns]"
      ],
      "text/html": [
       "<div>\n",
       "<style scoped>\n",
       "    .dataframe tbody tr th:only-of-type {\n",
       "        vertical-align: middle;\n",
       "    }\n",
       "\n",
       "    .dataframe tbody tr th {\n",
       "        vertical-align: top;\n",
       "    }\n",
       "\n",
       "    .dataframe thead th {\n",
       "        text-align: right;\n",
       "    }\n",
       "</style>\n",
       "<table border=\"1\" class=\"dataframe\">\n",
       "  <thead>\n",
       "    <tr style=\"text-align: right;\">\n",
       "      <th></th>\n",
       "      <th>age</th>\n",
       "      <th>bmi</th>\n",
       "      <th>sex_male</th>\n",
       "      <th>district_DT2</th>\n",
       "      <th>district_DT3</th>\n",
       "      <th>district_DT4</th>\n",
       "    </tr>\n",
       "  </thead>\n",
       "  <tbody>\n",
       "    <tr>\n",
       "      <th>14</th>\n",
       "      <td>29</td>\n",
       "      <td>42.130</td>\n",
       "      <td>True</td>\n",
       "      <td>True</td>\n",
       "      <td>False</td>\n",
       "      <td>False</td>\n",
       "    </tr>\n",
       "    <tr>\n",
       "      <th>19</th>\n",
       "      <td>32</td>\n",
       "      <td>35.300</td>\n",
       "      <td>True</td>\n",
       "      <td>False</td>\n",
       "      <td>False</td>\n",
       "      <td>False</td>\n",
       "    </tr>\n",
       "    <tr>\n",
       "      <th>23</th>\n",
       "      <td>36</td>\n",
       "      <td>31.920</td>\n",
       "      <td>False</td>\n",
       "      <td>False</td>\n",
       "      <td>False</td>\n",
       "      <td>True</td>\n",
       "    </tr>\n",
       "    <tr>\n",
       "      <th>29</th>\n",
       "      <td>33</td>\n",
       "      <td>36.300</td>\n",
       "      <td>True</td>\n",
       "      <td>False</td>\n",
       "      <td>False</td>\n",
       "      <td>False</td>\n",
       "    </tr>\n",
       "    <tr>\n",
       "      <th>30</th>\n",
       "      <td>24</td>\n",
       "      <td>35.600</td>\n",
       "      <td>True</td>\n",
       "      <td>False</td>\n",
       "      <td>False</td>\n",
       "      <td>False</td>\n",
       "    </tr>\n",
       "    <tr>\n",
       "      <th>...</th>\n",
       "      <td>...</td>\n",
       "      <td>...</td>\n",
       "      <td>...</td>\n",
       "      <td>...</td>\n",
       "      <td>...</td>\n",
       "      <td>...</td>\n",
       "    </tr>\n",
       "    <tr>\n",
       "      <th>1291</th>\n",
       "      <td>21</td>\n",
       "      <td>34.900</td>\n",
       "      <td>True</td>\n",
       "      <td>False</td>\n",
       "      <td>False</td>\n",
       "      <td>False</td>\n",
       "    </tr>\n",
       "    <tr>\n",
       "      <th>1301</th>\n",
       "      <td>64</td>\n",
       "      <td>30.875</td>\n",
       "      <td>True</td>\n",
       "      <td>False</td>\n",
       "      <td>True</td>\n",
       "      <td>False</td>\n",
       "    </tr>\n",
       "    <tr>\n",
       "      <th>1308</th>\n",
       "      <td>27</td>\n",
       "      <td>30.200</td>\n",
       "      <td>False</td>\n",
       "      <td>False</td>\n",
       "      <td>False</td>\n",
       "      <td>False</td>\n",
       "    </tr>\n",
       "    <tr>\n",
       "      <th>1313</th>\n",
       "      <td>21</td>\n",
       "      <td>34.700</td>\n",
       "      <td>False</td>\n",
       "      <td>False</td>\n",
       "      <td>False</td>\n",
       "      <td>False</td>\n",
       "    </tr>\n",
       "    <tr>\n",
       "      <th>1323</th>\n",
       "      <td>44</td>\n",
       "      <td>40.370</td>\n",
       "      <td>False</td>\n",
       "      <td>True</td>\n",
       "      <td>False</td>\n",
       "      <td>False</td>\n",
       "    </tr>\n",
       "  </tbody>\n",
       "</table>\n",
       "<p>138 rows × 6 columns</p>\n",
       "</div>"
      ]
     },
     "execution_count": 39,
     "metadata": {},
     "output_type": "execute_result"
    }
   ],
   "execution_count": 39
  },
  {
   "cell_type": "code",
   "id": "27db7b63-aea7-4652-b1c6-16c39f9bb5ad",
   "metadata": {
    "colab": {
     "base_uri": "https://localhost:8080/",
     "height": 423
    },
    "executionInfo": {
     "elapsed": 326,
     "status": "ok",
     "timestamp": 1739535386354,
     "user": {
      "displayName": "Thammakorn SAETHANG",
      "userId": "08182570455347153646"
     },
     "user_tz": -420
    },
    "id": "27db7b63-aea7-4652-b1c6-16c39f9bb5ad",
    "outputId": "e4cdd024-3e53-4cc9-c02c-821cda36ec00",
    "ExecuteTime": {
     "end_time": "2025-02-15T08:27:16.439694Z",
     "start_time": "2025-02-15T08:27:16.431740Z"
    }
   },
   "source": [
    "y = df_g1_remOut.filter(['healthcare_cost'])\n",
    "y"
   ],
   "outputs": [
    {
     "data": {
      "text/plain": [
       "      healthcare_cost\n",
       "14        39611.75770\n",
       "19        36837.46700\n",
       "23        37701.87680\n",
       "29        38711.00000\n",
       "30        35585.57600\n",
       "...               ...\n",
       "1291      34828.65400\n",
       "1301      46718.16325\n",
       "1308      33900.65300\n",
       "1313      36397.57600\n",
       "1323      43896.37630\n",
       "\n",
       "[138 rows x 1 columns]"
      ],
      "text/html": [
       "<div>\n",
       "<style scoped>\n",
       "    .dataframe tbody tr th:only-of-type {\n",
       "        vertical-align: middle;\n",
       "    }\n",
       "\n",
       "    .dataframe tbody tr th {\n",
       "        vertical-align: top;\n",
       "    }\n",
       "\n",
       "    .dataframe thead th {\n",
       "        text-align: right;\n",
       "    }\n",
       "</style>\n",
       "<table border=\"1\" class=\"dataframe\">\n",
       "  <thead>\n",
       "    <tr style=\"text-align: right;\">\n",
       "      <th></th>\n",
       "      <th>healthcare_cost</th>\n",
       "    </tr>\n",
       "  </thead>\n",
       "  <tbody>\n",
       "    <tr>\n",
       "      <th>14</th>\n",
       "      <td>39611.75770</td>\n",
       "    </tr>\n",
       "    <tr>\n",
       "      <th>19</th>\n",
       "      <td>36837.46700</td>\n",
       "    </tr>\n",
       "    <tr>\n",
       "      <th>23</th>\n",
       "      <td>37701.87680</td>\n",
       "    </tr>\n",
       "    <tr>\n",
       "      <th>29</th>\n",
       "      <td>38711.00000</td>\n",
       "    </tr>\n",
       "    <tr>\n",
       "      <th>30</th>\n",
       "      <td>35585.57600</td>\n",
       "    </tr>\n",
       "    <tr>\n",
       "      <th>...</th>\n",
       "      <td>...</td>\n",
       "    </tr>\n",
       "    <tr>\n",
       "      <th>1291</th>\n",
       "      <td>34828.65400</td>\n",
       "    </tr>\n",
       "    <tr>\n",
       "      <th>1301</th>\n",
       "      <td>46718.16325</td>\n",
       "    </tr>\n",
       "    <tr>\n",
       "      <th>1308</th>\n",
       "      <td>33900.65300</td>\n",
       "    </tr>\n",
       "    <tr>\n",
       "      <th>1313</th>\n",
       "      <td>36397.57600</td>\n",
       "    </tr>\n",
       "    <tr>\n",
       "      <th>1323</th>\n",
       "      <td>43896.37630</td>\n",
       "    </tr>\n",
       "  </tbody>\n",
       "</table>\n",
       "<p>138 rows × 1 columns</p>\n",
       "</div>"
      ]
     },
     "execution_count": 40,
     "metadata": {},
     "output_type": "execute_result"
    }
   ],
   "execution_count": 40
  },
  {
   "cell_type": "markdown",
   "id": "4738bcac-0170-4d7d-b4a8-f43dc96b5c63",
   "metadata": {
    "id": "4738bcac-0170-4d7d-b4a8-f43dc96b5c63"
   },
   "source": [
    "&nbsp;  \n",
    "#### <font color=\"color:blue\">**1. Model using age only**</span>"
   ]
  },
  {
   "cell_type": "code",
   "id": "fa2555b8-8141-4211-8687-bac843fd8000",
   "metadata": {
    "colab": {
     "base_uri": "https://localhost:8080/",
     "height": 206
    },
    "executionInfo": {
     "elapsed": 460,
     "status": "ok",
     "timestamp": 1739535503421,
     "user": {
      "displayName": "Thammakorn SAETHANG",
      "userId": "08182570455347153646"
     },
     "user_tz": -420
    },
    "id": "fa2555b8-8141-4211-8687-bac843fd8000",
    "outputId": "37dc2ec6-4a40-43f9-9c38-073cf3faa665",
    "ExecuteTime": {
     "end_time": "2025-02-15T08:27:16.525351Z",
     "start_time": "2025-02-15T08:27:16.517917Z"
    }
   },
   "source": [
    "X1 = X.filter(['age'])\n",
    "X1.head()"
   ],
   "outputs": [
    {
     "data": {
      "text/plain": [
       "    age\n",
       "14   29\n",
       "19   32\n",
       "23   36\n",
       "29   33\n",
       "30   24"
      ],
      "text/html": [
       "<div>\n",
       "<style scoped>\n",
       "    .dataframe tbody tr th:only-of-type {\n",
       "        vertical-align: middle;\n",
       "    }\n",
       "\n",
       "    .dataframe tbody tr th {\n",
       "        vertical-align: top;\n",
       "    }\n",
       "\n",
       "    .dataframe thead th {\n",
       "        text-align: right;\n",
       "    }\n",
       "</style>\n",
       "<table border=\"1\" class=\"dataframe\">\n",
       "  <thead>\n",
       "    <tr style=\"text-align: right;\">\n",
       "      <th></th>\n",
       "      <th>age</th>\n",
       "    </tr>\n",
       "  </thead>\n",
       "  <tbody>\n",
       "    <tr>\n",
       "      <th>14</th>\n",
       "      <td>29</td>\n",
       "    </tr>\n",
       "    <tr>\n",
       "      <th>19</th>\n",
       "      <td>32</td>\n",
       "    </tr>\n",
       "    <tr>\n",
       "      <th>23</th>\n",
       "      <td>36</td>\n",
       "    </tr>\n",
       "    <tr>\n",
       "      <th>29</th>\n",
       "      <td>33</td>\n",
       "    </tr>\n",
       "    <tr>\n",
       "      <th>30</th>\n",
       "      <td>24</td>\n",
       "    </tr>\n",
       "  </tbody>\n",
       "</table>\n",
       "</div>"
      ]
     },
     "execution_count": 41,
     "metadata": {},
     "output_type": "execute_result"
    }
   ],
   "execution_count": 41
  },
  {
   "cell_type": "code",
   "id": "a305a61c-89e6-42a0-a86b-1d8ca298ccff",
   "metadata": {
    "colab": {
     "base_uri": "https://localhost:8080/"
    },
    "executionInfo": {
     "elapsed": 275,
     "status": "ok",
     "timestamp": 1739535505958,
     "user": {
      "displayName": "Thammakorn SAETHANG",
      "userId": "08182570455347153646"
     },
     "user_tz": -420
    },
    "id": "a305a61c-89e6-42a0-a86b-1d8ca298ccff",
    "outputId": "6df96029-0f03-49e6-e68f-476a2baabd42",
    "ExecuteTime": {
     "end_time": "2025-02-15T08:27:16.703006Z",
     "start_time": "2025-02-15T08:27:16.690986Z"
    }
   },
   "source": [
    "X_train, X_test, y_train, y_test = train_test_split(X1,\n",
    "                                                    y,\n",
    "                                                    test_size=0.3,\n",
    "                                                    random_state=1)\n",
    "model = lr(fit_intercept=True)\n",
    "model.fit(X_train, y_train)\n",
    "\n",
    "y_pred_test = model.predict(X_test)\n",
    "\n",
    "print('MAE:', metrics.mean_absolute_error(y_test, y_pred_test))\n",
    "print('MSE:', metrics.mean_squared_error(y_test, y_pred_test))\n",
    "print('RMSE:', np.sqrt(metrics.mean_squared_error(y_test, y_pred_test)))\n",
    "print('R2:', metrics.r2_score(y_test, y_pred_test))"
   ],
   "outputs": [
    {
     "name": "stdout",
     "output_type": "stream",
     "text": [
      "MAE: 2152.0591794048078\n",
      "MSE: 9635985.885412404\n",
      "RMSE: 3104.1884423166716\n",
      "R2: 0.6015433015838576\n"
     ]
    }
   ],
   "execution_count": 42
  },
  {
   "cell_type": "markdown",
   "id": "cc49f863-05d6-4c97-802e-83f39a37a801",
   "metadata": {
    "id": "cc49f863-05d6-4c97-802e-83f39a37a801"
   },
   "source": [
    "\\\n",
    "Perform train-test split 100 times using 'random_state' from 0 to 99 and then collect performance results."
   ]
  },
  {
   "cell_type": "code",
   "id": "d8499730-7cd8-424c-9ec8-26e9df7cddec",
   "metadata": {
    "colab": {
     "base_uri": "https://localhost:8080/",
     "height": 423
    },
    "executionInfo": {
     "elapsed": 1094,
     "status": "ok",
     "timestamp": 1739535512189,
     "user": {
      "displayName": "Thammakorn SAETHANG",
      "userId": "08182570455347153646"
     },
     "user_tz": -420
    },
    "id": "d8499730-7cd8-424c-9ec8-26e9df7cddec",
    "outputId": "5ddfacd8-eca3-4f07-81c8-ee4613ebe027",
    "ExecuteTime": {
     "end_time": "2025-02-15T08:27:17.495931Z",
     "start_time": "2025-02-15T08:27:16.888950Z"
    }
   },
   "source": [
    "perf_res = {}\n",
    "perf_res['MAE']=[]\n",
    "perf_res['MSE']=[]\n",
    "perf_res['RMSE']=[]\n",
    "perf_res['R2']=[]\n",
    "\n",
    "for rs in range(100):\n",
    "    X_train, X_test, y_train, y_test = train_test_split(X1,\n",
    "                                                        y,\n",
    "                                                        test_size=0.3,\n",
    "                                                        random_state=rs)\n",
    "    model = lr(fit_intercept=True)\n",
    "    model.fit(X_train, y_train)\n",
    "\n",
    "    y_pred_test = model.predict(X_test)\n",
    "\n",
    "    perf_res['MAE'].append(metrics.mean_absolute_error(y_test, y_pred_test))\n",
    "    perf_res['MSE'].append(metrics.mean_squared_error(y_test, y_pred_test))\n",
    "    perf_res['RMSE'].append(np.sqrt(metrics.mean_squared_error(y_test, y_pred_test)))\n",
    "    perf_res['R2'].append(metrics.r2_score(y_test, y_pred_test))\n",
    "\n",
    "perf1 = pd.DataFrame(perf_res)\n",
    "perf1"
   ],
   "outputs": [
    {
     "data": {
      "text/plain": [
       "            MAE           MSE         RMSE        R2\n",
       "0   1831.976177  5.662115e+06  2379.519978  0.722544\n",
       "1   2152.059179  9.635986e+06  3104.188442  0.601543\n",
       "2   1951.986284  7.867508e+06  2804.907862  0.653917\n",
       "3   1889.675891  8.622962e+06  2936.488091  0.491164\n",
       "4   1964.972311  9.625379e+06  3102.479469  0.513835\n",
       "..          ...           ...          ...       ...\n",
       "95  1798.601476  5.211360e+06  2282.840330  0.759903\n",
       "96  2578.195481  1.211843e+07  3481.153480  0.395405\n",
       "97  1953.067044  6.010679e+06  2451.668599  0.745665\n",
       "98  1936.004461  5.825552e+06  2413.618068  0.675886\n",
       "99  2099.529107  6.537887e+06  2556.929147  0.737240\n",
       "\n",
       "[100 rows x 4 columns]"
      ],
      "text/html": [
       "<div>\n",
       "<style scoped>\n",
       "    .dataframe tbody tr th:only-of-type {\n",
       "        vertical-align: middle;\n",
       "    }\n",
       "\n",
       "    .dataframe tbody tr th {\n",
       "        vertical-align: top;\n",
       "    }\n",
       "\n",
       "    .dataframe thead th {\n",
       "        text-align: right;\n",
       "    }\n",
       "</style>\n",
       "<table border=\"1\" class=\"dataframe\">\n",
       "  <thead>\n",
       "    <tr style=\"text-align: right;\">\n",
       "      <th></th>\n",
       "      <th>MAE</th>\n",
       "      <th>MSE</th>\n",
       "      <th>RMSE</th>\n",
       "      <th>R2</th>\n",
       "    </tr>\n",
       "  </thead>\n",
       "  <tbody>\n",
       "    <tr>\n",
       "      <th>0</th>\n",
       "      <td>1831.976177</td>\n",
       "      <td>5.662115e+06</td>\n",
       "      <td>2379.519978</td>\n",
       "      <td>0.722544</td>\n",
       "    </tr>\n",
       "    <tr>\n",
       "      <th>1</th>\n",
       "      <td>2152.059179</td>\n",
       "      <td>9.635986e+06</td>\n",
       "      <td>3104.188442</td>\n",
       "      <td>0.601543</td>\n",
       "    </tr>\n",
       "    <tr>\n",
       "      <th>2</th>\n",
       "      <td>1951.986284</td>\n",
       "      <td>7.867508e+06</td>\n",
       "      <td>2804.907862</td>\n",
       "      <td>0.653917</td>\n",
       "    </tr>\n",
       "    <tr>\n",
       "      <th>3</th>\n",
       "      <td>1889.675891</td>\n",
       "      <td>8.622962e+06</td>\n",
       "      <td>2936.488091</td>\n",
       "      <td>0.491164</td>\n",
       "    </tr>\n",
       "    <tr>\n",
       "      <th>4</th>\n",
       "      <td>1964.972311</td>\n",
       "      <td>9.625379e+06</td>\n",
       "      <td>3102.479469</td>\n",
       "      <td>0.513835</td>\n",
       "    </tr>\n",
       "    <tr>\n",
       "      <th>...</th>\n",
       "      <td>...</td>\n",
       "      <td>...</td>\n",
       "      <td>...</td>\n",
       "      <td>...</td>\n",
       "    </tr>\n",
       "    <tr>\n",
       "      <th>95</th>\n",
       "      <td>1798.601476</td>\n",
       "      <td>5.211360e+06</td>\n",
       "      <td>2282.840330</td>\n",
       "      <td>0.759903</td>\n",
       "    </tr>\n",
       "    <tr>\n",
       "      <th>96</th>\n",
       "      <td>2578.195481</td>\n",
       "      <td>1.211843e+07</td>\n",
       "      <td>3481.153480</td>\n",
       "      <td>0.395405</td>\n",
       "    </tr>\n",
       "    <tr>\n",
       "      <th>97</th>\n",
       "      <td>1953.067044</td>\n",
       "      <td>6.010679e+06</td>\n",
       "      <td>2451.668599</td>\n",
       "      <td>0.745665</td>\n",
       "    </tr>\n",
       "    <tr>\n",
       "      <th>98</th>\n",
       "      <td>1936.004461</td>\n",
       "      <td>5.825552e+06</td>\n",
       "      <td>2413.618068</td>\n",
       "      <td>0.675886</td>\n",
       "    </tr>\n",
       "    <tr>\n",
       "      <th>99</th>\n",
       "      <td>2099.529107</td>\n",
       "      <td>6.537887e+06</td>\n",
       "      <td>2556.929147</td>\n",
       "      <td>0.737240</td>\n",
       "    </tr>\n",
       "  </tbody>\n",
       "</table>\n",
       "<p>100 rows × 4 columns</p>\n",
       "</div>"
      ]
     },
     "execution_count": 43,
     "metadata": {},
     "output_type": "execute_result"
    }
   ],
   "execution_count": 43
  },
  {
   "cell_type": "markdown",
   "id": "6fcf53f6-4163-47ed-9b2d-6e76a45a9313",
   "metadata": {
    "id": "6fcf53f6-4163-47ed-9b2d-6e76a45a9313"
   },
   "source": [
    "\\\n",
    "If we use describe(), we can see that ranges from max to min values and stds are large."
   ]
  },
  {
   "cell_type": "code",
   "id": "84e0fb0b-d320-4115-aec6-d33df21e1998",
   "metadata": {
    "colab": {
     "base_uri": "https://localhost:8080/",
     "height": 300
    },
    "executionInfo": {
     "elapsed": 290,
     "status": "ok",
     "timestamp": 1739535523955,
     "user": {
      "displayName": "Thammakorn SAETHANG",
      "userId": "08182570455347153646"
     },
     "user_tz": -420
    },
    "id": "84e0fb0b-d320-4115-aec6-d33df21e1998",
    "outputId": "07cffe65-f466-4560-f2ee-3f58eebb2056",
    "ExecuteTime": {
     "end_time": "2025-02-15T08:27:17.556565Z",
     "start_time": "2025-02-15T08:27:17.543563Z"
    }
   },
   "source": [
    "perf1.describe()"
   ],
   "outputs": [
    {
     "data": {
      "text/plain": [
       "               MAE           MSE         RMSE          R2\n",
       "count   100.000000  1.000000e+02   100.000000  100.000000\n",
       "mean   1998.499620  7.165596e+06  2644.734816    0.662337\n",
       "std     209.604911  2.225948e+06   415.572762    0.108281\n",
       "min    1428.508345  2.965123e+06  1721.953179    0.389762\n",
       "25%    1863.748767  5.378981e+06  2319.249572    0.592265\n",
       "50%    1986.623198  6.826820e+06  2612.765807    0.664630\n",
       "75%    2143.365129  8.751797e+06  2958.343064    0.750382\n",
       "max    2578.195481  1.257342e+07  3545.902236    0.861374"
      ],
      "text/html": [
       "<div>\n",
       "<style scoped>\n",
       "    .dataframe tbody tr th:only-of-type {\n",
       "        vertical-align: middle;\n",
       "    }\n",
       "\n",
       "    .dataframe tbody tr th {\n",
       "        vertical-align: top;\n",
       "    }\n",
       "\n",
       "    .dataframe thead th {\n",
       "        text-align: right;\n",
       "    }\n",
       "</style>\n",
       "<table border=\"1\" class=\"dataframe\">\n",
       "  <thead>\n",
       "    <tr style=\"text-align: right;\">\n",
       "      <th></th>\n",
       "      <th>MAE</th>\n",
       "      <th>MSE</th>\n",
       "      <th>RMSE</th>\n",
       "      <th>R2</th>\n",
       "    </tr>\n",
       "  </thead>\n",
       "  <tbody>\n",
       "    <tr>\n",
       "      <th>count</th>\n",
       "      <td>100.000000</td>\n",
       "      <td>1.000000e+02</td>\n",
       "      <td>100.000000</td>\n",
       "      <td>100.000000</td>\n",
       "    </tr>\n",
       "    <tr>\n",
       "      <th>mean</th>\n",
       "      <td>1998.499620</td>\n",
       "      <td>7.165596e+06</td>\n",
       "      <td>2644.734816</td>\n",
       "      <td>0.662337</td>\n",
       "    </tr>\n",
       "    <tr>\n",
       "      <th>std</th>\n",
       "      <td>209.604911</td>\n",
       "      <td>2.225948e+06</td>\n",
       "      <td>415.572762</td>\n",
       "      <td>0.108281</td>\n",
       "    </tr>\n",
       "    <tr>\n",
       "      <th>min</th>\n",
       "      <td>1428.508345</td>\n",
       "      <td>2.965123e+06</td>\n",
       "      <td>1721.953179</td>\n",
       "      <td>0.389762</td>\n",
       "    </tr>\n",
       "    <tr>\n",
       "      <th>25%</th>\n",
       "      <td>1863.748767</td>\n",
       "      <td>5.378981e+06</td>\n",
       "      <td>2319.249572</td>\n",
       "      <td>0.592265</td>\n",
       "    </tr>\n",
       "    <tr>\n",
       "      <th>50%</th>\n",
       "      <td>1986.623198</td>\n",
       "      <td>6.826820e+06</td>\n",
       "      <td>2612.765807</td>\n",
       "      <td>0.664630</td>\n",
       "    </tr>\n",
       "    <tr>\n",
       "      <th>75%</th>\n",
       "      <td>2143.365129</td>\n",
       "      <td>8.751797e+06</td>\n",
       "      <td>2958.343064</td>\n",
       "      <td>0.750382</td>\n",
       "    </tr>\n",
       "    <tr>\n",
       "      <th>max</th>\n",
       "      <td>2578.195481</td>\n",
       "      <td>1.257342e+07</td>\n",
       "      <td>3545.902236</td>\n",
       "      <td>0.861374</td>\n",
       "    </tr>\n",
       "  </tbody>\n",
       "</table>\n",
       "</div>"
      ]
     },
     "execution_count": 44,
     "metadata": {},
     "output_type": "execute_result"
    }
   ],
   "execution_count": 44
  },
  {
   "cell_type": "markdown",
   "id": "61dfdbdf-3db5-4f1a-b0c0-f4d61c56a1bb",
   "metadata": {
    "id": "61dfdbdf-3db5-4f1a-b0c0-f4d61c56a1bb"
   },
   "source": [
    "\\\n",
    "Let's focus on R2."
   ]
  },
  {
   "cell_type": "code",
   "id": "a330c482-b224-4807-bdd7-6b8f769fe6f7",
   "metadata": {
    "colab": {
     "base_uri": "https://localhost:8080/",
     "height": 568
    },
    "executionInfo": {
     "elapsed": 814,
     "status": "ok",
     "timestamp": 1739535550720,
     "user": {
      "displayName": "Thammakorn SAETHANG",
      "userId": "08182570455347153646"
     },
     "user_tz": -420
    },
    "id": "a330c482-b224-4807-bdd7-6b8f769fe6f7",
    "outputId": "87f30069-b87b-4793-bf18-8022104bc2fc",
    "ExecuteTime": {
     "end_time": "2025-02-15T08:27:17.805515Z",
     "start_time": "2025-02-15T08:27:17.607883Z"
    }
   },
   "source": [
    "sns.displot(perf1.R2, kind='kde')\n",
    "plt.title(f\"Lr using age only R2\\n mean R2={perf1.R2.mean():.2f}\")\n",
    "plt.axvline(perf1.R2.mean(), c='r', ls='--')"
   ],
   "outputs": [
    {
     "data": {
      "text/plain": [
       "<matplotlib.lines.Line2D at 0x1373b716ae0>"
      ]
     },
     "execution_count": 45,
     "metadata": {},
     "output_type": "execute_result"
    },
    {
     "data": {
      "text/plain": [
       "<Figure size 500x500 with 1 Axes>"
      ],
      "image/png": "[encoded data removed]"
     },
     "metadata": {},
     "output_type": "display_data"
    }
   ],
   "execution_count": 45
  },
  {
   "cell_type": "code",
   "id": "9a4b9724-e1fa-4bad-af00-b6ab625ab4a6",
   "metadata": {
    "colab": {
     "base_uri": "https://localhost:8080/"
    },
    "executionInfo": {
     "elapsed": 289,
     "status": "ok",
     "timestamp": 1739535562802,
     "user": {
      "displayName": "Thammakorn SAETHANG",
      "userId": "08182570455347153646"
     },
     "user_tz": -420
    },
    "id": "9a4b9724-e1fa-4bad-af00-b6ab625ab4a6",
    "outputId": "75bf6d95-1c85-4609-d6f2-04dd4929948b",
    "ExecuteTime": {
     "end_time": "2025-02-15T08:27:18.021895Z",
     "start_time": "2025-02-15T08:27:18.015895Z"
    }
   },
   "source": [
    "stats.shapiro(perf1.R2)"
   ],
   "outputs": [
    {
     "data": {
      "text/plain": [
       "ShapiroResult(statistic=0.959478010698005, pvalue=0.003691587110374067)"
      ]
     },
     "execution_count": 46,
     "metadata": {},
     "output_type": "execute_result"
    }
   ],
   "execution_count": 46
  },
  {
   "cell_type": "markdown",
   "id": "4170de4f-3dd9-4f80-b888-ef4f91743c5c",
   "metadata": {
    "id": "4170de4f-3dd9-4f80-b888-ef4f91743c5c"
   },
   "source": [
    "Shapiros's p-value < 0.05, indicates that R2 values are not normally distributed.\n",
    "ถ้าเรามี Data มากพอ เราก็ไม่จำเป้นที่จะต้องเปรียบเทียบด้วยวิธีทางสถิติ"
   ]
  },
  {
   "cell_type": "markdown",
   "id": "e31417e9-c761-4d1e-9592-3412c1ed1d24",
   "metadata": {
    "id": "e31417e9-c761-4d1e-9592-3412c1ed1d24"
   },
   "source": [
    "&nbsp;  \n",
    "#### <font color=\"color:blue\">**2. Model using age + bmi**</span>"
   ]
  },
  {
   "cell_type": "code",
   "id": "81460cbd-1ecc-40fb-a30d-3b8a86ed921a",
   "metadata": {
    "colab": {
     "base_uri": "https://localhost:8080/",
     "height": 206
    },
    "executionInfo": {
     "elapsed": 286,
     "status": "ok",
     "timestamp": 1739535579387,
     "user": {
      "displayName": "Thammakorn SAETHANG",
      "userId": "08182570455347153646"
     },
     "user_tz": -420
    },
    "id": "81460cbd-1ecc-40fb-a30d-3b8a86ed921a",
    "outputId": "fbcf4fd4-b0d7-4588-c49d-2a64e3ea24eb",
    "ExecuteTime": {
     "end_time": "2025-02-15T08:27:18.143733Z",
     "start_time": "2025-02-15T08:27:18.135701Z"
    }
   },
   "source": [
    "X2 = X.filter(['age', 'bmi'])\n",
    "X2.head()"
   ],
   "outputs": [
    {
     "data": {
      "text/plain": [
       "    age    bmi\n",
       "14   29  42.13\n",
       "19   32  35.30\n",
       "23   36  31.92\n",
       "29   33  36.30\n",
       "30   24  35.60"
      ],
      "text/html": [
       "<div>\n",
       "<style scoped>\n",
       "    .dataframe tbody tr th:only-of-type {\n",
       "        vertical-align: middle;\n",
       "    }\n",
       "\n",
       "    .dataframe tbody tr th {\n",
       "        vertical-align: top;\n",
       "    }\n",
       "\n",
       "    .dataframe thead th {\n",
       "        text-align: right;\n",
       "    }\n",
       "</style>\n",
       "<table border=\"1\" class=\"dataframe\">\n",
       "  <thead>\n",
       "    <tr style=\"text-align: right;\">\n",
       "      <th></th>\n",
       "      <th>age</th>\n",
       "      <th>bmi</th>\n",
       "    </tr>\n",
       "  </thead>\n",
       "  <tbody>\n",
       "    <tr>\n",
       "      <th>14</th>\n",
       "      <td>29</td>\n",
       "      <td>42.13</td>\n",
       "    </tr>\n",
       "    <tr>\n",
       "      <th>19</th>\n",
       "      <td>32</td>\n",
       "      <td>35.30</td>\n",
       "    </tr>\n",
       "    <tr>\n",
       "      <th>23</th>\n",
       "      <td>36</td>\n",
       "      <td>31.92</td>\n",
       "    </tr>\n",
       "    <tr>\n",
       "      <th>29</th>\n",
       "      <td>33</td>\n",
       "      <td>36.30</td>\n",
       "    </tr>\n",
       "    <tr>\n",
       "      <th>30</th>\n",
       "      <td>24</td>\n",
       "      <td>35.60</td>\n",
       "    </tr>\n",
       "  </tbody>\n",
       "</table>\n",
       "</div>"
      ]
     },
     "execution_count": 47,
     "metadata": {},
     "output_type": "execute_result"
    }
   ],
   "execution_count": 47
  },
  {
   "cell_type": "markdown",
   "id": "e53a5f1e-a3f4-40e6-b706-048bf914001e",
   "metadata": {
    "id": "e53a5f1e-a3f4-40e6-b706-048bf914001e"
   },
   "source": [
    "\\\n",
    "Perform train-test split 100 times using 'random_state' from 0 to 99 and then collect performance results."
   ]
  },
  {
   "cell_type": "code",
   "id": "2e27db01-c212-450c-8211-38ba352a70b3",
   "metadata": {
    "colab": {
     "base_uri": "https://localhost:8080/",
     "height": 423
    },
    "executionInfo": {
     "elapsed": 1219,
     "status": "ok",
     "timestamp": 1739535583201,
     "user": {
      "displayName": "Thammakorn SAETHANG",
      "userId": "08182570455347153646"
     },
     "user_tz": -420
    },
    "id": "2e27db01-c212-450c-8211-38ba352a70b3",
    "outputId": "8984ee02-31de-43d2-b3df-87ad9913d8cc",
    "ExecuteTime": {
     "end_time": "2025-02-15T08:27:19.181024Z",
     "start_time": "2025-02-15T08:27:18.295692Z"
    }
   },
   "source": [
    "perf_res = {}\n",
    "perf_res['MAE']=[]\n",
    "perf_res['MSE']=[]\n",
    "perf_res['RMSE']=[]\n",
    "perf_res['R2']=[]\n",
    "\n",
    "for rs in range(100):\n",
    "    X_train, X_test, y_train, y_test = train_test_split(X2,\n",
    "                                                        y,\n",
    "                                                        test_size=0.3,\n",
    "                                                        random_state=rs)\n",
    "    model = lr(fit_intercept=True)\n",
    "    model.fit(X_train, y_train)\n",
    "\n",
    "    y_pred_test = model.predict(X_test)\n",
    "\n",
    "    perf_res['MAE'].append(metrics.mean_absolute_error(y_test, y_pred_test))\n",
    "    perf_res['MSE'].append(metrics.mean_squared_error(y_test, y_pred_test))\n",
    "    perf_res['RMSE'].append(np.sqrt(metrics.mean_squared_error(y_test, y_pred_test)))\n",
    "    perf_res['R2'].append(metrics.r2_score(y_test, y_pred_test))\n",
    "\n",
    "perf2 = pd.DataFrame(perf_res)\n",
    "perf2"
   ],
   "outputs": [
    {
     "data": {
      "text/plain": [
       "            MAE           MSE         RMSE        R2\n",
       "0    754.487101  8.147029e+05   902.608926  0.960078\n",
       "1   1359.503533  6.897340e+06  2626.278722  0.714789\n",
       "2   1039.627686  4.650231e+06  2156.439428  0.795442\n",
       "3   1331.899768  7.005166e+06  2646.727379  0.586629\n",
       "4   1130.699298  5.625407e+06  2371.794018  0.715868\n",
       "..          ...           ...          ...       ...\n",
       "95  1184.371734  3.271884e+06  1808.834861  0.849259\n",
       "96  1262.948701  5.718883e+06  2391.418526  0.714682\n",
       "97  1119.505102  3.772444e+06  1942.278114  0.840373\n",
       "98  1256.806841  3.763477e+06  1939.968384  0.790613\n",
       "99  1260.553755  4.086137e+06  2021.419615  0.835777\n",
       "\n",
       "[100 rows x 4 columns]"
      ],
      "text/html": [
       "<div>\n",
       "<style scoped>\n",
       "    .dataframe tbody tr th:only-of-type {\n",
       "        vertical-align: middle;\n",
       "    }\n",
       "\n",
       "    .dataframe tbody tr th {\n",
       "        vertical-align: top;\n",
       "    }\n",
       "\n",
       "    .dataframe thead th {\n",
       "        text-align: right;\n",
       "    }\n",
       "</style>\n",
       "<table border=\"1\" class=\"dataframe\">\n",
       "  <thead>\n",
       "    <tr style=\"text-align: right;\">\n",
       "      <th></th>\n",
       "      <th>MAE</th>\n",
       "      <th>MSE</th>\n",
       "      <th>RMSE</th>\n",
       "      <th>R2</th>\n",
       "    </tr>\n",
       "  </thead>\n",
       "  <tbody>\n",
       "    <tr>\n",
       "      <th>0</th>\n",
       "      <td>754.487101</td>\n",
       "      <td>8.147029e+05</td>\n",
       "      <td>902.608926</td>\n",
       "      <td>0.960078</td>\n",
       "    </tr>\n",
       "    <tr>\n",
       "      <th>1</th>\n",
       "      <td>1359.503533</td>\n",
       "      <td>6.897340e+06</td>\n",
       "      <td>2626.278722</td>\n",
       "      <td>0.714789</td>\n",
       "    </tr>\n",
       "    <tr>\n",
       "      <th>2</th>\n",
       "      <td>1039.627686</td>\n",
       "      <td>4.650231e+06</td>\n",
       "      <td>2156.439428</td>\n",
       "      <td>0.795442</td>\n",
       "    </tr>\n",
       "    <tr>\n",
       "      <th>3</th>\n",
       "      <td>1331.899768</td>\n",
       "      <td>7.005166e+06</td>\n",
       "      <td>2646.727379</td>\n",
       "      <td>0.586629</td>\n",
       "    </tr>\n",
       "    <tr>\n",
       "      <th>4</th>\n",
       "      <td>1130.699298</td>\n",
       "      <td>5.625407e+06</td>\n",
       "      <td>2371.794018</td>\n",
       "      <td>0.715868</td>\n",
       "    </tr>\n",
       "    <tr>\n",
       "      <th>...</th>\n",
       "      <td>...</td>\n",
       "      <td>...</td>\n",
       "      <td>...</td>\n",
       "      <td>...</td>\n",
       "    </tr>\n",
       "    <tr>\n",
       "      <th>95</th>\n",
       "      <td>1184.371734</td>\n",
       "      <td>3.271884e+06</td>\n",
       "      <td>1808.834861</td>\n",
       "      <td>0.849259</td>\n",
       "    </tr>\n",
       "    <tr>\n",
       "      <th>96</th>\n",
       "      <td>1262.948701</td>\n",
       "      <td>5.718883e+06</td>\n",
       "      <td>2391.418526</td>\n",
       "      <td>0.714682</td>\n",
       "    </tr>\n",
       "    <tr>\n",
       "      <th>97</th>\n",
       "      <td>1119.505102</td>\n",
       "      <td>3.772444e+06</td>\n",
       "      <td>1942.278114</td>\n",
       "      <td>0.840373</td>\n",
       "    </tr>\n",
       "    <tr>\n",
       "      <th>98</th>\n",
       "      <td>1256.806841</td>\n",
       "      <td>3.763477e+06</td>\n",
       "      <td>1939.968384</td>\n",
       "      <td>0.790613</td>\n",
       "    </tr>\n",
       "    <tr>\n",
       "      <th>99</th>\n",
       "      <td>1260.553755</td>\n",
       "      <td>4.086137e+06</td>\n",
       "      <td>2021.419615</td>\n",
       "      <td>0.835777</td>\n",
       "    </tr>\n",
       "  </tbody>\n",
       "</table>\n",
       "<p>100 rows × 4 columns</p>\n",
       "</div>"
      ]
     },
     "execution_count": 48,
     "metadata": {},
     "output_type": "execute_result"
    }
   ],
   "execution_count": 48
  },
  {
   "cell_type": "code",
   "id": "1015dab4-5c6f-406f-a117-56c0de6bde39",
   "metadata": {
    "colab": {
     "base_uri": "https://localhost:8080/",
     "height": 300
    },
    "executionInfo": {
     "elapsed": 310,
     "status": "ok",
     "timestamp": 1739535614091,
     "user": {
      "displayName": "Thammakorn SAETHANG",
      "userId": "08182570455347153646"
     },
     "user_tz": -420
    },
    "id": "1015dab4-5c6f-406f-a117-56c0de6bde39",
    "outputId": "8af8b52d-ef9a-461a-e57f-1a3c839e2c55",
    "ExecuteTime": {
     "end_time": "2025-02-15T08:27:19.221051Z",
     "start_time": "2025-02-15T08:27:19.208216Z"
    }
   },
   "source": [
    "perf2.describe()"
   ],
   "outputs": [
    {
     "data": {
      "text/plain": [
       "               MAE           MSE         RMSE          R2\n",
       "count   100.000000  1.000000e+02   100.000000  100.000000\n",
       "mean   1061.627204  3.601611e+06  1823.564105    0.832196\n",
       "std     169.377418  1.911543e+06   528.219075    0.088683\n",
       "min     689.453762  7.002629e+05   836.817107    0.586629\n",
       "25%     969.733539  2.026682e+06  1423.606279    0.767575\n",
       "50%    1056.849901  3.172067e+06  1780.876823    0.843030\n",
       "75%    1169.162481  4.972025e+06  2229.801753    0.897929\n",
       "max    1430.438384  8.105426e+06  2847.003068    0.969422"
      ],
      "text/html": [
       "<div>\n",
       "<style scoped>\n",
       "    .dataframe tbody tr th:only-of-type {\n",
       "        vertical-align: middle;\n",
       "    }\n",
       "\n",
       "    .dataframe tbody tr th {\n",
       "        vertical-align: top;\n",
       "    }\n",
       "\n",
       "    .dataframe thead th {\n",
       "        text-align: right;\n",
       "    }\n",
       "</style>\n",
       "<table border=\"1\" class=\"dataframe\">\n",
       "  <thead>\n",
       "    <tr style=\"text-align: right;\">\n",
       "      <th></th>\n",
       "      <th>MAE</th>\n",
       "      <th>MSE</th>\n",
       "      <th>RMSE</th>\n",
       "      <th>R2</th>\n",
       "    </tr>\n",
       "  </thead>\n",
       "  <tbody>\n",
       "    <tr>\n",
       "      <th>count</th>\n",
       "      <td>100.000000</td>\n",
       "      <td>1.000000e+02</td>\n",
       "      <td>100.000000</td>\n",
       "      <td>100.000000</td>\n",
       "    </tr>\n",
       "    <tr>\n",
       "      <th>mean</th>\n",
       "      <td>1061.627204</td>\n",
       "      <td>3.601611e+06</td>\n",
       "      <td>1823.564105</td>\n",
       "      <td>0.832196</td>\n",
       "    </tr>\n",
       "    <tr>\n",
       "      <th>std</th>\n",
       "      <td>169.377418</td>\n",
       "      <td>1.911543e+06</td>\n",
       "      <td>528.219075</td>\n",
       "      <td>0.088683</td>\n",
       "    </tr>\n",
       "    <tr>\n",
       "      <th>min</th>\n",
       "      <td>689.453762</td>\n",
       "      <td>7.002629e+05</td>\n",
       "      <td>836.817107</td>\n",
       "      <td>0.586629</td>\n",
       "    </tr>\n",
       "    <tr>\n",
       "      <th>25%</th>\n",
       "      <td>969.733539</td>\n",
       "      <td>2.026682e+06</td>\n",
       "      <td>1423.606279</td>\n",
       "      <td>0.767575</td>\n",
       "    </tr>\n",
       "    <tr>\n",
       "      <th>50%</th>\n",
       "      <td>1056.849901</td>\n",
       "      <td>3.172067e+06</td>\n",
       "      <td>1780.876823</td>\n",
       "      <td>0.843030</td>\n",
       "    </tr>\n",
       "    <tr>\n",
       "      <th>75%</th>\n",
       "      <td>1169.162481</td>\n",
       "      <td>4.972025e+06</td>\n",
       "      <td>2229.801753</td>\n",
       "      <td>0.897929</td>\n",
       "    </tr>\n",
       "    <tr>\n",
       "      <th>max</th>\n",
       "      <td>1430.438384</td>\n",
       "      <td>8.105426e+06</td>\n",
       "      <td>2847.003068</td>\n",
       "      <td>0.969422</td>\n",
       "    </tr>\n",
       "  </tbody>\n",
       "</table>\n",
       "</div>"
      ]
     },
     "execution_count": 49,
     "metadata": {},
     "output_type": "execute_result"
    }
   ],
   "execution_count": 49
  },
  {
   "cell_type": "code",
   "id": "f35947c6-6408-4875-bcc5-ad9e24743993",
   "metadata": {
    "colab": {
     "base_uri": "https://localhost:8080/",
     "height": 568
    },
    "executionInfo": {
     "elapsed": 632,
     "status": "ok",
     "timestamp": 1739535624138,
     "user": {
      "displayName": "Thammakorn SAETHANG",
      "userId": "08182570455347153646"
     },
     "user_tz": -420
    },
    "id": "f35947c6-6408-4875-bcc5-ad9e24743993",
    "outputId": "3b40a937-4eec-4d52-b896-64ed83528d79",
    "ExecuteTime": {
     "end_time": "2025-02-15T08:27:19.633403Z",
     "start_time": "2025-02-15T08:27:19.431086Z"
    }
   },
   "source": [
    "sns.displot(perf2.R2, kind='kde')\n",
    "plt.title(f\"Lr using age + bmi R2\\n mean R2={perf2.R2.mean():.2f}\")\n",
    "plt.axvline(perf2.R2.mean(), c='r', ls='--')"
   ],
   "outputs": [
    {
     "data": {
      "text/plain": [
       "<matplotlib.lines.Line2D at 0x1373bd2be90>"
      ]
     },
     "execution_count": 50,
     "metadata": {},
     "output_type": "execute_result"
    },
    {
     "data": {
      "text/plain": [
       "<Figure size 500x500 with 1 Axes>"
      ],
      "image/png": "[encoded data removed]"
     },
     "metadata": {},
     "output_type": "display_data"
    }
   ],
   "execution_count": 50
  },
  {
   "cell_type": "code",
   "id": "10f26bda-5971-49d7-a606-35a1872eb211",
   "metadata": {
    "colab": {
     "base_uri": "https://localhost:8080/"
    },
    "executionInfo": {
     "elapsed": 1312,
     "status": "ok",
     "timestamp": 1739535665854,
     "user": {
      "displayName": "Thammakorn SAETHANG",
      "userId": "08182570455347153646"
     },
     "user_tz": -420
    },
    "id": "10f26bda-5971-49d7-a606-35a1872eb211",
    "outputId": "23128267-0b89-497f-bee5-0525f92723e0",
    "ExecuteTime": {
     "end_time": "2025-02-15T08:27:19.796194Z",
     "start_time": "2025-02-15T08:27:19.791955Z"
    }
   },
   "source": [
    "stats.shapiro(perf2.R2)"
   ],
   "outputs": [
    {
     "data": {
      "text/plain": [
       "ShapiroResult(statistic=0.9579151109742621, pvalue=0.0028636354110467372)"
      ]
     },
     "execution_count": 51,
     "metadata": {},
     "output_type": "execute_result"
    }
   ],
   "execution_count": 51
  },
  {
   "cell_type": "markdown",
   "id": "46a44e82-b633-478d-9275-2a5010cf30cd",
   "metadata": {
    "id": "46a44e82-b633-478d-9275-2a5010cf30cd"
   },
   "source": [
    "Shapiros's p-value < 0.05, indicates that R2 values are not normally distributed."
   ]
  },
  {
   "cell_type": "markdown",
   "id": "f4b52830-7c09-44e5-b686-4a90221effe5",
   "metadata": {
    "id": "f4b52830-7c09-44e5-b686-4a90221effe5"
   },
   "source": [
    "&nbsp;  \n",
    "#### <font color=\"color:blue\">**3. Model using age + bmi + sex + district**</span>"
   ]
  },
  {
   "cell_type": "code",
   "id": "3f8386c6-a068-47f5-9dd6-3ed0dfad5913",
   "metadata": {
    "colab": {
     "base_uri": "https://localhost:8080/",
     "height": 206
    },
    "executionInfo": {
     "elapsed": 335,
     "status": "ok",
     "timestamp": 1739535673005,
     "user": {
      "displayName": "Thammakorn SAETHANG",
      "userId": "08182570455347153646"
     },
     "user_tz": -420
    },
    "id": "3f8386c6-a068-47f5-9dd6-3ed0dfad5913",
    "outputId": "8b45e7ed-8314-4006-8332-f30a92e744c2",
    "ExecuteTime": {
     "end_time": "2025-02-15T08:27:19.981294Z",
     "start_time": "2025-02-15T08:27:19.972397Z"
    }
   },
   "source": [
    "X3 = X\n",
    "X3.head()"
   ],
   "outputs": [
    {
     "data": {
      "text/plain": [
       "    age    bmi  sex_male  district_DT2  district_DT3  district_DT4\n",
       "14   29  42.13      True          True         False         False\n",
       "19   32  35.30      True         False         False         False\n",
       "23   36  31.92     False         False         False          True\n",
       "29   33  36.30      True         False         False         False\n",
       "30   24  35.60      True         False         False         False"
      ],
      "text/html": [
       "<div>\n",
       "<style scoped>\n",
       "    .dataframe tbody tr th:only-of-type {\n",
       "        vertical-align: middle;\n",
       "    }\n",
       "\n",
       "    .dataframe tbody tr th {\n",
       "        vertical-align: top;\n",
       "    }\n",
       "\n",
       "    .dataframe thead th {\n",
       "        text-align: right;\n",
       "    }\n",
       "</style>\n",
       "<table border=\"1\" class=\"dataframe\">\n",
       "  <thead>\n",
       "    <tr style=\"text-align: right;\">\n",
       "      <th></th>\n",
       "      <th>age</th>\n",
       "      <th>bmi</th>\n",
       "      <th>sex_male</th>\n",
       "      <th>district_DT2</th>\n",
       "      <th>district_DT3</th>\n",
       "      <th>district_DT4</th>\n",
       "    </tr>\n",
       "  </thead>\n",
       "  <tbody>\n",
       "    <tr>\n",
       "      <th>14</th>\n",
       "      <td>29</td>\n",
       "      <td>42.13</td>\n",
       "      <td>True</td>\n",
       "      <td>True</td>\n",
       "      <td>False</td>\n",
       "      <td>False</td>\n",
       "    </tr>\n",
       "    <tr>\n",
       "      <th>19</th>\n",
       "      <td>32</td>\n",
       "      <td>35.30</td>\n",
       "      <td>True</td>\n",
       "      <td>False</td>\n",
       "      <td>False</td>\n",
       "      <td>False</td>\n",
       "    </tr>\n",
       "    <tr>\n",
       "      <th>23</th>\n",
       "      <td>36</td>\n",
       "      <td>31.92</td>\n",
       "      <td>False</td>\n",
       "      <td>False</td>\n",
       "      <td>False</td>\n",
       "      <td>True</td>\n",
       "    </tr>\n",
       "    <tr>\n",
       "      <th>29</th>\n",
       "      <td>33</td>\n",
       "      <td>36.30</td>\n",
       "      <td>True</td>\n",
       "      <td>False</td>\n",
       "      <td>False</td>\n",
       "      <td>False</td>\n",
       "    </tr>\n",
       "    <tr>\n",
       "      <th>30</th>\n",
       "      <td>24</td>\n",
       "      <td>35.60</td>\n",
       "      <td>True</td>\n",
       "      <td>False</td>\n",
       "      <td>False</td>\n",
       "      <td>False</td>\n",
       "    </tr>\n",
       "  </tbody>\n",
       "</table>\n",
       "</div>"
      ]
     },
     "execution_count": 52,
     "metadata": {},
     "output_type": "execute_result"
    }
   ],
   "execution_count": 52
  },
  {
   "cell_type": "markdown",
   "id": "d7b762f9-cb2e-4007-905e-1194218564fe",
   "metadata": {
    "id": "d7b762f9-cb2e-4007-905e-1194218564fe"
   },
   "source": [
    "\\\n",
    "Perform train-test split 100 times using 'random_state' from 0 to 99 and then collect performance results."
   ]
  },
  {
   "cell_type": "code",
   "id": "00aba711-93e5-429d-aa7b-d4080058b2ed",
   "metadata": {
    "colab": {
     "base_uri": "https://localhost:8080/",
     "height": 423
    },
    "executionInfo": {
     "elapsed": 1361,
     "status": "ok",
     "timestamp": 1739535698827,
     "user": {
      "displayName": "Thammakorn SAETHANG",
      "userId": "08182570455347153646"
     },
     "user_tz": -420
    },
    "id": "00aba711-93e5-429d-aa7b-d4080058b2ed",
    "outputId": "72b245a4-828e-4893-ebb9-1eb649bd1eb7",
    "ExecuteTime": {
     "end_time": "2025-02-15T08:27:20.981876Z",
     "start_time": "2025-02-15T08:27:20.123345Z"
    }
   },
   "source": [
    "perf_res = {}\n",
    "perf_res['MAE']=[]\n",
    "perf_res['MSE']=[]\n",
    "perf_res['RMSE']=[]\n",
    "perf_res['R2']=[]\n",
    "\n",
    "for rs in range(100):\n",
    "    X_train, X_test, y_train, y_test = train_test_split(X3,\n",
    "                                                        y,\n",
    "                                                        test_size=0.3,\n",
    "                                                        random_state=rs)\n",
    "    model = lr(fit_intercept=True)\n",
    "    model.fit(X_train, y_train)\n",
    "\n",
    "    y_pred_test = model.predict(X_test)\n",
    "\n",
    "    perf_res['MAE'].append(metrics.mean_absolute_error(y_test, y_pred_test))\n",
    "    perf_res['MSE'].append(metrics.mean_squared_error(y_test, y_pred_test))\n",
    "    perf_res['RMSE'].append(np.sqrt(metrics.mean_squared_error(y_test, y_pred_test)))\n",
    "    perf_res['R2'].append(metrics.r2_score(y_test, y_pred_test))\n",
    "\n",
    "perf3 = pd.DataFrame(perf_res)\n",
    "perf3"
   ],
   "outputs": [
    {
     "data": {
      "text/plain": [
       "            MAE           MSE         RMSE        R2\n",
       "0    711.950340  8.280892e+05   909.994053  0.959422\n",
       "1   1314.818582  6.782855e+06  2604.391573  0.719523\n",
       "2   1038.773364  4.797407e+06  2190.298353  0.788967\n",
       "3   1317.295115  6.852169e+06  2617.664803  0.595657\n",
       "4   1165.140349  5.858707e+06  2420.476584  0.704085\n",
       "..          ...           ...          ...       ...\n",
       "95  1076.490632  3.031349e+06  1741.076936  0.860340\n",
       "96  1201.579930  5.438299e+06  2332.016120  0.728680\n",
       "97  1241.082874  3.879166e+06  1969.559885  0.835857\n",
       "98  1378.099491  3.987049e+06  1996.759699  0.778174\n",
       "99  1303.078888  3.997815e+06  1999.453598  0.839327\n",
       "\n",
       "[100 rows x 4 columns]"
      ],
      "text/html": [
       "<div>\n",
       "<style scoped>\n",
       "    .dataframe tbody tr th:only-of-type {\n",
       "        vertical-align: middle;\n",
       "    }\n",
       "\n",
       "    .dataframe tbody tr th {\n",
       "        vertical-align: top;\n",
       "    }\n",
       "\n",
       "    .dataframe thead th {\n",
       "        text-align: right;\n",
       "    }\n",
       "</style>\n",
       "<table border=\"1\" class=\"dataframe\">\n",
       "  <thead>\n",
       "    <tr style=\"text-align: right;\">\n",
       "      <th></th>\n",
       "      <th>MAE</th>\n",
       "      <th>MSE</th>\n",
       "      <th>RMSE</th>\n",
       "      <th>R2</th>\n",
       "    </tr>\n",
       "  </thead>\n",
       "  <tbody>\n",
       "    <tr>\n",
       "      <th>0</th>\n",
       "      <td>711.950340</td>\n",
       "      <td>8.280892e+05</td>\n",
       "      <td>909.994053</td>\n",
       "      <td>0.959422</td>\n",
       "    </tr>\n",
       "    <tr>\n",
       "      <th>1</th>\n",
       "      <td>1314.818582</td>\n",
       "      <td>6.782855e+06</td>\n",
       "      <td>2604.391573</td>\n",
       "      <td>0.719523</td>\n",
       "    </tr>\n",
       "    <tr>\n",
       "      <th>2</th>\n",
       "      <td>1038.773364</td>\n",
       "      <td>4.797407e+06</td>\n",
       "      <td>2190.298353</td>\n",
       "      <td>0.788967</td>\n",
       "    </tr>\n",
       "    <tr>\n",
       "      <th>3</th>\n",
       "      <td>1317.295115</td>\n",
       "      <td>6.852169e+06</td>\n",
       "      <td>2617.664803</td>\n",
       "      <td>0.595657</td>\n",
       "    </tr>\n",
       "    <tr>\n",
       "      <th>4</th>\n",
       "      <td>1165.140349</td>\n",
       "      <td>5.858707e+06</td>\n",
       "      <td>2420.476584</td>\n",
       "      <td>0.704085</td>\n",
       "    </tr>\n",
       "    <tr>\n",
       "      <th>...</th>\n",
       "      <td>...</td>\n",
       "      <td>...</td>\n",
       "      <td>...</td>\n",
       "      <td>...</td>\n",
       "    </tr>\n",
       "    <tr>\n",
       "      <th>95</th>\n",
       "      <td>1076.490632</td>\n",
       "      <td>3.031349e+06</td>\n",
       "      <td>1741.076936</td>\n",
       "      <td>0.860340</td>\n",
       "    </tr>\n",
       "    <tr>\n",
       "      <th>96</th>\n",
       "      <td>1201.579930</td>\n",
       "      <td>5.438299e+06</td>\n",
       "      <td>2332.016120</td>\n",
       "      <td>0.728680</td>\n",
       "    </tr>\n",
       "    <tr>\n",
       "      <th>97</th>\n",
       "      <td>1241.082874</td>\n",
       "      <td>3.879166e+06</td>\n",
       "      <td>1969.559885</td>\n",
       "      <td>0.835857</td>\n",
       "    </tr>\n",
       "    <tr>\n",
       "      <th>98</th>\n",
       "      <td>1378.099491</td>\n",
       "      <td>3.987049e+06</td>\n",
       "      <td>1996.759699</td>\n",
       "      <td>0.778174</td>\n",
       "    </tr>\n",
       "    <tr>\n",
       "      <th>99</th>\n",
       "      <td>1303.078888</td>\n",
       "      <td>3.997815e+06</td>\n",
       "      <td>1999.453598</td>\n",
       "      <td>0.839327</td>\n",
       "    </tr>\n",
       "  </tbody>\n",
       "</table>\n",
       "<p>100 rows × 4 columns</p>\n",
       "</div>"
      ]
     },
     "execution_count": 53,
     "metadata": {},
     "output_type": "execute_result"
    }
   ],
   "execution_count": 53
  },
  {
   "cell_type": "code",
   "id": "e0877df0-2e6a-4adb-8cda-779434050992",
   "metadata": {
    "colab": {
     "base_uri": "https://localhost:8080/",
     "height": 300
    },
    "executionInfo": {
     "elapsed": 403,
     "status": "ok",
     "timestamp": 1675857476856,
     "user": {
      "displayName": "Thammakorn SAETHANG",
      "userId": "08182570455347153646"
     },
     "user_tz": -420
    },
    "id": "e0877df0-2e6a-4adb-8cda-779434050992",
    "outputId": "16ea0372-0d03-4f13-d159-da5d407e31d6",
    "ExecuteTime": {
     "end_time": "2025-02-15T08:27:21.088081Z",
     "start_time": "2025-02-15T08:27:21.073556Z"
    }
   },
   "source": [
    "perf3.describe()"
   ],
   "outputs": [
    {
     "data": {
      "text/plain": [
       "               MAE           MSE         RMSE          R2\n",
       "count   100.000000  1.000000e+02   100.000000  100.000000\n",
       "mean   1067.669469  3.616389e+06  1830.656602    0.831600\n",
       "std     167.478970  1.898813e+06   517.458528    0.088079\n",
       "min     711.950340  7.206094e+05   848.887171    0.584148\n",
       "25%     959.992908  2.059403e+06  1435.047072    0.770724\n",
       "50%    1068.650131  3.059316e+06  1749.089872    0.848898\n",
       "75%    1166.260669  4.930103e+06  2220.379035    0.895836\n",
       "max    1433.137379  8.286566e+06  2878.639684    0.966310"
      ],
      "text/html": [
       "<div>\n",
       "<style scoped>\n",
       "    .dataframe tbody tr th:only-of-type {\n",
       "        vertical-align: middle;\n",
       "    }\n",
       "\n",
       "    .dataframe tbody tr th {\n",
       "        vertical-align: top;\n",
       "    }\n",
       "\n",
       "    .dataframe thead th {\n",
       "        text-align: right;\n",
       "    }\n",
       "</style>\n",
       "<table border=\"1\" class=\"dataframe\">\n",
       "  <thead>\n",
       "    <tr style=\"text-align: right;\">\n",
       "      <th></th>\n",
       "      <th>MAE</th>\n",
       "      <th>MSE</th>\n",
       "      <th>RMSE</th>\n",
       "      <th>R2</th>\n",
       "    </tr>\n",
       "  </thead>\n",
       "  <tbody>\n",
       "    <tr>\n",
       "      <th>count</th>\n",
       "      <td>100.000000</td>\n",
       "      <td>1.000000e+02</td>\n",
       "      <td>100.000000</td>\n",
       "      <td>100.000000</td>\n",
       "    </tr>\n",
       "    <tr>\n",
       "      <th>mean</th>\n",
       "      <td>1067.669469</td>\n",
       "      <td>3.616389e+06</td>\n",
       "      <td>1830.656602</td>\n",
       "      <td>0.831600</td>\n",
       "    </tr>\n",
       "    <tr>\n",
       "      <th>std</th>\n",
       "      <td>167.478970</td>\n",
       "      <td>1.898813e+06</td>\n",
       "      <td>517.458528</td>\n",
       "      <td>0.088079</td>\n",
       "    </tr>\n",
       "    <tr>\n",
       "      <th>min</th>\n",
       "      <td>711.950340</td>\n",
       "      <td>7.206094e+05</td>\n",
       "      <td>848.887171</td>\n",
       "      <td>0.584148</td>\n",
       "    </tr>\n",
       "    <tr>\n",
       "      <th>25%</th>\n",
       "      <td>959.992908</td>\n",
       "      <td>2.059403e+06</td>\n",
       "      <td>1435.047072</td>\n",
       "      <td>0.770724</td>\n",
       "    </tr>\n",
       "    <tr>\n",
       "      <th>50%</th>\n",
       "      <td>1068.650131</td>\n",
       "      <td>3.059316e+06</td>\n",
       "      <td>1749.089872</td>\n",
       "      <td>0.848898</td>\n",
       "    </tr>\n",
       "    <tr>\n",
       "      <th>75%</th>\n",
       "      <td>1166.260669</td>\n",
       "      <td>4.930103e+06</td>\n",
       "      <td>2220.379035</td>\n",
       "      <td>0.895836</td>\n",
       "    </tr>\n",
       "    <tr>\n",
       "      <th>max</th>\n",
       "      <td>1433.137379</td>\n",
       "      <td>8.286566e+06</td>\n",
       "      <td>2878.639684</td>\n",
       "      <td>0.966310</td>\n",
       "    </tr>\n",
       "  </tbody>\n",
       "</table>\n",
       "</div>"
      ]
     },
     "execution_count": 54,
     "metadata": {},
     "output_type": "execute_result"
    }
   ],
   "execution_count": 54
  },
  {
   "cell_type": "code",
   "id": "1de9082d-482b-4fed-8c65-9ed3ba85bdf5",
   "metadata": {
    "colab": {
     "base_uri": "https://localhost:8080/",
     "height": 418
    },
    "executionInfo": {
     "elapsed": 658,
     "status": "ok",
     "timestamp": 1675857481596,
     "user": {
      "displayName": "Thammakorn SAETHANG",
      "userId": "08182570455347153646"
     },
     "user_tz": -420
    },
    "id": "1de9082d-482b-4fed-8c65-9ed3ba85bdf5",
    "outputId": "29399e34-bac2-40d1-d4da-0ccd917156f1",
    "ExecuteTime": {
     "end_time": "2025-02-15T08:27:21.487445Z",
     "start_time": "2025-02-15T08:27:21.328034Z"
    }
   },
   "source": [
    "sns.displot(perf3.R2, kind='kde')\n",
    "plt.title(f\"Lr using age + bmi + sex + district R2\\n mean R2={perf3.R2.mean():.2f}\")\n",
    "plt.axvline(perf3.R2.mean(), c='r', ls='--')"
   ],
   "outputs": [
    {
     "data": {
      "text/plain": [
       "<matplotlib.lines.Line2D at 0x1373be0b290>"
      ]
     },
     "execution_count": 55,
     "metadata": {},
     "output_type": "execute_result"
    },
    {
     "data": {
      "text/plain": [
       "<Figure size 500x500 with 1 Axes>"
      ],
      "image/png": "[encoded data removed]"
     },
     "metadata": {},
     "output_type": "display_data"
    }
   ],
   "execution_count": 55
  },
  {
   "cell_type": "code",
   "id": "30694361-7687-44e6-972e-949406511ff6",
   "metadata": {
    "colab": {
     "base_uri": "https://localhost:8080/"
    },
    "executionInfo": {
     "elapsed": 341,
     "status": "ok",
     "timestamp": 1739535756641,
     "user": {
      "displayName": "Thammakorn SAETHANG",
      "userId": "08182570455347153646"
     },
     "user_tz": -420
    },
    "id": "30694361-7687-44e6-972e-949406511ff6",
    "outputId": "38ad45d0-4965-4fdf-a11e-f70a53019f11",
    "ExecuteTime": {
     "end_time": "2025-02-15T08:27:21.585263Z",
     "start_time": "2025-02-15T08:27:21.579022Z"
    }
   },
   "source": [
    "stats.shapiro(perf2.R2)"
   ],
   "outputs": [
    {
     "data": {
      "text/plain": [
       "ShapiroResult(statistic=0.9579151109742621, pvalue=0.0028636354110467372)"
      ]
     },
     "execution_count": 56,
     "metadata": {},
     "output_type": "execute_result"
    }
   ],
   "execution_count": 56
  },
  {
   "cell_type": "markdown",
   "id": "2a07aec3-2625-4f59-ba62-1dd289027eb1",
   "metadata": {
    "id": "2a07aec3-2625-4f59-ba62-1dd289027eb1"
   },
   "source": [
    "Shapiros's p-value < 0.05, indicates that R2 values are not normally distributed."
   ]
  },
  {
   "cell_type": "markdown",
   "id": "b3128509-dfaa-4c68-bc8a-e40526ef0331",
   "metadata": {
    "id": "b3128509-dfaa-4c68-bc8a-e40526ef0331",
    "tags": []
   },
   "source": [
    "&nbsp;  \n",
    "#### <font color=\"color:blue\">**Compare all 3 R<sup>2</sup>s**</span>"
   ]
  },
  {
   "cell_type": "markdown",
   "id": "cf88abed-4d06-4aa8-bfe1-644f7fc78da0",
   "metadata": {
    "id": "cf88abed-4d06-4aa8-bfe1-644f7fc78da0"
   },
   "source": [
    "\\\n",
    "Create dataframe for visualization:"
   ]
  },
  {
   "cell_type": "code",
   "id": "97d0911b-d9e7-4c8d-a1c8-334c6d380cc9",
   "metadata": {
    "colab": {
     "base_uri": "https://localhost:8080/",
     "height": 423
    },
    "executionInfo": {
     "elapsed": 342,
     "status": "ok",
     "timestamp": 1739535758972,
     "user": {
      "displayName": "Thammakorn SAETHANG",
      "userId": "08182570455347153646"
     },
     "user_tz": -420
    },
    "id": "97d0911b-d9e7-4c8d-a1c8-334c6d380cc9",
    "outputId": "40a5b03d-b78d-4b21-dcfc-90ad2baebe18",
    "ExecuteTime": {
     "end_time": "2025-02-15T08:27:21.728782Z",
     "start_time": "2025-02-15T08:27:21.717073Z"
    }
   },
   "source": [
    "df_R2s = pd.DataFrame({'Model1':perf1.R2,\n",
    "                       'Model2':perf2.R2,\n",
    "                       'Model3':perf3.R2\n",
    "                      })\n",
    "df_R2s_long = df_R2s.melt(value_vars=['Model1', 'Model2', 'Model3'],\n",
    "                          value_name='R2',\n",
    "                          var_name='Model')\n",
    "df_R2s_long"
   ],
   "outputs": [
    {
     "data": {
      "text/plain": [
       "      Model        R2\n",
       "0    Model1  0.722544\n",
       "1    Model1  0.601543\n",
       "2    Model1  0.653917\n",
       "3    Model1  0.491164\n",
       "4    Model1  0.513835\n",
       "..      ...       ...\n",
       "295  Model3  0.860340\n",
       "296  Model3  0.728680\n",
       "297  Model3  0.835857\n",
       "298  Model3  0.778174\n",
       "299  Model3  0.839327\n",
       "\n",
       "[300 rows x 2 columns]"
      ],
      "text/html": [
       "<div>\n",
       "<style scoped>\n",
       "    .dataframe tbody tr th:only-of-type {\n",
       "        vertical-align: middle;\n",
       "    }\n",
       "\n",
       "    .dataframe tbody tr th {\n",
       "        vertical-align: top;\n",
       "    }\n",
       "\n",
       "    .dataframe thead th {\n",
       "        text-align: right;\n",
       "    }\n",
       "</style>\n",
       "<table border=\"1\" class=\"dataframe\">\n",
       "  <thead>\n",
       "    <tr style=\"text-align: right;\">\n",
       "      <th></th>\n",
       "      <th>Model</th>\n",
       "      <th>R2</th>\n",
       "    </tr>\n",
       "  </thead>\n",
       "  <tbody>\n",
       "    <tr>\n",
       "      <th>0</th>\n",
       "      <td>Model1</td>\n",
       "      <td>0.722544</td>\n",
       "    </tr>\n",
       "    <tr>\n",
       "      <th>1</th>\n",
       "      <td>Model1</td>\n",
       "      <td>0.601543</td>\n",
       "    </tr>\n",
       "    <tr>\n",
       "      <th>2</th>\n",
       "      <td>Model1</td>\n",
       "      <td>0.653917</td>\n",
       "    </tr>\n",
       "    <tr>\n",
       "      <th>3</th>\n",
       "      <td>Model1</td>\n",
       "      <td>0.491164</td>\n",
       "    </tr>\n",
       "    <tr>\n",
       "      <th>4</th>\n",
       "      <td>Model1</td>\n",
       "      <td>0.513835</td>\n",
       "    </tr>\n",
       "    <tr>\n",
       "      <th>...</th>\n",
       "      <td>...</td>\n",
       "      <td>...</td>\n",
       "    </tr>\n",
       "    <tr>\n",
       "      <th>295</th>\n",
       "      <td>Model3</td>\n",
       "      <td>0.860340</td>\n",
       "    </tr>\n",
       "    <tr>\n",
       "      <th>296</th>\n",
       "      <td>Model3</td>\n",
       "      <td>0.728680</td>\n",
       "    </tr>\n",
       "    <tr>\n",
       "      <th>297</th>\n",
       "      <td>Model3</td>\n",
       "      <td>0.835857</td>\n",
       "    </tr>\n",
       "    <tr>\n",
       "      <th>298</th>\n",
       "      <td>Model3</td>\n",
       "      <td>0.778174</td>\n",
       "    </tr>\n",
       "    <tr>\n",
       "      <th>299</th>\n",
       "      <td>Model3</td>\n",
       "      <td>0.839327</td>\n",
       "    </tr>\n",
       "  </tbody>\n",
       "</table>\n",
       "<p>300 rows × 2 columns</p>\n",
       "</div>"
      ]
     },
     "execution_count": 57,
     "metadata": {},
     "output_type": "execute_result"
    }
   ],
   "execution_count": 57
  },
  {
   "cell_type": "markdown",
   "id": "f1bf00f5-38da-4534-aa5e-956dec188c0f",
   "metadata": {
    "id": "f1bf00f5-38da-4534-aa5e-956dec188c0f"
   },
   "source": [
    "\\\n",
    "Plot pdf:"
   ]
  },
  {
   "cell_type": "code",
   "id": "1f074c31-806c-4499-98f0-5b2cdc25e1f2",
   "metadata": {
    "colab": {
     "base_uri": "https://localhost:8080/",
     "height": 547
    },
    "executionInfo": {
     "elapsed": 707,
     "status": "ok",
     "timestamp": 1739535766872,
     "user": {
      "displayName": "Thammakorn SAETHANG",
      "userId": "08182570455347153646"
     },
     "user_tz": -420
    },
    "id": "1f074c31-806c-4499-98f0-5b2cdc25e1f2",
    "outputId": "ec6c3d5d-7b88-46d6-96c7-f5e591a15276",
    "ExecuteTime": {
     "end_time": "2025-02-15T08:27:22.131040Z",
     "start_time": "2025-02-15T08:27:21.840168Z"
    }
   },
   "source": [
    "sns.displot(data=df_R2s_long,\n",
    "            x='R2',\n",
    "            kind='kde',\n",
    "            hue='Model')\n",
    "plt.axvline(df_R2s.Model1.mean(), c='b', ls='--')\n",
    "plt.axvline(df_R2s.Model2.mean(), c='orange', ls='--')\n",
    "plt.axvline(df_R2s.Model3.mean(), c='g', ls='--')\n",
    "plt.title(f\"R2 Model1={df_R2s.Model1.mean():.2f}, Model2={df_R2s.Model2.mean():.2f}, Model3={df_R2s.Model3.mean():.2f}\")"
   ],
   "outputs": [
    {
     "data": {
      "text/plain": [
       "Text(0.5, 1.0, 'R2 Model1=0.66, Model2=0.83, Model3=0.83')"
      ]
     },
     "execution_count": 58,
     "metadata": {},
     "output_type": "execute_result"
    },
    {
     "data": {
      "text/plain": [
       "<Figure size 595.625x500 with 1 Axes>"
      ],
      "image/png": "[encoded data removed]"
     },
     "metadata": {},
     "output_type": "display_data"
    }
   ],
   "execution_count": 58
  },
  {
   "cell_type": "code",
   "id": "47a15c7b-ceae-4065-8ef8-50ec40234af8",
   "metadata": {
    "colab": {
     "base_uri": "https://localhost:8080/",
     "height": 467
    },
    "executionInfo": {
     "elapsed": 819,
     "status": "ok",
     "timestamp": 1739535772622,
     "user": {
      "displayName": "Thammakorn SAETHANG",
      "userId": "08182570455347153646"
     },
     "user_tz": -420
    },
    "id": "47a15c7b-ceae-4065-8ef8-50ec40234af8",
    "outputId": "f3fc1414-d5cf-4411-ed10-5f33e5b2bc10",
    "ExecuteTime": {
     "end_time": "2025-02-15T08:27:22.266132Z",
     "start_time": "2025-02-15T08:27:22.158725Z"
    }
   },
   "source": [
    "sns.boxplot(data=df_R2s_long,\n",
    "              x='Model',\n",
    "              y='R2',\n",
    "              hue='Model')"
   ],
   "outputs": [
    {
     "data": {
      "text/plain": [
       "<Axes: xlabel='Model', ylabel='R2'>"
      ]
     },
     "execution_count": 59,
     "metadata": {},
     "output_type": "execute_result"
    },
    {
     "data": {
      "text/plain": [
       "<Figure size 640x480 with 1 Axes>"
      ],
      "image/png": "[encoded data removed]"
     },
     "metadata": {},
     "output_type": "display_data"
    }
   ],
   "execution_count": 59
  },
  {
   "cell_type": "markdown",
   "id": "0edab2fc-9fe0-44d3-ab7b-271aa25a4ef9",
   "metadata": {
    "id": "0edab2fc-9fe0-44d3-ab7b-271aa25a4ef9"
   },
   "source": [
    "&nbsp;  \n",
    "#### <font color=\"color:blue\">**Test of R2 means**</span>"
   ]
  },
  {
   "cell_type": "markdown",
   "id": "3fca374b-abd4-4a36-8e86-c4ab36bb8903",
   "metadata": {
    "id": "3fca374b-abd4-4a36-8e86-c4ab36bb8903"
   },
   "source": [
    "Since all 3 data are not normally distributed, we will perform Kruskal–Wallis one-way analysis."
   ]
  },
  {
   "cell_type": "markdown",
   "id": "a9814bc1-9758-47ff-b082-e7a9627a3517",
   "metadata": {
    "id": "a9814bc1-9758-47ff-b082-e7a9627a3517"
   },
   "source": [
    "H<sub>0</sub>: there is no difference in the R2 means resulting from using model1, model2, or model3.  \n",
    "H<sub>A</sub>: there is difference in the R2 means resulting from using model1, model2, or model3."
   ]
  },
  {
   "cell_type": "code",
   "id": "2c91a079-df66-4f79-8667-1cb2049fc153",
   "metadata": {
    "colab": {
     "base_uri": "https://localhost:8080/"
    },
    "executionInfo": {
     "elapsed": 313,
     "status": "ok",
     "timestamp": 1739535778852,
     "user": {
      "displayName": "Thammakorn SAETHANG",
      "userId": "08182570455347153646"
     },
     "user_tz": -420
    },
    "id": "2c91a079-df66-4f79-8667-1cb2049fc153",
    "outputId": "2c259b10-d737-4493-c775-af6c4571fff6",
    "ExecuteTime": {
     "end_time": "2025-02-15T08:27:22.294838Z",
     "start_time": "2025-02-15T08:27:22.288806Z"
    }
   },
   "source": [
    "f_score, p_value = stats.kruskal(df_R2s.Model1, df_R2s.Model2, df_R2s.Model3)\n",
    "print(\"p-value:\", p_value)"
   ],
   "outputs": [
    {
     "name": "stdout",
     "output_type": "stream",
     "text": [
      "p-value: 7.696931324736714e-26\n"
     ]
    }
   ],
   "execution_count": 60
  },
  {
   "cell_type": "markdown",
   "id": "0d9ed1cd-c40e-4982-a4e8-c6fdf300d003",
   "metadata": {
    "id": "0d9ed1cd-c40e-4982-a4e8-c6fdf300d003"
   },
   "source": [
    "p-value < 0.05, there is difference in the R2 means."
   ]
  },
  {
   "cell_type": "markdown",
   "id": "64d9e61e-fc93-493c-a13f-8014dce2f54e",
   "metadata": {
    "id": "64d9e61e-fc93-493c-a13f-8014dce2f54e"
   },
   "source": [
    "\\\n",
    "**Post hoc test**"
   ]
  },
  {
   "cell_type": "code",
   "source": [
    "%pip install scikit_posthocs"
   ],
   "metadata": {
    "colab": {
     "base_uri": "https://localhost:8080/"
    },
    "id": "KOZfccq_aa1F",
    "executionInfo": {
     "status": "ok",
     "timestamp": 1739535805640,
     "user_tz": -420,
     "elapsed": 3941,
     "user": {
      "displayName": "Thammakorn SAETHANG",
      "userId": "08182570455347153646"
     }
    },
    "outputId": "9a589c90-0213-4307-fe39-d45c45ed8b94",
    "ExecuteTime": {
     "end_time": "2025-02-15T09:38:42.163849Z",
     "start_time": "2025-02-15T09:38:39.858496Z"
    }
   },
   "id": "KOZfccq_aa1F",
   "outputs": [
    {
     "name": "stdout",
     "output_type": "stream",
     "text": [
      "Defaulting to user installation because normal site-packages is not writeable\n",
      "Requirement already satisfied: scikit_posthocs in c:\\users\\harin\\appdata\\local\\packages\\pythonsoftwarefoundation.python.3.12_qbz5n2kfra8p0\\localcache\\local-packages\\python312\\site-packages (0.11.2)\n",
      "Requirement already satisfied: numpy in c:\\users\\harin\\appdata\\local\\packages\\pythonsoftwarefoundation.python.3.12_qbz5n2kfra8p0\\localcache\\local-packages\\python312\\site-packages (from scikit_posthocs) (1.26.4)\n",
      "Requirement already satisfied: scipy>=1.9.0 in c:\\users\\harin\\appdata\\local\\packages\\pythonsoftwarefoundation.python.3.12_qbz5n2kfra8p0\\localcache\\local-packages\\python312\\site-packages (from scikit_posthocs) (1.15.1)\n",
      "Requirement already satisfied: statsmodels in c:\\users\\harin\\appdata\\local\\packages\\pythonsoftwarefoundation.python.3.12_qbz5n2kfra8p0\\localcache\\local-packages\\python312\\site-packages (from scikit_posthocs) (0.14.4)\n",
      "Requirement already satisfied: pandas>=0.20.0 in c:\\users\\harin\\appdata\\local\\packages\\pythonsoftwarefoundation.python.3.12_qbz5n2kfra8p0\\localcache\\local-packages\\python312\\site-packages (from scikit_posthocs) (2.2.3)\n",
      "Requirement already satisfied: seaborn in c:\\users\\harin\\appdata\\local\\packages\\pythonsoftwarefoundation.python.3.12_qbz5n2kfra8p0\\localcache\\local-packages\\python312\\site-packages (from scikit_posthocs) (0.13.2)\n",
      "Requirement already satisfied: matplotlib in c:\\users\\harin\\appdata\\local\\packages\\pythonsoftwarefoundation.python.3.12_qbz5n2kfra8p0\\localcache\\local-packages\\python312\\site-packages (from scikit_posthocs) (3.10.0)\n",
      "Requirement already satisfied: python-dateutil>=2.8.2 in c:\\users\\harin\\appdata\\local\\packages\\pythonsoftwarefoundation.python.3.12_qbz5n2kfra8p0\\localcache\\local-packages\\python312\\site-packages (from pandas>=0.20.0->scikit_posthocs) (2.9.0.post0)\n",
      "Requirement already satisfied: pytz>=2020.1 in c:\\users\\harin\\appdata\\local\\packages\\pythonsoftwarefoundation.python.3.12_qbz5n2kfra8p0\\localcache\\local-packages\\python312\\site-packages (from pandas>=0.20.0->scikit_posthocs) (2024.2)\n",
      "Requirement already satisfied: tzdata>=2022.7 in c:\\users\\harin\\appdata\\local\\packages\\pythonsoftwarefoundation.python.3.12_qbz5n2kfra8p0\\localcache\\local-packages\\python312\\site-packages (from pandas>=0.20.0->scikit_posthocs) (2024.2)\n",
      "Requirement already satisfied: contourpy>=1.0.1 in c:\\users\\harin\\appdata\\local\\packages\\pythonsoftwarefoundation.python.3.12_qbz5n2kfra8p0\\localcache\\local-packages\\python312\\site-packages (from matplotlib->scikit_posthocs) (1.3.1)\n",
      "Requirement already satisfied: cycler>=0.10 in c:\\users\\harin\\appdata\\local\\packages\\pythonsoftwarefoundation.python.3.12_qbz5n2kfra8p0\\localcache\\local-packages\\python312\\site-packages (from matplotlib->scikit_posthocs) (0.12.1)\n",
      "Requirement already satisfied: fonttools>=4.22.0 in c:\\users\\harin\\appdata\\local\\packages\\pythonsoftwarefoundation.python.3.12_qbz5n2kfra8p0\\localcache\\local-packages\\python312\\site-packages (from matplotlib->scikit_posthocs) (4.55.3)\n",
      "Requirement already satisfied: kiwisolver>=1.3.1 in c:\\users\\harin\\appdata\\local\\packages\\pythonsoftwarefoundation.python.3.12_qbz5n2kfra8p0\\localcache\\local-packages\\python312\\site-packages (from matplotlib->scikit_posthocs) (1.4.8)\n",
      "Requirement already satisfied: packaging>=20.0 in c:\\users\\harin\\appdata\\local\\packages\\pythonsoftwarefoundation.python.3.12_qbz5n2kfra8p0\\localcache\\local-packages\\python312\\site-packages (from matplotlib->scikit_posthocs) (24.2)\n",
      "Requirement already satisfied: pillow>=8 in c:\\users\\harin\\appdata\\local\\packages\\pythonsoftwarefoundation.python.3.12_qbz5n2kfra8p0\\localcache\\local-packages\\python312\\site-packages (from matplotlib->scikit_posthocs) (10.4.0)\n",
      "Requirement already satisfied: pyparsing>=2.3.1 in c:\\users\\harin\\appdata\\local\\packages\\pythonsoftwarefoundation.python.3.12_qbz5n2kfra8p0\\localcache\\local-packages\\python312\\site-packages (from matplotlib->scikit_posthocs) (3.2.1)\n",
      "Requirement already satisfied: patsy>=0.5.6 in c:\\users\\harin\\appdata\\local\\packages\\pythonsoftwarefoundation.python.3.12_qbz5n2kfra8p0\\localcache\\local-packages\\python312\\site-packages (from statsmodels->scikit_posthocs) (1.0.1)\n",
      "Requirement already satisfied: six>=1.5 in c:\\users\\harin\\appdata\\local\\packages\\pythonsoftwarefoundation.python.3.12_qbz5n2kfra8p0\\localcache\\local-packages\\python312\\site-packages (from python-dateutil>=2.8.2->pandas>=0.20.0->scikit_posthocs) (1.17.0)\n",
      "Note: you may need to restart the kernel to use updated packages.\n"
     ]
    },
    {
     "name": "stderr",
     "output_type": "stream",
     "text": [
      "\n",
      "[notice] A new release of pip is available: 24.3.1 -> 25.0.1\n",
      "[notice] To update, run: C:\\Users\\harin\\AppData\\Local\\Microsoft\\WindowsApps\\PythonSoftwareFoundation.Python.3.12_qbz5n2kfra8p0\\python.exe -m pip install --upgrade pip\n"
     ]
    }
   ],
   "execution_count": 74
  },
  {
   "cell_type": "code",
   "id": "227bd0d3-e84d-47f0-b205-4f71b668c1bb",
   "metadata": {
    "colab": {
     "base_uri": "https://localhost:8080/",
     "height": 143
    },
    "executionInfo": {
     "elapsed": 304,
     "status": "ok",
     "timestamp": 1739535809420,
     "user": {
      "displayName": "Thammakorn SAETHANG",
      "userId": "08182570455347153646"
     },
     "user_tz": -420
    },
    "id": "227bd0d3-e84d-47f0-b205-4f71b668c1bb",
    "outputId": "903de387-7c8e-451b-d285-be7c27e393ab",
    "ExecuteTime": {
     "end_time": "2025-02-15T08:27:24.936342Z",
     "start_time": "2025-02-15T08:27:24.865007Z"
    }
   },
   "source": [
    "import scikit_posthocs as sp\n",
    "sp.posthoc_conover(df_R2s_long, val_col='R2', group_col='Model')"
   ],
   "outputs": [
    {
     "data": {
      "text/plain": [
       "              Model1        Model2        Model3\n",
       "Model1  1.000000e+00  7.234573e-27  9.874036e-27\n",
       "Model2  7.234573e-27  1.000000e+00  9.694056e-01\n",
       "Model3  9.874036e-27  9.694056e-01  1.000000e+00"
      ],
      "text/html": [
       "<div>\n",
       "<style scoped>\n",
       "    .dataframe tbody tr th:only-of-type {\n",
       "        vertical-align: middle;\n",
       "    }\n",
       "\n",
       "    .dataframe tbody tr th {\n",
       "        vertical-align: top;\n",
       "    }\n",
       "\n",
       "    .dataframe thead th {\n",
       "        text-align: right;\n",
       "    }\n",
       "</style>\n",
       "<table border=\"1\" class=\"dataframe\">\n",
       "  <thead>\n",
       "    <tr style=\"text-align: right;\">\n",
       "      <th></th>\n",
       "      <th>Model1</th>\n",
       "      <th>Model2</th>\n",
       "      <th>Model3</th>\n",
       "    </tr>\n",
       "  </thead>\n",
       "  <tbody>\n",
       "    <tr>\n",
       "      <th>Model1</th>\n",
       "      <td>1.000000e+00</td>\n",
       "      <td>7.234573e-27</td>\n",
       "      <td>9.874036e-27</td>\n",
       "    </tr>\n",
       "    <tr>\n",
       "      <th>Model2</th>\n",
       "      <td>7.234573e-27</td>\n",
       "      <td>1.000000e+00</td>\n",
       "      <td>9.694056e-01</td>\n",
       "    </tr>\n",
       "    <tr>\n",
       "      <th>Model3</th>\n",
       "      <td>9.874036e-27</td>\n",
       "      <td>9.694056e-01</td>\n",
       "      <td>1.000000e+00</td>\n",
       "    </tr>\n",
       "  </tbody>\n",
       "</table>\n",
       "</div>"
      ]
     },
     "execution_count": 62,
     "metadata": {},
     "output_type": "execute_result"
    }
   ],
   "execution_count": 62
  },
  {
   "cell_type": "code",
   "id": "6ac7d98e-569e-4050-933d-c5a986316ff6",
   "metadata": {
    "id": "6ac7d98e-569e-4050-933d-c5a986316ff6",
    "ExecuteTime": {
     "end_time": "2025-02-15T08:27:25.150967Z",
     "start_time": "2025-02-15T08:27:25.147964Z"
    }
   },
   "source": [],
   "outputs": [],
   "execution_count": null
  }
 ],
 "metadata": {
  "colab": {
   "provenance": []
  },
  "kernelspec": {
   "display_name": "Python 3 (ipykernel)",
   "language": "python",
   "name": "python3"
  },
  "language_info": {
   "codemirror_mode": {
    "name": "ipython",
    "version": 3
   },
   "file_extension": ".py",
   "mimetype": "text/x-python",
   "name": "python",
   "nbconvert_exporter": "python",
   "pygments_lexer": "ipython3",
   "version": "3.12.3"
  }
 },
 "nbformat": 4,
 "nbformat_minor": 5
}
